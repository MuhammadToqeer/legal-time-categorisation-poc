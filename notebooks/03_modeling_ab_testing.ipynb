{
 "cells": [
  {
   "cell_type": "code",
   "execution_count": 12,
   "id": "d1cbe749",
   "metadata": {},
   "outputs": [],
   "source": [
    "# Minimal, inline preprocessing for modelling (no imports from src)\n",
    "import re\n",
    "import pandas as pd\n",
    "from pathlib import Path"
   ]
  },
  {
   "cell_type": "code",
   "execution_count": 14,
   "id": "7452fba9",
   "metadata": {},
   "outputs": [],
   "source": [
    "def simple_clean(s: str) -> str:\n",
    "    s = str(s).lower()\n",
    "    s = re.sub(r\"[^a-z0-9\\s]\", \" \", s)\n",
    "    return re.sub(r\"\\s+\", \" \", s).strip()\n",
    "\n",
    "def build_features(df_raw: pd.DataFrame):\n",
    "    df = df_raw.copy()\n",
    "    df[\"text_clean\"]  = df[\"Time Narrative\"].fillna(\"\").map(simple_clean)\n",
    "    df[\"charged_bin\"] = df[\"Charged to Client?\"].astype(str).str.upper().eq(\"YES\").astype(int)\n",
    "    df[\"grade_enc\"]   = df[\"Grade\"].astype(\"category\").cat.codes\n",
    "    df[\"n_words\"]     = df[\"text_clean\"].str.split().str.len()\n",
    "    df[\"low_info\"]    = (df[\"n_words\"] <= 3).astype(int)\n",
    "    # minutes only for UI, not needed for model here\n",
    "    return df, df[df[\"Category\"].notna()].copy()"
   ]
  },
  {
   "cell_type": "code",
   "execution_count": 15,
   "id": "8c22b77b",
   "metadata": {},
   "outputs": [
    {
     "name": "stdout",
     "output_type": "stream",
     "text": [
      "Labelled rows: 561\n"
     ]
    },
    {
     "data": {
      "application/vnd.microsoft.datawrangler.viewer.v0+json": {
       "columns": [
        {
         "name": "index",
         "rawType": "int64",
         "type": "integer"
        },
        {
         "name": "Record ID",
         "rawType": "object",
         "type": "string"
        },
        {
         "name": "Department",
         "rawType": "object",
         "type": "string"
        },
        {
         "name": "Time Narrative",
         "rawType": "object",
         "type": "string"
        },
        {
         "name": "Worked Time",
         "rawType": "float64",
         "type": "float"
        },
        {
         "name": "Charged to Client?",
         "rawType": "object",
         "type": "string"
        },
        {
         "name": "Grade",
         "rawType": "object",
         "type": "string"
        },
        {
         "name": "Category",
         "rawType": "object",
         "type": "string"
        },
        {
         "name": "text_clean",
         "rawType": "object",
         "type": "string"
        },
        {
         "name": "charged_bin",
         "rawType": "int64",
         "type": "integer"
        },
        {
         "name": "grade_enc",
         "rawType": "int8",
         "type": "integer"
        },
        {
         "name": "n_words",
         "rawType": "int64",
         "type": "integer"
        },
        {
         "name": "low_info",
         "rawType": "int64",
         "type": "integer"
        }
       ],
       "ref": "57f35f3b-21f3-4e27-9bcb-23e79a8d40ae",
       "rows": [
        [
         "2",
         "p-0003",
         "a",
         "considering email in from counsel attaching FDA note",
         "0.3",
         "YES",
         "Junior",
         "analyse, review, research",
         "considering email in from counsel attaching fda note",
         "1",
         "0",
         "8",
         "0"
        ],
        [
         "9",
         "p-0010",
         "a",
         "Communicate (with client)",
         "0.5",
         "YES",
         "Partner",
         "client time",
         "communicate with client",
         "1",
         "1",
         "3",
         "1"
        ],
        [
         "16",
         "p-0017",
         "a",
         "Call out to the client to go through FDA docs sent to her by email today",
         "0.7",
         "YES",
         "Junior",
         "client time",
         "call out to the client to go through fda docs sent to her by email today",
         "1",
         "0",
         "16",
         "0"
        ]
       ],
       "shape": {
        "columns": 12,
        "rows": 3
       }
      },
      "text/html": [
       "<div>\n",
       "<style scoped>\n",
       "    .dataframe tbody tr th:only-of-type {\n",
       "        vertical-align: middle;\n",
       "    }\n",
       "\n",
       "    .dataframe tbody tr th {\n",
       "        vertical-align: top;\n",
       "    }\n",
       "\n",
       "    .dataframe thead th {\n",
       "        text-align: right;\n",
       "    }\n",
       "</style>\n",
       "<table border=\"1\" class=\"dataframe\">\n",
       "  <thead>\n",
       "    <tr style=\"text-align: right;\">\n",
       "      <th></th>\n",
       "      <th>Record ID</th>\n",
       "      <th>Department</th>\n",
       "      <th>Time Narrative</th>\n",
       "      <th>Worked Time</th>\n",
       "      <th>Charged to Client?</th>\n",
       "      <th>Grade</th>\n",
       "      <th>Category</th>\n",
       "      <th>text_clean</th>\n",
       "      <th>charged_bin</th>\n",
       "      <th>grade_enc</th>\n",
       "      <th>n_words</th>\n",
       "      <th>low_info</th>\n",
       "    </tr>\n",
       "  </thead>\n",
       "  <tbody>\n",
       "    <tr>\n",
       "      <th>2</th>\n",
       "      <td>p-0003</td>\n",
       "      <td>a</td>\n",
       "      <td>considering email in from counsel attaching FD...</td>\n",
       "      <td>0.3</td>\n",
       "      <td>YES</td>\n",
       "      <td>Junior</td>\n",
       "      <td>analyse, review, research</td>\n",
       "      <td>considering email in from counsel attaching fd...</td>\n",
       "      <td>1</td>\n",
       "      <td>0</td>\n",
       "      <td>8</td>\n",
       "      <td>0</td>\n",
       "    </tr>\n",
       "    <tr>\n",
       "      <th>9</th>\n",
       "      <td>p-0010</td>\n",
       "      <td>a</td>\n",
       "      <td>Communicate (with client)</td>\n",
       "      <td>0.5</td>\n",
       "      <td>YES</td>\n",
       "      <td>Partner</td>\n",
       "      <td>client time</td>\n",
       "      <td>communicate with client</td>\n",
       "      <td>1</td>\n",
       "      <td>1</td>\n",
       "      <td>3</td>\n",
       "      <td>1</td>\n",
       "    </tr>\n",
       "    <tr>\n",
       "      <th>16</th>\n",
       "      <td>p-0017</td>\n",
       "      <td>a</td>\n",
       "      <td>Call out to the client to go through FDA docs ...</td>\n",
       "      <td>0.7</td>\n",
       "      <td>YES</td>\n",
       "      <td>Junior</td>\n",
       "      <td>client time</td>\n",
       "      <td>call out to the client to go through fda docs ...</td>\n",
       "      <td>1</td>\n",
       "      <td>0</td>\n",
       "      <td>16</td>\n",
       "      <td>0</td>\n",
       "    </tr>\n",
       "  </tbody>\n",
       "</table>\n",
       "</div>"
      ],
      "text/plain": [
       "   Record ID Department                                     Time Narrative  \\\n",
       "2     p-0003          a  considering email in from counsel attaching FD...   \n",
       "9     p-0010          a                          Communicate (with client)   \n",
       "16    p-0017          a  Call out to the client to go through FDA docs ...   \n",
       "\n",
       "    Worked Time Charged to Client?    Grade                   Category  \\\n",
       "2           0.3                YES   Junior  analyse, review, research   \n",
       "9           0.5                YES  Partner                client time   \n",
       "16          0.7                YES   Junior                client time   \n",
       "\n",
       "                                           text_clean  charged_bin  grade_enc  \\\n",
       "2   considering email in from counsel attaching fd...            1          0   \n",
       "9                             communicate with client            1          1   \n",
       "16  call out to the client to go through fda docs ...            1          0   \n",
       "\n",
       "    n_words  low_info  \n",
       "2         8         0  \n",
       "9         3         1  \n",
       "16       16         0  "
      ]
     },
     "metadata": {},
     "output_type": "display_data"
    }
   ],
   "source": [
    "# Load raw and build features\n",
    "REPO_ROOT = Path.cwd().parent\n",
    "DATA_PATH = REPO_ROOT / \"data\" / \"interview_task_dataset.csv\"\n",
    "df_raw = pd.read_csv(DATA_PATH)\n",
    "df, train_df = build_features(df_raw)\n",
    "\n",
    "print(\"Labelled rows:\", len(train_df))\n",
    "display(train_df.head(3))"
   ]
  },
  {
   "cell_type": "code",
   "execution_count": null,
   "id": "9a5c40ec",
   "metadata": {},
   "outputs": [],
   "source": [
    "# M2: preprocessor + split + baseline Logistic Regression\n",
    "from sklearn.model_selection import train_test_split\n",
    "from sklearn.feature_extraction.text import TfidfVectorizer\n",
    "from sklearn.compose import ColumnTransformer\n",
    "from sklearn.preprocessing import StandardScaler\n",
    "from sklearn.pipeline import Pipeline\n",
    "from sklearn.linear_model import LogisticRegression\n",
    "from sklearn.metrics import classification_report, f1_score, accuracy_score\n",
    "\n",
    "# features & target\n",
    "features = [\"text_clean\", \"Worked Time\", \"charged_bin\", \"grade_enc\", \"low_info\"]\n",
    "X = train_df[features]\n",
    "y = train_df[\"Category\"].astype(str)\n",
    "\n",
    "# stratified split (keeps class balance)\n",
    "X_tr, X_va, y_tr, y_va = train_test_split(\n",
    "    X, y, test_size=0.2, random_state=42, stratify=y\n",
    ")\n",
    "\n",
    "# text + numeric transformer (built for short text + our A/B models)\n",
    "tfidf = TfidfVectorizer(ngram_range=(1, 2), min_df=2, max_features=20000)\n",
    "preproc = ColumnTransformer(\n",
    "    transformers=[\n",
    "        (\"text\", tfidf, \"text_clean\"),\n",
    "        (\"num\", StandardScaler(with_mean=False), [\"Worked Time\",\"charged_bin\",\"grade_enc\",\"low_info\"]),\n",
    "    ],\n",
    "    remainder=\"drop\",\n",
    "    sparse_threshold=0.3,\n",
    ")\n",
    "\n",
    "# baseline classifier (robust on TF-IDF; class_weight handles imbalance)\n",
    "clf = LogisticRegression(max_iter=1000, class_weight=\"balanced\", solver=\"liblinear\")\n",
    "\n",
    "pipe = Pipeline([(\"pre\", preproc), (\"clf\", clf)])\n",
    "pipe.fit(X_tr, y_tr)\n",
    "\n",
    "yp = pipe.predict(X_va)\n",
    "\n",
    "acc = accuracy_score(y_va, yp)\n",
    "macro_f1 = f1_score(y_va, yp, average=\"macro\")\n",
    "print(f\"Accuracy:  {acc:.3f}\")\n",
    "print(f\"Macro F1:  {macro_f1:.3f}\\n\")\n",
    "print(classification_report(y_va, yp, zero_division=0))\n"
   ]
  }
 ],
 "metadata": {
  "kernelspec": {
   "display_name": ".venv (3.13.1)",
   "language": "python",
   "name": "python3"
  },
  "language_info": {
   "codemirror_mode": {
    "name": "ipython",
    "version": 3
   },
   "file_extension": ".py",
   "mimetype": "text/x-python",
   "name": "python",
   "nbconvert_exporter": "python",
   "pygments_lexer": "ipython3",
   "version": "3.13.1"
  }
 },
 "nbformat": 4,
 "nbformat_minor": 5
}
