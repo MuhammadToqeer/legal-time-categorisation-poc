{
 "cells": [
  {
   "cell_type": "code",
   "execution_count": 8,
   "id": "3a2b93b5",
   "metadata": {},
   "outputs": [],
   "source": [
    "from pathlib import Path\n",
    "import pandas as pd\n",
    "import matplotlib.pyplot as plt\n",
    "import plotly.express as px\n",
    "import plotly.io as pio\n",
    "\n",
    "pio.renderers.default = \"vscode\"            # good for VS Code\n",
    "pio.renderers.default = \"notebook_connected\"\n"
   ]
  },
  {
   "cell_type": "code",
   "execution_count": 9,
   "id": "1c4c0cac",
   "metadata": {},
   "outputs": [],
   "source": [
    "# because the notebook lives in /notebooks, go up one level to the repo root\n",
    "REPO_ROOT = Path.cwd().parent\n",
    "DATA_PATH = REPO_ROOT / \"data\" / \"interview_task_dataset.csv\"\n",
    "\n",
    "# print(\"CWD:\", Path.cwd())\n",
    "# print(\"DATA_PATH:\", DATA_PATH.resolve())\n",
    "assert DATA_PATH.exists(), f\"File not found: {DATA_PATH.resolve()}\""
   ]
  },
  {
   "cell_type": "code",
   "execution_count": 10,
   "id": "cab66e15",
   "metadata": {},
   "outputs": [
    {
     "data": {
      "application/vnd.microsoft.datawrangler.viewer.v0+json": {
       "columns": [
        {
         "name": "index",
         "rawType": "int64",
         "type": "integer"
        },
        {
         "name": "Record ID",
         "rawType": "object",
         "type": "string"
        },
        {
         "name": "Department",
         "rawType": "object",
         "type": "string"
        },
        {
         "name": "Time Narrative",
         "rawType": "object",
         "type": "string"
        },
        {
         "name": "Worked Time",
         "rawType": "float64",
         "type": "float"
        },
        {
         "name": "Charged to Client?",
         "rawType": "object",
         "type": "string"
        },
        {
         "name": "Grade",
         "rawType": "object",
         "type": "string"
        },
        {
         "name": "Category",
         "rawType": "object",
         "type": "unknown"
        }
       ],
       "ref": "7ce0ab32-86b9-4ac2-b7bf-243f466a68a3",
       "rows": [
        [
         "0",
         "p-0001",
         "a",
         "Amending and updating statement",
         "0.4",
         "YES",
         "Senior",
         null
        ],
        [
         "1",
         "p-0002",
         "a",
         "Reviewed court order and drafted advice email to client",
         "1.3",
         "YES",
         "Junior",
         null
        ],
        [
         "2",
         "p-0003",
         "a",
         "considering email in from counsel attaching FDA note",
         "0.3",
         "YES",
         "Junior",
         "analyse, review, research"
        ]
       ],
       "shape": {
        "columns": 7,
        "rows": 3
       }
      },
      "text/html": [
       "<div>\n",
       "<style scoped>\n",
       "    .dataframe tbody tr th:only-of-type {\n",
       "        vertical-align: middle;\n",
       "    }\n",
       "\n",
       "    .dataframe tbody tr th {\n",
       "        vertical-align: top;\n",
       "    }\n",
       "\n",
       "    .dataframe thead th {\n",
       "        text-align: right;\n",
       "    }\n",
       "</style>\n",
       "<table border=\"1\" class=\"dataframe\">\n",
       "  <thead>\n",
       "    <tr style=\"text-align: right;\">\n",
       "      <th></th>\n",
       "      <th>Record ID</th>\n",
       "      <th>Department</th>\n",
       "      <th>Time Narrative</th>\n",
       "      <th>Worked Time</th>\n",
       "      <th>Charged to Client?</th>\n",
       "      <th>Grade</th>\n",
       "      <th>Category</th>\n",
       "    </tr>\n",
       "  </thead>\n",
       "  <tbody>\n",
       "    <tr>\n",
       "      <th>0</th>\n",
       "      <td>p-0001</td>\n",
       "      <td>a</td>\n",
       "      <td>Amending and updating statement</td>\n",
       "      <td>0.4</td>\n",
       "      <td>YES</td>\n",
       "      <td>Senior</td>\n",
       "      <td>NaN</td>\n",
       "    </tr>\n",
       "    <tr>\n",
       "      <th>1</th>\n",
       "      <td>p-0002</td>\n",
       "      <td>a</td>\n",
       "      <td>Reviewed court order and drafted advice email ...</td>\n",
       "      <td>1.3</td>\n",
       "      <td>YES</td>\n",
       "      <td>Junior</td>\n",
       "      <td>NaN</td>\n",
       "    </tr>\n",
       "    <tr>\n",
       "      <th>2</th>\n",
       "      <td>p-0003</td>\n",
       "      <td>a</td>\n",
       "      <td>considering email in from counsel attaching FD...</td>\n",
       "      <td>0.3</td>\n",
       "      <td>YES</td>\n",
       "      <td>Junior</td>\n",
       "      <td>analyse, review, research</td>\n",
       "    </tr>\n",
       "  </tbody>\n",
       "</table>\n",
       "</div>"
      ],
      "text/plain": [
       "  Record ID Department                                     Time Narrative  \\\n",
       "0    p-0001          a                    Amending and updating statement   \n",
       "1    p-0002          a  Reviewed court order and drafted advice email ...   \n",
       "2    p-0003          a  considering email in from counsel attaching FD...   \n",
       "\n",
       "   Worked Time Charged to Client?   Grade                   Category  \n",
       "0          0.4                YES  Senior                        NaN  \n",
       "1          1.3                YES  Junior                        NaN  \n",
       "2          0.3                YES  Junior  analyse, review, research  "
      ]
     },
     "execution_count": 10,
     "metadata": {},
     "output_type": "execute_result"
    }
   ],
   "source": [
    "df = pd.read_csv(DATA_PATH)\n",
    "df.head(3)"
   ]
  },
  {
   "cell_type": "markdown",
   "id": "88ea2f0b",
   "metadata": {},
   "source": [
    "# Step — Load + Inspect, then Label Sparsity"
   ]
  },
  {
   "cell_type": "code",
   "execution_count": 19,
   "id": "b6c0194c",
   "metadata": {},
   "outputs": [
    {
     "data": {
      "text/plain": [
       "(2157, 7)"
      ]
     },
     "execution_count": 19,
     "metadata": {},
     "output_type": "execute_result"
    }
   ],
   "source": [
    "df.shape                    # (rows, cols)\n"
   ]
  },
  {
   "cell_type": "code",
   "execution_count": 17,
   "id": "e1fc4086",
   "metadata": {},
   "outputs": [
    {
     "name": "stdout",
     "output_type": "stream",
     "text": [
      "<class 'pandas.core.frame.DataFrame'>\n",
      "RangeIndex: 2157 entries, 0 to 2156\n",
      "Data columns (total 7 columns):\n",
      " #   Column              Non-Null Count  Dtype  \n",
      "---  ------              --------------  -----  \n",
      " 0   Record ID           2157 non-null   object \n",
      " 1   Department          2157 non-null   object \n",
      " 2   Time Narrative      2157 non-null   object \n",
      " 3   Worked Time         2157 non-null   float64\n",
      " 4   Charged to Client?  2157 non-null   object \n",
      " 5   Grade               2157 non-null   object \n",
      " 6   Category            561 non-null    object \n",
      "dtypes: float64(1), object(6)\n",
      "memory usage: 118.1+ KB\n",
      "\n",
      "Labelled:   561\n",
      "Unlabelled: 1,596\n",
      "Share labelled: 26.0%\n"
     ]
    }
   ],
   "source": [
    "df.info()\n",
    "\n",
    "labelled = df['Category'].notna().sum()\n",
    "unlabelled = df['Category'].isna().sum()\n",
    "share = labelled / len(df) * 100\n",
    "\n",
    "print(f\"\\nLabelled:   {labelled:,}\")\n",
    "print(f\"Unlabelled: {unlabelled:,}\")\n",
    "print(f\"Share labelled: {share:.1f}%\")"
   ]
  },
  {
   "cell_type": "markdown",
   "id": "e35ae165",
   "metadata": {},
   "source": [
    "# Label distribution (only on labelled rows)"
   ]
  },
  {
   "cell_type": "markdown",
   "id": "2384db34",
   "metadata": {},
   "source": [
    "What you just did (and why)\n",
    "What: You grouped by Grade and computed how many entries were charged and the % charged.\n",
    "\n",
    "Why (business): This shows baseline billing efficiency by seniority. In your data, Seniors have the highest charge rate (~87%), Juniors lower (~77%). This becomes a talking point and feeds the revenue-uplift calc later (e.g., “if Juniors’ charged% rose by 5 pts → £X more/week”).\n",
    "\n",
    "Why (modelling): Confirms “Charged to Client?” and Grade are informative features and correlate with category. It also flags a risk to watch: if a category is basically “Admin time”, we’ll likely see lower charge%—good to validate but avoid any leakage assumptions."
   ]
  },
  {
   "cell_type": "code",
   "execution_count": 11,
   "id": "23c0e508",
   "metadata": {},
   "outputs": [
    {
     "data": {
      "application/vnd.microsoft.datawrangler.viewer.v0+json": {
       "columns": [
        {
         "name": "index",
         "rawType": "int64",
         "type": "integer"
        },
        {
         "name": "Grade",
         "rawType": "object",
         "type": "string"
        },
        {
         "name": "rows",
         "rawType": "int64",
         "type": "integer"
        },
        {
         "name": "charged_yes",
         "rawType": "int64",
         "type": "integer"
        },
        {
         "name": "charged_%",
         "rawType": "float64",
         "type": "float"
        }
       ],
       "ref": "fffb369d-26d0-425a-8fc2-4573f86ec88e",
       "rows": [
        [
         "0",
         "Junior",
         "893",
         "686",
         "76.8"
        ],
        [
         "1",
         "Partner",
         "268",
         "224",
         "83.6"
        ],
        [
         "2",
         "Senior",
         "996",
         "868",
         "87.1"
        ]
       ],
       "shape": {
        "columns": 4,
        "rows": 3
       }
      },
      "text/html": [
       "<div>\n",
       "<style scoped>\n",
       "    .dataframe tbody tr th:only-of-type {\n",
       "        vertical-align: middle;\n",
       "    }\n",
       "\n",
       "    .dataframe tbody tr th {\n",
       "        vertical-align: top;\n",
       "    }\n",
       "\n",
       "    .dataframe thead th {\n",
       "        text-align: right;\n",
       "    }\n",
       "</style>\n",
       "<table border=\"1\" class=\"dataframe\">\n",
       "  <thead>\n",
       "    <tr style=\"text-align: right;\">\n",
       "      <th></th>\n",
       "      <th>Grade</th>\n",
       "      <th>rows</th>\n",
       "      <th>charged_yes</th>\n",
       "      <th>charged_%</th>\n",
       "    </tr>\n",
       "  </thead>\n",
       "  <tbody>\n",
       "    <tr>\n",
       "      <th>0</th>\n",
       "      <td>Junior</td>\n",
       "      <td>893</td>\n",
       "      <td>686</td>\n",
       "      <td>76.8</td>\n",
       "    </tr>\n",
       "    <tr>\n",
       "      <th>1</th>\n",
       "      <td>Partner</td>\n",
       "      <td>268</td>\n",
       "      <td>224</td>\n",
       "      <td>83.6</td>\n",
       "    </tr>\n",
       "    <tr>\n",
       "      <th>2</th>\n",
       "      <td>Senior</td>\n",
       "      <td>996</td>\n",
       "      <td>868</td>\n",
       "      <td>87.1</td>\n",
       "    </tr>\n",
       "  </tbody>\n",
       "</table>\n",
       "</div>"
      ],
      "text/plain": [
       "     Grade  rows  charged_yes  charged_%\n",
       "0   Junior   893          686       76.8\n",
       "1  Partner   268          224       83.6\n",
       "2   Senior   996          868       87.1"
      ]
     },
     "execution_count": 11,
     "metadata": {},
     "output_type": "execute_result"
    }
   ],
   "source": [
    "tbl = (\n",
    "    df.assign(charged=df[\"Charged to Client?\"].str.upper().eq(\"YES\"))\n",
    "      .groupby(\"Grade\", as_index=False)\n",
    "      .agg(rows=(\"charged\", \"size\"), charged_yes=(\"charged\", \"sum\"))\n",
    ")\n",
    "tbl[\"charged_%\"] = (tbl[\"charged_yes\"] / tbl[\"rows\"] * 100).round(1)\n",
    "tbl.sort_values(\"Grade\", inplace=True)\n",
    "\n",
    "tbl"
   ]
  },
  {
   "cell_type": "code",
   "execution_count": 13,
   "id": "2f510d22",
   "metadata": {},
   "outputs": [
    {
     "data": {
      "text/html": [
       "<div>            <script src=\"https://cdnjs.cloudflare.com/ajax/libs/mathjax/2.7.5/MathJax.js?config=TeX-AMS-MML_SVG\"></script><script type=\"text/javascript\">if (window.MathJax && window.MathJax.Hub && window.MathJax.Hub.Config) {window.MathJax.Hub.Config({SVG: {font: \"STIX-Web\"}});}</script>                <script type=\"text/javascript\">window.PlotlyConfig = {MathJaxConfig: 'local'};</script>\n",
       "        <script charset=\"utf-8\" src=\"https://cdn.plot.ly/plotly-3.1.0.min.js\" integrity=\"sha256-Ei4740bWZhaUTQuD6q9yQlgVCMPBz6CZWhevDYPv93A=\" crossorigin=\"anonymous\"></script>                <div id=\"d3150fa1-7570-4f68-a6bc-8838cb589bbb\" class=\"plotly-graph-div\" style=\"height:525px; width:100%;\"></div>            <script type=\"text/javascript\">                window.PLOTLYENV=window.PLOTLYENV || {};                                if (document.getElementById(\"d3150fa1-7570-4f68-a6bc-8838cb589bbb\")) {                    Plotly.newPlot(                        \"d3150fa1-7570-4f68-a6bc-8838cb589bbb\",                        [{\"hovertemplate\":\"Grade: %{x}\\u003cbr\\u003eCharge rate: %{y:.1f}%\\u003cbr\\u003eRows: %{customdata}\",\"legendgroup\":\"\",\"marker\":{\"color\":\"#636efa\",\"pattern\":{\"shape\":\"\"}},\"name\":\"\",\"orientation\":\"v\",\"showlegend\":false,\"text\":{\"dtype\":\"f8\",\"bdata\":\"ZmZmZmbGVUBmZmZmZuZUQDMzMzMzM1NA\"},\"textposition\":\"outside\",\"x\":[\"Senior\",\"Partner\",\"Junior\"],\"xaxis\":\"x\",\"y\":{\"dtype\":\"f8\",\"bdata\":\"ZmZmZmbGVUBmZmZmZuZUQDMzMzMzM1NA\"},\"yaxis\":\"y\",\"type\":\"bar\",\"customdata\":{\"dtype\":\"i2\",\"bdata\":\"5AMMAX0D\"},\"texttemplate\":\"%{text:.1f}%\"}],                        {\"template\":{\"data\":{\"barpolar\":[{\"marker\":{\"line\":{\"color\":\"white\",\"width\":0.5},\"pattern\":{\"fillmode\":\"overlay\",\"size\":10,\"solidity\":0.2}},\"type\":\"barpolar\"}],\"bar\":[{\"error_x\":{\"color\":\"rgb(36,36,36)\"},\"error_y\":{\"color\":\"rgb(36,36,36)\"},\"marker\":{\"line\":{\"color\":\"white\",\"width\":0.5},\"pattern\":{\"fillmode\":\"overlay\",\"size\":10,\"solidity\":0.2}},\"type\":\"bar\"}],\"carpet\":[{\"aaxis\":{\"endlinecolor\":\"rgb(36,36,36)\",\"gridcolor\":\"white\",\"linecolor\":\"white\",\"minorgridcolor\":\"white\",\"startlinecolor\":\"rgb(36,36,36)\"},\"baxis\":{\"endlinecolor\":\"rgb(36,36,36)\",\"gridcolor\":\"white\",\"linecolor\":\"white\",\"minorgridcolor\":\"white\",\"startlinecolor\":\"rgb(36,36,36)\"},\"type\":\"carpet\"}],\"choropleth\":[{\"colorbar\":{\"outlinewidth\":1,\"tickcolor\":\"rgb(36,36,36)\",\"ticks\":\"outside\"},\"type\":\"choropleth\"}],\"contourcarpet\":[{\"colorbar\":{\"outlinewidth\":1,\"tickcolor\":\"rgb(36,36,36)\",\"ticks\":\"outside\"},\"type\":\"contourcarpet\"}],\"contour\":[{\"colorbar\":{\"outlinewidth\":1,\"tickcolor\":\"rgb(36,36,36)\",\"ticks\":\"outside\"},\"colorscale\":[[0.0,\"#440154\"],[0.1111111111111111,\"#482878\"],[0.2222222222222222,\"#3e4989\"],[0.3333333333333333,\"#31688e\"],[0.4444444444444444,\"#26828e\"],[0.5555555555555556,\"#1f9e89\"],[0.6666666666666666,\"#35b779\"],[0.7777777777777778,\"#6ece58\"],[0.8888888888888888,\"#b5de2b\"],[1.0,\"#fde725\"]],\"type\":\"contour\"}],\"heatmap\":[{\"colorbar\":{\"outlinewidth\":1,\"tickcolor\":\"rgb(36,36,36)\",\"ticks\":\"outside\"},\"colorscale\":[[0.0,\"#440154\"],[0.1111111111111111,\"#482878\"],[0.2222222222222222,\"#3e4989\"],[0.3333333333333333,\"#31688e\"],[0.4444444444444444,\"#26828e\"],[0.5555555555555556,\"#1f9e89\"],[0.6666666666666666,\"#35b779\"],[0.7777777777777778,\"#6ece58\"],[0.8888888888888888,\"#b5de2b\"],[1.0,\"#fde725\"]],\"type\":\"heatmap\"}],\"histogram2dcontour\":[{\"colorbar\":{\"outlinewidth\":1,\"tickcolor\":\"rgb(36,36,36)\",\"ticks\":\"outside\"},\"colorscale\":[[0.0,\"#440154\"],[0.1111111111111111,\"#482878\"],[0.2222222222222222,\"#3e4989\"],[0.3333333333333333,\"#31688e\"],[0.4444444444444444,\"#26828e\"],[0.5555555555555556,\"#1f9e89\"],[0.6666666666666666,\"#35b779\"],[0.7777777777777778,\"#6ece58\"],[0.8888888888888888,\"#b5de2b\"],[1.0,\"#fde725\"]],\"type\":\"histogram2dcontour\"}],\"histogram2d\":[{\"colorbar\":{\"outlinewidth\":1,\"tickcolor\":\"rgb(36,36,36)\",\"ticks\":\"outside\"},\"colorscale\":[[0.0,\"#440154\"],[0.1111111111111111,\"#482878\"],[0.2222222222222222,\"#3e4989\"],[0.3333333333333333,\"#31688e\"],[0.4444444444444444,\"#26828e\"],[0.5555555555555556,\"#1f9e89\"],[0.6666666666666666,\"#35b779\"],[0.7777777777777778,\"#6ece58\"],[0.8888888888888888,\"#b5de2b\"],[1.0,\"#fde725\"]],\"type\":\"histogram2d\"}],\"histogram\":[{\"marker\":{\"line\":{\"color\":\"white\",\"width\":0.6}},\"type\":\"histogram\"}],\"mesh3d\":[{\"colorbar\":{\"outlinewidth\":1,\"tickcolor\":\"rgb(36,36,36)\",\"ticks\":\"outside\"},\"type\":\"mesh3d\"}],\"parcoords\":[{\"line\":{\"colorbar\":{\"outlinewidth\":1,\"tickcolor\":\"rgb(36,36,36)\",\"ticks\":\"outside\"}},\"type\":\"parcoords\"}],\"pie\":[{\"automargin\":true,\"type\":\"pie\"}],\"scatter3d\":[{\"line\":{\"colorbar\":{\"outlinewidth\":1,\"tickcolor\":\"rgb(36,36,36)\",\"ticks\":\"outside\"}},\"marker\":{\"colorbar\":{\"outlinewidth\":1,\"tickcolor\":\"rgb(36,36,36)\",\"ticks\":\"outside\"}},\"type\":\"scatter3d\"}],\"scattercarpet\":[{\"marker\":{\"colorbar\":{\"outlinewidth\":1,\"tickcolor\":\"rgb(36,36,36)\",\"ticks\":\"outside\"}},\"type\":\"scattercarpet\"}],\"scattergeo\":[{\"marker\":{\"colorbar\":{\"outlinewidth\":1,\"tickcolor\":\"rgb(36,36,36)\",\"ticks\":\"outside\"}},\"type\":\"scattergeo\"}],\"scattergl\":[{\"marker\":{\"colorbar\":{\"outlinewidth\":1,\"tickcolor\":\"rgb(36,36,36)\",\"ticks\":\"outside\"}},\"type\":\"scattergl\"}],\"scattermapbox\":[{\"marker\":{\"colorbar\":{\"outlinewidth\":1,\"tickcolor\":\"rgb(36,36,36)\",\"ticks\":\"outside\"}},\"type\":\"scattermapbox\"}],\"scattermap\":[{\"marker\":{\"colorbar\":{\"outlinewidth\":1,\"tickcolor\":\"rgb(36,36,36)\",\"ticks\":\"outside\"}},\"type\":\"scattermap\"}],\"scatterpolargl\":[{\"marker\":{\"colorbar\":{\"outlinewidth\":1,\"tickcolor\":\"rgb(36,36,36)\",\"ticks\":\"outside\"}},\"type\":\"scatterpolargl\"}],\"scatterpolar\":[{\"marker\":{\"colorbar\":{\"outlinewidth\":1,\"tickcolor\":\"rgb(36,36,36)\",\"ticks\":\"outside\"}},\"type\":\"scatterpolar\"}],\"scatter\":[{\"fillpattern\":{\"fillmode\":\"overlay\",\"size\":10,\"solidity\":0.2},\"type\":\"scatter\"}],\"scatterternary\":[{\"marker\":{\"colorbar\":{\"outlinewidth\":1,\"tickcolor\":\"rgb(36,36,36)\",\"ticks\":\"outside\"}},\"type\":\"scatterternary\"}],\"surface\":[{\"colorbar\":{\"outlinewidth\":1,\"tickcolor\":\"rgb(36,36,36)\",\"ticks\":\"outside\"},\"colorscale\":[[0.0,\"#440154\"],[0.1111111111111111,\"#482878\"],[0.2222222222222222,\"#3e4989\"],[0.3333333333333333,\"#31688e\"],[0.4444444444444444,\"#26828e\"],[0.5555555555555556,\"#1f9e89\"],[0.6666666666666666,\"#35b779\"],[0.7777777777777778,\"#6ece58\"],[0.8888888888888888,\"#b5de2b\"],[1.0,\"#fde725\"]],\"type\":\"surface\"}],\"table\":[{\"cells\":{\"fill\":{\"color\":\"rgb(237,237,237)\"},\"line\":{\"color\":\"white\"}},\"header\":{\"fill\":{\"color\":\"rgb(217,217,217)\"},\"line\":{\"color\":\"white\"}},\"type\":\"table\"}]},\"layout\":{\"annotationdefaults\":{\"arrowhead\":0,\"arrowwidth\":1},\"autotypenumbers\":\"strict\",\"coloraxis\":{\"colorbar\":{\"outlinewidth\":1,\"tickcolor\":\"rgb(36,36,36)\",\"ticks\":\"outside\"}},\"colorscale\":{\"diverging\":[[0.0,\"rgb(103,0,31)\"],[0.1,\"rgb(178,24,43)\"],[0.2,\"rgb(214,96,77)\"],[0.3,\"rgb(244,165,130)\"],[0.4,\"rgb(253,219,199)\"],[0.5,\"rgb(247,247,247)\"],[0.6,\"rgb(209,229,240)\"],[0.7,\"rgb(146,197,222)\"],[0.8,\"rgb(67,147,195)\"],[0.9,\"rgb(33,102,172)\"],[1.0,\"rgb(5,48,97)\"]],\"sequential\":[[0.0,\"#440154\"],[0.1111111111111111,\"#482878\"],[0.2222222222222222,\"#3e4989\"],[0.3333333333333333,\"#31688e\"],[0.4444444444444444,\"#26828e\"],[0.5555555555555556,\"#1f9e89\"],[0.6666666666666666,\"#35b779\"],[0.7777777777777778,\"#6ece58\"],[0.8888888888888888,\"#b5de2b\"],[1.0,\"#fde725\"]],\"sequentialminus\":[[0.0,\"#440154\"],[0.1111111111111111,\"#482878\"],[0.2222222222222222,\"#3e4989\"],[0.3333333333333333,\"#31688e\"],[0.4444444444444444,\"#26828e\"],[0.5555555555555556,\"#1f9e89\"],[0.6666666666666666,\"#35b779\"],[0.7777777777777778,\"#6ece58\"],[0.8888888888888888,\"#b5de2b\"],[1.0,\"#fde725\"]]},\"colorway\":[\"#1F77B4\",\"#FF7F0E\",\"#2CA02C\",\"#D62728\",\"#9467BD\",\"#8C564B\",\"#E377C2\",\"#7F7F7F\",\"#BCBD22\",\"#17BECF\"],\"font\":{\"color\":\"rgb(36,36,36)\"},\"geo\":{\"bgcolor\":\"white\",\"lakecolor\":\"white\",\"landcolor\":\"white\",\"showlakes\":true,\"showland\":true,\"subunitcolor\":\"white\"},\"hoverlabel\":{\"align\":\"left\"},\"hovermode\":\"closest\",\"mapbox\":{\"style\":\"light\"},\"paper_bgcolor\":\"white\",\"plot_bgcolor\":\"white\",\"polar\":{\"angularaxis\":{\"gridcolor\":\"rgb(232,232,232)\",\"linecolor\":\"rgb(36,36,36)\",\"showgrid\":false,\"showline\":true,\"ticks\":\"outside\"},\"bgcolor\":\"white\",\"radialaxis\":{\"gridcolor\":\"rgb(232,232,232)\",\"linecolor\":\"rgb(36,36,36)\",\"showgrid\":false,\"showline\":true,\"ticks\":\"outside\"}},\"scene\":{\"xaxis\":{\"backgroundcolor\":\"white\",\"gridcolor\":\"rgb(232,232,232)\",\"gridwidth\":2,\"linecolor\":\"rgb(36,36,36)\",\"showbackground\":true,\"showgrid\":false,\"showline\":true,\"ticks\":\"outside\",\"zeroline\":false,\"zerolinecolor\":\"rgb(36,36,36)\"},\"yaxis\":{\"backgroundcolor\":\"white\",\"gridcolor\":\"rgb(232,232,232)\",\"gridwidth\":2,\"linecolor\":\"rgb(36,36,36)\",\"showbackground\":true,\"showgrid\":false,\"showline\":true,\"ticks\":\"outside\",\"zeroline\":false,\"zerolinecolor\":\"rgb(36,36,36)\"},\"zaxis\":{\"backgroundcolor\":\"white\",\"gridcolor\":\"rgb(232,232,232)\",\"gridwidth\":2,\"linecolor\":\"rgb(36,36,36)\",\"showbackground\":true,\"showgrid\":false,\"showline\":true,\"ticks\":\"outside\",\"zeroline\":false,\"zerolinecolor\":\"rgb(36,36,36)\"}},\"shapedefaults\":{\"fillcolor\":\"black\",\"line\":{\"width\":0},\"opacity\":0.3},\"ternary\":{\"aaxis\":{\"gridcolor\":\"rgb(232,232,232)\",\"linecolor\":\"rgb(36,36,36)\",\"showgrid\":false,\"showline\":true,\"ticks\":\"outside\"},\"baxis\":{\"gridcolor\":\"rgb(232,232,232)\",\"linecolor\":\"rgb(36,36,36)\",\"showgrid\":false,\"showline\":true,\"ticks\":\"outside\"},\"bgcolor\":\"white\",\"caxis\":{\"gridcolor\":\"rgb(232,232,232)\",\"linecolor\":\"rgb(36,36,36)\",\"showgrid\":false,\"showline\":true,\"ticks\":\"outside\"}},\"title\":{\"x\":0.05},\"xaxis\":{\"automargin\":true,\"gridcolor\":\"rgb(232,232,232)\",\"linecolor\":\"rgb(36,36,36)\",\"showgrid\":false,\"showline\":true,\"ticks\":\"outside\",\"title\":{\"standoff\":15},\"zeroline\":false,\"zerolinecolor\":\"rgb(36,36,36)\"},\"yaxis\":{\"automargin\":true,\"gridcolor\":\"rgb(232,232,232)\",\"linecolor\":\"rgb(36,36,36)\",\"showgrid\":false,\"showline\":true,\"ticks\":\"outside\",\"title\":{\"standoff\":15},\"zeroline\":false,\"zerolinecolor\":\"rgb(36,36,36)\"}}},\"xaxis\":{\"anchor\":\"y\",\"domain\":[0.0,1.0],\"title\":{}},\"yaxis\":{\"anchor\":\"x\",\"domain\":[0.0,1.0],\"title\":{\"text\":\"Charged (%)\"},\"range\":[0,100],\"ticksuffix\":\"%\"},\"legend\":{\"tracegroupgap\":0},\"margin\":{\"t\":60,\"r\":30,\"l\":60,\"b\":60},\"barmode\":\"relative\",\"title\":{\"text\":\"Charge rate by grade\",\"x\":0.02,\"xanchor\":\"left\"},\"font\":{\"family\":\"Segoe UI, Arial, sans-serif\",\"size\":14},\"uniformtext\":{\"minsize\":12},\"bargap\":0.35},                        {\"responsive\": true}                    ).then(function(){\n",
       "                            \n",
       "var gd = document.getElementById('d3150fa1-7570-4f68-a6bc-8838cb589bbb');\n",
       "var x = new MutationObserver(function (mutations, observer) {{\n",
       "        var display = window.getComputedStyle(gd).display;\n",
       "        if (!display || display === 'none') {{\n",
       "            console.log([gd, 'removed!']);\n",
       "            Plotly.purge(gd);\n",
       "            observer.disconnect();\n",
       "        }}\n",
       "}});\n",
       "\n",
       "// Listen for the removal of the full notebook cells\n",
       "var notebookContainer = gd.closest('#notebook-container');\n",
       "if (notebookContainer) {{\n",
       "    x.observe(notebookContainer, {childList: true});\n",
       "}}\n",
       "\n",
       "// Listen for the clearing of the current output cell\n",
       "var outputEl = gd.closest('.output');\n",
       "if (outputEl) {{\n",
       "    x.observe(outputEl, {childList: true});\n",
       "}}\n",
       "\n",
       "                        })                };            </script>        </div>"
      ]
     },
     "metadata": {},
     "output_type": "display_data"
    }
   ],
   "source": [
    "# sort for a tidy left→right story\n",
    "plot_df = tbl.sort_values(\"charged_%\", ascending=False).copy()\n",
    "\n",
    "fig = px.bar(\n",
    "    plot_df,\n",
    "    x=\"Grade\", y=\"charged_%\", text=\"charged_%\",\n",
    ")\n",
    "\n",
    "fig.update_traces(\n",
    "    texttemplate=\"%{text:.1f}%\", textposition=\"outside\",\n",
    "    hovertemplate=\"Grade: %{x}<br>Charge rate: %{y:.1f}%<br>Rows: %{customdata}\",\n",
    "    customdata=plot_df[\"rows\"],\n",
    ")\n",
    "\n",
    "fig.update_layout(\n",
    "    title=dict(text=\"Charge rate by grade\", x=0.02, xanchor=\"left\"),\n",
    "    template=\"simple_white\",\n",
    "    font=dict(family=\"Segoe UI, Arial, sans-serif\", size=14),\n",
    "    yaxis=dict(title=\"Charged (%)\", range=[0, 100], ticksuffix=\"%\"),\n",
    "    xaxis_title=None,\n",
    "    uniformtext_minsize=12,\n",
    "    bargap=0.35,\n",
    "    margin=dict(t=60, r=30, l=60, b=60),\n",
    ")\n",
    "\n",
    "fig.show()\n"
   ]
  },
  {
   "cell_type": "markdown",
   "id": "70f51e76",
   "metadata": {},
   "source": [
    "# Step — Labelled category mix (class balance)"
   ]
  },
  {
   "cell_type": "markdown",
   "id": "fcb1c768",
   "metadata": {},
   "source": [
    "Step — Labelled category mix (class balance)\n",
    "Purpose (why):\n",
    "\n",
    "To see how many labelled examples we have per category and whether the classes are balanced or skewed.\n",
    "\n",
    "Class balance affects model choice, train/validation split, metrics, and may require class weights. Getting this early avoids misleading accuracy.\n",
    "\n",
    "What we did:\n",
    "\n",
    "Took only the labelled rows (where Category is not null).\n",
    "\n",
    "Counted rows per Category and computed each category’s % share of the labelled subset.\n",
    "\n",
    "Plotted an interactive bar chart so we can immediately spot majority/minority classes.\n",
    "\n",
    "How (logic):\n",
    "\n",
    "df_l = df[df[\"Category\"].notna()] → keep labelled only.\n",
    "\n",
    "value_counts() → get counts by category.\n",
    "\n",
    "share_% = rows / total * 100 → compute percentage share.\n",
    "\n",
    "Plot with Plotly to see the mix clearly.\n",
    "\n",
    "What this tells us:\n",
    "\n",
    "If one or two categories dominate, a plain accuracy metric will be inflated and misleading.\n",
    "\n",
    "Minority classes will need help (e.g., class weights during training, stratified splitting, and macro F1 for fair evaluation).\n",
    "\n",
    "It also hints at where the model may struggle and which categories might need better features or later relabelling.\n",
    "\n",
    "How we’ll use it next:\n",
    "\n",
    "We’ll do a stratified train/validation split to preserve these proportions.\n",
    "\n",
    "Track macro F1 (and per-class recall) rather than only accuracy.\n",
    "\n",
    "Enable class_weight='balanced' for linear models and tune scale_pos_weight (or equivalent) for tree boosters.\n",
    "\n",
    "Keep this chart/table for the slides to show you’re risk-aware about imbalance."
   ]
  },
  {
   "cell_type": "code",
   "execution_count": 15,
   "id": "8608705a",
   "metadata": {},
   "outputs": [
    {
     "data": {
      "application/vnd.microsoft.datawrangler.viewer.v0+json": {
       "columns": [
        {
         "name": "index",
         "rawType": "int64",
         "type": "integer"
        },
        {
         "name": "Category",
         "rawType": "object",
         "type": "string"
        },
        {
         "name": "rows",
         "rawType": "int64",
         "type": "integer"
        },
        {
         "name": "share_%",
         "rawType": "float64",
         "type": "float"
        }
       ],
       "ref": "324fd4e4-432d-46bc-a836-cd3923864943",
       "rows": [
        [
         "0",
         "client time",
         "199",
         "35.5"
        ],
        [
         "1",
         "preparing documents",
         "109",
         "19.4"
        ],
        [
         "2",
         "analyse, review, research",
         "85",
         "15.2"
        ],
        [
         "3",
         "Other comms",
         "75",
         "13.4"
        ],
        [
         "4",
         "onboarding",
         "49",
         "8.7"
        ],
        [
         "5",
         "admin",
         "32",
         "5.7"
        ],
        [
         "6",
         "billing",
         "12",
         "2.1"
        ]
       ],
       "shape": {
        "columns": 3,
        "rows": 7
       }
      },
      "text/html": [
       "<div>\n",
       "<style scoped>\n",
       "    .dataframe tbody tr th:only-of-type {\n",
       "        vertical-align: middle;\n",
       "    }\n",
       "\n",
       "    .dataframe tbody tr th {\n",
       "        vertical-align: top;\n",
       "    }\n",
       "\n",
       "    .dataframe thead th {\n",
       "        text-align: right;\n",
       "    }\n",
       "</style>\n",
       "<table border=\"1\" class=\"dataframe\">\n",
       "  <thead>\n",
       "    <tr style=\"text-align: right;\">\n",
       "      <th></th>\n",
       "      <th>Category</th>\n",
       "      <th>rows</th>\n",
       "      <th>share_%</th>\n",
       "    </tr>\n",
       "  </thead>\n",
       "  <tbody>\n",
       "    <tr>\n",
       "      <th>0</th>\n",
       "      <td>client time</td>\n",
       "      <td>199</td>\n",
       "      <td>35.5</td>\n",
       "    </tr>\n",
       "    <tr>\n",
       "      <th>1</th>\n",
       "      <td>preparing documents</td>\n",
       "      <td>109</td>\n",
       "      <td>19.4</td>\n",
       "    </tr>\n",
       "    <tr>\n",
       "      <th>2</th>\n",
       "      <td>analyse, review, research</td>\n",
       "      <td>85</td>\n",
       "      <td>15.2</td>\n",
       "    </tr>\n",
       "    <tr>\n",
       "      <th>3</th>\n",
       "      <td>Other comms</td>\n",
       "      <td>75</td>\n",
       "      <td>13.4</td>\n",
       "    </tr>\n",
       "    <tr>\n",
       "      <th>4</th>\n",
       "      <td>onboarding</td>\n",
       "      <td>49</td>\n",
       "      <td>8.7</td>\n",
       "    </tr>\n",
       "    <tr>\n",
       "      <th>5</th>\n",
       "      <td>admin</td>\n",
       "      <td>32</td>\n",
       "      <td>5.7</td>\n",
       "    </tr>\n",
       "    <tr>\n",
       "      <th>6</th>\n",
       "      <td>billing</td>\n",
       "      <td>12</td>\n",
       "      <td>2.1</td>\n",
       "    </tr>\n",
       "  </tbody>\n",
       "</table>\n",
       "</div>"
      ],
      "text/plain": [
       "                    Category  rows  share_%\n",
       "0                client time   199     35.5\n",
       "1        preparing documents   109     19.4\n",
       "2  analyse, review, research    85     15.2\n",
       "3                Other comms    75     13.4\n",
       "4                 onboarding    49      8.7\n",
       "5                      admin    32      5.7\n",
       "6                    billing    12      2.1"
      ]
     },
     "execution_count": 15,
     "metadata": {},
     "output_type": "execute_result"
    }
   ],
   "source": [
    "df_l = df[df[\"Category\"].notna()].copy()\n",
    "\n",
    "cat_counts = (\n",
    "    df_l[\"Category\"]\n",
    "    .value_counts()\n",
    "    .rename_axis(\"Category\")\n",
    "    .reset_index(name=\"rows\")\n",
    ")\n",
    "cat_counts[\"share_%\"] = (cat_counts[\"rows\"] / cat_counts[\"rows\"].sum() * 100).round(1)\n",
    "cat_counts\n",
    "\n"
   ]
  },
  {
   "cell_type": "code",
   "execution_count": null,
   "id": "8c22d955",
   "metadata": {},
   "outputs": [
    {
     "data": {
      "text/html": [
       "<div>            <script src=\"https://cdnjs.cloudflare.com/ajax/libs/mathjax/2.7.5/MathJax.js?config=TeX-AMS-MML_SVG\"></script><script type=\"text/javascript\">if (window.MathJax && window.MathJax.Hub && window.MathJax.Hub.Config) {window.MathJax.Hub.Config({SVG: {font: \"STIX-Web\"}});}</script>                <script type=\"text/javascript\">window.PlotlyConfig = {MathJaxConfig: 'local'};</script>\n",
       "        <script charset=\"utf-8\" src=\"https://cdn.plot.ly/plotly-3.1.0.min.js\" integrity=\"sha256-Ei4740bWZhaUTQuD6q9yQlgVCMPBz6CZWhevDYPv93A=\" crossorigin=\"anonymous\"></script>                <div id=\"37e41ca9-c030-4f5d-bb50-c72f8e43b67b\" class=\"plotly-graph-div\" style=\"height:525px; width:100%;\"></div>            <script type=\"text/javascript\">                window.PLOTLYENV=window.PLOTLYENV || {};                                if (document.getElementById(\"37e41ca9-c030-4f5d-bb50-c72f8e43b67b\")) {                    Plotly.newPlot(                        \"37e41ca9-c030-4f5d-bb50-c72f8e43b67b\",                        [{\"hovertemplate\":\"Category=%{x}\\u003cbr\\u003erows=%{y}\\u003cbr\\u003eshare_%=%{text}\\u003cextra\\u003e\\u003c\\u002fextra\\u003e\",\"legendgroup\":\"\",\"marker\":{\"color\":\"#636efa\",\"pattern\":{\"shape\":\"\"}},\"name\":\"\",\"orientation\":\"v\",\"showlegend\":false,\"text\":{\"dtype\":\"f8\",\"bdata\":\"AAAAAADAQUBmZmZmZmYzQGZmZmZmZi5AzczMzMzMKkBmZmZmZmYhQM3MzMzMzBZAzczMzMzMAEA=\"},\"textposition\":\"outside\",\"x\":[\"client time\",\"preparing documents\",\"analyse, review, research\",\"Other comms\",\"onboarding\",\"admin\",\"billing\"],\"xaxis\":\"x\",\"y\":{\"dtype\":\"i2\",\"bdata\":\"xwBtAFUASwAxACAADAA=\"},\"yaxis\":\"y\",\"type\":\"bar\",\"texttemplate\":\"%{text}%\"}],                        {\"template\":{\"data\":{\"barpolar\":[{\"marker\":{\"line\":{\"color\":\"white\",\"width\":0.5},\"pattern\":{\"fillmode\":\"overlay\",\"size\":10,\"solidity\":0.2}},\"type\":\"barpolar\"}],\"bar\":[{\"error_x\":{\"color\":\"rgb(36,36,36)\"},\"error_y\":{\"color\":\"rgb(36,36,36)\"},\"marker\":{\"line\":{\"color\":\"white\",\"width\":0.5},\"pattern\":{\"fillmode\":\"overlay\",\"size\":10,\"solidity\":0.2}},\"type\":\"bar\"}],\"carpet\":[{\"aaxis\":{\"endlinecolor\":\"rgb(36,36,36)\",\"gridcolor\":\"white\",\"linecolor\":\"white\",\"minorgridcolor\":\"white\",\"startlinecolor\":\"rgb(36,36,36)\"},\"baxis\":{\"endlinecolor\":\"rgb(36,36,36)\",\"gridcolor\":\"white\",\"linecolor\":\"white\",\"minorgridcolor\":\"white\",\"startlinecolor\":\"rgb(36,36,36)\"},\"type\":\"carpet\"}],\"choropleth\":[{\"colorbar\":{\"outlinewidth\":1,\"tickcolor\":\"rgb(36,36,36)\",\"ticks\":\"outside\"},\"type\":\"choropleth\"}],\"contourcarpet\":[{\"colorbar\":{\"outlinewidth\":1,\"tickcolor\":\"rgb(36,36,36)\",\"ticks\":\"outside\"},\"type\":\"contourcarpet\"}],\"contour\":[{\"colorbar\":{\"outlinewidth\":1,\"tickcolor\":\"rgb(36,36,36)\",\"ticks\":\"outside\"},\"colorscale\":[[0.0,\"#440154\"],[0.1111111111111111,\"#482878\"],[0.2222222222222222,\"#3e4989\"],[0.3333333333333333,\"#31688e\"],[0.4444444444444444,\"#26828e\"],[0.5555555555555556,\"#1f9e89\"],[0.6666666666666666,\"#35b779\"],[0.7777777777777778,\"#6ece58\"],[0.8888888888888888,\"#b5de2b\"],[1.0,\"#fde725\"]],\"type\":\"contour\"}],\"heatmap\":[{\"colorbar\":{\"outlinewidth\":1,\"tickcolor\":\"rgb(36,36,36)\",\"ticks\":\"outside\"},\"colorscale\":[[0.0,\"#440154\"],[0.1111111111111111,\"#482878\"],[0.2222222222222222,\"#3e4989\"],[0.3333333333333333,\"#31688e\"],[0.4444444444444444,\"#26828e\"],[0.5555555555555556,\"#1f9e89\"],[0.6666666666666666,\"#35b779\"],[0.7777777777777778,\"#6ece58\"],[0.8888888888888888,\"#b5de2b\"],[1.0,\"#fde725\"]],\"type\":\"heatmap\"}],\"histogram2dcontour\":[{\"colorbar\":{\"outlinewidth\":1,\"tickcolor\":\"rgb(36,36,36)\",\"ticks\":\"outside\"},\"colorscale\":[[0.0,\"#440154\"],[0.1111111111111111,\"#482878\"],[0.2222222222222222,\"#3e4989\"],[0.3333333333333333,\"#31688e\"],[0.4444444444444444,\"#26828e\"],[0.5555555555555556,\"#1f9e89\"],[0.6666666666666666,\"#35b779\"],[0.7777777777777778,\"#6ece58\"],[0.8888888888888888,\"#b5de2b\"],[1.0,\"#fde725\"]],\"type\":\"histogram2dcontour\"}],\"histogram2d\":[{\"colorbar\":{\"outlinewidth\":1,\"tickcolor\":\"rgb(36,36,36)\",\"ticks\":\"outside\"},\"colorscale\":[[0.0,\"#440154\"],[0.1111111111111111,\"#482878\"],[0.2222222222222222,\"#3e4989\"],[0.3333333333333333,\"#31688e\"],[0.4444444444444444,\"#26828e\"],[0.5555555555555556,\"#1f9e89\"],[0.6666666666666666,\"#35b779\"],[0.7777777777777778,\"#6ece58\"],[0.8888888888888888,\"#b5de2b\"],[1.0,\"#fde725\"]],\"type\":\"histogram2d\"}],\"histogram\":[{\"marker\":{\"line\":{\"color\":\"white\",\"width\":0.6}},\"type\":\"histogram\"}],\"mesh3d\":[{\"colorbar\":{\"outlinewidth\":1,\"tickcolor\":\"rgb(36,36,36)\",\"ticks\":\"outside\"},\"type\":\"mesh3d\"}],\"parcoords\":[{\"line\":{\"colorbar\":{\"outlinewidth\":1,\"tickcolor\":\"rgb(36,36,36)\",\"ticks\":\"outside\"}},\"type\":\"parcoords\"}],\"pie\":[{\"automargin\":true,\"type\":\"pie\"}],\"scatter3d\":[{\"line\":{\"colorbar\":{\"outlinewidth\":1,\"tickcolor\":\"rgb(36,36,36)\",\"ticks\":\"outside\"}},\"marker\":{\"colorbar\":{\"outlinewidth\":1,\"tickcolor\":\"rgb(36,36,36)\",\"ticks\":\"outside\"}},\"type\":\"scatter3d\"}],\"scattercarpet\":[{\"marker\":{\"colorbar\":{\"outlinewidth\":1,\"tickcolor\":\"rgb(36,36,36)\",\"ticks\":\"outside\"}},\"type\":\"scattercarpet\"}],\"scattergeo\":[{\"marker\":{\"colorbar\":{\"outlinewidth\":1,\"tickcolor\":\"rgb(36,36,36)\",\"ticks\":\"outside\"}},\"type\":\"scattergeo\"}],\"scattergl\":[{\"marker\":{\"colorbar\":{\"outlinewidth\":1,\"tickcolor\":\"rgb(36,36,36)\",\"ticks\":\"outside\"}},\"type\":\"scattergl\"}],\"scattermapbox\":[{\"marker\":{\"colorbar\":{\"outlinewidth\":1,\"tickcolor\":\"rgb(36,36,36)\",\"ticks\":\"outside\"}},\"type\":\"scattermapbox\"}],\"scattermap\":[{\"marker\":{\"colorbar\":{\"outlinewidth\":1,\"tickcolor\":\"rgb(36,36,36)\",\"ticks\":\"outside\"}},\"type\":\"scattermap\"}],\"scatterpolargl\":[{\"marker\":{\"colorbar\":{\"outlinewidth\":1,\"tickcolor\":\"rgb(36,36,36)\",\"ticks\":\"outside\"}},\"type\":\"scatterpolargl\"}],\"scatterpolar\":[{\"marker\":{\"colorbar\":{\"outlinewidth\":1,\"tickcolor\":\"rgb(36,36,36)\",\"ticks\":\"outside\"}},\"type\":\"scatterpolar\"}],\"scatter\":[{\"fillpattern\":{\"fillmode\":\"overlay\",\"size\":10,\"solidity\":0.2},\"type\":\"scatter\"}],\"scatterternary\":[{\"marker\":{\"colorbar\":{\"outlinewidth\":1,\"tickcolor\":\"rgb(36,36,36)\",\"ticks\":\"outside\"}},\"type\":\"scatterternary\"}],\"surface\":[{\"colorbar\":{\"outlinewidth\":1,\"tickcolor\":\"rgb(36,36,36)\",\"ticks\":\"outside\"},\"colorscale\":[[0.0,\"#440154\"],[0.1111111111111111,\"#482878\"],[0.2222222222222222,\"#3e4989\"],[0.3333333333333333,\"#31688e\"],[0.4444444444444444,\"#26828e\"],[0.5555555555555556,\"#1f9e89\"],[0.6666666666666666,\"#35b779\"],[0.7777777777777778,\"#6ece58\"],[0.8888888888888888,\"#b5de2b\"],[1.0,\"#fde725\"]],\"type\":\"surface\"}],\"table\":[{\"cells\":{\"fill\":{\"color\":\"rgb(237,237,237)\"},\"line\":{\"color\":\"white\"}},\"header\":{\"fill\":{\"color\":\"rgb(217,217,217)\"},\"line\":{\"color\":\"white\"}},\"type\":\"table\"}]},\"layout\":{\"annotationdefaults\":{\"arrowhead\":0,\"arrowwidth\":1},\"autotypenumbers\":\"strict\",\"coloraxis\":{\"colorbar\":{\"outlinewidth\":1,\"tickcolor\":\"rgb(36,36,36)\",\"ticks\":\"outside\"}},\"colorscale\":{\"diverging\":[[0.0,\"rgb(103,0,31)\"],[0.1,\"rgb(178,24,43)\"],[0.2,\"rgb(214,96,77)\"],[0.3,\"rgb(244,165,130)\"],[0.4,\"rgb(253,219,199)\"],[0.5,\"rgb(247,247,247)\"],[0.6,\"rgb(209,229,240)\"],[0.7,\"rgb(146,197,222)\"],[0.8,\"rgb(67,147,195)\"],[0.9,\"rgb(33,102,172)\"],[1.0,\"rgb(5,48,97)\"]],\"sequential\":[[0.0,\"#440154\"],[0.1111111111111111,\"#482878\"],[0.2222222222222222,\"#3e4989\"],[0.3333333333333333,\"#31688e\"],[0.4444444444444444,\"#26828e\"],[0.5555555555555556,\"#1f9e89\"],[0.6666666666666666,\"#35b779\"],[0.7777777777777778,\"#6ece58\"],[0.8888888888888888,\"#b5de2b\"],[1.0,\"#fde725\"]],\"sequentialminus\":[[0.0,\"#440154\"],[0.1111111111111111,\"#482878\"],[0.2222222222222222,\"#3e4989\"],[0.3333333333333333,\"#31688e\"],[0.4444444444444444,\"#26828e\"],[0.5555555555555556,\"#1f9e89\"],[0.6666666666666666,\"#35b779\"],[0.7777777777777778,\"#6ece58\"],[0.8888888888888888,\"#b5de2b\"],[1.0,\"#fde725\"]]},\"colorway\":[\"#1F77B4\",\"#FF7F0E\",\"#2CA02C\",\"#D62728\",\"#9467BD\",\"#8C564B\",\"#E377C2\",\"#7F7F7F\",\"#BCBD22\",\"#17BECF\"],\"font\":{\"color\":\"rgb(36,36,36)\"},\"geo\":{\"bgcolor\":\"white\",\"lakecolor\":\"white\",\"landcolor\":\"white\",\"showlakes\":true,\"showland\":true,\"subunitcolor\":\"white\"},\"hoverlabel\":{\"align\":\"left\"},\"hovermode\":\"closest\",\"mapbox\":{\"style\":\"light\"},\"paper_bgcolor\":\"white\",\"plot_bgcolor\":\"white\",\"polar\":{\"angularaxis\":{\"gridcolor\":\"rgb(232,232,232)\",\"linecolor\":\"rgb(36,36,36)\",\"showgrid\":false,\"showline\":true,\"ticks\":\"outside\"},\"bgcolor\":\"white\",\"radialaxis\":{\"gridcolor\":\"rgb(232,232,232)\",\"linecolor\":\"rgb(36,36,36)\",\"showgrid\":false,\"showline\":true,\"ticks\":\"outside\"}},\"scene\":{\"xaxis\":{\"backgroundcolor\":\"white\",\"gridcolor\":\"rgb(232,232,232)\",\"gridwidth\":2,\"linecolor\":\"rgb(36,36,36)\",\"showbackground\":true,\"showgrid\":false,\"showline\":true,\"ticks\":\"outside\",\"zeroline\":false,\"zerolinecolor\":\"rgb(36,36,36)\"},\"yaxis\":{\"backgroundcolor\":\"white\",\"gridcolor\":\"rgb(232,232,232)\",\"gridwidth\":2,\"linecolor\":\"rgb(36,36,36)\",\"showbackground\":true,\"showgrid\":false,\"showline\":true,\"ticks\":\"outside\",\"zeroline\":false,\"zerolinecolor\":\"rgb(36,36,36)\"},\"zaxis\":{\"backgroundcolor\":\"white\",\"gridcolor\":\"rgb(232,232,232)\",\"gridwidth\":2,\"linecolor\":\"rgb(36,36,36)\",\"showbackground\":true,\"showgrid\":false,\"showline\":true,\"ticks\":\"outside\",\"zeroline\":false,\"zerolinecolor\":\"rgb(36,36,36)\"}},\"shapedefaults\":{\"fillcolor\":\"black\",\"line\":{\"width\":0},\"opacity\":0.3},\"ternary\":{\"aaxis\":{\"gridcolor\":\"rgb(232,232,232)\",\"linecolor\":\"rgb(36,36,36)\",\"showgrid\":false,\"showline\":true,\"ticks\":\"outside\"},\"baxis\":{\"gridcolor\":\"rgb(232,232,232)\",\"linecolor\":\"rgb(36,36,36)\",\"showgrid\":false,\"showline\":true,\"ticks\":\"outside\"},\"bgcolor\":\"white\",\"caxis\":{\"gridcolor\":\"rgb(232,232,232)\",\"linecolor\":\"rgb(36,36,36)\",\"showgrid\":false,\"showline\":true,\"ticks\":\"outside\"}},\"title\":{\"x\":0.05},\"xaxis\":{\"automargin\":true,\"gridcolor\":\"rgb(232,232,232)\",\"linecolor\":\"rgb(36,36,36)\",\"showgrid\":false,\"showline\":true,\"ticks\":\"outside\",\"title\":{\"standoff\":15},\"zeroline\":false,\"zerolinecolor\":\"rgb(36,36,36)\"},\"yaxis\":{\"automargin\":true,\"gridcolor\":\"rgb(232,232,232)\",\"linecolor\":\"rgb(36,36,36)\",\"showgrid\":false,\"showline\":true,\"ticks\":\"outside\",\"title\":{\"standoff\":15},\"zeroline\":false,\"zerolinecolor\":\"rgb(36,36,36)\"}}},\"xaxis\":{\"anchor\":\"y\",\"domain\":[0.0,1.0],\"title\":{}},\"yaxis\":{\"anchor\":\"x\",\"domain\":[0.0,1.0],\"title\":{\"text\":\"Rows\"}},\"legend\":{\"tracegroupgap\":0},\"title\":{\"text\":\"Labelled subset: category mix\"},\"barmode\":\"relative\"},                        {\"responsive\": true}                    ).then(function(){\n",
       "                            \n",
       "var gd = document.getElementById('37e41ca9-c030-4f5d-bb50-c72f8e43b67b');\n",
       "var x = new MutationObserver(function (mutations, observer) {{\n",
       "        var display = window.getComputedStyle(gd).display;\n",
       "        if (!display || display === 'none') {{\n",
       "            console.log([gd, 'removed!']);\n",
       "            Plotly.purge(gd);\n",
       "            observer.disconnect();\n",
       "        }}\n",
       "}});\n",
       "\n",
       "// Listen for the removal of the full notebook cells\n",
       "var notebookContainer = gd.closest('#notebook-container');\n",
       "if (notebookContainer) {{\n",
       "    x.observe(notebookContainer, {childList: true});\n",
       "}}\n",
       "\n",
       "// Listen for the clearing of the current output cell\n",
       "var outputEl = gd.closest('.output');\n",
       "if (outputEl) {{\n",
       "    x.observe(outputEl, {childList: true});\n",
       "}}\n",
       "\n",
       "                        })                };            </script>        </div>"
      ]
     },
     "metadata": {},
     "output_type": "display_data"
    }
   ],
   "source": [
    "fig = px.bar(\n",
    "    cat_counts, x=\"Category\", y=\"rows\", text=\"share_%\",\n",
    "    title=\"Labelled subset: category mix\",\n",
    ")\n",
    "fig.update_traces(texttemplate=\"%{text}%\", textposition=\"outside\")\n",
    "fig.update_layout(template=\"simple_white\", xaxis_title=None, yaxis_title=\"Rows\")\n",
    "fig.show()"
   ]
  },
  {
   "cell_type": "markdown",
   "id": "85f0f946",
   "metadata": {},
   "source": [
    "# Step — Text length (word count) distribution"
   ]
  },
  {
   "cell_type": "markdown",
   "id": "672c5ddf",
   "metadata": {},
   "source": [
    "Why: catches empties/odd entries, guides cleaning and n-gram settings, and helps us decide whether to cap length or treat outliers."
   ]
  },
  {
   "cell_type": "code",
   "execution_count": 20,
   "id": "40f07812",
   "metadata": {},
   "outputs": [
    {
     "data": {
      "application/vnd.microsoft.datawrangler.viewer.v0+json": {
       "columns": [
        {
         "name": "index",
         "rawType": "object",
         "type": "string"
        },
        {
         "name": "n_words",
         "rawType": "float64",
         "type": "float"
        }
       ],
       "ref": "711f5523-b223-48d3-a42a-c2aff5054ce4",
       "rows": [
        [
         "count",
         "2157.0"
        ],
        [
         "mean",
         "8.121464997681965"
        ],
        [
         "std",
         "5.025545880437824"
        ],
        [
         "min",
         "1.0"
        ],
        [
         "25%",
         "5.0"
        ],
        [
         "50%",
         "7.0"
        ],
        [
         "75%",
         "10.0"
        ],
        [
         "max",
         "54.0"
        ]
       ],
       "shape": {
        "columns": 1,
        "rows": 8
       }
      },
      "text/plain": [
       "count    2157.000000\n",
       "mean        8.121465\n",
       "std         5.025546\n",
       "min         1.000000\n",
       "25%         5.000000\n",
       "50%         7.000000\n",
       "75%        10.000000\n",
       "max        54.000000\n",
       "Name: n_words, dtype: float64"
      ]
     },
     "execution_count": 20,
     "metadata": {},
     "output_type": "execute_result"
    }
   ],
   "source": [
    "# word count per narrative\n",
    "df[\"n_words\"] = df[\"Time Narrative\"].fillna(\"\").str.split().str.len()\n",
    "# quick sanity stats\n",
    "df[\"n_words\"].describe()"
   ]
  },
  {
   "cell_type": "code",
   "execution_count": 21,
   "id": "4f5345e9",
   "metadata": {},
   "outputs": [
    {
     "data": {
      "text/html": [
       "<div>            <script src=\"https://cdnjs.cloudflare.com/ajax/libs/mathjax/2.7.5/MathJax.js?config=TeX-AMS-MML_SVG\"></script><script type=\"text/javascript\">if (window.MathJax && window.MathJax.Hub && window.MathJax.Hub.Config) {window.MathJax.Hub.Config({SVG: {font: \"STIX-Web\"}});}</script>                <script type=\"text/javascript\">window.PlotlyConfig = {MathJaxConfig: 'local'};</script>\n",
       "        <script charset=\"utf-8\" src=\"https://cdn.plot.ly/plotly-3.1.0.min.js\" integrity=\"sha256-Ei4740bWZhaUTQuD6q9yQlgVCMPBz6CZWhevDYPv93A=\" crossorigin=\"anonymous\"></script>                <div id=\"9fe4efdb-d8cb-4269-8c73-8e2fb30139b3\" class=\"plotly-graph-div\" style=\"height:525px; width:100%;\"></div>            <script type=\"text/javascript\">                window.PLOTLYENV=window.PLOTLYENV || {};                                if (document.getElementById(\"9fe4efdb-d8cb-4269-8c73-8e2fb30139b3\")) {                    Plotly.newPlot(                        \"9fe4efdb-d8cb-4269-8c73-8e2fb30139b3\",                        [{\"bingroup\":\"x\",\"hovertemplate\":\"n_words=%{x}\\u003cbr\\u003ecount=%{y}\\u003cextra\\u003e\\u003c\\u002fextra\\u003e\",\"legendgroup\":\"\",\"marker\":{\"color\":\"#636efa\",\"pattern\":{\"shape\":\"\"}},\"name\":\"\",\"nbinsx\":40,\"orientation\":\"v\",\"showlegend\":false,\"x\":{\"dtype\":\"i1\",\"bdata\":\"BAkIEwMTDgMFAwYLBgQDChAIFBAHCAcKCgUEAg4FBwIEBAQLBAoLAwUZBggLBQoFCAcMBgQPAgsNBQwOBAsMBxMKCQUJAwUFHAQLBwwHAwQOBg0VCwMFBAYJCwMBCwUCBQMKCgMNCgYQAgkJCRIBBg0FBwkGDgkGCQkPCgYICgQHCQwQBAgRCwoIGwYFBzYHCAkICQcDBQMOBwYEBw0FDAMHBgUGCBIJBAgDDBELDAIGBggDBAUFCQgHBhAFBw8FBggEDgQJAwcMBAYHBAUOBRIOBAwKBwcCCQMDAwcKDAYEDQsFBwQDBQQEAwIGCAwKCgoGBAwMDA0TEAcMBAMGBRETBAcKCgMJCgMFAgoEBwkCCQUJCQgJAwkKBREFDAcLBw4DCwYECgMKBwYIBQMGCQIJBgMGBAYGDgIJBwYJBgQJDAkOCAgDChMKBgcECg0DBQ4KDBAFCAoDDQcFEwgDAgwaCwIQBwgUBgIEAgkLBAcGCQcSBwoOBQgFHgQVCAQFBAILBQoGDAYKCAYICBkDBgMDBQYHDwcMCA4LCAYDDgcEAggHDAgKBAUDBgMJDQwEBwgEAwoECgkHBgYFBgMHBhEKAgcHCQUKBAkQCwUHAwUODgQMBgkJAwYDBAMIAw8FFQULDAgFCQgLCgwECAgHDQ4OAwoCCQMKBw4LFBMGCQQRBA0ECAcCBgQHDgMDAwkDBgIMBwkJAw8CCAYHDggIBAcKBgQGAwwGBQMJDAMNBgUIBwcEBQkGFQgGDwQBCgIHCAYCAwgIBwkJDgQKBAcJBhAHDQsJEAsIBQ0JBg8KBgYGCAcDCg4IBwkIAgYHCQINAwsHCgYMCgYIBwQICAUKBwUGCAMGCAQFBwYDDRgJBAMQDA4FBA8FFw0IBg0HBQwOCgYICwIGBwwOCwMLBAcGBAQTDAYFBggIAgcLEg4DAwsBCgsHBgsDBQkGBgUICAcRBAcBBgMGCAwIAhQMFAcKBgwHAgcKBw8GCQQFCQcCDQ4GCgsMEBcLBwYHEgIDBAcCAgoKCQQKBwQVEQsDBgsUBhoMBA0FEAsEBQcKBxENBwkJBwUGBQIKCQYFBg0LDgwFBQYRDBAEBAYJCQIKAwYOCwYCBQcMEAoEAgMLEggFEAMKBwgFCRQLCAsEDQsIAgsECwoKAwwSAgYCCQUFEgcPAwUICgUJBAgOBAcKAQcEAwUIAggLBwMTBQEDBQwFCAUFCQoGCQkHEAUEDw8MCgwMEQkGCwIEBgwNBAcHCyoIBwIEAwcOBgsMBwcFAhMHDgMGBAcHAwkHBwMCBgUHBwcLBAMGBw0CDgMMCw0EAwgICQcJEQUEBQoOCAYCAwoHBwUFCwULCwoOBQkLCgsJCwUFBA0DBwgGBxISEwkEBgIEBwMDBgQGDwcTDAMFBgwOBw8MBwIHBgkQCwYFCgwDBAwHCAUECAcHAg4MBQQJCAgGDAgCBAoGBwsCDAsLBQQEFAIMBQMRCQgIAwUFBAcECAQKBQoDBAUGBgINBxADGAcCCggLCAcKAxcEDQcJBAQHBgYJEAUDDxQFBwQGBwUCDwULCwUDBwgDDAgRBwQHCgoHCgsNAwUDBwgJCAYSCAULCAULAg0HAgUKCgcQBwUKCA0GCgQFFA0GAgIJBgUHCg0GEwgEBxUHCgQPAgQMCAkIBBAOAwMNBAoFCAYHBAsKBAQECgUMAg4IDQkTAwsDAwMLEAsECAYJHggEAhIRCwcJBAIEBQgDAwcKBxAMCQ4KBAgOBwkLBAgJAwsCBQIGBAgHBAgMBwgEFA4HBQkLBgMNBwoFDQwDBBMFBwkJDgQJBAUHDQsGAwYBAwcDBgsECQ8DBRkIBA0CCAgDCAgGAgQFBQcGAwsKEQgOBA4FCQgHBAUEBAsCBQUICQsJCg4KCAcJCQcLBQUIDQQHDAkIAg0JBAkMDAQGBwYDBAoIBAsGIwQFBxwMIQIKCgULAgIJAwQVDAwrBQUEAgIHCwIDHAUJBQwFAwoDBwwDCgYCDgIGCQwFDQoRBwQNBgUDCQQMBREGDAgFCRIKDAQJDgkTBRULBwMKBRUHBgkFCAQKBREIAwcFDwsIAwQGAwMHCyAHCwgHBgMHBAQKChoFCQYJBwMHBgQFCQMTDAkFCAYJAw4EEwcYBgkIBgUMAwsPBhIIBgcIAwYMBQ0DDwkLAQUJChMJBQUGDAgIAwMIBAUCCw8FBwYNCAcLCgkVEAMDAgcHBwkHCAgPDAgCAwcNCgUFCgwGBQcGCQgRCAMDBxIICAwGAgUHBQYFCgwKDQ8GAwYDBQoGBQwCCAsLBQYFDwUHAwgIAxMJAwcIBAUIAgoIAw0EAgUDBAoKBQsICQgEBQ8CAwkFAgwMBgUTCg8FBAQIBxQJDAgCDAUCCwoCAg0ECg4HAwoHCQIHAwwFCAYKBAgICQYFCwIGBwMCEhkGAwsFEAQJCgoGCAgJCAgCGQsDCQkECBgHCwUDCw0HCgMHAwcEBgUOBwIDKAUEIgYHCAMJFwYFDwQGBQMHAwkSCwUECAIHCAcCCA0MDxIGDwgXBwUEBAYDBwgHEQoKCgcFBQcFCQUIDQoJDAcGEwIHCQsKBwoDDQoGCgcECAUCBA0EBAsHGgQEBwsCBB4FBQQDCAgLBwQLCQoKAwUICQoRAwIMEAMFBAYDBwUHCQkHBwQKCgQKBwQHCAoDDA0JBA8IEAkJERkDBQgNHwwMBQkOBw0PBw8EBA0JAwYNBgMGEQcKBgIHBAUHCQYIAwkFBAchBggMAw8JBQYLCgkJFwsIDAYRAQ0DCRMBAwoMAwMEBBEEBgMCBgMPAwMDBwQDBAYOAwICBgUBAgYCBQkIAwMCBQQFBAQBCgUGBhAHAwQDBgMDBQQEEQUEBQoCAgMDBQYFBgcQBQkG\"},\"xaxis\":\"x\",\"yaxis\":\"y\",\"type\":\"histogram\"}],                        {\"template\":{\"data\":{\"barpolar\":[{\"marker\":{\"line\":{\"color\":\"white\",\"width\":0.5},\"pattern\":{\"fillmode\":\"overlay\",\"size\":10,\"solidity\":0.2}},\"type\":\"barpolar\"}],\"bar\":[{\"error_x\":{\"color\":\"rgb(36,36,36)\"},\"error_y\":{\"color\":\"rgb(36,36,36)\"},\"marker\":{\"line\":{\"color\":\"white\",\"width\":0.5},\"pattern\":{\"fillmode\":\"overlay\",\"size\":10,\"solidity\":0.2}},\"type\":\"bar\"}],\"carpet\":[{\"aaxis\":{\"endlinecolor\":\"rgb(36,36,36)\",\"gridcolor\":\"white\",\"linecolor\":\"white\",\"minorgridcolor\":\"white\",\"startlinecolor\":\"rgb(36,36,36)\"},\"baxis\":{\"endlinecolor\":\"rgb(36,36,36)\",\"gridcolor\":\"white\",\"linecolor\":\"white\",\"minorgridcolor\":\"white\",\"startlinecolor\":\"rgb(36,36,36)\"},\"type\":\"carpet\"}],\"choropleth\":[{\"colorbar\":{\"outlinewidth\":1,\"tickcolor\":\"rgb(36,36,36)\",\"ticks\":\"outside\"},\"type\":\"choropleth\"}],\"contourcarpet\":[{\"colorbar\":{\"outlinewidth\":1,\"tickcolor\":\"rgb(36,36,36)\",\"ticks\":\"outside\"},\"type\":\"contourcarpet\"}],\"contour\":[{\"colorbar\":{\"outlinewidth\":1,\"tickcolor\":\"rgb(36,36,36)\",\"ticks\":\"outside\"},\"colorscale\":[[0.0,\"#440154\"],[0.1111111111111111,\"#482878\"],[0.2222222222222222,\"#3e4989\"],[0.3333333333333333,\"#31688e\"],[0.4444444444444444,\"#26828e\"],[0.5555555555555556,\"#1f9e89\"],[0.6666666666666666,\"#35b779\"],[0.7777777777777778,\"#6ece58\"],[0.8888888888888888,\"#b5de2b\"],[1.0,\"#fde725\"]],\"type\":\"contour\"}],\"heatmap\":[{\"colorbar\":{\"outlinewidth\":1,\"tickcolor\":\"rgb(36,36,36)\",\"ticks\":\"outside\"},\"colorscale\":[[0.0,\"#440154\"],[0.1111111111111111,\"#482878\"],[0.2222222222222222,\"#3e4989\"],[0.3333333333333333,\"#31688e\"],[0.4444444444444444,\"#26828e\"],[0.5555555555555556,\"#1f9e89\"],[0.6666666666666666,\"#35b779\"],[0.7777777777777778,\"#6ece58\"],[0.8888888888888888,\"#b5de2b\"],[1.0,\"#fde725\"]],\"type\":\"heatmap\"}],\"histogram2dcontour\":[{\"colorbar\":{\"outlinewidth\":1,\"tickcolor\":\"rgb(36,36,36)\",\"ticks\":\"outside\"},\"colorscale\":[[0.0,\"#440154\"],[0.1111111111111111,\"#482878\"],[0.2222222222222222,\"#3e4989\"],[0.3333333333333333,\"#31688e\"],[0.4444444444444444,\"#26828e\"],[0.5555555555555556,\"#1f9e89\"],[0.6666666666666666,\"#35b779\"],[0.7777777777777778,\"#6ece58\"],[0.8888888888888888,\"#b5de2b\"],[1.0,\"#fde725\"]],\"type\":\"histogram2dcontour\"}],\"histogram2d\":[{\"colorbar\":{\"outlinewidth\":1,\"tickcolor\":\"rgb(36,36,36)\",\"ticks\":\"outside\"},\"colorscale\":[[0.0,\"#440154\"],[0.1111111111111111,\"#482878\"],[0.2222222222222222,\"#3e4989\"],[0.3333333333333333,\"#31688e\"],[0.4444444444444444,\"#26828e\"],[0.5555555555555556,\"#1f9e89\"],[0.6666666666666666,\"#35b779\"],[0.7777777777777778,\"#6ece58\"],[0.8888888888888888,\"#b5de2b\"],[1.0,\"#fde725\"]],\"type\":\"histogram2d\"}],\"histogram\":[{\"marker\":{\"line\":{\"color\":\"white\",\"width\":0.6}},\"type\":\"histogram\"}],\"mesh3d\":[{\"colorbar\":{\"outlinewidth\":1,\"tickcolor\":\"rgb(36,36,36)\",\"ticks\":\"outside\"},\"type\":\"mesh3d\"}],\"parcoords\":[{\"line\":{\"colorbar\":{\"outlinewidth\":1,\"tickcolor\":\"rgb(36,36,36)\",\"ticks\":\"outside\"}},\"type\":\"parcoords\"}],\"pie\":[{\"automargin\":true,\"type\":\"pie\"}],\"scatter3d\":[{\"line\":{\"colorbar\":{\"outlinewidth\":1,\"tickcolor\":\"rgb(36,36,36)\",\"ticks\":\"outside\"}},\"marker\":{\"colorbar\":{\"outlinewidth\":1,\"tickcolor\":\"rgb(36,36,36)\",\"ticks\":\"outside\"}},\"type\":\"scatter3d\"}],\"scattercarpet\":[{\"marker\":{\"colorbar\":{\"outlinewidth\":1,\"tickcolor\":\"rgb(36,36,36)\",\"ticks\":\"outside\"}},\"type\":\"scattercarpet\"}],\"scattergeo\":[{\"marker\":{\"colorbar\":{\"outlinewidth\":1,\"tickcolor\":\"rgb(36,36,36)\",\"ticks\":\"outside\"}},\"type\":\"scattergeo\"}],\"scattergl\":[{\"marker\":{\"colorbar\":{\"outlinewidth\":1,\"tickcolor\":\"rgb(36,36,36)\",\"ticks\":\"outside\"}},\"type\":\"scattergl\"}],\"scattermapbox\":[{\"marker\":{\"colorbar\":{\"outlinewidth\":1,\"tickcolor\":\"rgb(36,36,36)\",\"ticks\":\"outside\"}},\"type\":\"scattermapbox\"}],\"scattermap\":[{\"marker\":{\"colorbar\":{\"outlinewidth\":1,\"tickcolor\":\"rgb(36,36,36)\",\"ticks\":\"outside\"}},\"type\":\"scattermap\"}],\"scatterpolargl\":[{\"marker\":{\"colorbar\":{\"outlinewidth\":1,\"tickcolor\":\"rgb(36,36,36)\",\"ticks\":\"outside\"}},\"type\":\"scatterpolargl\"}],\"scatterpolar\":[{\"marker\":{\"colorbar\":{\"outlinewidth\":1,\"tickcolor\":\"rgb(36,36,36)\",\"ticks\":\"outside\"}},\"type\":\"scatterpolar\"}],\"scatter\":[{\"fillpattern\":{\"fillmode\":\"overlay\",\"size\":10,\"solidity\":0.2},\"type\":\"scatter\"}],\"scatterternary\":[{\"marker\":{\"colorbar\":{\"outlinewidth\":1,\"tickcolor\":\"rgb(36,36,36)\",\"ticks\":\"outside\"}},\"type\":\"scatterternary\"}],\"surface\":[{\"colorbar\":{\"outlinewidth\":1,\"tickcolor\":\"rgb(36,36,36)\",\"ticks\":\"outside\"},\"colorscale\":[[0.0,\"#440154\"],[0.1111111111111111,\"#482878\"],[0.2222222222222222,\"#3e4989\"],[0.3333333333333333,\"#31688e\"],[0.4444444444444444,\"#26828e\"],[0.5555555555555556,\"#1f9e89\"],[0.6666666666666666,\"#35b779\"],[0.7777777777777778,\"#6ece58\"],[0.8888888888888888,\"#b5de2b\"],[1.0,\"#fde725\"]],\"type\":\"surface\"}],\"table\":[{\"cells\":{\"fill\":{\"color\":\"rgb(237,237,237)\"},\"line\":{\"color\":\"white\"}},\"header\":{\"fill\":{\"color\":\"rgb(217,217,217)\"},\"line\":{\"color\":\"white\"}},\"type\":\"table\"}]},\"layout\":{\"annotationdefaults\":{\"arrowhead\":0,\"arrowwidth\":1},\"autotypenumbers\":\"strict\",\"coloraxis\":{\"colorbar\":{\"outlinewidth\":1,\"tickcolor\":\"rgb(36,36,36)\",\"ticks\":\"outside\"}},\"colorscale\":{\"diverging\":[[0.0,\"rgb(103,0,31)\"],[0.1,\"rgb(178,24,43)\"],[0.2,\"rgb(214,96,77)\"],[0.3,\"rgb(244,165,130)\"],[0.4,\"rgb(253,219,199)\"],[0.5,\"rgb(247,247,247)\"],[0.6,\"rgb(209,229,240)\"],[0.7,\"rgb(146,197,222)\"],[0.8,\"rgb(67,147,195)\"],[0.9,\"rgb(33,102,172)\"],[1.0,\"rgb(5,48,97)\"]],\"sequential\":[[0.0,\"#440154\"],[0.1111111111111111,\"#482878\"],[0.2222222222222222,\"#3e4989\"],[0.3333333333333333,\"#31688e\"],[0.4444444444444444,\"#26828e\"],[0.5555555555555556,\"#1f9e89\"],[0.6666666666666666,\"#35b779\"],[0.7777777777777778,\"#6ece58\"],[0.8888888888888888,\"#b5de2b\"],[1.0,\"#fde725\"]],\"sequentialminus\":[[0.0,\"#440154\"],[0.1111111111111111,\"#482878\"],[0.2222222222222222,\"#3e4989\"],[0.3333333333333333,\"#31688e\"],[0.4444444444444444,\"#26828e\"],[0.5555555555555556,\"#1f9e89\"],[0.6666666666666666,\"#35b779\"],[0.7777777777777778,\"#6ece58\"],[0.8888888888888888,\"#b5de2b\"],[1.0,\"#fde725\"]]},\"colorway\":[\"#1F77B4\",\"#FF7F0E\",\"#2CA02C\",\"#D62728\",\"#9467BD\",\"#8C564B\",\"#E377C2\",\"#7F7F7F\",\"#BCBD22\",\"#17BECF\"],\"font\":{\"color\":\"rgb(36,36,36)\"},\"geo\":{\"bgcolor\":\"white\",\"lakecolor\":\"white\",\"landcolor\":\"white\",\"showlakes\":true,\"showland\":true,\"subunitcolor\":\"white\"},\"hoverlabel\":{\"align\":\"left\"},\"hovermode\":\"closest\",\"mapbox\":{\"style\":\"light\"},\"paper_bgcolor\":\"white\",\"plot_bgcolor\":\"white\",\"polar\":{\"angularaxis\":{\"gridcolor\":\"rgb(232,232,232)\",\"linecolor\":\"rgb(36,36,36)\",\"showgrid\":false,\"showline\":true,\"ticks\":\"outside\"},\"bgcolor\":\"white\",\"radialaxis\":{\"gridcolor\":\"rgb(232,232,232)\",\"linecolor\":\"rgb(36,36,36)\",\"showgrid\":false,\"showline\":true,\"ticks\":\"outside\"}},\"scene\":{\"xaxis\":{\"backgroundcolor\":\"white\",\"gridcolor\":\"rgb(232,232,232)\",\"gridwidth\":2,\"linecolor\":\"rgb(36,36,36)\",\"showbackground\":true,\"showgrid\":false,\"showline\":true,\"ticks\":\"outside\",\"zeroline\":false,\"zerolinecolor\":\"rgb(36,36,36)\"},\"yaxis\":{\"backgroundcolor\":\"white\",\"gridcolor\":\"rgb(232,232,232)\",\"gridwidth\":2,\"linecolor\":\"rgb(36,36,36)\",\"showbackground\":true,\"showgrid\":false,\"showline\":true,\"ticks\":\"outside\",\"zeroline\":false,\"zerolinecolor\":\"rgb(36,36,36)\"},\"zaxis\":{\"backgroundcolor\":\"white\",\"gridcolor\":\"rgb(232,232,232)\",\"gridwidth\":2,\"linecolor\":\"rgb(36,36,36)\",\"showbackground\":true,\"showgrid\":false,\"showline\":true,\"ticks\":\"outside\",\"zeroline\":false,\"zerolinecolor\":\"rgb(36,36,36)\"}},\"shapedefaults\":{\"fillcolor\":\"black\",\"line\":{\"width\":0},\"opacity\":0.3},\"ternary\":{\"aaxis\":{\"gridcolor\":\"rgb(232,232,232)\",\"linecolor\":\"rgb(36,36,36)\",\"showgrid\":false,\"showline\":true,\"ticks\":\"outside\"},\"baxis\":{\"gridcolor\":\"rgb(232,232,232)\",\"linecolor\":\"rgb(36,36,36)\",\"showgrid\":false,\"showline\":true,\"ticks\":\"outside\"},\"bgcolor\":\"white\",\"caxis\":{\"gridcolor\":\"rgb(232,232,232)\",\"linecolor\":\"rgb(36,36,36)\",\"showgrid\":false,\"showline\":true,\"ticks\":\"outside\"}},\"title\":{\"x\":0.05},\"xaxis\":{\"automargin\":true,\"gridcolor\":\"rgb(232,232,232)\",\"linecolor\":\"rgb(36,36,36)\",\"showgrid\":false,\"showline\":true,\"ticks\":\"outside\",\"title\":{\"standoff\":15},\"zeroline\":false,\"zerolinecolor\":\"rgb(36,36,36)\"},\"yaxis\":{\"automargin\":true,\"gridcolor\":\"rgb(232,232,232)\",\"linecolor\":\"rgb(36,36,36)\",\"showgrid\":false,\"showline\":true,\"ticks\":\"outside\",\"title\":{\"standoff\":15},\"zeroline\":false,\"zerolinecolor\":\"rgb(36,36,36)\"}}},\"xaxis\":{\"anchor\":\"y\",\"domain\":[0.0,1.0],\"title\":{\"text\":\"Words per entry\"}},\"yaxis\":{\"anchor\":\"x\",\"domain\":[0.0,1.0],\"title\":{\"text\":\"Rows\"}},\"legend\":{\"tracegroupgap\":0},\"title\":{\"text\":\"Time Narrative length (word count)\"},\"barmode\":\"relative\",\"margin\":{\"t\":60,\"r\":30,\"l\":60,\"b\":60}},                        {\"responsive\": true}                    ).then(function(){\n",
       "                            \n",
       "var gd = document.getElementById('9fe4efdb-d8cb-4269-8c73-8e2fb30139b3');\n",
       "var x = new MutationObserver(function (mutations, observer) {{\n",
       "        var display = window.getComputedStyle(gd).display;\n",
       "        if (!display || display === 'none') {{\n",
       "            console.log([gd, 'removed!']);\n",
       "            Plotly.purge(gd);\n",
       "            observer.disconnect();\n",
       "        }}\n",
       "}});\n",
       "\n",
       "// Listen for the removal of the full notebook cells\n",
       "var notebookContainer = gd.closest('#notebook-container');\n",
       "if (notebookContainer) {{\n",
       "    x.observe(notebookContainer, {childList: true});\n",
       "}}\n",
       "\n",
       "// Listen for the clearing of the current output cell\n",
       "var outputEl = gd.closest('.output');\n",
       "if (outputEl) {{\n",
       "    x.observe(outputEl, {childList: true});\n",
       "}}\n",
       "\n",
       "                        })                };            </script>        </div>"
      ]
     },
     "metadata": {},
     "output_type": "display_data"
    }
   ],
   "source": [
    "fig = px.histogram(\n",
    "    df, x=\"n_words\", nbins=40,\n",
    "    title=\"Time Narrative length (word count)\",\n",
    ")\n",
    "fig.update_layout(\n",
    "    template=\"simple_white\",\n",
    "    xaxis_title=\"Words per entry\",\n",
    "    yaxis_title=\"Rows\",\n",
    "    margin=dict(t=60, r=30, l=60, b=60),\n",
    ")\n",
    "fig.show()"
   ]
  },
  {
   "cell_type": "markdown",
   "id": "8ccc36d4",
   "metadata": {},
   "source": [
    "What we learned\n",
    "Narratives are short. Median ≈ 7 words (25% = 5, 75% = 10), long tail up to 54.\n",
    "\n",
    "Implication: Most entries are brief phrases, not paragraphs. The model won’t get long context from text alone.\n",
    "\n",
    "Why we did this (value)\n",
    "Feature strategy: Short texts → TF-IDF with n-grams (1–2 or 1–3) will work well. We don’t need heavy transformers for a POC.\n",
    "\n",
    "Cleaning decisions: We can keep punctuation/lemmatisation simple; focus on domain tokens and abbreviations (LOE, RA, TOBs, O/S).\n",
    "\n",
    "Model design: Because text is short, non-text features (Grade, Charged?, Worked Time) will add real signal—so we’ll include them in the model.\n",
    "\n",
    "Quality flags: Very short entries (e.g., ≤2–3 words) are low-info; we can tag them so:\n",
    "\n",
    "the classifier leans more on non-text features, and\n",
    "\n",
    "the app shows lower confidence for these cases.\n",
    "\n",
    "Robustness: A few very long entries (20–50+ words) are outliers. We can clip at a safe cap (e.g., 40 words) without losing meaningful info."
   ]
  },
  {
   "cell_type": "markdown",
   "id": "1cf3618e",
   "metadata": {},
   "source": [
    "# One tiny next step — mark “low-info” narratives"
   ]
  },
  {
   "cell_type": "markdown",
   "id": "90499de7",
   "metadata": {},
   "source": [
    "Why this helps:\n",
    "\n",
    "We’ll treat these rows cautiously in training and in the app (e.g., display a confidence warning).\n",
    "\n",
    "It justifies combining text with Grade / Charged? / Worked Time features."
   ]
  },
  {
   "cell_type": "code",
   "execution_count": 22,
   "id": "196a8869",
   "metadata": {},
   "outputs": [
    {
     "name": "stdout",
     "output_type": "stream",
     "text": [
      "Low-info narratives (≤3 words): 14.9%\n"
     ]
    }
   ],
   "source": [
    "# Flag low-information narratives (≤ 3 words) so we know where text is weak\n",
    "df[\"low_info\"] = (df[\"n_words\"] <= 3).astype(int)\n",
    "\n",
    "# Quick view: how common are they?\n",
    "low_info_share = (df[\"low_info\"].mean() * 100).round(1)\n",
    "print(f\"Low-info narratives (≤3 words): {low_info_share}%\")"
   ]
  },
  {
   "cell_type": "code",
   "execution_count": 23,
   "id": "14f3a79c",
   "metadata": {},
   "outputs": [
    {
     "data": {
      "application/vnd.microsoft.datawrangler.viewer.v0+json": {
       "columns": [
        {
         "name": "low_info",
         "rawType": "int64",
         "type": "integer"
        },
        {
         "name": "labelled_%",
         "rawType": "float64",
         "type": "float"
        }
       ],
       "ref": "5d5e7f11-4eb0-44b3-9fc0-261bb1868622",
       "rows": [
        [
         "0",
         "26.4"
        ],
        [
         "1",
         "23.9"
        ]
       ],
       "shape": {
        "columns": 1,
        "rows": 2
       }
      },
      "text/plain": [
       "low_info\n",
       "0    26.4\n",
       "1    23.9\n",
       "Name: labelled_%, dtype: float64"
      ]
     },
     "execution_count": 23,
     "metadata": {},
     "output_type": "execute_result"
    }
   ],
   "source": [
    "# Optional: see if low-info rows are less likely to be labelled (useful hint for modelling difficulty)\n",
    "lab_rate = (\n",
    "    df.assign(labelled=df[\"Category\"].notna())\n",
    "      .groupby(\"low_info\")[\"labelled\"].mean()\n",
    "      .mul(100).round(1)\n",
    "      .rename(\"labelled_%\")\n",
    ")\n",
    "lab_rate"
   ]
  },
  {
   "cell_type": "markdown",
   "id": "1628aadf",
   "metadata": {},
   "source": [
    "What this “low-info narratives” step tells us (and why it matters)\n",
    "What we found: ~14.9% of narratives have ≤3 words. Those rows are harder to label (23.9% labelled) than normal rows (26.4% labelled).\n",
    "\n",
    "Why we did it: very short text has weak signal. Knowing its share up front shapes our feature strategy, evaluation, and app UX.\n",
    "\n",
    "Immediate, practical uses\n",
    "Feature strategy: keep a binary feature low_info in the model. Use TF-IDF with n-grams (1–2/1–3) so short phrases like “court hearing” still have power.\n",
    "\n",
    "Use non-text features more: for low-info rows, Grade / Charged? / Worked Time will carry extra signal—good to include them.\n",
    "\n",
    "Evaluation: report metrics by low_info segment (so we know where the model struggles), and prefer macro F1 over plain accuracy.\n",
    "\n",
    "App UX: if low_info==1 (or prob < threshold), show a “low confidence” hint to the user.\n",
    "\n",
    "Production monitoring: track % low_info as a data-quality KPI. If it spikes (say > +5 ppt from baseline 15%), alert & consider re-training."
   ]
  },
  {
   "cell_type": "markdown",
   "id": "449aa6d1",
   "metadata": {},
   "source": [
    "# Next tiny step — Worked Time vs Charged? (one cell)\n"
   ]
  },
  {
   "cell_type": "code",
   "execution_count": 25,
   "id": "e5cccafe",
   "metadata": {},
   "outputs": [
    {
     "data": {
      "text/html": [
       "<div>            <script src=\"https://cdnjs.cloudflare.com/ajax/libs/mathjax/2.7.5/MathJax.js?config=TeX-AMS-MML_SVG\"></script><script type=\"text/javascript\">if (window.MathJax && window.MathJax.Hub && window.MathJax.Hub.Config) {window.MathJax.Hub.Config({SVG: {font: \"STIX-Web\"}});}</script>                <script type=\"text/javascript\">window.PlotlyConfig = {MathJaxConfig: 'local'};</script>\n",
       "        <script charset=\"utf-8\" src=\"https://cdn.plot.ly/plotly-3.1.0.min.js\" integrity=\"sha256-Ei4740bWZhaUTQuD6q9yQlgVCMPBz6CZWhevDYPv93A=\" crossorigin=\"anonymous\"></script>                <div id=\"ce7e70a8-ccd9-4d85-81f1-caad9675c11d\" class=\"plotly-graph-div\" style=\"height:525px; width:100%;\"></div>            <script type=\"text/javascript\">                window.PLOTLYENV=window.PLOTLYENV || {};                                if (document.getElementById(\"ce7e70a8-ccd9-4d85-81f1-caad9675c11d\")) {                    Plotly.newPlot(                        \"ce7e70a8-ccd9-4d85-81f1-caad9675c11d\",                        [{\"alignmentgroup\":\"True\",\"boxpoints\":\"suspectedoutliers\",\"hovertemplate\":\"charged=%{x}\\u003cbr\\u003eWorked Time=%{y}\\u003cextra\\u003e\\u003c\\u002fextra\\u003e\",\"legendgroup\":\"Yes\",\"marker\":{\"color\":\"#636efa\"},\"name\":\"Yes\",\"notched\":false,\"offsetgroup\":\"Yes\",\"orientation\":\"v\",\"showlegend\":true,\"x\":[\"Yes\",\"Yes\",\"Yes\",\"Yes\",\"Yes\",\"Yes\",\"Yes\",\"Yes\",\"Yes\",\"Yes\",\"Yes\",\"Yes\",\"Yes\",\"Yes\",\"Yes\",\"Yes\",\"Yes\",\"Yes\",\"Yes\",\"Yes\",\"Yes\",\"Yes\",\"Yes\",\"Yes\",\"Yes\",\"Yes\",\"Yes\",\"Yes\",\"Yes\",\"Yes\",\"Yes\",\"Yes\",\"Yes\",\"Yes\",\"Yes\",\"Yes\",\"Yes\",\"Yes\",\"Yes\",\"Yes\",\"Yes\",\"Yes\",\"Yes\",\"Yes\",\"Yes\",\"Yes\",\"Yes\",\"Yes\",\"Yes\",\"Yes\",\"Yes\",\"Yes\",\"Yes\",\"Yes\",\"Yes\",\"Yes\",\"Yes\",\"Yes\",\"Yes\",\"Yes\",\"Yes\",\"Yes\",\"Yes\",\"Yes\",\"Yes\",\"Yes\",\"Yes\",\"Yes\",\"Yes\",\"Yes\",\"Yes\",\"Yes\",\"Yes\",\"Yes\",\"Yes\",\"Yes\",\"Yes\",\"Yes\",\"Yes\",\"Yes\",\"Yes\",\"Yes\",\"Yes\",\"Yes\",\"Yes\",\"Yes\",\"Yes\",\"Yes\",\"Yes\",\"Yes\",\"Yes\",\"Yes\",\"Yes\",\"Yes\",\"Yes\",\"Yes\",\"Yes\",\"Yes\",\"Yes\",\"Yes\",\"Yes\",\"Yes\",\"Yes\",\"Yes\",\"Yes\",\"Yes\",\"Yes\",\"Yes\",\"Yes\",\"Yes\",\"Yes\",\"Yes\",\"Yes\",\"Yes\",\"Yes\",\"Yes\",\"Yes\",\"Yes\",\"Yes\",\"Yes\",\"Yes\",\"Yes\",\"Yes\",\"Yes\",\"Yes\",\"Yes\",\"Yes\",\"Yes\",\"Yes\",\"Yes\",\"Yes\",\"Yes\",\"Yes\",\"Yes\",\"Yes\",\"Yes\",\"Yes\",\"Yes\",\"Yes\",\"Yes\",\"Yes\",\"Yes\",\"Yes\",\"Yes\",\"Yes\",\"Yes\",\"Yes\",\"Yes\",\"Yes\",\"Yes\",\"Yes\",\"Yes\",\"Yes\",\"Yes\",\"Yes\",\"Yes\",\"Yes\",\"Yes\",\"Yes\",\"Yes\",\"Yes\",\"Yes\",\"Yes\",\"Yes\",\"Yes\",\"Yes\",\"Yes\",\"Yes\",\"Yes\",\"Yes\",\"Yes\",\"Yes\",\"Yes\",\"Yes\",\"Yes\",\"Yes\",\"Yes\",\"Yes\",\"Yes\",\"Yes\",\"Yes\",\"Yes\",\"Yes\",\"Yes\",\"Yes\",\"Yes\",\"Yes\",\"Yes\",\"Yes\",\"Yes\",\"Yes\",\"Yes\",\"Yes\",\"Yes\",\"Yes\",\"Yes\",\"Yes\",\"Yes\",\"Yes\",\"Yes\",\"Yes\",\"Yes\",\"Yes\",\"Yes\",\"Yes\",\"Yes\",\"Yes\",\"Yes\",\"Yes\",\"Yes\",\"Yes\",\"Yes\",\"Yes\",\"Yes\",\"Yes\",\"Yes\",\"Yes\",\"Yes\",\"Yes\",\"Yes\",\"Yes\",\"Yes\",\"Yes\",\"Yes\",\"Yes\",\"Yes\",\"Yes\",\"Yes\",\"Yes\",\"Yes\",\"Yes\",\"Yes\",\"Yes\",\"Yes\",\"Yes\",\"Yes\",\"Yes\",\"Yes\",\"Yes\",\"Yes\",\"Yes\",\"Yes\",\"Yes\",\"Yes\",\"Yes\",\"Yes\",\"Yes\",\"Yes\",\"Yes\",\"Yes\",\"Yes\",\"Yes\",\"Yes\",\"Yes\",\"Yes\",\"Yes\",\"Yes\",\"Yes\",\"Yes\",\"Yes\",\"Yes\",\"Yes\",\"Yes\",\"Yes\",\"Yes\",\"Yes\",\"Yes\",\"Yes\",\"Yes\",\"Yes\",\"Yes\",\"Yes\",\"Yes\",\"Yes\",\"Yes\",\"Yes\",\"Yes\",\"Yes\",\"Yes\",\"Yes\",\"Yes\",\"Yes\",\"Yes\",\"Yes\",\"Yes\",\"Yes\",\"Yes\",\"Yes\",\"Yes\",\"Yes\",\"Yes\",\"Yes\",\"Yes\",\"Yes\",\"Yes\",\"Yes\",\"Yes\",\"Yes\",\"Yes\",\"Yes\",\"Yes\",\"Yes\",\"Yes\",\"Yes\",\"Yes\",\"Yes\",\"Yes\",\"Yes\",\"Yes\",\"Yes\",\"Yes\",\"Yes\",\"Yes\",\"Yes\",\"Yes\",\"Yes\",\"Yes\",\"Yes\",\"Yes\",\"Yes\",\"Yes\",\"Yes\",\"Yes\",\"Yes\",\"Yes\",\"Yes\",\"Yes\",\"Yes\",\"Yes\",\"Yes\",\"Yes\",\"Yes\",\"Yes\",\"Yes\",\"Yes\",\"Yes\",\"Yes\",\"Yes\",\"Yes\",\"Yes\",\"Yes\",\"Yes\",\"Yes\",\"Yes\",\"Yes\",\"Yes\",\"Yes\",\"Yes\",\"Yes\",\"Yes\",\"Yes\",\"Yes\",\"Yes\",\"Yes\",\"Yes\",\"Yes\",\"Yes\",\"Yes\",\"Yes\",\"Yes\",\"Yes\",\"Yes\",\"Yes\",\"Yes\",\"Yes\",\"Yes\",\"Yes\",\"Yes\",\"Yes\",\"Yes\",\"Yes\",\"Yes\",\"Yes\",\"Yes\",\"Yes\",\"Yes\",\"Yes\",\"Yes\",\"Yes\",\"Yes\",\"Yes\",\"Yes\",\"Yes\",\"Yes\",\"Yes\",\"Yes\",\"Yes\",\"Yes\",\"Yes\",\"Yes\",\"Yes\",\"Yes\",\"Yes\",\"Yes\",\"Yes\",\"Yes\",\"Yes\",\"Yes\",\"Yes\",\"Yes\",\"Yes\",\"Yes\",\"Yes\",\"Yes\",\"Yes\",\"Yes\",\"Yes\",\"Yes\",\"Yes\",\"Yes\",\"Yes\",\"Yes\",\"Yes\",\"Yes\",\"Yes\",\"Yes\",\"Yes\",\"Yes\",\"Yes\",\"Yes\",\"Yes\",\"Yes\",\"Yes\",\"Yes\",\"Yes\",\"Yes\",\"Yes\",\"Yes\",\"Yes\",\"Yes\",\"Yes\",\"Yes\",\"Yes\",\"Yes\",\"Yes\",\"Yes\",\"Yes\",\"Yes\",\"Yes\",\"Yes\",\"Yes\",\"Yes\",\"Yes\",\"Yes\",\"Yes\",\"Yes\",\"Yes\",\"Yes\",\"Yes\",\"Yes\",\"Yes\",\"Yes\",\"Yes\",\"Yes\",\"Yes\",\"Yes\",\"Yes\",\"Yes\",\"Yes\",\"Yes\",\"Yes\",\"Yes\",\"Yes\",\"Yes\",\"Yes\",\"Yes\",\"Yes\",\"Yes\",\"Yes\",\"Yes\",\"Yes\",\"Yes\",\"Yes\",\"Yes\",\"Yes\",\"Yes\",\"Yes\",\"Yes\",\"Yes\",\"Yes\",\"Yes\",\"Yes\",\"Yes\",\"Yes\",\"Yes\",\"Yes\",\"Yes\",\"Yes\",\"Yes\",\"Yes\",\"Yes\",\"Yes\",\"Yes\",\"Yes\",\"Yes\",\"Yes\",\"Yes\",\"Yes\",\"Yes\",\"Yes\",\"Yes\",\"Yes\",\"Yes\",\"Yes\",\"Yes\",\"Yes\",\"Yes\",\"Yes\",\"Yes\",\"Yes\",\"Yes\",\"Yes\",\"Yes\",\"Yes\",\"Yes\",\"Yes\",\"Yes\",\"Yes\",\"Yes\",\"Yes\",\"Yes\",\"Yes\",\"Yes\",\"Yes\",\"Yes\",\"Yes\",\"Yes\",\"Yes\",\"Yes\",\"Yes\",\"Yes\",\"Yes\",\"Yes\",\"Yes\",\"Yes\",\"Yes\",\"Yes\",\"Yes\",\"Yes\",\"Yes\",\"Yes\",\"Yes\",\"Yes\",\"Yes\",\"Yes\",\"Yes\",\"Yes\",\"Yes\",\"Yes\",\"Yes\",\"Yes\",\"Yes\",\"Yes\",\"Yes\",\"Yes\",\"Yes\",\"Yes\",\"Yes\",\"Yes\",\"Yes\",\"Yes\",\"Yes\",\"Yes\",\"Yes\",\"Yes\",\"Yes\",\"Yes\",\"Yes\",\"Yes\",\"Yes\",\"Yes\",\"Yes\",\"Yes\",\"Yes\",\"Yes\",\"Yes\",\"Yes\",\"Yes\",\"Yes\",\"Yes\",\"Yes\",\"Yes\",\"Yes\",\"Yes\",\"Yes\",\"Yes\",\"Yes\",\"Yes\",\"Yes\",\"Yes\",\"Yes\",\"Yes\",\"Yes\",\"Yes\",\"Yes\",\"Yes\",\"Yes\",\"Yes\",\"Yes\",\"Yes\",\"Yes\",\"Yes\",\"Yes\",\"Yes\",\"Yes\",\"Yes\",\"Yes\",\"Yes\",\"Yes\",\"Yes\",\"Yes\",\"Yes\",\"Yes\",\"Yes\",\"Yes\",\"Yes\",\"Yes\",\"Yes\",\"Yes\",\"Yes\",\"Yes\",\"Yes\",\"Yes\",\"Yes\",\"Yes\",\"Yes\",\"Yes\",\"Yes\",\"Yes\",\"Yes\",\"Yes\",\"Yes\",\"Yes\",\"Yes\",\"Yes\",\"Yes\",\"Yes\",\"Yes\",\"Yes\",\"Yes\",\"Yes\",\"Yes\",\"Yes\",\"Yes\",\"Yes\",\"Yes\",\"Yes\",\"Yes\",\"Yes\",\"Yes\",\"Yes\",\"Yes\",\"Yes\",\"Yes\",\"Yes\",\"Yes\",\"Yes\",\"Yes\",\"Yes\",\"Yes\",\"Yes\",\"Yes\",\"Yes\",\"Yes\",\"Yes\",\"Yes\",\"Yes\",\"Yes\",\"Yes\",\"Yes\",\"Yes\",\"Yes\",\"Yes\",\"Yes\",\"Yes\",\"Yes\",\"Yes\",\"Yes\",\"Yes\",\"Yes\",\"Yes\",\"Yes\",\"Yes\",\"Yes\",\"Yes\",\"Yes\",\"Yes\",\"Yes\",\"Yes\",\"Yes\",\"Yes\",\"Yes\",\"Yes\",\"Yes\",\"Yes\",\"Yes\",\"Yes\",\"Yes\",\"Yes\",\"Yes\",\"Yes\",\"Yes\",\"Yes\",\"Yes\",\"Yes\",\"Yes\",\"Yes\",\"Yes\",\"Yes\",\"Yes\",\"Yes\",\"Yes\",\"Yes\",\"Yes\",\"Yes\",\"Yes\",\"Yes\",\"Yes\",\"Yes\",\"Yes\",\"Yes\",\"Yes\",\"Yes\",\"Yes\",\"Yes\",\"Yes\",\"Yes\",\"Yes\",\"Yes\",\"Yes\",\"Yes\",\"Yes\",\"Yes\",\"Yes\",\"Yes\",\"Yes\",\"Yes\",\"Yes\",\"Yes\",\"Yes\",\"Yes\",\"Yes\",\"Yes\",\"Yes\",\"Yes\",\"Yes\",\"Yes\",\"Yes\",\"Yes\",\"Yes\",\"Yes\",\"Yes\",\"Yes\",\"Yes\",\"Yes\",\"Yes\",\"Yes\",\"Yes\",\"Yes\",\"Yes\",\"Yes\",\"Yes\",\"Yes\",\"Yes\",\"Yes\",\"Yes\",\"Yes\",\"Yes\",\"Yes\",\"Yes\",\"Yes\",\"Yes\",\"Yes\",\"Yes\",\"Yes\",\"Yes\",\"Yes\",\"Yes\",\"Yes\",\"Yes\",\"Yes\",\"Yes\",\"Yes\",\"Yes\",\"Yes\",\"Yes\",\"Yes\",\"Yes\",\"Yes\",\"Yes\",\"Yes\",\"Yes\",\"Yes\",\"Yes\",\"Yes\",\"Yes\",\"Yes\",\"Yes\",\"Yes\",\"Yes\",\"Yes\",\"Yes\",\"Yes\",\"Yes\",\"Yes\",\"Yes\",\"Yes\",\"Yes\",\"Yes\",\"Yes\",\"Yes\",\"Yes\",\"Yes\",\"Yes\",\"Yes\",\"Yes\",\"Yes\",\"Yes\",\"Yes\",\"Yes\",\"Yes\",\"Yes\",\"Yes\",\"Yes\",\"Yes\",\"Yes\",\"Yes\",\"Yes\",\"Yes\",\"Yes\",\"Yes\",\"Yes\",\"Yes\",\"Yes\",\"Yes\",\"Yes\",\"Yes\",\"Yes\",\"Yes\",\"Yes\",\"Yes\",\"Yes\",\"Yes\",\"Yes\",\"Yes\",\"Yes\",\"Yes\",\"Yes\",\"Yes\",\"Yes\",\"Yes\",\"Yes\",\"Yes\",\"Yes\",\"Yes\",\"Yes\",\"Yes\",\"Yes\",\"Yes\",\"Yes\",\"Yes\",\"Yes\",\"Yes\",\"Yes\",\"Yes\",\"Yes\",\"Yes\",\"Yes\",\"Yes\",\"Yes\",\"Yes\",\"Yes\",\"Yes\",\"Yes\",\"Yes\",\"Yes\",\"Yes\",\"Yes\",\"Yes\",\"Yes\",\"Yes\",\"Yes\",\"Yes\",\"Yes\",\"Yes\",\"Yes\",\"Yes\",\"Yes\",\"Yes\",\"Yes\",\"Yes\",\"Yes\",\"Yes\",\"Yes\",\"Yes\",\"Yes\",\"Yes\",\"Yes\",\"Yes\",\"Yes\",\"Yes\",\"Yes\",\"Yes\",\"Yes\",\"Yes\",\"Yes\",\"Yes\",\"Yes\",\"Yes\",\"Yes\",\"Yes\",\"Yes\",\"Yes\",\"Yes\",\"Yes\",\"Yes\",\"Yes\",\"Yes\",\"Yes\",\"Yes\",\"Yes\",\"Yes\",\"Yes\",\"Yes\",\"Yes\",\"Yes\",\"Yes\",\"Yes\",\"Yes\",\"Yes\",\"Yes\",\"Yes\",\"Yes\",\"Yes\",\"Yes\",\"Yes\",\"Yes\",\"Yes\",\"Yes\",\"Yes\",\"Yes\",\"Yes\",\"Yes\",\"Yes\",\"Yes\",\"Yes\",\"Yes\",\"Yes\",\"Yes\",\"Yes\",\"Yes\",\"Yes\",\"Yes\",\"Yes\",\"Yes\",\"Yes\",\"Yes\",\"Yes\",\"Yes\",\"Yes\",\"Yes\",\"Yes\",\"Yes\",\"Yes\",\"Yes\",\"Yes\",\"Yes\",\"Yes\",\"Yes\",\"Yes\",\"Yes\",\"Yes\",\"Yes\",\"Yes\",\"Yes\",\"Yes\",\"Yes\",\"Yes\",\"Yes\",\"Yes\",\"Yes\",\"Yes\",\"Yes\",\"Yes\",\"Yes\",\"Yes\",\"Yes\",\"Yes\",\"Yes\",\"Yes\",\"Yes\",\"Yes\",\"Yes\",\"Yes\",\"Yes\",\"Yes\",\"Yes\",\"Yes\",\"Yes\",\"Yes\",\"Yes\",\"Yes\",\"Yes\",\"Yes\",\"Yes\",\"Yes\",\"Yes\",\"Yes\",\"Yes\",\"Yes\",\"Yes\",\"Yes\",\"Yes\",\"Yes\",\"Yes\",\"Yes\",\"Yes\",\"Yes\",\"Yes\",\"Yes\",\"Yes\",\"Yes\",\"Yes\",\"Yes\",\"Yes\",\"Yes\",\"Yes\",\"Yes\",\"Yes\",\"Yes\",\"Yes\",\"Yes\",\"Yes\",\"Yes\",\"Yes\",\"Yes\",\"Yes\",\"Yes\",\"Yes\",\"Yes\",\"Yes\",\"Yes\",\"Yes\",\"Yes\",\"Yes\",\"Yes\",\"Yes\",\"Yes\",\"Yes\",\"Yes\",\"Yes\",\"Yes\",\"Yes\",\"Yes\",\"Yes\",\"Yes\",\"Yes\",\"Yes\",\"Yes\",\"Yes\",\"Yes\",\"Yes\",\"Yes\",\"Yes\",\"Yes\",\"Yes\",\"Yes\",\"Yes\",\"Yes\",\"Yes\",\"Yes\",\"Yes\",\"Yes\",\"Yes\",\"Yes\",\"Yes\",\"Yes\",\"Yes\",\"Yes\",\"Yes\",\"Yes\",\"Yes\",\"Yes\",\"Yes\",\"Yes\",\"Yes\",\"Yes\",\"Yes\",\"Yes\",\"Yes\",\"Yes\",\"Yes\",\"Yes\",\"Yes\",\"Yes\",\"Yes\",\"Yes\",\"Yes\",\"Yes\",\"Yes\",\"Yes\",\"Yes\",\"Yes\",\"Yes\",\"Yes\",\"Yes\",\"Yes\",\"Yes\",\"Yes\",\"Yes\",\"Yes\",\"Yes\",\"Yes\",\"Yes\",\"Yes\",\"Yes\",\"Yes\",\"Yes\",\"Yes\",\"Yes\",\"Yes\",\"Yes\",\"Yes\",\"Yes\",\"Yes\",\"Yes\",\"Yes\",\"Yes\",\"Yes\",\"Yes\",\"Yes\",\"Yes\",\"Yes\",\"Yes\",\"Yes\",\"Yes\",\"Yes\",\"Yes\",\"Yes\",\"Yes\",\"Yes\",\"Yes\",\"Yes\",\"Yes\",\"Yes\",\"Yes\",\"Yes\",\"Yes\",\"Yes\",\"Yes\",\"Yes\",\"Yes\",\"Yes\",\"Yes\",\"Yes\",\"Yes\",\"Yes\",\"Yes\",\"Yes\",\"Yes\",\"Yes\",\"Yes\",\"Yes\",\"Yes\",\"Yes\",\"Yes\",\"Yes\",\"Yes\",\"Yes\",\"Yes\",\"Yes\",\"Yes\",\"Yes\",\"Yes\",\"Yes\",\"Yes\",\"Yes\",\"Yes\",\"Yes\",\"Yes\",\"Yes\",\"Yes\",\"Yes\",\"Yes\",\"Yes\",\"Yes\",\"Yes\",\"Yes\",\"Yes\",\"Yes\",\"Yes\",\"Yes\",\"Yes\",\"Yes\",\"Yes\",\"Yes\",\"Yes\",\"Yes\",\"Yes\",\"Yes\",\"Yes\",\"Yes\",\"Yes\",\"Yes\",\"Yes\",\"Yes\",\"Yes\",\"Yes\",\"Yes\",\"Yes\",\"Yes\",\"Yes\",\"Yes\",\"Yes\",\"Yes\",\"Yes\",\"Yes\",\"Yes\",\"Yes\",\"Yes\",\"Yes\",\"Yes\",\"Yes\",\"Yes\",\"Yes\",\"Yes\",\"Yes\",\"Yes\",\"Yes\",\"Yes\",\"Yes\",\"Yes\",\"Yes\",\"Yes\",\"Yes\",\"Yes\",\"Yes\",\"Yes\",\"Yes\",\"Yes\",\"Yes\",\"Yes\",\"Yes\",\"Yes\",\"Yes\",\"Yes\",\"Yes\",\"Yes\",\"Yes\",\"Yes\",\"Yes\",\"Yes\",\"Yes\",\"Yes\",\"Yes\",\"Yes\",\"Yes\",\"Yes\",\"Yes\",\"Yes\",\"Yes\",\"Yes\",\"Yes\",\"Yes\",\"Yes\",\"Yes\",\"Yes\",\"Yes\",\"Yes\",\"Yes\",\"Yes\",\"Yes\",\"Yes\",\"Yes\",\"Yes\",\"Yes\",\"Yes\",\"Yes\",\"Yes\",\"Yes\",\"Yes\",\"Yes\",\"Yes\",\"Yes\",\"Yes\",\"Yes\",\"Yes\",\"Yes\",\"Yes\",\"Yes\",\"Yes\",\"Yes\",\"Yes\",\"Yes\",\"Yes\",\"Yes\",\"Yes\",\"Yes\",\"Yes\",\"Yes\",\"Yes\",\"Yes\",\"Yes\",\"Yes\",\"Yes\",\"Yes\",\"Yes\",\"Yes\",\"Yes\",\"Yes\",\"Yes\",\"Yes\",\"Yes\",\"Yes\",\"Yes\",\"Yes\",\"Yes\",\"Yes\",\"Yes\",\"Yes\",\"Yes\",\"Yes\",\"Yes\",\"Yes\",\"Yes\",\"Yes\",\"Yes\",\"Yes\",\"Yes\",\"Yes\",\"Yes\",\"Yes\",\"Yes\",\"Yes\",\"Yes\",\"Yes\",\"Yes\",\"Yes\",\"Yes\",\"Yes\",\"Yes\",\"Yes\",\"Yes\",\"Yes\",\"Yes\",\"Yes\",\"Yes\",\"Yes\",\"Yes\",\"Yes\",\"Yes\",\"Yes\",\"Yes\",\"Yes\",\"Yes\",\"Yes\",\"Yes\",\"Yes\",\"Yes\",\"Yes\",\"Yes\",\"Yes\",\"Yes\",\"Yes\",\"Yes\",\"Yes\",\"Yes\",\"Yes\",\"Yes\",\"Yes\",\"Yes\",\"Yes\",\"Yes\",\"Yes\",\"Yes\",\"Yes\",\"Yes\",\"Yes\",\"Yes\",\"Yes\",\"Yes\",\"Yes\",\"Yes\",\"Yes\",\"Yes\",\"Yes\",\"Yes\",\"Yes\",\"Yes\",\"Yes\",\"Yes\",\"Yes\",\"Yes\",\"Yes\",\"Yes\",\"Yes\",\"Yes\",\"Yes\",\"Yes\",\"Yes\",\"Yes\",\"Yes\",\"Yes\",\"Yes\",\"Yes\",\"Yes\",\"Yes\",\"Yes\",\"Yes\",\"Yes\",\"Yes\",\"Yes\",\"Yes\",\"Yes\",\"Yes\",\"Yes\",\"Yes\",\"Yes\",\"Yes\",\"Yes\",\"Yes\",\"Yes\",\"Yes\",\"Yes\",\"Yes\",\"Yes\",\"Yes\",\"Yes\",\"Yes\",\"Yes\",\"Yes\",\"Yes\",\"Yes\",\"Yes\",\"Yes\",\"Yes\",\"Yes\",\"Yes\",\"Yes\",\"Yes\",\"Yes\",\"Yes\",\"Yes\",\"Yes\",\"Yes\",\"Yes\",\"Yes\",\"Yes\",\"Yes\",\"Yes\",\"Yes\",\"Yes\",\"Yes\",\"Yes\",\"Yes\",\"Yes\",\"Yes\",\"Yes\",\"Yes\",\"Yes\",\"Yes\",\"Yes\",\"Yes\",\"Yes\",\"Yes\",\"Yes\",\"Yes\",\"Yes\",\"Yes\",\"Yes\",\"Yes\",\"Yes\",\"Yes\",\"Yes\",\"Yes\",\"Yes\",\"Yes\",\"Yes\",\"Yes\",\"Yes\",\"Yes\",\"Yes\",\"Yes\",\"Yes\",\"Yes\",\"Yes\",\"Yes\",\"Yes\",\"Yes\",\"Yes\",\"Yes\",\"Yes\",\"Yes\",\"Yes\",\"Yes\",\"Yes\",\"Yes\",\"Yes\",\"Yes\",\"Yes\",\"Yes\",\"Yes\",\"Yes\",\"Yes\",\"Yes\",\"Yes\",\"Yes\",\"Yes\",\"Yes\",\"Yes\",\"Yes\",\"Yes\",\"Yes\",\"Yes\",\"Yes\",\"Yes\",\"Yes\",\"Yes\",\"Yes\",\"Yes\",\"Yes\",\"Yes\",\"Yes\",\"Yes\",\"Yes\",\"Yes\",\"Yes\",\"Yes\",\"Yes\",\"Yes\",\"Yes\",\"Yes\",\"Yes\",\"Yes\",\"Yes\",\"Yes\",\"Yes\",\"Yes\",\"Yes\",\"Yes\",\"Yes\",\"Yes\",\"Yes\",\"Yes\",\"Yes\",\"Yes\",\"Yes\",\"Yes\",\"Yes\",\"Yes\",\"Yes\",\"Yes\",\"Yes\",\"Yes\",\"Yes\",\"Yes\",\"Yes\",\"Yes\",\"Yes\",\"Yes\",\"Yes\",\"Yes\",\"Yes\",\"Yes\",\"Yes\",\"Yes\",\"Yes\",\"Yes\",\"Yes\",\"Yes\",\"Yes\",\"Yes\",\"Yes\",\"Yes\",\"Yes\",\"Yes\",\"Yes\",\"Yes\",\"Yes\",\"Yes\",\"Yes\",\"Yes\",\"Yes\",\"Yes\",\"Yes\",\"Yes\",\"Yes\",\"Yes\",\"Yes\",\"Yes\",\"Yes\",\"Yes\",\"Yes\",\"Yes\",\"Yes\",\"Yes\",\"Yes\",\"Yes\",\"Yes\",\"Yes\",\"Yes\",\"Yes\",\"Yes\",\"Yes\",\"Yes\",\"Yes\",\"Yes\",\"Yes\",\"Yes\",\"Yes\",\"Yes\",\"Yes\",\"Yes\",\"Yes\",\"Yes\",\"Yes\",\"Yes\",\"Yes\",\"Yes\",\"Yes\",\"Yes\",\"Yes\",\"Yes\",\"Yes\",\"Yes\",\"Yes\",\"Yes\",\"Yes\",\"Yes\",\"Yes\",\"Yes\",\"Yes\",\"Yes\",\"Yes\",\"Yes\",\"Yes\",\"Yes\",\"Yes\",\"Yes\",\"Yes\",\"Yes\",\"Yes\",\"Yes\",\"Yes\",\"Yes\",\"Yes\",\"Yes\",\"Yes\",\"Yes\",\"Yes\",\"Yes\",\"Yes\",\"Yes\",\"Yes\",\"Yes\",\"Yes\",\"Yes\",\"Yes\",\"Yes\",\"Yes\",\"Yes\",\"Yes\",\"Yes\",\"Yes\",\"Yes\",\"Yes\",\"Yes\",\"Yes\",\"Yes\",\"Yes\",\"Yes\",\"Yes\",\"Yes\",\"Yes\",\"Yes\",\"Yes\",\"Yes\",\"Yes\",\"Yes\",\"Yes\",\"Yes\",\"Yes\",\"Yes\",\"Yes\",\"Yes\",\"Yes\",\"Yes\",\"Yes\",\"Yes\",\"Yes\",\"Yes\",\"Yes\",\"Yes\",\"Yes\",\"Yes\",\"Yes\",\"Yes\",\"Yes\",\"Yes\",\"Yes\",\"Yes\",\"Yes\",\"Yes\",\"Yes\",\"Yes\",\"Yes\",\"Yes\",\"Yes\",\"Yes\",\"Yes\",\"Yes\",\"Yes\",\"Yes\",\"Yes\",\"Yes\",\"Yes\",\"Yes\",\"Yes\",\"Yes\",\"Yes\",\"Yes\",\"Yes\",\"Yes\",\"Yes\",\"Yes\",\"Yes\",\"Yes\",\"Yes\",\"Yes\",\"Yes\",\"Yes\",\"Yes\",\"Yes\",\"Yes\",\"Yes\",\"Yes\",\"Yes\",\"Yes\",\"Yes\",\"Yes\",\"Yes\",\"Yes\",\"Yes\",\"Yes\",\"Yes\",\"Yes\",\"Yes\",\"Yes\",\"Yes\",\"Yes\",\"Yes\",\"Yes\",\"Yes\",\"Yes\",\"Yes\",\"Yes\",\"Yes\",\"Yes\",\"Yes\",\"Yes\",\"Yes\",\"Yes\",\"Yes\",\"Yes\",\"Yes\",\"Yes\",\"Yes\",\"Yes\",\"Yes\",\"Yes\",\"Yes\",\"Yes\",\"Yes\",\"Yes\",\"Yes\",\"Yes\",\"Yes\",\"Yes\"],\"x0\":\" \",\"xaxis\":\"x\",\"y\":{\"dtype\":\"f8\",\"bdata\":\"mpmZmZmZ2T\\u002fNzMzMzMz0PzMzMzMzM9M\\u002fmpmZmZmZuT+amZmZmZm5P5qZmZmZmbk\\u002fMzMzMzMz0z+amZmZmZnJPwAAAAAAAOA\\u002fMzMzMzMz0z+amZmZmZnJP5qZmZmZmck\\u002fmpmZmZmZuT+amZmZmZm5P2ZmZmZmZuY\\u002fmpmZmZmZuT+amZmZmZm5P5qZmZmZmbk\\u002fMzMzMzMz0z8zMzMzMzPTP5qZmZmZmbk\\u002fmpmZmZmZuT+amZmZmZnxP5qZmZmZmdk\\u002fMzMzMzMz0z9mZmZmZmbmPwAAAAAAAOA\\u002fmpmZmZmZuT+amZmZmZn5PzMzMzMzM9M\\u002fAAAAAAAA4D+amZmZmZm5P5qZmZmZmbk\\u002fmpmZmZmZyT+amZmZmZm5P5qZmZmZmbk\\u002fmpmZmZmZyT+amZmZmZnJP5qZmZmZmbk\\u002fmpmZmZmZyT9mZmZmZmYCQJqZmZmZmck\\u002fmpmZmZmZuT8AAAAAAADwPzMzMzMzM9M\\u002fmpmZmZmZuT8AAAAAAAAAQDMzMzMzM9M\\u002fmpmZmZmZuT8AAAAAAAD4P2ZmZmZmZuY\\u002fmpmZmZmZ2T+amZmZmZnJP5qZmZmZmbk\\u002fZmZmZmZm9j+amZmZmZm5P5qZmZmZmbk\\u002fmpmZmZmZuT+amZmZmZnJP5qZmZmZmdk\\u002fZmZmZmZm5j+amZmZmZm5P5qZmZmZmbk\\u002fmpmZmZmZuT+amZmZmZm5P5qZmZmZmdk\\u002fZmZmZmZm5j8zMzMzMzPTP5qZmZmZmdk\\u002fMzMzMzMz0z+amZmZmZnZP5qZmZmZmek\\u002fAAAAAAAA4D8AAAAAAADwP5qZmZmZmck\\u002fAAAAAAAA8D+amZmZmZnxPzMzMzMzM+M\\u002fAAAAAAAA4D\\u002fNzMzMzMz8P5qZmZmZmbk\\u002fmpmZmZmZuT+amZmZmZnJP5qZmZmZmck\\u002fmpmZmZmZyT+amZmZmZm5P2ZmZmZmZuY\\u002fmpmZmZmZyT+amZmZmZn5PzMzMzMzM9M\\u002fAAAAAAAA+D8AAAAAAADwP5qZmZmZmdk\\u002fmpmZmZmZyT+amZmZmZm5P5qZmZmZmdk\\u002fmpmZmZmZuT8zMzMzMzPTP5qZmZmZmck\\u002fmpmZmZmZ2T+amZmZmZm5PzMzMzMzM9M\\u002fmpmZmZmZuT+amZmZmZm5P5qZmZmZmck\\u002fmpmZmZmZuT+amZmZmZnJP5qZmZmZmbk\\u002fMzMzMzMz0z8zMzMzMzPTP83MzMzMzPw\\u002fmpmZmZmZyT8zMzMzMzPTP83MzMzMzARAAAAAAAAAHECamZmZmZm5PwAAAAAAAPA\\u002fmpmZmZmZuT+amZmZmZnJP5qZmZmZmck\\u002fAAAAAAAAIkCamZmZmZnJP5qZmZmZmck\\u002fmpmZmZmZAUCamZmZmZm5PzMzMzMzM9M\\u002fmpmZmZmZyT+amZmZmZnJP5qZmZmZmck\\u002fAAAAAAAA8D8zMzMzMzP7P5qZmZmZmbk\\u002fMzMzMzMz4z+amZmZmZnpPwAAAAAAAOA\\u002fAAAAAAAA8D9mZmZmZmb2PzMzMzMzM+M\\u002fzczMzMzM7D+amZmZmZnJP5qZmZmZmbk\\u002fmpmZmZmZuT+amZmZmZnZP5qZmZmZmck\\u002fAAAAAAAA4D8zMzMzMzPTP5qZmZmZmek\\u002fmpmZmZmZyT+amZmZmZnJP5qZmZmZmck\\u002fZmZmZmZm9j8zMzMzMzPTPzMzMzMzM9M\\u002fAAAAAAAA+D+amZmZmZnZP5qZmZmZmck\\u002fzczMzMzM9D+amZmZmZnZP5qZmZmZmbk\\u002fmpmZmZmZ8T\\u002fNzMzMzMz8P5qZmZmZmck\\u002fMzMzMzMz+z+amZmZmZm5P5qZmZmZmbk\\u002fmpmZmZmZ2T9mZmZmZmbmP5qZmZmZmdk\\u002fmpmZmZmZ2T+amZmZmZnJP2ZmZmZmZgJAmpmZmZmZyT+amZmZmZnJP5qZmZmZmck\\u002fmpmZmZmZyT+amZmZmZm5P5qZmZmZmdk\\u002fzczMzMzM\\u002fD8AAAAAAADwP83MzMzMzOw\\u002fMzMzMzMz8z+amZmZmZm5P5qZmZmZmbk\\u002fmpmZmZmZyT\\u002fNzMzMzMz0P5qZmZmZmdk\\u002fmpmZmZmZuT+amZmZmZm5P5qZmZmZmdk\\u002fmpmZmZmZuT+amZmZmZnZPwAAAAAAAPg\\u002fmpmZmZmZyT+amZmZmZnJP83MzMzMzPw\\u002fmpmZmZmZuT8zMzMzMzPTP5qZmZmZmbk\\u002fmpmZmZmZyT+amZmZmZnpP5qZmZmZmbk\\u002fmpmZmZmZ2T+amZmZmZm5P5qZmZmZmbk\\u002fmpmZmZmZyT+amZmZmZnZPzMzMzMzM9M\\u002fmpmZmZmZuT8AAAAAAAD4P5qZmZmZmdk\\u002fmpmZmZmZ6T8zMzMzMzPTP5qZmZmZmbk\\u002fmpmZmZmZyT+amZmZmZm5P2ZmZmZmZvY\\u002fmpmZmZmZ2T+amZmZmZn5PzMzMzMzM9M\\u002fmpmZmZmZuT8AAAAAAAD4P5qZmZmZmbk\\u002fMzMzMzMz0z\\u002fNzMzMzMzsPzMzMzMzM9M\\u002fMzMzMzMz4z8zMzMzMzPTPwAAAAAAAOA\\u002fmpmZmZmZyT8zMzMzMzPzPwAAAAAAAOA\\u002fmpmZmZmZyT8zMzMzMzPTPzMzMzMzM\\u002fs\\u002fmpmZmZmZyT+amZmZmZnZP5qZmZmZmbk\\u002fAAAAAAAA8D+amZmZmZnJPzMzMzMzM9M\\u002fmpmZmZmZyT+amZmZmZm5P5qZmZmZmbk\\u002fAAAAAAAA8D+amZmZmZnZP83MzMzMzPw\\u002fmpmZmZmZ2T8AAAAAAADgP5qZmZmZmek\\u002fmpmZmZmZuT8AAAAAAADwPzMzMzMzM\\u002fs\\u002fMzMzMzMz8z8AAAAAAADgPwAAAAAAAPA\\u002fmpmZmZmZ2T8zMzMzMzPTPwAAAAAAAOA\\u002fMzMzMzMz0z+amZmZmZnZP5qZmZmZmbk\\u002fAAAAAAAA4D+amZmZmZnJP5qZmZmZmdk\\u002fAAAAAAAA+D+amZmZmZnZP2ZmZmZmZv4\\u002fmpmZmZmZuT8zMzMzMzPTPwAAAAAAAOA\\u002fmpmZmZmZ2T8AAAAAAADwP5qZmZmZmbk\\u002fmpmZmZmZuT+amZmZmZm5P5qZmZmZmbk\\u002fAAAAAAAA4D+amZmZmZnJPzMzMzMzM9M\\u002fMzMzMzMz8z+amZmZmZm5P5qZmZmZmdk\\u002fmpmZmZmZyT+amZmZmZnJPwAAAAAAAOA\\u002fzczMzMzM7D9mZmZmZmbmP5qZmZmZmck\\u002fmpmZmZmZuT+amZmZmZm5P5qZmZmZmbk\\u002fmpmZmZmZuT+amZmZmZnZP5qZmZmZmdk\\u002fAAAAAAAAGEAAAAAAAADgP5qZmZmZmck\\u002fmpmZmZmZ2T+amZmZmZm5P5qZmZmZmck\\u002fmpmZmZmZ2T+amZmZmZnJP5qZmZmZmfE\\u002fMzMzMzMz0z9mZmZmZmb+P83MzMzMzOw\\u002fmpmZmZmZuT8AAAAAAADwP5qZmZmZmdk\\u002fmpmZmZmZuT+amZmZmZnJPwAAAAAAAPA\\u002fmpmZmZmZuT+amZmZmZnJPwAAAAAAAABAmpmZmZmZ6T+amZmZmZnZPzMzMzMzM9M\\u002fZmZmZmZm9j+amZmZmZnJP5qZmZmZmek\\u002fmpmZmZmZyT8zMzMzMzPTPwAAAAAAAPg\\u002fmpmZmZmZuT+amZmZmZnJP5qZmZmZmbk\\u002fmpmZmZmZ2T+amZmZmZnxP5qZmZmZmbk\\u002fzczMzMzMFEAzMzMzMzPTP5qZmZmZmbk\\u002fMzMzMzMz0z8zMzMzMzPTP5qZmZmZmck\\u002fmpmZmZmZyT+amZmZmZm5PwAAAAAAAOA\\u002fAAAAAAAAHEAAAAAAAADgP5qZmZmZmck\\u002fMzMzMzMz0z+amZmZmZm5P5qZmZmZmck\\u002fmpmZmZmZyT+amZmZmZm5P83MzMzMzABAMzMzMzMz0z+amZmZmZm5PzMzMzMzM\\u002fM\\u002fmpmZmZmZ6T8AAAAAAADgP5qZmZmZmck\\u002fmpmZmZmZyT+amZmZmZnJP5qZmZmZmck\\u002fmpmZmZmZ6T+amZmZmZnZP5qZmZmZmfE\\u002fzczMzMzM\\u002fD+amZmZmZm5P83MzMzMzPQ\\u002fmpmZmZmZuT+amZmZmZm5P2ZmZmZmZuY\\u002fmpmZmZmZuT8AAAAAAADwP5qZmZmZmck\\u002fzczMzMzM9D8zMzMzMzPTP5qZmZmZmck\\u002fMzMzMzMz0z8zMzMzMzPjP5qZmZmZmbk\\u002fmpmZmZmZyT+amZmZmZnJP5qZmZmZmck\\u002fzczMzMzM7D8AAAAAAADwP5qZmZmZmck\\u002fmpmZmZmZuT+amZmZmZm5PwAAAAAAAPg\\u002fMzMzMzMz4z+amZmZmZm5P5qZmZmZmck\\u002fmpmZmZmZuT8zMzMzMzPTP5qZmZmZmck\\u002fmpmZmZmZuT+amZmZmZnJPwAAAAAAAAhAMzMzMzMz0z+amZmZmZnJPwAAAAAAAOA\\u002fmpmZmZmZuT8zMzMzMzPTP5qZmZmZmfk\\u002fMzMzMzMz8z+amZmZmZm5P5qZmZmZmbk\\u002fmpmZmZmZyT+amZmZmZnJP5qZmZmZmbk\\u002fAAAAAAAA4D8AAAAAAAAcQJqZmZmZmbk\\u002fmpmZmZmZuT8AAAAAAAAAQM3MzMzMzOw\\u002fmpmZmZmZ6T8AAAAAAADwPzMzMzMzM9M\\u002fmpmZmZmZ2T8zMzMzMzPjPwAAAAAAAPg\\u002fAAAAAAAAAEAAAAAAAADgP5qZmZmZmbk\\u002fMzMzMzMz0z8zMzMzMzPTP5qZmZmZmbk\\u002fmpmZmZmZuT8zMzMzMzPzP5qZmZmZmck\\u002fmpmZmZmZuT\\u002fNzMzMzMzsP5qZmZmZmck\\u002fMzMzMzMz4z8AAAAAAADgP5qZmZmZmdk\\u002fmpmZmZmZuT+amZmZmZnJP5qZmZmZmdk\\u002fMzMzMzMz4z+amZmZmZm5P5qZmZmZmbk\\u002fMzMzMzMz4z+amZmZmZm5PwAAAAAAAOA\\u002fmpmZmZmZuT8zMzMzMzPjPwAAAAAAAPA\\u002fmpmZmZmZuT+amZmZmZm5P5qZmZmZmbk\\u002fmpmZmZmZyT+amZmZmZm5P5qZmZmZmck\\u002fmpmZmZmZuT+amZmZmZnZPzMzMzMzM+M\\u002fmpmZmZmZuT+amZmZmZnJP5qZmZmZmck\\u002fAAAAAAAA4D8zMzMzMzPjPwAAAAAAAOA\\u002fMzMzMzMz0z8AAAAAAADgPzMzMzMzM9M\\u002fZmZmZmZm5j+amZmZmZm5P5qZmZmZmbk\\u002fZmZmZmZm5j+amZmZmZm5PzMzMzMzM+M\\u002fmpmZmZmZ8T+amZmZmZm5P5qZmZmZmbk\\u002fmpmZmZmZuT8AAAAAAAAAQJqZmZmZmdk\\u002fmpmZmZmZuT8zMzMzMzPTPzMzMzMzM+M\\u002fAAAAAAAA8D+amZmZmZnJP5qZmZmZmck\\u002fmpmZmZmZuT8zMzMzMzPTP5qZmZmZmbk\\u002fMzMzMzMz0z+amZmZmZnZP5qZmZmZmbk\\u002fAAAAAAAA4D+amZmZmZm5P5qZmZmZmck\\u002fmpmZmZmZyT9mZmZmZmYQQJqZmZmZmR1AmpmZmZmZyT8AAAAAAADgP5qZmZmZmbk\\u002fmpmZmZmZuT+amZmZmZm5P5qZmZmZmdk\\u002fmpmZmZmZDUAzMzMzMzPTPwAAAAAAAOA\\u002fmpmZmZmZuT8zMzMzMzPjP5qZmZmZmdk\\u002fzczMzMzM7D8AAAAAAAAQQDMzMzMzM\\u002fM\\u002fmpmZmZmZuT+amZmZmZm5PwAAAAAAAOA\\u002fMzMzMzMz0z+amZmZmZnJP5qZmZmZmdk\\u002fmpmZmZmZ2T+amZmZmZnJPzMzMzMzM\\u002fM\\u002fMzMzMzMz0z+amZmZmZnJP5qZmZmZmck\\u002fMzMzMzMz0z8zMzMzMzPzP5qZmZmZmdk\\u002fmpmZmZmZuT+amZmZmZm5PzMzMzMzMwNAmpmZmZmZuT+amZmZmZnpP5qZmZmZmbk\\u002fZmZmZmZm5j+amZmZmZnJP5qZmZmZmck\\u002fmpmZmZmZyT+amZmZmZm5PwAAAAAAAOA\\u002fmpmZmZmZuT8zMzMzMzPjP5qZmZmZmdk\\u002fMzMzMzMz0z+amZmZmZm5P5qZmZmZmbk\\u002fmpmZmZmZyT+amZmZmZm5PwAAAAAAAPA\\u002fmpmZmZmZuT+amZmZmZnJPwAAAAAAAOA\\u002fAAAAAAAA+D+amZmZmZnJP5qZmZmZmbk\\u002fAAAAAAAA4D+amZmZmZnZPwAAAAAAAPA\\u002fmpmZmZmZyT\\u002fNzMzMzMz8PzMzMzMzM9M\\u002fmpmZmZmZuT+amZmZmZnJP5qZmZmZmbk\\u002fmpmZmZmZyT8AAAAAAADgP5qZmZmZmbk\\u002fmpmZmZmZyT\\u002fNzMzMzMzsPzMzMzMzM+M\\u002fmpmZmZmZ2T+amZmZmZm5PwAAAAAAAOA\\u002fmpmZmZmZ2T9mZmZmZmbmP5qZmZmZmbk\\u002fmpmZmZmZ6T8AAAAAAADgP5qZmZmZmck\\u002fmpmZmZmZuT+amZmZmZnJP5qZmZmZmek\\u002fMzMzMzMz8z+amZmZmZm5P5qZmZmZmbk\\u002fAAAAAAAA+D+amZmZmZm5PwAAAAAAAOA\\u002fmpmZmZmZuT+amZmZmZm5P5qZmZmZmfE\\u002fAAAAAAAA8D8zMzMzMzPjP5qZmZmZmdk\\u002fMzMzMzMz0z8AAAAAAADgP2ZmZmZmZuY\\u002fmpmZmZmZuT+amZmZmZm5P5qZmZmZmck\\u002fmpmZmZmZuT+amZmZmZm5PzMzMzMzM\\u002fM\\u002fzczMzMzM7D\\u002fNzMzMzMz8P5qZmZmZmck\\u002fmpmZmZmZuT+amZmZmZm5PzMzMzMzM9M\\u002fmpmZmZmZ2T8AAAAAAADgP5qZmZmZmbk\\u002fmpmZmZmZuT+amZmZmZm5P5qZmZmZmbk\\u002fMzMzMzMz0z8zMzMzMzPTP5qZmZmZmdk\\u002fMzMzMzMz0z+amZmZmZm5P5qZmZmZmdk\\u002fmpmZmZmZ2T+amZmZmZm5P5qZmZmZmbk\\u002fmpmZmZmZuT8AAAAAAADgP5qZmZmZmbk\\u002fMzMzMzMz4z+amZmZmZnJP5qZmZmZmdk\\u002fMzMzMzMz4z+amZmZmZnZP5qZmZmZmdk\\u002fzczMzMzM7D+amZmZmZnJP5qZmZmZmdk\\u002fAAAAAAAACEDNzMzMzMzsP5qZmZmZmbk\\u002fMzMzMzMz0z+amZmZmZm5P5qZmZmZmdk\\u002fmpmZmZmZyT+amZmZmZnJP2ZmZmZmZuY\\u002fmpmZmZmZuT+amZmZmZm5P5qZmZmZmck\\u002fAAAAAAAA4D8zMzMzMzPjPwAAAAAAAAhAmpmZmZmZyT8zMzMzMzPzP5qZmZmZmck\\u002fmpmZmZmZuT8zMzMzMzPjP5qZmZmZmck\\u002fmpmZmZmZuT8zMzMzMzPTPwAAAAAAAOA\\u002fZmZmZmZm5j+amZmZmZm5P5qZmZmZmck\\u002fMzMzMzMz8z+amZmZmZm5P5qZmZmZmbk\\u002fmpmZmZmZuT9mZmZmZmb2P83MzMzMzOw\\u002fmpmZmZmZuT+amZmZmZnJPwAAAAAAAARAmpmZmZmZuT+amZmZmZm5P5qZmZmZmbk\\u002fMzMzMzMz0z+amZmZmZnZPzMzMzMzM9M\\u002fmpmZmZmZuT+amZmZmZnJPzMzMzMzM9M\\u002fmpmZmZmZuT+amZmZmZm5P5qZmZmZmck\\u002fMzMzMzMz4z+amZmZmZnJP5qZmZmZmck\\u002fzczMzMzM7D+amZmZmZm5P5qZmZmZmck\\u002fmpmZmZmZuT+amZmZmZm5PwAAAAAAAOA\\u002fMzMzMzMz0z+amZmZmZm5P5qZmZmZmbk\\u002fMzMzMzMz0z9mZmZmZmbmP5qZmZmZmbk\\u002fMzMzMzMz4z8zMzMzMzPTP5qZmZmZmck\\u002fMzMzMzMz4z+amZmZmZnZPzMzMzMzM\\u002fM\\u002fmpmZmZmZ2T+amZmZmZm5PzMzMzMzM9M\\u002fmpmZmZmZuT+amZmZmZm5PwAAAAAAAABAmpmZmZmZyT+amZmZmZnZP5qZmZmZmbk\\u002fAAAAAAAAEkCamZmZmZm5PzMzMzMzM9M\\u002fmpmZmZmZyT8zMzMzMzPTP5qZmZmZmck\\u002fzczMzMzM9D+amZmZmZm5P5qZmZmZmbk\\u002fMzMzMzMz4z9mZmZmZmb2PzMzMzMzM9M\\u002fmpmZmZmZyT+amZmZmZm5P5qZmZmZmbk\\u002fAAAAAAAA4D8zMzMzMzPTP5qZmZmZmdk\\u002fMzMzMzMz8z8AAAAAAADwPwAAAAAAAOA\\u002fZmZmZmZm5j+amZmZmZnJP5qZmZmZmck\\u002fmpmZmZmZyT+amZmZmZnJPwAAAAAAAPA\\u002fmpmZmZmZyT8zMzMzMzP7P5qZmZmZmbk\\u002fAAAAAAAA4D+amZmZmZnJPwAAAAAAAPA\\u002fAAAAAAAA4D+amZmZmZnJP83MzMzMzPQ\\u002fmpmZmZmZ8T+amZmZmZnJP2ZmZmZmZvY\\u002fmpmZmZmZyT+amZmZmZm5PwAAAAAAAPA\\u002fmpmZmZmZyT+amZmZmZnJP5qZmZmZmck\\u002fzczMzMzM9D+amZmZmZm5PzMzMzMzM9M\\u002fMzMzMzMz0z+amZmZmZm5P5qZmZmZmbk\\u002fmpmZmZmZuT+amZmZmZnJP5qZmZmZmdk\\u002fmpmZmZmZuT8zMzMzMzPjPwAAAAAAAOA\\u002fZmZmZmZmCkCamZmZmZm5PwAAAAAAAOA\\u002fzczMzMzM7D+amZmZmZm5P5qZmZmZmbk\\u002fmpmZmZmZyT+amZmZmZm5PwAAAAAAAOA\\u002fAAAAAAAA+D8zMzMzMzPzPwAAAAAAABBAmpmZmZmZuT+amZmZmZm5P5qZmZmZmfk\\u002fzczMzMzM7D\\u002fNzMzMzMz0P83MzMzMzPQ\\u002fmpmZmZmZuT8zMzMzMzPjPwAAAAAAAPA\\u002fmpmZmZmZuT8AAAAAAADgP5qZmZmZmdk\\u002fmpmZmZmZyT9mZmZmZmbmP5qZmZmZmbk\\u002fAAAAAAAAFkCamZmZmZm5P5qZmZmZmck\\u002fMzMzMzMz+z+amZmZmZnJP5qZmZmZmbk\\u002fmpmZmZmZyT+amZmZmZnJP5qZmZmZmbk\\u002fAAAAAAAA4D+amZmZmZnZP5qZmZmZmck\\u002fmpmZmZmZyT8zMzMzMzPTPzMzMzMzM9M\\u002fmpmZmZmZ6T+amZmZmZm5P5qZmZmZmdk\\u002fzczMzMzM7D+amZmZmZm5P5qZmZmZmbk\\u002fmpmZmZmZ2T+amZmZmZm5P5qZmZmZmck\\u002fmpmZmZmZyT+amZmZmZm5P5qZmZmZmek\\u002fAAAAAAAA4D+amZmZmZnJP5qZmZmZmbk\\u002fmpmZmZmZuT+amZmZmZm5PzMzMzMzM\\u002fM\\u002fmpmZmZmZyT9mZmZmZmbmP5qZmZmZmdk\\u002fMzMzMzMz4z8zMzMzMzPTP5qZmZmZmbk\\u002fmpmZmZmZuT8zMzMzMzP7P5qZmZmZmbk\\u002fMzMzMzMz4z+amZmZmZnJPwAAAAAAAPA\\u002fmpmZmZmZyT+amZmZmZnxPzMzMzMzM9M\\u002fAAAAAAAA8D+amZmZmZm5P5qZmZmZmbk\\u002fMzMzMzMz0z+amZmZmZm5PwAAAAAAAPg\\u002fmpmZmZmZuT+amZmZmZnJPzMzMzMzM9M\\u002fmpmZmZmZ6T+amZmZmZnZP5qZmZmZmck\\u002fmpmZmZmZuT+amZmZmZm5P5qZmZmZmbk\\u002fmpmZmZmZ2T8zMzMzMzPTPwAAAAAAAPA\\u002fmpmZmZmZuT8AAAAAAAD4P5qZmZmZmdk\\u002fMzMzMzMz0z+amZmZmZm5PwAAAAAAAOA\\u002fmpmZmZmZuT+amZmZmZnpP5qZmZmZmdk\\u002fMzMzMzMz0z+amZmZmZnZPzMzMzMzM\\u002fM\\u002fmpmZmZmZuT8zMzMzMzPzP5qZmZmZmbk\\u002fMzMzMzMz0z+amZmZmZnpP83MzMzMzPQ\\u002fmpmZmZmZ2T+amZmZmZnJPzMzMzMzM9M\\u002fmpmZmZmZuT8AAAAAAADgPzMzMzMzM\\u002fM\\u002fmpmZmZmZ2T+amZmZmZnJPzMzMzMzM+M\\u002fZmZmZmZm5j+amZmZmZm5P83MzMzMzOw\\u002fmpmZmZmZuT+amZmZmZnJP5qZmZmZmck\\u002fmpmZmZmZyT+amZmZmZm5PwAAAAAAAABAMzMzMzMz0z8zMzMzMzPjPwAAAAAAAOA\\u002fmpmZmZmZuT+amZmZmZnJPzMzMzMzM9M\\u002fMzMzMzMz0z+amZmZmZnJP5qZmZmZmbk\\u002fmpmZmZmZuT8AAAAAAADgP5qZmZmZmck\\u002fZmZmZmZm5j8AAAAAAAD4P5qZmZmZmek\\u002fMzMzMzMz0z8AAAAAAAAaQJqZmZmZmbk\\u002fzczMzMzM7D8AAAAAAADwPwAAAAAAAPg\\u002fmpmZmZmZuT8zMzMzMzPTP5qZmZmZmbk\\u002fAAAAAAAAHEAzMzMzMzPTP5qZmZmZmck\\u002fmpmZmZmZ2T+amZmZmZnJP5qZmZmZmbk\\u002fmpmZmZmZyT+amZmZmZm5PzMzMzMzM9M\\u002fMzMzMzMz0z8zMzMzMzPTPwAAAAAAAABAmpmZmZmZ6T8zMzMzMzP7P5qZmZmZmck\\u002fMzMzMzMz0z+amZmZmZm5P2ZmZmZmZvY\\u002fMzMzMzMz4z8AAAAAAAAMQJqZmZmZmdk\\u002fmpmZmZmZuT+amZmZmZnJP5qZmZmZmbk\\u002fmpmZmZmZuT9mZmZmZmbmP5qZmZmZmbk\\u002fmpmZmZmZuT+amZmZmZnJP5qZmZmZmfE\\u002fmpmZmZmZuT8zMzMzMzPTP5qZmZmZmbk\\u002fAAAAAAAA4D+amZmZmZnJP5qZmZmZmbk\\u002fmpmZmZmZuT8zMzMzMzPTPzMzMzMzM\\u002fM\\u002fMzMzMzMz0z+amZmZmZnJPwAAAAAAAOA\\u002fmpmZmZmZyT+amZmZmZnJP5qZmZmZmdk\\u002fmpmZmZmZuT+amZmZmZm5P5qZmZmZmbk\\u002fmpmZmZmZuT+amZmZmZn5P5qZmZmZmck\\u002fmpmZmZmZuT8AAAAAAADgP5qZmZmZmck\\u002fMzMzMzMz0z+amZmZmZnpP5qZmZmZmbk\\u002fmpmZmZmZuT+amZmZmZnZP5qZmZmZmck\\u002fMzMzMzMz4z\\u002fNzMzMzMzsP5qZmZmZmdk\\u002fmpmZmZmZ2T+amZmZmZm5P5qZmZmZmRFAmpmZmZmZ2T8zMzMzMzPTP5qZmZmZmfE\\u002fZmZmZmZm5j8zMzMzMzPTP5qZmZmZmbk\\u002fmpmZmZmZuT8zMzMzMzPjP5qZmZmZmck\\u002fMzMzMzMzA0AAAAAAAADgP5qZmZmZmbk\\u002fmpmZmZmZ2T+amZmZmZnZP2ZmZmZmZuY\\u002fmpmZmZmZyT8zMzMzMzP7PzMzMzMzM9M\\u002fmpmZmZmZ2T8zMzMzMzPTPwAAAAAAAOA\\u002fAAAAAAAACEBmZmZmZmb2PzMzMzMzM+M\\u002fmpmZmZmZyT8zMzMzMzPTP5qZmZmZmck\\u002fmpmZmZmZuT8zMzMzMzPTP5qZmZmZmek\\u002fmpmZmZmZyT+amZmZmZm5P5qZmZmZmbk\\u002fmpmZmZmZyT8zMzMzMzPjP5qZmZmZmck\\u002fmpmZmZmZ8T8AAAAAAADwPzMzMzMzM9M\\u002fmpmZmZmZyT+amZmZmZm5P5qZmZmZmdk\\u002fAAAAAAAA8D8zMzMzMzPjP5qZmZmZmbk\\u002fmpmZmZmZuT8AAAAAAADgP5qZmZmZmck\\u002fAAAAAAAAHkCamZmZmZm5PzMzMzMzM9M\\u002fMzMzMzMz8z+amZmZmZm5P5qZmZmZmck\\u002fmpmZmZmZuT+amZmZmZn5PzMzMzMzM9M\\u002fmpmZmZmZuT8zMzMzMzPzP5qZmZmZmdk\\u002fmpmZmZmZuT+amZmZmZm5P5qZmZmZmdk\\u002fmpmZmZmZuT+amZmZmZm5PwAAAAAAAPg\\u002fmpmZmZmZuT+amZmZmZm5P5qZmZmZmbk\\u002fmpmZmZmZuT+amZmZmZnZP83MzMzMzOw\\u002fAAAAAAAA8D8AAAAAAADgP5qZmZmZmck\\u002fmpmZmZmZuT8zMzMzMzPjPzMzMzMzM9M\\u002fMzMzMzMz0z8AAAAAAADgP5qZmZmZmck\\u002fMzMzMzMz0z+amZmZmZm5P5qZmZmZmdk\\u002fzczMzMzM7D8zMzMzMzPTP5qZmZmZmbk\\u002fzczMzMzM7D+amZmZmZnJPwAAAAAAAOA\\u002fAAAAAAAAIECamZmZmZkJQJqZmZmZmbk\\u002fmpmZmZmZ6T8zMzMzMzPTPzMzMzMzM9M\\u002fmpmZmZmZyT8AAAAAAADwP5qZmZmZmbk\\u002fMzMzMzMz0z8zMzMzMzPzPwAAAAAAAOA\\u002fMzMzMzMz0z+amZmZmZnJPzMzMzMzM\\u002fs\\u002fAAAAAAAA8D8zMzMzMzPTP5qZmZmZmbk\\u002fMzMzMzMz8z+amZmZmZm5P5qZmZmZmck\\u002fmpmZmZmZ2T8zMzMzMzPzPzMzMzMzM9M\\u002fmpmZmZmZuT+amZmZmZnJP5qZmZmZmbk\\u002fmpmZmZmZuT+amZmZmZm5P5qZmZmZmck\\u002fmpmZmZmZ2T8AAAAAAADgP5qZmZmZmck\\u002fZmZmZmZm5j+amZmZmZnJP5qZmZmZmbk\\u002fmpmZmZmZuT+amZmZmZnZP5qZmZmZmdk\\u002fmpmZmZmZyT\\u002fNzMzMzMz0P5qZmZmZmek\\u002fmpmZmZmZuT+amZmZmZnZP5qZmZmZmbk\\u002fmpmZmZmZ2T+amZmZmZm5P2ZmZmZmZg5AmpmZmZmZyT8AAAAAAADwP83MzMzMzAhAMzMzMzMz4z+amZmZmZnZP5qZmZmZmdk\\u002fmpmZmZmZuT8zMzMzMzPjPwAAAAAAAOA\\u002fMzMzMzMz0z+amZmZmZm5PzMzMzMzM\\u002fs\\u002fmpmZmZmZuT8zMzMzMzPjP83MzMzMzARAmpmZmZmZ2T+amZmZmZnxPzMzMzMzM+M\\u002fZmZmZmZm\\u002fj+amZmZmZm5PwAAAAAAAOA\\u002fmpmZmZmZyT+amZmZmZnJP5qZmZmZmbk\\u002fmpmZmZmZuT8AAAAAAADgP5qZmZmZmbk\\u002fmpmZmZmZ6T+amZmZmZm5PwAAAAAAAOA\\u002fmpmZmZmZuT+amZmZmZnJP5qZmZmZmck\\u002fmpmZmZmZyT8AAAAAAADgP5qZmZmZmck\\u002fzczMzMzMAECamZmZmZnJP5qZmZmZmck\\u002fmpmZmZmZuT+amZmZmZm5PzMzMzMzM9M\\u002fMzMzMzMz0z+amZmZmZm5P5qZmZmZmbk\\u002fMzMzMzMz0z+amZmZmZnZP5qZmZmZmbk\\u002fAAAAAAAA4D+amZmZmZnJPwAAAAAAAPg\\u002fMzMzMzMz+z+amZmZmZm5P5qZmZmZmbk\\u002fmpmZmZmZuT+amZmZmZnJP5qZmZmZmbk\\u002fZmZmZmZm5j+amZmZmZnZPwAAAAAAAOA\\u002fMzMzMzMz4z+amZmZmZm5P5qZmZmZmbk\\u002fmpmZmZmZyT8AAAAAAAD4P5qZmZmZmbk\\u002fMzMzMzMz0z8zMzMzMzPTP5qZmZmZmbk\\u002fmpmZmZmZ2T+amZmZmZnJPwAAAAAAAPg\\u002fmpmZmZmZuT+amZmZmZnJP5qZmZmZmbk\\u002fmpmZmZmZCUCamZmZmZnZP5qZmZmZmbk\\u002fMzMzMzMz0z+amZmZmZnxPzMzMzMzM9M\\u002fMzMzMzMz0z+amZmZmZkBQAAAAAAAAOA\\u002fMzMzMzMz0z+amZmZmZm5P5qZmZmZmbk\\u002fmpmZmZmZuT8AAAAAAADgP5qZmZmZmbk\\u002fMzMzMzMz4z+amZmZmZm5P5qZmZmZmek\\u002fAAAAAAAA8D+amZmZmZnxP5qZmZmZmdk\\u002fMzMzMzMz0z\\u002fNzMzMzMz0P5qZmZmZmbk\\u002fmpmZmZmZuT+amZmZmZnJP5qZmZmZmbk\\u002fmpmZmZmZuT8AAAAAAADwP5qZmZmZmek\\u002fmpmZmZmZyT8zMzMzMzPTP5qZmZmZmek\\u002fMzMzMzMz4z8AAAAAAAD4PzMzMzMzM9M\\u002fmpmZmZmZuT8zMzMzMzPTP5qZmZmZmck\\u002fmpmZmZmZyT+amZmZmZnJP5qZmZmZmbk\\u002fmpmZmZmZuT8zMzMzMzPjP5qZmZmZmbk\\u002fmpmZmZmZyT8zMzMzMzPTP5qZmZmZmbk\\u002fmpmZmZmZuT8AAAAAAADgP5qZmZmZmbk\\u002fmpmZmZmZ2T+amZmZmZnZP5qZmZmZmbk\\u002fMzMzMzMz0z+amZmZmZnJPzMzMzMzM9M\\u002fmpmZmZmZyT+amZmZmZm5P5qZmZmZmdk\\u002fZmZmZmZm5j+amZmZmZnZPzMzMzMzM9M\\u002fmpmZmZmZuT+amZmZmZm5P5qZmZmZmbk\\u002fmpmZmZmZuT+amZmZmZnxPzMzMzMzM9M\\u002fAAAAAAAA4D+amZmZmZnZPwAAAAAAAOA\\u002fMzMzMzMz0z+amZmZmZm5PzMzMzMzM9M\\u002fmpmZmZmZuT\\u002fNzMzMzMz0P5qZmZmZmbk\\u002fAAAAAAAAGkCamZmZmZm5PwAAAAAAAOA\\u002fMzMzMzMz0z8zMzMzMzPTP83MzMzMzOw\\u002fmpmZmZmZuT8zMzMzMzPTP5qZmZmZmek\\u002fAAAAAAAA4D+amZmZmZm5PwAAAAAAAOA\\u002fmpmZmZmZ2T+amZmZmZm5P5qZmZmZmbk\\u002fAAAAAAAA4D8AAAAAAADgP5qZmZmZmbk\\u002fMzMzMzMz0z+amZmZmZnZP83MzMzMzPQ\\u002fmpmZmZmZyT+amZmZmZm5P5qZmZmZmbk\\u002fMzMzMzMz0z8zMzMzMzPTP5qZmZmZmck\\u002fMzMzMzMz0z+amZmZmZnZP2ZmZmZmZuY\\u002fmpmZmZmZuT+amZmZmZnxP5qZmZmZmQFAmpmZmZmZyT9mZmZmZmbmP5qZmZmZmbk\\u002fmpmZmZmZuT8AAAAAAAD4P5qZmZmZmck\\u002fAAAAAAAA+D+amZmZmZm5P5qZmZmZmbk\\u002fAAAAAAAA+D+amZmZmZnJPzMzMzMzM\\u002fM\\u002fmpmZmZmZ8T+amZmZmZm5PwAAAAAAAOA\\u002fAAAAAAAAAECamZmZmZnJP5qZmZmZmck\\u002fZmZmZmZmBkAAAAAAAAASQJqZmZmZmbk\\u002fmpmZmZmZuT+amZmZmZm5P5qZmZmZmbk\\u002fmpmZmZmZuT+amZmZmZm5PzMzMzMzM\\u002fM\\u002fmpmZmZmZuT8zMzMzMzMHQJqZmZmZmbk\\u002fmpmZmZmZyT+amZmZmZm5PwAAAAAAAPg\\u002fmpmZmZmZ2T9mZmZmZmb2P5qZmZmZmck\\u002fmpmZmZmZuT8zMzMzMzPTP5qZmZmZmck\\u002fAAAAAAAA8D+amZmZmZnZPzMzMzMzM\\u002fM\\u002fmpmZmZmZuT9mZmZmZmb+PzMzMzMzM9M\\u002fmpmZmZmZuT+amZmZmZnJP5qZmZmZmck\\u002fMzMzMzMz0z+amZmZmZnZP5qZmZmZmck\\u002fmpmZmZmZuT+amZmZmZnJPzMzMzMzM+M\\u002fmpmZmZmZ2T\\u002fNzMzMzMzsP5qZmZmZmbk\\u002fmpmZmZmZuT+amZmZmZnJPwAAAAAAAOA\\u002fmpmZmZmZ8T+amZmZmZm5PwAAAAAAAOA\\u002fmpmZmZmZuT+amZmZmZm5P5qZmZmZmck\\u002fmpmZmZmZ2T8zMzMzMzPTPwAAAAAAAOA\\u002fmpmZmZmZyT\\u002fNzMzMzMzsP5qZmZmZmbk\\u002fMzMzMzMz0z+amZmZmZn5P5qZmZmZmbk\\u002fmpmZmZmZuT8AAAAAAADwPwAAAAAAAPA\\u002fmpmZmZmZuT8zMzMzMzPTP5qZmZmZmbk\\u002fmpmZmZmZuT+amZmZmZnJP2ZmZmZmZvY\\u002fmpmZmZmZ6T+amZmZmZm5PwAAAAAAAPA\\u002fAAAAAAAA4D+amZmZmZm5PzMzMzMzM9M\\u002fMzMzMzMz8z8zMzMzMzPzP5qZmZmZmck\\u002fmpmZmZmZ2T9mZmZmZmbmP5qZmZmZmfE\\u002fAAAAAAAAAECamZmZmZnZP5qZmZmZmck\\u002fmpmZmZmZyT9mZmZmZmb2P5qZmZmZmbk\\u002fMzMzMzMz0z8zMzMzMzPTP5qZmZmZmck\\u002fZmZmZmZm9j+amZmZmZnJP5qZmZmZmbk\\u002fmpmZmZmZyT8zMzMzMzPTP5qZmZmZmbk\\u002fmpmZmZmZyT8zMzMzMzPTP5qZmZmZmbk\\u002fmpmZmZmZ2T+amZmZmZnxP5qZmZmZmbk\\u002fzczMzMzMAECamZmZmZnJP5qZmZmZmck\\u002fmpmZmZmZ2T8AAAAAAADgPzMzMzMzM\\u002fM\\u002fmpmZmZmZuT+amZmZmZnZPzMzMzMzM9M\\u002fmpmZmZmZyT+amZmZmZnZPzMzMzMzM+M\\u002fmpmZmZmZuT+amZmZmZm5P5qZmZmZmck\\u002fmpmZmZmZ2T+amZmZmZm5P5qZmZmZmbk\\u002fmpmZmZmZuT+amZmZmZnJPzMzMzMzM9M\\u002fAAAAAAAABEAzMzMzMzPjP5qZmZmZmck\\u002fmpmZmZmZ2T+amZmZmZnJPzMzMzMzM+M\\u002fMzMzMzMz0z+amZmZmZnJP5qZmZmZmbk\\u002fmpmZmZmZ2T+amZmZmZnJPwAAAAAAAOA\\u002fmpmZmZmZ6T+amZmZmZnJP5qZmZmZmck\\u002fmpmZmZmZuT8zMzMzMzP7P5qZmZmZmbk\\u002fmpmZmZmZBUCamZmZmZm5PzMzMzMzM9M\\u002fAAAAAAAA4D8AAAAAAADgP5qZmZmZmbk\\u002fmpmZmZmZuT+amZmZmZm5P5qZmZmZmbk\\u002fmpmZmZmZyT8zMzMzMzPjP5qZmZmZmbk\\u002fAAAAAAAA8D8AAAAAAADwPzMzMzMzM\\u002fM\\u002fAAAAAAAA4D+amZmZmZm5PwAAAAAAAOA\\u002fZmZmZmZm5j+amZmZmZm5PwAAAAAAAOA\\u002fMzMzMzMz0z+amZmZmZm5P5qZmZmZmck\\u002fmpmZmZmZyT+amZmZmZnZPwAAAAAAAOA\\u002fmpmZmZmZ2T+amZmZmZnpPzMzMzMzM9M\\u002fmpmZmZmZuT+amZmZmZnJP2ZmZmZmZuY\\u002fAAAAAAAA8D+amZmZmZm5P5qZmZmZmck\\u002fmpmZmZmZuT+amZmZmZnJP2ZmZmZmZv4\\u002fmpmZmZmZ2T8zMzMzMzPTPzMzMzMzM9M\\u002fmpmZmZmZuT+amZmZmZnJP83MzMzMzABAmpmZmZmZuT9mZmZmZmb2PzMzMzMzM9M\\u002fmpmZmZmZyT\\u002fNzMzMzMz8PwAAAAAAAPg\\u002fmpmZmZmZuT8zMzMzMzPTPwAAAAAAAOA\\u002fAAAAAAAAEECamZmZmZnJPzMzMzMzM9M\\u002fMzMzMzMz+z8AAAAAAAAWQDMzMzMzM9M\\u002fZmZmZmZmAkCamZmZmZnJP83MzMzMzPQ\\u002fzczMzMzM7D8zMzMzMzPjP5qZmZmZmfE\\u002fmpmZmZmZyT+amZmZmZnZPwAAAAAAAOA\\u002fmpmZmZmZ6T8AAAAAAADgP5qZmZmZmdk\\u002fmpmZmZmZ2T8zMzMzMzPTPwAAAAAAABhAmpmZmZmZ2T\\u002fNzMzMzMzsPwAAAAAAAPg\\u002fMzMzMzMz0z+amZmZmZkBQJqZmZmZmek\\u002fmpmZmZmZuT8zMzMzMzPzPwAAAAAAAOA\\u002fmpmZmZmZuT+amZmZmZnJPzMzMzMzM9M\\u002fmpmZmZmZyT8AAAAAAAD4PzMzMzMzM9M\\u002fMzMzMzMz0z+amZmZmZnZP83MzMzMzPQ\\u002fMzMzMzMz8z+amZmZmZm5P5qZmZmZmbk\\u002fMzMzMzMz0z8zMzMzMzPTP5qZmZmZmck\\u002fmpmZmZmZuT8zMzMzMzPTPzMzMzMzM\\u002fM\\u002fMzMzMzMz0z\\u002fNzMzMzMz8PwAAAAAAAOA\\u002fmpmZmZmZuT8AAAAAAADwPzMzMzMzM9M\\u002fmpmZmZmZuT+amZmZmZkBQJqZmZmZmbk\\u002fMzMzMzMz0z8AAAAAAAD4PzMzMzMzM9M\\u002fMzMzMzMz0z8AAAAAAADgP5qZmZmZmdk\\u002fMzMzMzMz0z8zMzMzMzP7PzMzMzMzM+M\\u002fmpmZmZmZuT8AAAAAAADwPwAAAAAAAABAmpmZmZmZ2T+amZmZmZnJP5qZmZmZmbk\\u002fmpmZmZmZuT8zMzMzMzPTPzMzMzMzM+M\\u002fMzMzMzMz0z8AAAAAAADgP5qZmZmZmck\\u002fmpmZmZmZyT+amZmZmZnJP5qZmZmZmbk\\u002fmpmZmZmZ2T8AAAAAAADgP83MzMzMzPw\\u002fmpmZmZmZyT+amZmZmZnJPwAAAAAAAOA\\u002fmpmZmZmZuT+amZmZmZm5P5qZmZmZmbk\\u002fmpmZmZmZuT+amZmZmZm5P5qZmZmZmbk\\u002fmpmZmZmZuT8zMzMzMzPTPzMzMzMzM9M\\u002fAAAAAAAA4D+amZmZmZm5P5qZmZmZmbk\\u002fmpmZmZmZuT+amZmZmZn5P5qZmZmZmbk\\u002fmpmZmZmZyT8AAAAAAADgP5qZmZmZmck\\u002fmpmZmZmZ2T+amZmZmZm5P5qZmZmZmbk\\u002fAAAAAAAA4D+amZmZmZnpP5qZmZmZmck\\u002fAAAAAAAAGkCamZmZmZm5PwAAAAAAAPA\\u002fmpmZmZmZuT8AAAAAAADgPzMzMzMzM+M\\u002fMzMzMzMz0z+amZmZmZnJP83MzMzMzARAmpmZmZmZ6T+amZmZmZnJP5qZmZmZmck\\u002fmpmZmZmZ2T+amZmZmZnJPwAAAAAAAPA\\u002fzczMzMzM7D+amZmZmZm5P83MzMzMzPQ\\u002fZmZmZmZm\\u002fj+amZmZmZnJP5qZmZmZmdk\\u002fmpmZmZmZyT8zMzMzMzPTP5qZmZmZmdk\\u002fmpmZmZmZyT+amZmZmZm5P5qZmZmZmbk\\u002fMzMzMzMzA0AAAAAAAADwPzMzMzMzM9M\\u002fmpmZmZmZyT8AAAAAAADwPzMzMzMzM\\u002fM\\u002fmpmZmZmZyT8zMzMzMzPjPzMzMzMzM+M\\u002fmpmZmZmZ8T+amZmZmZnZPzMzMzMzM9M\\u002fMzMzMzMz4z+amZmZmZm5PzMzMzMzM\\u002fM\\u002fZmZmZmZm5j8AAAAAAADgPwAAAAAAAOA\\u002fmpmZmZmZuT+amZmZmZm5P5qZmZmZmbk\\u002fmpmZmZmZyT+amZmZmZm5P5qZmZmZmfk\\u002fmpmZmZmZuT8zMzMzMzPTP5qZmZmZmbk\\u002fAAAAAAAABECamZmZmZm5PzMzMzMzM\\u002fM\\u002fmpmZmZmZuT+amZmZmZm5P83MzMzMzOw\\u002fmpmZmZmZuT+amZmZmZm5PwAAAAAAAB5AmpmZmZmZuT8AAAAAAADwPwAAAAAAAOA\\u002fAAAAAAAAAEAzMzMzMzPTP5qZmZmZmbk\\u002fAAAAAAAA8D+amZmZmZm5PwAAAAAAACJAmpmZmZmZ8T8AAAAAAAAIQJqZmZmZmbk\\u002fMzMzMzMz8z8zMzMzMzPjP5qZmZmZmfE\\u002fmpmZmZmZuT+amZmZmZm5P5qZmZmZmbk\\u002fMzMzMzMz0z+amZmZmZm5PwAAAAAAAOA\\u002fmpmZmZmZyT+amZmZmZnJP5qZmZmZmdk\\u002fMzMzMzMz4z+amZmZmZnJPwAAAAAAAPA\\u002fmpmZmZmZyT+amZmZmZnJPwAAAAAAAPA\\u002fmpmZmZmZAUBmZmZmZmYCQJqZmZmZmck\\u002fAAAAAAAA4D+amZmZmZm5P5qZmZmZmbk\\u002fmpmZmZmZyT+amZmZmZm5PwAAAAAAAARAmpmZmZmZ+T8AAAAAAADwP83MzMzMzABAmpmZmZmZ6T+amZmZmZnpPzMzMzMzM+M\\u002fMzMzMzMz0z+amZmZmZm5P2ZmZmZmZuY\\u002fZmZmZmZm\\u002fj+amZmZmZnJP5qZmZmZmbk\\u002fmpmZmZmZ6T+amZmZmZnJP5qZmZmZmbk\\u002fmpmZmZmZuT8zMzMzMzPjP2ZmZmZmZuY\\u002fAAAAAAAA4D+amZmZmZnZPwAAAAAAAChAAAAAAAAAIkDNzMzMzMz8P83MzMzMzPw\\u002fzczMzMzM\\u002fD\\u002fNzMzMzMz8PzMzMzMzM\\u002fs\\u002fZmZmZmZm9j\\u002fNzMzMzMz0PzMzMzMzM\\u002fM\\u002fmpmZmZmZ8T+amZmZmZm5P5qZmZmZmbk\\u002fmpmZmZmZuT+amZmZmZm5P5qZmZmZmbk\\u002fmpmZmZmZuT+amZmZmZm5P5qZmZmZmbk\\u002fmpmZmZmZuT+amZmZmZm5P5qZmZmZmbk\\u002fmpmZmZmZuT+amZmZmZm5P5qZmZmZmbk\\u002fmpmZmZmZuT+amZmZmZm5Pw==\"},\"y0\":\" \",\"yaxis\":\"y\",\"type\":\"box\"},{\"alignmentgroup\":\"True\",\"boxpoints\":\"suspectedoutliers\",\"hovertemplate\":\"charged=%{x}\\u003cbr\\u003eWorked Time=%{y}\\u003cextra\\u003e\\u003c\\u002fextra\\u003e\",\"legendgroup\":\"No\",\"marker\":{\"color\":\"#EF553B\"},\"name\":\"No\",\"notched\":false,\"offsetgroup\":\"No\",\"orientation\":\"v\",\"showlegend\":true,\"x\":[\"No\",\"No\",\"No\",\"No\",\"No\",\"No\",\"No\",\"No\",\"No\",\"No\",\"No\",\"No\",\"No\",\"No\",\"No\",\"No\",\"No\",\"No\",\"No\",\"No\",\"No\",\"No\",\"No\",\"No\",\"No\",\"No\",\"No\",\"No\",\"No\",\"No\",\"No\",\"No\",\"No\",\"No\",\"No\",\"No\",\"No\",\"No\",\"No\",\"No\",\"No\",\"No\",\"No\",\"No\",\"No\",\"No\",\"No\",\"No\",\"No\",\"No\",\"No\",\"No\",\"No\",\"No\",\"No\",\"No\",\"No\",\"No\",\"No\",\"No\",\"No\",\"No\",\"No\",\"No\",\"No\",\"No\",\"No\",\"No\",\"No\",\"No\",\"No\",\"No\",\"No\",\"No\",\"No\",\"No\",\"No\",\"No\",\"No\",\"No\",\"No\",\"No\",\"No\",\"No\",\"No\",\"No\",\"No\",\"No\",\"No\",\"No\",\"No\",\"No\",\"No\",\"No\",\"No\",\"No\",\"No\",\"No\",\"No\",\"No\",\"No\",\"No\",\"No\",\"No\",\"No\",\"No\",\"No\",\"No\",\"No\",\"No\",\"No\",\"No\",\"No\",\"No\",\"No\",\"No\",\"No\",\"No\",\"No\",\"No\",\"No\",\"No\",\"No\",\"No\",\"No\",\"No\",\"No\",\"No\",\"No\",\"No\",\"No\",\"No\",\"No\",\"No\",\"No\",\"No\",\"No\",\"No\",\"No\",\"No\",\"No\",\"No\",\"No\",\"No\",\"No\",\"No\",\"No\",\"No\",\"No\",\"No\",\"No\",\"No\",\"No\",\"No\",\"No\",\"No\",\"No\",\"No\",\"No\",\"No\",\"No\",\"No\",\"No\",\"No\",\"No\",\"No\",\"No\",\"No\",\"No\",\"No\",\"No\",\"No\",\"No\",\"No\",\"No\",\"No\",\"No\",\"No\",\"No\",\"No\",\"No\",\"No\",\"No\",\"No\",\"No\",\"No\",\"No\",\"No\",\"No\",\"No\",\"No\",\"No\",\"No\",\"No\",\"No\",\"No\",\"No\",\"No\",\"No\",\"No\",\"No\",\"No\",\"No\",\"No\",\"No\",\"No\",\"No\",\"No\",\"No\",\"No\",\"No\",\"No\",\"No\",\"No\",\"No\",\"No\",\"No\",\"No\",\"No\",\"No\",\"No\",\"No\",\"No\",\"No\",\"No\",\"No\",\"No\",\"No\",\"No\",\"No\",\"No\",\"No\",\"No\",\"No\",\"No\",\"No\",\"No\",\"No\",\"No\",\"No\",\"No\",\"No\",\"No\",\"No\",\"No\",\"No\",\"No\",\"No\",\"No\",\"No\",\"No\",\"No\",\"No\",\"No\",\"No\",\"No\",\"No\",\"No\",\"No\",\"No\",\"No\",\"No\",\"No\",\"No\",\"No\",\"No\",\"No\",\"No\",\"No\",\"No\",\"No\",\"No\",\"No\",\"No\",\"No\",\"No\",\"No\",\"No\",\"No\",\"No\",\"No\",\"No\",\"No\",\"No\",\"No\",\"No\",\"No\",\"No\",\"No\",\"No\",\"No\",\"No\",\"No\",\"No\",\"No\",\"No\",\"No\",\"No\",\"No\",\"No\",\"No\",\"No\",\"No\",\"No\",\"No\",\"No\",\"No\",\"No\",\"No\",\"No\",\"No\",\"No\",\"No\",\"No\",\"No\",\"No\",\"No\",\"No\",\"No\",\"No\",\"No\",\"No\",\"No\",\"No\",\"No\",\"No\",\"No\",\"No\",\"No\",\"No\",\"No\",\"No\",\"No\",\"No\",\"No\",\"No\",\"No\",\"No\",\"No\",\"No\",\"No\",\"No\",\"No\",\"No\",\"No\",\"No\",\"No\",\"No\",\"No\",\"No\",\"No\",\"No\",\"No\",\"No\",\"No\",\"No\",\"No\",\"No\",\"No\",\"No\",\"No\",\"No\",\"No\",\"No\",\"No\",\"No\",\"No\",\"No\",\"No\",\"No\",\"No\",\"No\",\"No\",\"No\",\"No\",\"No\",\"No\",\"No\",\"No\"],\"x0\":\" \",\"xaxis\":\"x\",\"y\":{\"dtype\":\"f8\",\"bdata\":\"mpmZmZmZuT9mZmZmZmbmP5qZmZmZmdk\\u002fmpmZmZmZ6T8AAAAAAADgPwAAAAAAAOA\\u002fzczMzMzM7D9mZmZmZmbmPzMzMzMzM9M\\u002fMzMzMzMz0z+amZmZmZnpPwAAAAAAAOA\\u002fMzMzMzMz8z+amZmZmZm5P5qZmZmZmdk\\u002fmpmZmZmZ2T+amZmZmZnJP5qZmZmZmbk\\u002fZmZmZmZm5j\\u002fNzMzMzMzsPzMzMzMzM+M\\u002fMzMzMzMz4z8AAAAAAADgP2ZmZmZmZuY\\u002fAAAAAAAA8D8AAAAAAADwPzMzMzMzM+M\\u002fmpmZmZmZyT8zMzMzMzPjP5qZmZmZmck\\u002fzczMzMzM7D8AAAAAAADgP5qZmZmZmck\\u002fmpmZmZmZyT8zMzMzMzPjP2ZmZmZmZuY\\u002fAAAAAAAA8D+amZmZmZm5PzMzMzMzM9M\\u002fAAAAAAAA8D8zMzMzMzPzP5qZmZmZmdk\\u002fAAAAAAAA8D+amZmZmZnZPwAAAAAAAPA\\u002fMzMzMzMz4z+amZmZmZnJPzMzMzMzM9M\\u002fmpmZmZmZyT8zMzMzMzPTPwAAAAAAAPA\\u002fmpmZmZmZ2T+amZmZmZm5PzMzMzMzM+M\\u002fMzMzMzMz0z9mZmZmZmbmPwAAAAAAAOA\\u002fzczMzMzM9D8AAAAAAADwP83MzMzMzOw\\u002fAAAAAAAA8D8AAAAAAADgP5qZmZmZmck\\u002fMzMzMzMz8z+amZmZmZnZP5qZmZmZmbk\\u002fmpmZmZmZ6T+amZmZmZnZP5qZmZmZmek\\u002fmpmZmZmZ2T8zMzMzMzPzP5qZmZmZmdk\\u002fAAAAAAAA8D8AAAAAAADgPwAAAAAAAPA\\u002fAAAAAAAA4D+amZmZmZm5P5qZmZmZmdk\\u002fAAAAAAAA4D8AAAAAAADgP5qZmZmZmck\\u002fAAAAAAAAHEAzMzMzMzPjP5qZmZmZmck\\u002fZmZmZmZm5j8AAAAAAADwPwAAAAAAAARAmpmZmZmZyT+amZmZmZnxPzMzMzMzM+M\\u002fMzMzMzMz0z+amZmZmZnZPwAAAAAAAOA\\u002fmpmZmZmZ6T+amZmZmZm5PwAAAAAAAOA\\u002fZmZmZmZm9j9mZmZmZmbmP5qZmZmZmck\\u002fMzMzMzMz4z8zMzMzMzPTPzMzMzMzM9M\\u002fmpmZmZmZuT8AAAAAAADgPzMzMzMzM9M\\u002fmpmZmZmZyT\\u002fNzMzMzMzsP5qZmZmZmek\\u002fmpmZmZmZuT+amZmZmZnZP5qZmZmZmbk\\u002fAAAAAAAA4D9mZmZmZmbmPwAAAAAAAPA\\u002fmpmZmZmZyT8AAAAAAAAIQJqZmZmZmek\\u002fAAAAAAAA+D8zMzMzMzPzP5qZmZmZmbk\\u002fAAAAAAAABECamZmZmZnZP5qZmZmZmdk\\u002fAAAAAAAA8D8AAAAAAADwP5qZmZmZmbk\\u002fzczMzMzM9D+amZmZmZnJP5qZmZmZmbk\\u002fmpmZmZmZ6T\\u002fNzMzMzMzsPzMzMzMzM9M\\u002fAAAAAAAA8D+amZmZmZm5PzMzMzMzM9M\\u002fZmZmZmZm5j8AAAAAAAD4P5qZmZmZmck\\u002fAAAAAAAA8D+amZmZmZnZP2ZmZmZmZuY\\u002fMzMzMzMz0z8AAAAAAADgP5qZmZmZmbk\\u002fmpmZmZmZ6T+amZmZmZnJPzMzMzMzM9M\\u002fmpmZmZmZuT+amZmZmZm5P5qZmZmZmbk\\u002fmpmZmZmZ6T+amZmZmZm5PzMzMzMzM+M\\u002fMzMzMzMz4z+amZmZmZnJP5qZmZmZmbk\\u002fAAAAAAAA8D8AAAAAAADwP2ZmZmZmZuY\\u002fmpmZmZmZuT8zMzMzMzPTPwAAAAAAAAxAAAAAAAAA8D8AAAAAAADgPwAAAAAAAOA\\u002fAAAAAAAA8D+amZmZmZm5P5qZmZmZmdk\\u002fAAAAAAAA8D+amZmZmZm5PzMzMzMzM+M\\u002fMzMzMzMz8z+amZmZmZnJP5qZmZmZmdk\\u002fmpmZmZmZyT+amZmZmZnJP83MzMzMzOw\\u002fZmZmZmZm5j+amZmZmZnZP5qZmZmZmbk\\u002fmpmZmZmZuT+amZmZmZnJP5qZmZmZmck\\u002fmpmZmZmZuT+amZmZmZnxP2ZmZmZmZgpAmpmZmZmZyT8AAAAAAADwP5qZmZmZmek\\u002fAAAAAAAA4D8AAAAAAAAAQAAAAAAAAOA\\u002fmpmZmZmZuT+amZmZmZnJPwAAAAAAAPA\\u002fAAAAAAAA4D\\u002fNzMzMzMzsP5qZmZmZmck\\u002fmpmZmZmZ2T+amZmZmZnZP5qZmZmZmfE\\u002fmpmZmZmZ6T\\u002fNzMzMzMzsP5qZmZmZmdk\\u002fmpmZmZmZ2T+amZmZmZnpP2ZmZmZmZvY\\u002fMzMzMzMz0z+amZmZmZnJPwAAAAAAAPA\\u002fMzMzMzMz0z+amZmZmZm5PwAAAAAAAOA\\u002fmpmZmZmZ6T+amZmZmZm5PwAAAAAAAAhAmpmZmZmZuT\\u002fNzMzMzMzsPwAAAAAAAB5AmpmZmZmZuT+amZmZmZnJP83MzMzMzOw\\u002fMzMzMzMz8z8zMzMzMzPzPwAAAAAAAOA\\u002fmpmZmZmZ+T+amZmZmZnpPwAAAAAAAOA\\u002fAAAAAAAA4D+amZmZmZm5PzMzMzMzM9M\\u002fAAAAAAAA4D+amZmZmZnJP5qZmZmZmck\\u002fmpmZmZmZ2T+amZmZmZn5PzMzMzMzM9M\\u002fmpmZmZmZ8T8AAAAAAADwPzMzMzMzM9M\\u002fMzMzMzMz0z\\u002fNzMzMzMzsPzMzMzMzM+M\\u002fmpmZmZmZ2T8AAAAAAADgPwAAAAAAAARAAAAAAAAA4D+amZmZmZnZPzMzMzMzM+M\\u002fmpmZmZmZuT8zMzMzMzPjP5qZmZmZmck\\u002fAAAAAAAA4D+amZmZmZm5P2ZmZmZmZuY\\u002fAAAAAAAA+D8AAAAAAADwPwAAAAAAAPA\\u002fAAAAAAAA4D8zMzMzMzPTPzMzMzMzM+M\\u002fmpmZmZmZ2T8AAAAAAADgPwAAAAAAAOA\\u002fMzMzMzMz0z8AAAAAAADgPzMzMzMzM9M\\u002fmpmZmZmZ2T+amZmZmZm5P5qZmZmZmbk\\u002fmpmZmZmZyT9mZmZmZmbmPzMzMzMzM+M\\u002fzczMzMzM7D+amZmZmZm5P5qZmZmZmbk\\u002fMzMzMzMz0z9mZmZmZmb+P2ZmZmZmZuY\\u002fMzMzMzMz4z8zMzMzMzPzPwAAAAAAAOA\\u002fmpmZmZmZyT8AAAAAAADgPzMzMzMzM9M\\u002fmpmZmZmZyT+amZmZmZnJP5qZmZmZmck\\u002fAAAAAAAA4D8AAAAAAADgP5qZmZmZmck\\u002fMzMzMzMz0z+amZmZmZnxPwAAAAAAAOA\\u002fmpmZmZmZuT+amZmZmZnpP83MzMzMzOw\\u002fAAAAAAAA8D+amZmZmZm5P2ZmZmZmZuY\\u002fAAAAAAAA8D8AAAAAAADgPzMzMzMzM9M\\u002fZmZmZmZm5j8AAAAAAADgPzMzMzMzM9M\\u002fZmZmZmZm5j8AAAAAAADgP5qZmZmZmbk\\u002fAAAAAAAA4D+amZmZmZm5P2ZmZmZmZuY\\u002fAAAAAAAA8D\\u002fNzMzMzMzsP5qZmZmZmck\\u002fAAAAAAAAEEAzMzMzMzPTP5qZmZmZmck\\u002fmpmZmZmZuT8AAAAAAAAeQDMzMzMzM9M\\u002fmpmZmZmZuT9mZmZmZmbmP5qZmZmZmbk\\u002fmpmZmZmZ2T8AAAAAAADwPwAAAAAAAOA\\u002fMzMzMzMz4z+amZmZmZnxP5qZmZmZmek\\u002fMzMzMzMz0z+amZmZmZm5PzMzMzMzM9M\\u002fmpmZmZmZ8T8zMzMzMzPTP5qZmZmZmbk\\u002fMzMzMzMz0z8AAAAAAADgP5qZmZmZmdk\\u002fmpmZmZmZyT+amZmZmZnxP5qZmZmZmck\\u002fmpmZmZmZ6T8AAAAAAADwPwAAAAAAAOA\\u002fMzMzMzMz0z+amZmZmZm5P5qZmZmZmQFAZmZmZmZm5j+amZmZmZm5P2ZmZmZmZuY\\u002fAAAAAAAA8D9mZmZmZmbmP83MzMzMzOw\\u002fmpmZmZmZyT8zMzMzMzPTP5qZmZmZmbk\\u002fmpmZmZmZyT8zMzMzMzPTP5qZmZmZmck\\u002fmpmZmZmZyT8zMzMzMzPjP5qZmZmZmck\\u002fMzMzMzMz0z8zMzMzMzPTPzMzMzMzM+M\\u002fmpmZmZmZ6T8AAAAAAAAIQDMzMzMzM+M\\u002fmpmZmZmZ2T8AAAAAAADgPwAAAAAAAPA\\u002fMzMzMzMzB0CamZmZmZnJP5qZmZmZmbk\\u002fmpmZmZmZuT+amZmZmZnJPwAAAAAAAPg\\u002fmpmZmZmZuT8=\"},\"y0\":\" \",\"yaxis\":\"y\",\"type\":\"box\"}],                        {\"template\":{\"data\":{\"barpolar\":[{\"marker\":{\"line\":{\"color\":\"white\",\"width\":0.5},\"pattern\":{\"fillmode\":\"overlay\",\"size\":10,\"solidity\":0.2}},\"type\":\"barpolar\"}],\"bar\":[{\"error_x\":{\"color\":\"rgb(36,36,36)\"},\"error_y\":{\"color\":\"rgb(36,36,36)\"},\"marker\":{\"line\":{\"color\":\"white\",\"width\":0.5},\"pattern\":{\"fillmode\":\"overlay\",\"size\":10,\"solidity\":0.2}},\"type\":\"bar\"}],\"carpet\":[{\"aaxis\":{\"endlinecolor\":\"rgb(36,36,36)\",\"gridcolor\":\"white\",\"linecolor\":\"white\",\"minorgridcolor\":\"white\",\"startlinecolor\":\"rgb(36,36,36)\"},\"baxis\":{\"endlinecolor\":\"rgb(36,36,36)\",\"gridcolor\":\"white\",\"linecolor\":\"white\",\"minorgridcolor\":\"white\",\"startlinecolor\":\"rgb(36,36,36)\"},\"type\":\"carpet\"}],\"choropleth\":[{\"colorbar\":{\"outlinewidth\":1,\"tickcolor\":\"rgb(36,36,36)\",\"ticks\":\"outside\"},\"type\":\"choropleth\"}],\"contourcarpet\":[{\"colorbar\":{\"outlinewidth\":1,\"tickcolor\":\"rgb(36,36,36)\",\"ticks\":\"outside\"},\"type\":\"contourcarpet\"}],\"contour\":[{\"colorbar\":{\"outlinewidth\":1,\"tickcolor\":\"rgb(36,36,36)\",\"ticks\":\"outside\"},\"colorscale\":[[0.0,\"#440154\"],[0.1111111111111111,\"#482878\"],[0.2222222222222222,\"#3e4989\"],[0.3333333333333333,\"#31688e\"],[0.4444444444444444,\"#26828e\"],[0.5555555555555556,\"#1f9e89\"],[0.6666666666666666,\"#35b779\"],[0.7777777777777778,\"#6ece58\"],[0.8888888888888888,\"#b5de2b\"],[1.0,\"#fde725\"]],\"type\":\"contour\"}],\"heatmap\":[{\"colorbar\":{\"outlinewidth\":1,\"tickcolor\":\"rgb(36,36,36)\",\"ticks\":\"outside\"},\"colorscale\":[[0.0,\"#440154\"],[0.1111111111111111,\"#482878\"],[0.2222222222222222,\"#3e4989\"],[0.3333333333333333,\"#31688e\"],[0.4444444444444444,\"#26828e\"],[0.5555555555555556,\"#1f9e89\"],[0.6666666666666666,\"#35b779\"],[0.7777777777777778,\"#6ece58\"],[0.8888888888888888,\"#b5de2b\"],[1.0,\"#fde725\"]],\"type\":\"heatmap\"}],\"histogram2dcontour\":[{\"colorbar\":{\"outlinewidth\":1,\"tickcolor\":\"rgb(36,36,36)\",\"ticks\":\"outside\"},\"colorscale\":[[0.0,\"#440154\"],[0.1111111111111111,\"#482878\"],[0.2222222222222222,\"#3e4989\"],[0.3333333333333333,\"#31688e\"],[0.4444444444444444,\"#26828e\"],[0.5555555555555556,\"#1f9e89\"],[0.6666666666666666,\"#35b779\"],[0.7777777777777778,\"#6ece58\"],[0.8888888888888888,\"#b5de2b\"],[1.0,\"#fde725\"]],\"type\":\"histogram2dcontour\"}],\"histogram2d\":[{\"colorbar\":{\"outlinewidth\":1,\"tickcolor\":\"rgb(36,36,36)\",\"ticks\":\"outside\"},\"colorscale\":[[0.0,\"#440154\"],[0.1111111111111111,\"#482878\"],[0.2222222222222222,\"#3e4989\"],[0.3333333333333333,\"#31688e\"],[0.4444444444444444,\"#26828e\"],[0.5555555555555556,\"#1f9e89\"],[0.6666666666666666,\"#35b779\"],[0.7777777777777778,\"#6ece58\"],[0.8888888888888888,\"#b5de2b\"],[1.0,\"#fde725\"]],\"type\":\"histogram2d\"}],\"histogram\":[{\"marker\":{\"line\":{\"color\":\"white\",\"width\":0.6}},\"type\":\"histogram\"}],\"mesh3d\":[{\"colorbar\":{\"outlinewidth\":1,\"tickcolor\":\"rgb(36,36,36)\",\"ticks\":\"outside\"},\"type\":\"mesh3d\"}],\"parcoords\":[{\"line\":{\"colorbar\":{\"outlinewidth\":1,\"tickcolor\":\"rgb(36,36,36)\",\"ticks\":\"outside\"}},\"type\":\"parcoords\"}],\"pie\":[{\"automargin\":true,\"type\":\"pie\"}],\"scatter3d\":[{\"line\":{\"colorbar\":{\"outlinewidth\":1,\"tickcolor\":\"rgb(36,36,36)\",\"ticks\":\"outside\"}},\"marker\":{\"colorbar\":{\"outlinewidth\":1,\"tickcolor\":\"rgb(36,36,36)\",\"ticks\":\"outside\"}},\"type\":\"scatter3d\"}],\"scattercarpet\":[{\"marker\":{\"colorbar\":{\"outlinewidth\":1,\"tickcolor\":\"rgb(36,36,36)\",\"ticks\":\"outside\"}},\"type\":\"scattercarpet\"}],\"scattergeo\":[{\"marker\":{\"colorbar\":{\"outlinewidth\":1,\"tickcolor\":\"rgb(36,36,36)\",\"ticks\":\"outside\"}},\"type\":\"scattergeo\"}],\"scattergl\":[{\"marker\":{\"colorbar\":{\"outlinewidth\":1,\"tickcolor\":\"rgb(36,36,36)\",\"ticks\":\"outside\"}},\"type\":\"scattergl\"}],\"scattermapbox\":[{\"marker\":{\"colorbar\":{\"outlinewidth\":1,\"tickcolor\":\"rgb(36,36,36)\",\"ticks\":\"outside\"}},\"type\":\"scattermapbox\"}],\"scattermap\":[{\"marker\":{\"colorbar\":{\"outlinewidth\":1,\"tickcolor\":\"rgb(36,36,36)\",\"ticks\":\"outside\"}},\"type\":\"scattermap\"}],\"scatterpolargl\":[{\"marker\":{\"colorbar\":{\"outlinewidth\":1,\"tickcolor\":\"rgb(36,36,36)\",\"ticks\":\"outside\"}},\"type\":\"scatterpolargl\"}],\"scatterpolar\":[{\"marker\":{\"colorbar\":{\"outlinewidth\":1,\"tickcolor\":\"rgb(36,36,36)\",\"ticks\":\"outside\"}},\"type\":\"scatterpolar\"}],\"scatter\":[{\"fillpattern\":{\"fillmode\":\"overlay\",\"size\":10,\"solidity\":0.2},\"type\":\"scatter\"}],\"scatterternary\":[{\"marker\":{\"colorbar\":{\"outlinewidth\":1,\"tickcolor\":\"rgb(36,36,36)\",\"ticks\":\"outside\"}},\"type\":\"scatterternary\"}],\"surface\":[{\"colorbar\":{\"outlinewidth\":1,\"tickcolor\":\"rgb(36,36,36)\",\"ticks\":\"outside\"},\"colorscale\":[[0.0,\"#440154\"],[0.1111111111111111,\"#482878\"],[0.2222222222222222,\"#3e4989\"],[0.3333333333333333,\"#31688e\"],[0.4444444444444444,\"#26828e\"],[0.5555555555555556,\"#1f9e89\"],[0.6666666666666666,\"#35b779\"],[0.7777777777777778,\"#6ece58\"],[0.8888888888888888,\"#b5de2b\"],[1.0,\"#fde725\"]],\"type\":\"surface\"}],\"table\":[{\"cells\":{\"fill\":{\"color\":\"rgb(237,237,237)\"},\"line\":{\"color\":\"white\"}},\"header\":{\"fill\":{\"color\":\"rgb(217,217,217)\"},\"line\":{\"color\":\"white\"}},\"type\":\"table\"}]},\"layout\":{\"annotationdefaults\":{\"arrowhead\":0,\"arrowwidth\":1},\"autotypenumbers\":\"strict\",\"coloraxis\":{\"colorbar\":{\"outlinewidth\":1,\"tickcolor\":\"rgb(36,36,36)\",\"ticks\":\"outside\"}},\"colorscale\":{\"diverging\":[[0.0,\"rgb(103,0,31)\"],[0.1,\"rgb(178,24,43)\"],[0.2,\"rgb(214,96,77)\"],[0.3,\"rgb(244,165,130)\"],[0.4,\"rgb(253,219,199)\"],[0.5,\"rgb(247,247,247)\"],[0.6,\"rgb(209,229,240)\"],[0.7,\"rgb(146,197,222)\"],[0.8,\"rgb(67,147,195)\"],[0.9,\"rgb(33,102,172)\"],[1.0,\"rgb(5,48,97)\"]],\"sequential\":[[0.0,\"#440154\"],[0.1111111111111111,\"#482878\"],[0.2222222222222222,\"#3e4989\"],[0.3333333333333333,\"#31688e\"],[0.4444444444444444,\"#26828e\"],[0.5555555555555556,\"#1f9e89\"],[0.6666666666666666,\"#35b779\"],[0.7777777777777778,\"#6ece58\"],[0.8888888888888888,\"#b5de2b\"],[1.0,\"#fde725\"]],\"sequentialminus\":[[0.0,\"#440154\"],[0.1111111111111111,\"#482878\"],[0.2222222222222222,\"#3e4989\"],[0.3333333333333333,\"#31688e\"],[0.4444444444444444,\"#26828e\"],[0.5555555555555556,\"#1f9e89\"],[0.6666666666666666,\"#35b779\"],[0.7777777777777778,\"#6ece58\"],[0.8888888888888888,\"#b5de2b\"],[1.0,\"#fde725\"]]},\"colorway\":[\"#1F77B4\",\"#FF7F0E\",\"#2CA02C\",\"#D62728\",\"#9467BD\",\"#8C564B\",\"#E377C2\",\"#7F7F7F\",\"#BCBD22\",\"#17BECF\"],\"font\":{\"color\":\"rgb(36,36,36)\"},\"geo\":{\"bgcolor\":\"white\",\"lakecolor\":\"white\",\"landcolor\":\"white\",\"showlakes\":true,\"showland\":true,\"subunitcolor\":\"white\"},\"hoverlabel\":{\"align\":\"left\"},\"hovermode\":\"closest\",\"mapbox\":{\"style\":\"light\"},\"paper_bgcolor\":\"white\",\"plot_bgcolor\":\"white\",\"polar\":{\"angularaxis\":{\"gridcolor\":\"rgb(232,232,232)\",\"linecolor\":\"rgb(36,36,36)\",\"showgrid\":false,\"showline\":true,\"ticks\":\"outside\"},\"bgcolor\":\"white\",\"radialaxis\":{\"gridcolor\":\"rgb(232,232,232)\",\"linecolor\":\"rgb(36,36,36)\",\"showgrid\":false,\"showline\":true,\"ticks\":\"outside\"}},\"scene\":{\"xaxis\":{\"backgroundcolor\":\"white\",\"gridcolor\":\"rgb(232,232,232)\",\"gridwidth\":2,\"linecolor\":\"rgb(36,36,36)\",\"showbackground\":true,\"showgrid\":false,\"showline\":true,\"ticks\":\"outside\",\"zeroline\":false,\"zerolinecolor\":\"rgb(36,36,36)\"},\"yaxis\":{\"backgroundcolor\":\"white\",\"gridcolor\":\"rgb(232,232,232)\",\"gridwidth\":2,\"linecolor\":\"rgb(36,36,36)\",\"showbackground\":true,\"showgrid\":false,\"showline\":true,\"ticks\":\"outside\",\"zeroline\":false,\"zerolinecolor\":\"rgb(36,36,36)\"},\"zaxis\":{\"backgroundcolor\":\"white\",\"gridcolor\":\"rgb(232,232,232)\",\"gridwidth\":2,\"linecolor\":\"rgb(36,36,36)\",\"showbackground\":true,\"showgrid\":false,\"showline\":true,\"ticks\":\"outside\",\"zeroline\":false,\"zerolinecolor\":\"rgb(36,36,36)\"}},\"shapedefaults\":{\"fillcolor\":\"black\",\"line\":{\"width\":0},\"opacity\":0.3},\"ternary\":{\"aaxis\":{\"gridcolor\":\"rgb(232,232,232)\",\"linecolor\":\"rgb(36,36,36)\",\"showgrid\":false,\"showline\":true,\"ticks\":\"outside\"},\"baxis\":{\"gridcolor\":\"rgb(232,232,232)\",\"linecolor\":\"rgb(36,36,36)\",\"showgrid\":false,\"showline\":true,\"ticks\":\"outside\"},\"bgcolor\":\"white\",\"caxis\":{\"gridcolor\":\"rgb(232,232,232)\",\"linecolor\":\"rgb(36,36,36)\",\"showgrid\":false,\"showline\":true,\"ticks\":\"outside\"}},\"title\":{\"x\":0.05},\"xaxis\":{\"automargin\":true,\"gridcolor\":\"rgb(232,232,232)\",\"linecolor\":\"rgb(36,36,36)\",\"showgrid\":false,\"showline\":true,\"ticks\":\"outside\",\"title\":{\"standoff\":15},\"zeroline\":false,\"zerolinecolor\":\"rgb(36,36,36)\"},\"yaxis\":{\"automargin\":true,\"gridcolor\":\"rgb(232,232,232)\",\"linecolor\":\"rgb(36,36,36)\",\"showgrid\":false,\"showline\":true,\"ticks\":\"outside\",\"title\":{\"standoff\":15},\"zeroline\":false,\"zerolinecolor\":\"rgb(36,36,36)\"}}},\"xaxis\":{\"anchor\":\"y\",\"domain\":[0.0,1.0],\"title\":{},\"categoryorder\":\"array\",\"categoryarray\":[\"Yes\",\"No\"]},\"yaxis\":{\"anchor\":\"x\",\"domain\":[0.0,1.0],\"title\":{\"text\":\"Hours\"}},\"legend\":{\"title\":{\"text\":\"charged\"},\"tracegroupgap\":0},\"title\":{\"text\":\"Worked Time vs Charged?\"},\"boxmode\":\"overlay\"},                        {\"responsive\": true}                    ).then(function(){\n",
       "                            \n",
       "var gd = document.getElementById('ce7e70a8-ccd9-4d85-81f1-caad9675c11d');\n",
       "var x = new MutationObserver(function (mutations, observer) {{\n",
       "        var display = window.getComputedStyle(gd).display;\n",
       "        if (!display || display === 'none') {{\n",
       "            console.log([gd, 'removed!']);\n",
       "            Plotly.purge(gd);\n",
       "            observer.disconnect();\n",
       "        }}\n",
       "}});\n",
       "\n",
       "// Listen for the removal of the full notebook cells\n",
       "var notebookContainer = gd.closest('#notebook-container');\n",
       "if (notebookContainer) {{\n",
       "    x.observe(notebookContainer, {childList: true});\n",
       "}}\n",
       "\n",
       "// Listen for the clearing of the current output cell\n",
       "var outputEl = gd.closest('.output');\n",
       "if (outputEl) {{\n",
       "    x.observe(outputEl, {childList: true});\n",
       "}}\n",
       "\n",
       "                        })                };            </script>        </div>"
      ]
     },
     "metadata": {},
     "output_type": "display_data"
    }
   ],
   "source": [
    "dfv = df.assign(charged=df[\"Charged to Client?\"].str.upper().map({\"YES\": \"Yes\", \"NO\": \"No\"}))\n",
    "\n",
    "fig = px.box(\n",
    "    dfv, x=\"charged\", y=\"Worked Time\", color=\"charged\",\n",
    "    title=\"Worked Time vs Charged?\",\n",
    "    points=\"suspectedoutliers\",\n",
    ")\n",
    "fig.update_layout(template=\"simple_white\", xaxis_title=None, yaxis_title=\"Hours\")\n",
    "fig.show()"
   ]
  },
  {
   "cell_type": "code",
   "execution_count": 26,
   "id": "0f68e115",
   "metadata": {},
   "outputs": [
    {
     "data": {
      "application/vnd.microsoft.datawrangler.viewer.v0+json": {
       "columns": [
        {
         "name": "charged",
         "rawType": "object",
         "type": "string"
        },
        {
         "name": "count",
         "rawType": "int64",
         "type": "integer"
        },
        {
         "name": "median",
         "rawType": "float64",
         "type": "float"
        },
        {
         "name": "mean",
         "rawType": "float64",
         "type": "float"
        }
       ],
       "ref": "3f044725-486a-4ebb-a6b4-1a292e4d9d8a",
       "rows": [
        [
         "No",
         "379",
         "0.5",
         "0.66"
        ],
        [
         "Yes",
         "1778",
         "0.3",
         "0.58"
        ]
       ],
       "shape": {
        "columns": 3,
        "rows": 2
       }
      },
      "text/html": [
       "<div>\n",
       "<style scoped>\n",
       "    .dataframe tbody tr th:only-of-type {\n",
       "        vertical-align: middle;\n",
       "    }\n",
       "\n",
       "    .dataframe tbody tr th {\n",
       "        vertical-align: top;\n",
       "    }\n",
       "\n",
       "    .dataframe thead th {\n",
       "        text-align: right;\n",
       "    }\n",
       "</style>\n",
       "<table border=\"1\" class=\"dataframe\">\n",
       "  <thead>\n",
       "    <tr style=\"text-align: right;\">\n",
       "      <th></th>\n",
       "      <th>count</th>\n",
       "      <th>median</th>\n",
       "      <th>mean</th>\n",
       "    </tr>\n",
       "    <tr>\n",
       "      <th>charged</th>\n",
       "      <th></th>\n",
       "      <th></th>\n",
       "      <th></th>\n",
       "    </tr>\n",
       "  </thead>\n",
       "  <tbody>\n",
       "    <tr>\n",
       "      <th>No</th>\n",
       "      <td>379</td>\n",
       "      <td>0.5</td>\n",
       "      <td>0.66</td>\n",
       "    </tr>\n",
       "    <tr>\n",
       "      <th>Yes</th>\n",
       "      <td>1778</td>\n",
       "      <td>0.3</td>\n",
       "      <td>0.58</td>\n",
       "    </tr>\n",
       "  </tbody>\n",
       "</table>\n",
       "</div>"
      ],
      "text/plain": [
       "         count  median  mean\n",
       "charged                     \n",
       "No         379     0.5  0.66\n",
       "Yes       1778     0.3  0.58"
      ]
     },
     "execution_count": 26,
     "metadata": {},
     "output_type": "execute_result"
    }
   ],
   "source": [
    "dfv.groupby(\"charged\")[\"Worked Time\"].agg(count=\"size\", median=\"median\", mean=\"mean\").round(2)"
   ]
  },
  {
   "cell_type": "markdown",
   "id": "478136ee",
   "metadata": {},
   "source": [
    "Why we did it\n",
    "To compare the time distribution of entries that were charged to client vs not charged. This tells us if “Worked Time” is a useful signal and where money leaks might be.\n",
    "\n",
    "What it shows (your numbers)\n",
    "Counts: Yes = 1,778, No = 379 → most entries are charged.\n",
    "\n",
    "Medians: Yes 0.3h, No 0.5h → non-charged entries are slightly longer on average.\n",
    "\n",
    "Means: Yes 0.58h, No 0.66h.\n",
    "\n",
    "Tail: Charged has big outliers (6–12h court days etc.). Non-charged rarely that long.\n",
    "\n",
    "Why this is useful\n",
    "Feature design: Keep “Worked Time” as a feature. Consider bucketing (≤0.25, 0.25–0.75, 0.75–2, >2h) and/or a log transform or winsorising the top 1–5% to reduce outlier impact.\n",
    "\n",
    "Interactions: Time × Grade can help (e.g., long Partner hours vs Admin).\n",
    "\n",
    "Business talking point: There are long non-billable blocks (median 0.5h) → potential recovery/efficiency opportunity. Also shows where revenue lives (very long charged sessions).\n",
    "\n",
    "Monitoring later: Track avg non-billable worked time as a KPI.\n",
    "\n",
    "Is the visual useful?\n",
    "Yes. For non-technical stakeholders it clearly shows:\n",
    "\n",
    "non-billable entries aren’t just tiny scraps; they can be chunky,\n",
    "\n",
    "the fat right tail of charged work = big revenue sessions."
   ]
  },
  {
   "cell_type": "markdown",
   "id": "8f9fd83f",
   "metadata": {},
   "source": []
  }
 ],
 "metadata": {
  "kernelspec": {
   "display_name": ".venv (3.13.1)",
   "language": "python",
   "name": "python3"
  },
  "language_info": {
   "codemirror_mode": {
    "name": "ipython",
    "version": 3
   },
   "file_extension": ".py",
   "mimetype": "text/x-python",
   "name": "python",
   "nbconvert_exporter": "python",
   "pygments_lexer": "ipython3",
   "version": "3.13.1"
  }
 },
 "nbformat": 4,
 "nbformat_minor": 5
}
