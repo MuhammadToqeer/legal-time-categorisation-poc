{
 "cells": [
  {
   "cell_type": "code",
   "execution_count": null,
   "id": "3a2b93b5",
   "metadata": {},
   "outputs": [],
   "source": [
    "from pathlib import Path\n",
    "import pandas as pd\n",
    "import plotly.express as px\n",
    "import plotly.io as pio\n",
    "import re\n",
    "from collections import Counter\n",
    "\n",
    "pio.renderers.default = \"vscode\"       \n",
    "pio.renderers.default = \"notebook_connected\"\n"
   ]
  },
  {
   "cell_type": "code",
   "execution_count": 2,
   "id": "1c4c0cac",
   "metadata": {},
   "outputs": [],
   "source": [
    "REPO_ROOT = Path.cwd().parent\n",
    "DATA_PATH = REPO_ROOT / \"data\" / \"interview_task_dataset.csv\"\n",
    "assert DATA_PATH.exists(), f\"File not found: {DATA_PATH.resolve()}\""
   ]
  },
  {
   "cell_type": "markdown",
   "id": "88ea2f0b",
   "metadata": {},
   "source": [
    "## Load + Inspect, then Label Sparsity"
   ]
  },
  {
   "cell_type": "code",
   "execution_count": 3,
   "id": "cab66e15",
   "metadata": {},
   "outputs": [
    {
     "data": {
      "application/vnd.microsoft.datawrangler.viewer.v0+json": {
       "columns": [
        {
         "name": "index",
         "rawType": "int64",
         "type": "integer"
        },
        {
         "name": "Record ID",
         "rawType": "object",
         "type": "string"
        },
        {
         "name": "Department",
         "rawType": "object",
         "type": "string"
        },
        {
         "name": "Time Narrative",
         "rawType": "object",
         "type": "string"
        },
        {
         "name": "Worked Time",
         "rawType": "float64",
         "type": "float"
        },
        {
         "name": "Charged to Client?",
         "rawType": "object",
         "type": "string"
        },
        {
         "name": "Grade",
         "rawType": "object",
         "type": "string"
        },
        {
         "name": "Category",
         "rawType": "object",
         "type": "unknown"
        }
       ],
       "ref": "795dc2bb-28d8-4e08-8f63-831ce9331fd4",
       "rows": [
        [
         "0",
         "p-0001",
         "a",
         "Amending and updating statement",
         "0.4",
         "YES",
         "Senior",
         null
        ],
        [
         "1",
         "p-0002",
         "a",
         "Reviewed court order and drafted advice email to client",
         "1.3",
         "YES",
         "Junior",
         null
        ],
        [
         "2",
         "p-0003",
         "a",
         "considering email in from counsel attaching FDA note",
         "0.3",
         "YES",
         "Junior",
         "analyse, review, research"
        ]
       ],
       "shape": {
        "columns": 7,
        "rows": 3
       }
      },
      "text/html": [
       "<div>\n",
       "<style scoped>\n",
       "    .dataframe tbody tr th:only-of-type {\n",
       "        vertical-align: middle;\n",
       "    }\n",
       "\n",
       "    .dataframe tbody tr th {\n",
       "        vertical-align: top;\n",
       "    }\n",
       "\n",
       "    .dataframe thead th {\n",
       "        text-align: right;\n",
       "    }\n",
       "</style>\n",
       "<table border=\"1\" class=\"dataframe\">\n",
       "  <thead>\n",
       "    <tr style=\"text-align: right;\">\n",
       "      <th></th>\n",
       "      <th>Record ID</th>\n",
       "      <th>Department</th>\n",
       "      <th>Time Narrative</th>\n",
       "      <th>Worked Time</th>\n",
       "      <th>Charged to Client?</th>\n",
       "      <th>Grade</th>\n",
       "      <th>Category</th>\n",
       "    </tr>\n",
       "  </thead>\n",
       "  <tbody>\n",
       "    <tr>\n",
       "      <th>0</th>\n",
       "      <td>p-0001</td>\n",
       "      <td>a</td>\n",
       "      <td>Amending and updating statement</td>\n",
       "      <td>0.4</td>\n",
       "      <td>YES</td>\n",
       "      <td>Senior</td>\n",
       "      <td>NaN</td>\n",
       "    </tr>\n",
       "    <tr>\n",
       "      <th>1</th>\n",
       "      <td>p-0002</td>\n",
       "      <td>a</td>\n",
       "      <td>Reviewed court order and drafted advice email ...</td>\n",
       "      <td>1.3</td>\n",
       "      <td>YES</td>\n",
       "      <td>Junior</td>\n",
       "      <td>NaN</td>\n",
       "    </tr>\n",
       "    <tr>\n",
       "      <th>2</th>\n",
       "      <td>p-0003</td>\n",
       "      <td>a</td>\n",
       "      <td>considering email in from counsel attaching FD...</td>\n",
       "      <td>0.3</td>\n",
       "      <td>YES</td>\n",
       "      <td>Junior</td>\n",
       "      <td>analyse, review, research</td>\n",
       "    </tr>\n",
       "  </tbody>\n",
       "</table>\n",
       "</div>"
      ],
      "text/plain": [
       "  Record ID Department                                     Time Narrative  \\\n",
       "0    p-0001          a                    Amending and updating statement   \n",
       "1    p-0002          a  Reviewed court order and drafted advice email ...   \n",
       "2    p-0003          a  considering email in from counsel attaching FD...   \n",
       "\n",
       "   Worked Time Charged to Client?   Grade                   Category  \n",
       "0          0.4                YES  Senior                        NaN  \n",
       "1          1.3                YES  Junior                        NaN  \n",
       "2          0.3                YES  Junior  analyse, review, research  "
      ]
     },
     "execution_count": 3,
     "metadata": {},
     "output_type": "execute_result"
    }
   ],
   "source": [
    "df = pd.read_csv(DATA_PATH)\n",
    "df.head(3)"
   ]
  },
  {
   "cell_type": "code",
   "execution_count": 4,
   "id": "b6c0194c",
   "metadata": {},
   "outputs": [
    {
     "data": {
      "text/plain": [
       "(2157, 7)"
      ]
     },
     "execution_count": 4,
     "metadata": {},
     "output_type": "execute_result"
    }
   ],
   "source": [
    "df.shape"
   ]
  },
  {
   "cell_type": "code",
   "execution_count": 6,
   "id": "e1fc4086",
   "metadata": {},
   "outputs": [
    {
     "name": "stdout",
     "output_type": "stream",
     "text": [
      "<class 'pandas.core.frame.DataFrame'>\n",
      "RangeIndex: 2157 entries, 0 to 2156\n",
      "Data columns (total 7 columns):\n",
      " #   Column              Non-Null Count  Dtype  \n",
      "---  ------              --------------  -----  \n",
      " 0   Record ID           2157 non-null   object \n",
      " 1   Department          2157 non-null   object \n",
      " 2   Time Narrative      2157 non-null   object \n",
      " 3   Worked Time         2157 non-null   float64\n",
      " 4   Charged to Client?  2157 non-null   object \n",
      " 5   Grade               2157 non-null   object \n",
      " 6   Category            561 non-null    object \n",
      "dtypes: float64(1), object(6)\n",
      "memory usage: 118.1+ KB\n"
     ]
    }
   ],
   "source": [
    "df.info()"
   ]
  },
  {
   "cell_type": "code",
   "execution_count": 7,
   "id": "94ae57b8",
   "metadata": {},
   "outputs": [
    {
     "name": "stdout",
     "output_type": "stream",
     "text": [
      "\n",
      "Labelled:   561\n",
      "Unlabelled: 1,596\n",
      "Share labelled: 26.0%\n"
     ]
    }
   ],
   "source": [
    "labelled = df['Category'].notna().sum()\n",
    "unlabelled = df['Category'].isna().sum()\n",
    "share = labelled / len(df) * 100\n",
    "\n",
    "print(f\"\\nLabelled:   {labelled:,}\")\n",
    "print(f\"Unlabelled: {unlabelled:,}\")\n",
    "print(f\"Share labelled: {share:.1f}%\")"
   ]
  },
  {
   "cell_type": "markdown",
   "id": "e35ae165",
   "metadata": {},
   "source": [
    "## Label distribution (only on labelled rows)"
   ]
  },
  {
   "cell_type": "code",
   "execution_count": 8,
   "id": "23c0e508",
   "metadata": {},
   "outputs": [
    {
     "data": {
      "application/vnd.microsoft.datawrangler.viewer.v0+json": {
       "columns": [
        {
         "name": "index",
         "rawType": "int64",
         "type": "integer"
        },
        {
         "name": "Grade",
         "rawType": "object",
         "type": "string"
        },
        {
         "name": "rows",
         "rawType": "int64",
         "type": "integer"
        },
        {
         "name": "charged_yes",
         "rawType": "int64",
         "type": "integer"
        },
        {
         "name": "charged_%",
         "rawType": "float64",
         "type": "float"
        }
       ],
       "ref": "94c288e8-7b99-4581-807f-1df138c50101",
       "rows": [
        [
         "0",
         "Junior",
         "893",
         "686",
         "76.8"
        ],
        [
         "1",
         "Partner",
         "268",
         "224",
         "83.6"
        ],
        [
         "2",
         "Senior",
         "996",
         "868",
         "87.1"
        ]
       ],
       "shape": {
        "columns": 4,
        "rows": 3
       }
      },
      "text/html": [
       "<div>\n",
       "<style scoped>\n",
       "    .dataframe tbody tr th:only-of-type {\n",
       "        vertical-align: middle;\n",
       "    }\n",
       "\n",
       "    .dataframe tbody tr th {\n",
       "        vertical-align: top;\n",
       "    }\n",
       "\n",
       "    .dataframe thead th {\n",
       "        text-align: right;\n",
       "    }\n",
       "</style>\n",
       "<table border=\"1\" class=\"dataframe\">\n",
       "  <thead>\n",
       "    <tr style=\"text-align: right;\">\n",
       "      <th></th>\n",
       "      <th>Grade</th>\n",
       "      <th>rows</th>\n",
       "      <th>charged_yes</th>\n",
       "      <th>charged_%</th>\n",
       "    </tr>\n",
       "  </thead>\n",
       "  <tbody>\n",
       "    <tr>\n",
       "      <th>0</th>\n",
       "      <td>Junior</td>\n",
       "      <td>893</td>\n",
       "      <td>686</td>\n",
       "      <td>76.8</td>\n",
       "    </tr>\n",
       "    <tr>\n",
       "      <th>1</th>\n",
       "      <td>Partner</td>\n",
       "      <td>268</td>\n",
       "      <td>224</td>\n",
       "      <td>83.6</td>\n",
       "    </tr>\n",
       "    <tr>\n",
       "      <th>2</th>\n",
       "      <td>Senior</td>\n",
       "      <td>996</td>\n",
       "      <td>868</td>\n",
       "      <td>87.1</td>\n",
       "    </tr>\n",
       "  </tbody>\n",
       "</table>\n",
       "</div>"
      ],
      "text/plain": [
       "     Grade  rows  charged_yes  charged_%\n",
       "0   Junior   893          686       76.8\n",
       "1  Partner   268          224       83.6\n",
       "2   Senior   996          868       87.1"
      ]
     },
     "execution_count": 8,
     "metadata": {},
     "output_type": "execute_result"
    }
   ],
   "source": [
    "tbl = (\n",
    "    df.assign(charged=df[\"Charged to Client?\"].str.upper().eq(\"YES\"))\n",
    "      .groupby(\"Grade\", as_index=False)\n",
    "      .agg(rows=(\"charged\", \"size\"), charged_yes=(\"charged\", \"sum\"))\n",
    ")\n",
    "tbl[\"charged_%\"] = (tbl[\"charged_yes\"] / tbl[\"rows\"] * 100).round(1)\n",
    "tbl.sort_values(\"Grade\", inplace=True)\n",
    "\n",
    "tbl"
   ]
  },
  {
   "cell_type": "code",
   "execution_count": null,
   "id": "2f510d22",
   "metadata": {},
   "outputs": [
    {
     "data": {
      "text/html": [
       "        <script type=\"text/javascript\">\n",
       "        window.PlotlyConfig = {MathJaxConfig: 'local'};\n",
       "        if (window.MathJax && window.MathJax.Hub && window.MathJax.Hub.Config) {window.MathJax.Hub.Config({SVG: {font: \"STIX-Web\"}});}\n",
       "        </script>\n",
       "        <script type=\"module\">import \"https://cdn.plot.ly/plotly-3.1.0.min\"</script>\n",
       "        "
      ]
     },
     "metadata": {},
     "output_type": "display_data"
    },
    {
     "data": {
      "text/html": [
       "<div>            <script src=\"https://cdnjs.cloudflare.com/ajax/libs/mathjax/2.7.5/MathJax.js?config=TeX-AMS-MML_SVG\"></script><script type=\"text/javascript\">if (window.MathJax && window.MathJax.Hub && window.MathJax.Hub.Config) {window.MathJax.Hub.Config({SVG: {font: \"STIX-Web\"}});}</script>                <script type=\"text/javascript\">window.PlotlyConfig = {MathJaxConfig: 'local'};</script>\n",
       "        <script charset=\"utf-8\" src=\"https://cdn.plot.ly/plotly-3.1.0.min.js\" integrity=\"sha256-Ei4740bWZhaUTQuD6q9yQlgVCMPBz6CZWhevDYPv93A=\" crossorigin=\"anonymous\"></script>                <div id=\"2d976924-cab1-4a99-9c04-ee72f69ed636\" class=\"plotly-graph-div\" style=\"height:525px; width:100%;\"></div>            <script type=\"text/javascript\">                window.PLOTLYENV=window.PLOTLYENV || {};                                if (document.getElementById(\"2d976924-cab1-4a99-9c04-ee72f69ed636\")) {                    Plotly.newPlot(                        \"2d976924-cab1-4a99-9c04-ee72f69ed636\",                        [{\"hovertemplate\":\"Grade: %{x}\\u003cbr\\u003eCharge rate: %{y:.1f}%\\u003cbr\\u003eRows: %{customdata}\",\"legendgroup\":\"\",\"marker\":{\"color\":\"#636efa\",\"pattern\":{\"shape\":\"\"}},\"name\":\"\",\"orientation\":\"v\",\"showlegend\":false,\"text\":{\"dtype\":\"f8\",\"bdata\":\"ZmZmZmbGVUBmZmZmZuZUQDMzMzMzM1NA\"},\"textposition\":\"outside\",\"x\":[\"Senior\",\"Partner\",\"Junior\"],\"xaxis\":\"x\",\"y\":{\"dtype\":\"f8\",\"bdata\":\"ZmZmZmbGVUBmZmZmZuZUQDMzMzMzM1NA\"},\"yaxis\":\"y\",\"type\":\"bar\",\"customdata\":{\"dtype\":\"i2\",\"bdata\":\"5AMMAX0D\"},\"texttemplate\":\"%{text:.1f}%\"}],                        {\"template\":{\"data\":{\"barpolar\":[{\"marker\":{\"line\":{\"color\":\"white\",\"width\":0.5},\"pattern\":{\"fillmode\":\"overlay\",\"size\":10,\"solidity\":0.2}},\"type\":\"barpolar\"}],\"bar\":[{\"error_x\":{\"color\":\"rgb(36,36,36)\"},\"error_y\":{\"color\":\"rgb(36,36,36)\"},\"marker\":{\"line\":{\"color\":\"white\",\"width\":0.5},\"pattern\":{\"fillmode\":\"overlay\",\"size\":10,\"solidity\":0.2}},\"type\":\"bar\"}],\"carpet\":[{\"aaxis\":{\"endlinecolor\":\"rgb(36,36,36)\",\"gridcolor\":\"white\",\"linecolor\":\"white\",\"minorgridcolor\":\"white\",\"startlinecolor\":\"rgb(36,36,36)\"},\"baxis\":{\"endlinecolor\":\"rgb(36,36,36)\",\"gridcolor\":\"white\",\"linecolor\":\"white\",\"minorgridcolor\":\"white\",\"startlinecolor\":\"rgb(36,36,36)\"},\"type\":\"carpet\"}],\"choropleth\":[{\"colorbar\":{\"outlinewidth\":1,\"tickcolor\":\"rgb(36,36,36)\",\"ticks\":\"outside\"},\"type\":\"choropleth\"}],\"contourcarpet\":[{\"colorbar\":{\"outlinewidth\":1,\"tickcolor\":\"rgb(36,36,36)\",\"ticks\":\"outside\"},\"type\":\"contourcarpet\"}],\"contour\":[{\"colorbar\":{\"outlinewidth\":1,\"tickcolor\":\"rgb(36,36,36)\",\"ticks\":\"outside\"},\"colorscale\":[[0.0,\"#440154\"],[0.1111111111111111,\"#482878\"],[0.2222222222222222,\"#3e4989\"],[0.3333333333333333,\"#31688e\"],[0.4444444444444444,\"#26828e\"],[0.5555555555555556,\"#1f9e89\"],[0.6666666666666666,\"#35b779\"],[0.7777777777777778,\"#6ece58\"],[0.8888888888888888,\"#b5de2b\"],[1.0,\"#fde725\"]],\"type\":\"contour\"}],\"heatmap\":[{\"colorbar\":{\"outlinewidth\":1,\"tickcolor\":\"rgb(36,36,36)\",\"ticks\":\"outside\"},\"colorscale\":[[0.0,\"#440154\"],[0.1111111111111111,\"#482878\"],[0.2222222222222222,\"#3e4989\"],[0.3333333333333333,\"#31688e\"],[0.4444444444444444,\"#26828e\"],[0.5555555555555556,\"#1f9e89\"],[0.6666666666666666,\"#35b779\"],[0.7777777777777778,\"#6ece58\"],[0.8888888888888888,\"#b5de2b\"],[1.0,\"#fde725\"]],\"type\":\"heatmap\"}],\"histogram2dcontour\":[{\"colorbar\":{\"outlinewidth\":1,\"tickcolor\":\"rgb(36,36,36)\",\"ticks\":\"outside\"},\"colorscale\":[[0.0,\"#440154\"],[0.1111111111111111,\"#482878\"],[0.2222222222222222,\"#3e4989\"],[0.3333333333333333,\"#31688e\"],[0.4444444444444444,\"#26828e\"],[0.5555555555555556,\"#1f9e89\"],[0.6666666666666666,\"#35b779\"],[0.7777777777777778,\"#6ece58\"],[0.8888888888888888,\"#b5de2b\"],[1.0,\"#fde725\"]],\"type\":\"histogram2dcontour\"}],\"histogram2d\":[{\"colorbar\":{\"outlinewidth\":1,\"tickcolor\":\"rgb(36,36,36)\",\"ticks\":\"outside\"},\"colorscale\":[[0.0,\"#440154\"],[0.1111111111111111,\"#482878\"],[0.2222222222222222,\"#3e4989\"],[0.3333333333333333,\"#31688e\"],[0.4444444444444444,\"#26828e\"],[0.5555555555555556,\"#1f9e89\"],[0.6666666666666666,\"#35b779\"],[0.7777777777777778,\"#6ece58\"],[0.8888888888888888,\"#b5de2b\"],[1.0,\"#fde725\"]],\"type\":\"histogram2d\"}],\"histogram\":[{\"marker\":{\"line\":{\"color\":\"white\",\"width\":0.6}},\"type\":\"histogram\"}],\"mesh3d\":[{\"colorbar\":{\"outlinewidth\":1,\"tickcolor\":\"rgb(36,36,36)\",\"ticks\":\"outside\"},\"type\":\"mesh3d\"}],\"parcoords\":[{\"line\":{\"colorbar\":{\"outlinewidth\":1,\"tickcolor\":\"rgb(36,36,36)\",\"ticks\":\"outside\"}},\"type\":\"parcoords\"}],\"pie\":[{\"automargin\":true,\"type\":\"pie\"}],\"scatter3d\":[{\"line\":{\"colorbar\":{\"outlinewidth\":1,\"tickcolor\":\"rgb(36,36,36)\",\"ticks\":\"outside\"}},\"marker\":{\"colorbar\":{\"outlinewidth\":1,\"tickcolor\":\"rgb(36,36,36)\",\"ticks\":\"outside\"}},\"type\":\"scatter3d\"}],\"scattercarpet\":[{\"marker\":{\"colorbar\":{\"outlinewidth\":1,\"tickcolor\":\"rgb(36,36,36)\",\"ticks\":\"outside\"}},\"type\":\"scattercarpet\"}],\"scattergeo\":[{\"marker\":{\"colorbar\":{\"outlinewidth\":1,\"tickcolor\":\"rgb(36,36,36)\",\"ticks\":\"outside\"}},\"type\":\"scattergeo\"}],\"scattergl\":[{\"marker\":{\"colorbar\":{\"outlinewidth\":1,\"tickcolor\":\"rgb(36,36,36)\",\"ticks\":\"outside\"}},\"type\":\"scattergl\"}],\"scattermapbox\":[{\"marker\":{\"colorbar\":{\"outlinewidth\":1,\"tickcolor\":\"rgb(36,36,36)\",\"ticks\":\"outside\"}},\"type\":\"scattermapbox\"}],\"scattermap\":[{\"marker\":{\"colorbar\":{\"outlinewidth\":1,\"tickcolor\":\"rgb(36,36,36)\",\"ticks\":\"outside\"}},\"type\":\"scattermap\"}],\"scatterpolargl\":[{\"marker\":{\"colorbar\":{\"outlinewidth\":1,\"tickcolor\":\"rgb(36,36,36)\",\"ticks\":\"outside\"}},\"type\":\"scatterpolargl\"}],\"scatterpolar\":[{\"marker\":{\"colorbar\":{\"outlinewidth\":1,\"tickcolor\":\"rgb(36,36,36)\",\"ticks\":\"outside\"}},\"type\":\"scatterpolar\"}],\"scatter\":[{\"fillpattern\":{\"fillmode\":\"overlay\",\"size\":10,\"solidity\":0.2},\"type\":\"scatter\"}],\"scatterternary\":[{\"marker\":{\"colorbar\":{\"outlinewidth\":1,\"tickcolor\":\"rgb(36,36,36)\",\"ticks\":\"outside\"}},\"type\":\"scatterternary\"}],\"surface\":[{\"colorbar\":{\"outlinewidth\":1,\"tickcolor\":\"rgb(36,36,36)\",\"ticks\":\"outside\"},\"colorscale\":[[0.0,\"#440154\"],[0.1111111111111111,\"#482878\"],[0.2222222222222222,\"#3e4989\"],[0.3333333333333333,\"#31688e\"],[0.4444444444444444,\"#26828e\"],[0.5555555555555556,\"#1f9e89\"],[0.6666666666666666,\"#35b779\"],[0.7777777777777778,\"#6ece58\"],[0.8888888888888888,\"#b5de2b\"],[1.0,\"#fde725\"]],\"type\":\"surface\"}],\"table\":[{\"cells\":{\"fill\":{\"color\":\"rgb(237,237,237)\"},\"line\":{\"color\":\"white\"}},\"header\":{\"fill\":{\"color\":\"rgb(217,217,217)\"},\"line\":{\"color\":\"white\"}},\"type\":\"table\"}]},\"layout\":{\"annotationdefaults\":{\"arrowhead\":0,\"arrowwidth\":1},\"autotypenumbers\":\"strict\",\"coloraxis\":{\"colorbar\":{\"outlinewidth\":1,\"tickcolor\":\"rgb(36,36,36)\",\"ticks\":\"outside\"}},\"colorscale\":{\"diverging\":[[0.0,\"rgb(103,0,31)\"],[0.1,\"rgb(178,24,43)\"],[0.2,\"rgb(214,96,77)\"],[0.3,\"rgb(244,165,130)\"],[0.4,\"rgb(253,219,199)\"],[0.5,\"rgb(247,247,247)\"],[0.6,\"rgb(209,229,240)\"],[0.7,\"rgb(146,197,222)\"],[0.8,\"rgb(67,147,195)\"],[0.9,\"rgb(33,102,172)\"],[1.0,\"rgb(5,48,97)\"]],\"sequential\":[[0.0,\"#440154\"],[0.1111111111111111,\"#482878\"],[0.2222222222222222,\"#3e4989\"],[0.3333333333333333,\"#31688e\"],[0.4444444444444444,\"#26828e\"],[0.5555555555555556,\"#1f9e89\"],[0.6666666666666666,\"#35b779\"],[0.7777777777777778,\"#6ece58\"],[0.8888888888888888,\"#b5de2b\"],[1.0,\"#fde725\"]],\"sequentialminus\":[[0.0,\"#440154\"],[0.1111111111111111,\"#482878\"],[0.2222222222222222,\"#3e4989\"],[0.3333333333333333,\"#31688e\"],[0.4444444444444444,\"#26828e\"],[0.5555555555555556,\"#1f9e89\"],[0.6666666666666666,\"#35b779\"],[0.7777777777777778,\"#6ece58\"],[0.8888888888888888,\"#b5de2b\"],[1.0,\"#fde725\"]]},\"colorway\":[\"#1F77B4\",\"#FF7F0E\",\"#2CA02C\",\"#D62728\",\"#9467BD\",\"#8C564B\",\"#E377C2\",\"#7F7F7F\",\"#BCBD22\",\"#17BECF\"],\"font\":{\"color\":\"rgb(36,36,36)\"},\"geo\":{\"bgcolor\":\"white\",\"lakecolor\":\"white\",\"landcolor\":\"white\",\"showlakes\":true,\"showland\":true,\"subunitcolor\":\"white\"},\"hoverlabel\":{\"align\":\"left\"},\"hovermode\":\"closest\",\"mapbox\":{\"style\":\"light\"},\"paper_bgcolor\":\"white\",\"plot_bgcolor\":\"white\",\"polar\":{\"angularaxis\":{\"gridcolor\":\"rgb(232,232,232)\",\"linecolor\":\"rgb(36,36,36)\",\"showgrid\":false,\"showline\":true,\"ticks\":\"outside\"},\"bgcolor\":\"white\",\"radialaxis\":{\"gridcolor\":\"rgb(232,232,232)\",\"linecolor\":\"rgb(36,36,36)\",\"showgrid\":false,\"showline\":true,\"ticks\":\"outside\"}},\"scene\":{\"xaxis\":{\"backgroundcolor\":\"white\",\"gridcolor\":\"rgb(232,232,232)\",\"gridwidth\":2,\"linecolor\":\"rgb(36,36,36)\",\"showbackground\":true,\"showgrid\":false,\"showline\":true,\"ticks\":\"outside\",\"zeroline\":false,\"zerolinecolor\":\"rgb(36,36,36)\"},\"yaxis\":{\"backgroundcolor\":\"white\",\"gridcolor\":\"rgb(232,232,232)\",\"gridwidth\":2,\"linecolor\":\"rgb(36,36,36)\",\"showbackground\":true,\"showgrid\":false,\"showline\":true,\"ticks\":\"outside\",\"zeroline\":false,\"zerolinecolor\":\"rgb(36,36,36)\"},\"zaxis\":{\"backgroundcolor\":\"white\",\"gridcolor\":\"rgb(232,232,232)\",\"gridwidth\":2,\"linecolor\":\"rgb(36,36,36)\",\"showbackground\":true,\"showgrid\":false,\"showline\":true,\"ticks\":\"outside\",\"zeroline\":false,\"zerolinecolor\":\"rgb(36,36,36)\"}},\"shapedefaults\":{\"fillcolor\":\"black\",\"line\":{\"width\":0},\"opacity\":0.3},\"ternary\":{\"aaxis\":{\"gridcolor\":\"rgb(232,232,232)\",\"linecolor\":\"rgb(36,36,36)\",\"showgrid\":false,\"showline\":true,\"ticks\":\"outside\"},\"baxis\":{\"gridcolor\":\"rgb(232,232,232)\",\"linecolor\":\"rgb(36,36,36)\",\"showgrid\":false,\"showline\":true,\"ticks\":\"outside\"},\"bgcolor\":\"white\",\"caxis\":{\"gridcolor\":\"rgb(232,232,232)\",\"linecolor\":\"rgb(36,36,36)\",\"showgrid\":false,\"showline\":true,\"ticks\":\"outside\"}},\"title\":{\"x\":0.05},\"xaxis\":{\"automargin\":true,\"gridcolor\":\"rgb(232,232,232)\",\"linecolor\":\"rgb(36,36,36)\",\"showgrid\":false,\"showline\":true,\"ticks\":\"outside\",\"title\":{\"standoff\":15},\"zeroline\":false,\"zerolinecolor\":\"rgb(36,36,36)\"},\"yaxis\":{\"automargin\":true,\"gridcolor\":\"rgb(232,232,232)\",\"linecolor\":\"rgb(36,36,36)\",\"showgrid\":false,\"showline\":true,\"ticks\":\"outside\",\"title\":{\"standoff\":15},\"zeroline\":false,\"zerolinecolor\":\"rgb(36,36,36)\"}}},\"xaxis\":{\"anchor\":\"y\",\"domain\":[0.0,1.0],\"title\":{}},\"yaxis\":{\"anchor\":\"x\",\"domain\":[0.0,1.0],\"title\":{\"text\":\"Charged (%)\"},\"range\":[0,100],\"ticksuffix\":\"%\"},\"legend\":{\"tracegroupgap\":0},\"margin\":{\"t\":60,\"r\":30,\"l\":60,\"b\":60},\"barmode\":\"relative\",\"title\":{\"text\":\"Charge rate by grade\",\"x\":0.02,\"xanchor\":\"left\"},\"font\":{\"family\":\"Segoe UI, Arial, sans-serif\",\"size\":14},\"uniformtext\":{\"minsize\":12},\"bargap\":0.35},                        {\"responsive\": true}                    ).then(function(){\n",
       "                            \n",
       "var gd = document.getElementById('2d976924-cab1-4a99-9c04-ee72f69ed636');\n",
       "var x = new MutationObserver(function (mutations, observer) {{\n",
       "        var display = window.getComputedStyle(gd).display;\n",
       "        if (!display || display === 'none') {{\n",
       "            console.log([gd, 'removed!']);\n",
       "            Plotly.purge(gd);\n",
       "            observer.disconnect();\n",
       "        }}\n",
       "}});\n",
       "\n",
       "// Listen for the removal of the full notebook cells\n",
       "var notebookContainer = gd.closest('#notebook-container');\n",
       "if (notebookContainer) {{\n",
       "    x.observe(notebookContainer, {childList: true});\n",
       "}}\n",
       "\n",
       "// Listen for the clearing of the current output cell\n",
       "var outputEl = gd.closest('.output');\n",
       "if (outputEl) {{\n",
       "    x.observe(outputEl, {childList: true});\n",
       "}}\n",
       "\n",
       "                        })                };            </script>        </div>"
      ]
     },
     "metadata": {},
     "output_type": "display_data"
    }
   ],
   "source": [
    "plot_df = tbl.sort_values(\"charged_%\", ascending=False).copy()\n",
    "\n",
    "fig = px.bar(\n",
    "    plot_df,\n",
    "    x=\"Grade\", y=\"charged_%\", text=\"charged_%\",\n",
    ")\n",
    "\n",
    "fig.update_traces(\n",
    "    texttemplate=\"%{text:.1f}%\", textposition=\"outside\",\n",
    "    hovertemplate=\"Grade: %{x}<br>Charge rate: %{y:.1f}%<br>Rows: %{customdata}\",\n",
    "    customdata=plot_df[\"rows\"],\n",
    ")\n",
    "\n",
    "fig.update_layout(\n",
    "    title=dict(text=\"Charge rate by grade\", x=0.02, xanchor=\"left\"),\n",
    "    template=\"simple_white\",\n",
    "    font=dict(family=\"Segoe UI, Arial, sans-serif\", size=14),\n",
    "    yaxis=dict(title=\"Charged (%)\", range=[0, 100], ticksuffix=\"%\"),\n",
    "    xaxis_title=None,\n",
    "    uniformtext_minsize=12,\n",
    "    bargap=0.35,\n",
    "    margin=dict(t=60, r=30, l=60, b=60),\n",
    ")\n",
    "\n",
    "fig.show()\n"
   ]
  },
  {
   "cell_type": "markdown",
   "id": "70f51e76",
   "metadata": {},
   "source": [
    "## Labelled category mix (class balance)"
   ]
  },
  {
   "cell_type": "code",
   "execution_count": 10,
   "id": "8608705a",
   "metadata": {},
   "outputs": [
    {
     "data": {
      "application/vnd.microsoft.datawrangler.viewer.v0+json": {
       "columns": [
        {
         "name": "index",
         "rawType": "int64",
         "type": "integer"
        },
        {
         "name": "Category",
         "rawType": "object",
         "type": "string"
        },
        {
         "name": "rows",
         "rawType": "int64",
         "type": "integer"
        },
        {
         "name": "share_%",
         "rawType": "float64",
         "type": "float"
        }
       ],
       "ref": "5c8a41c1-c8f2-4388-91ef-17189a49cd97",
       "rows": [
        [
         "0",
         "client time",
         "199",
         "35.5"
        ],
        [
         "1",
         "preparing documents",
         "109",
         "19.4"
        ],
        [
         "2",
         "analyse, review, research",
         "85",
         "15.2"
        ],
        [
         "3",
         "Other comms",
         "75",
         "13.4"
        ],
        [
         "4",
         "onboarding",
         "49",
         "8.7"
        ],
        [
         "5",
         "admin",
         "32",
         "5.7"
        ],
        [
         "6",
         "billing",
         "12",
         "2.1"
        ]
       ],
       "shape": {
        "columns": 3,
        "rows": 7
       }
      },
      "text/html": [
       "<div>\n",
       "<style scoped>\n",
       "    .dataframe tbody tr th:only-of-type {\n",
       "        vertical-align: middle;\n",
       "    }\n",
       "\n",
       "    .dataframe tbody tr th {\n",
       "        vertical-align: top;\n",
       "    }\n",
       "\n",
       "    .dataframe thead th {\n",
       "        text-align: right;\n",
       "    }\n",
       "</style>\n",
       "<table border=\"1\" class=\"dataframe\">\n",
       "  <thead>\n",
       "    <tr style=\"text-align: right;\">\n",
       "      <th></th>\n",
       "      <th>Category</th>\n",
       "      <th>rows</th>\n",
       "      <th>share_%</th>\n",
       "    </tr>\n",
       "  </thead>\n",
       "  <tbody>\n",
       "    <tr>\n",
       "      <th>0</th>\n",
       "      <td>client time</td>\n",
       "      <td>199</td>\n",
       "      <td>35.5</td>\n",
       "    </tr>\n",
       "    <tr>\n",
       "      <th>1</th>\n",
       "      <td>preparing documents</td>\n",
       "      <td>109</td>\n",
       "      <td>19.4</td>\n",
       "    </tr>\n",
       "    <tr>\n",
       "      <th>2</th>\n",
       "      <td>analyse, review, research</td>\n",
       "      <td>85</td>\n",
       "      <td>15.2</td>\n",
       "    </tr>\n",
       "    <tr>\n",
       "      <th>3</th>\n",
       "      <td>Other comms</td>\n",
       "      <td>75</td>\n",
       "      <td>13.4</td>\n",
       "    </tr>\n",
       "    <tr>\n",
       "      <th>4</th>\n",
       "      <td>onboarding</td>\n",
       "      <td>49</td>\n",
       "      <td>8.7</td>\n",
       "    </tr>\n",
       "    <tr>\n",
       "      <th>5</th>\n",
       "      <td>admin</td>\n",
       "      <td>32</td>\n",
       "      <td>5.7</td>\n",
       "    </tr>\n",
       "    <tr>\n",
       "      <th>6</th>\n",
       "      <td>billing</td>\n",
       "      <td>12</td>\n",
       "      <td>2.1</td>\n",
       "    </tr>\n",
       "  </tbody>\n",
       "</table>\n",
       "</div>"
      ],
      "text/plain": [
       "                    Category  rows  share_%\n",
       "0                client time   199     35.5\n",
       "1        preparing documents   109     19.4\n",
       "2  analyse, review, research    85     15.2\n",
       "3                Other comms    75     13.4\n",
       "4                 onboarding    49      8.7\n",
       "5                      admin    32      5.7\n",
       "6                    billing    12      2.1"
      ]
     },
     "execution_count": 10,
     "metadata": {},
     "output_type": "execute_result"
    }
   ],
   "source": [
    "df_l = df[df[\"Category\"].notna()].copy()\n",
    "\n",
    "cat_counts = (\n",
    "    df_l[\"Category\"]\n",
    "    .value_counts()\n",
    "    .rename_axis(\"Category\")\n",
    "    .reset_index(name=\"rows\")\n",
    ")\n",
    "cat_counts[\"share_%\"] = (cat_counts[\"rows\"] / cat_counts[\"rows\"].sum() * 100).round(1)\n",
    "cat_counts\n",
    "\n"
   ]
  },
  {
   "cell_type": "code",
   "execution_count": 11,
   "id": "8c22d955",
   "metadata": {},
   "outputs": [
    {
     "data": {
      "text/html": [
       "<div>            <script src=\"https://cdnjs.cloudflare.com/ajax/libs/mathjax/2.7.5/MathJax.js?config=TeX-AMS-MML_SVG\"></script><script type=\"text/javascript\">if (window.MathJax && window.MathJax.Hub && window.MathJax.Hub.Config) {window.MathJax.Hub.Config({SVG: {font: \"STIX-Web\"}});}</script>                <script type=\"text/javascript\">window.PlotlyConfig = {MathJaxConfig: 'local'};</script>\n",
       "        <script charset=\"utf-8\" src=\"https://cdn.plot.ly/plotly-3.1.0.min.js\" integrity=\"sha256-Ei4740bWZhaUTQuD6q9yQlgVCMPBz6CZWhevDYPv93A=\" crossorigin=\"anonymous\"></script>                <div id=\"213f6cc9-cb8e-4c14-87cc-cf6225ee9393\" class=\"plotly-graph-div\" style=\"height:525px; width:100%;\"></div>            <script type=\"text/javascript\">                window.PLOTLYENV=window.PLOTLYENV || {};                                if (document.getElementById(\"213f6cc9-cb8e-4c14-87cc-cf6225ee9393\")) {                    Plotly.newPlot(                        \"213f6cc9-cb8e-4c14-87cc-cf6225ee9393\",                        [{\"hovertemplate\":\"Category=%{x}\\u003cbr\\u003erows=%{y}\\u003cbr\\u003eshare_%=%{text}\\u003cextra\\u003e\\u003c\\u002fextra\\u003e\",\"legendgroup\":\"\",\"marker\":{\"color\":\"#636efa\",\"pattern\":{\"shape\":\"\"}},\"name\":\"\",\"orientation\":\"v\",\"showlegend\":false,\"text\":{\"dtype\":\"f8\",\"bdata\":\"AAAAAADAQUBmZmZmZmYzQGZmZmZmZi5AzczMzMzMKkBmZmZmZmYhQM3MzMzMzBZAzczMzMzMAEA=\"},\"textposition\":\"outside\",\"x\":[\"client time\",\"preparing documents\",\"analyse, review, research\",\"Other comms\",\"onboarding\",\"admin\",\"billing\"],\"xaxis\":\"x\",\"y\":{\"dtype\":\"i2\",\"bdata\":\"xwBtAFUASwAxACAADAA=\"},\"yaxis\":\"y\",\"type\":\"bar\",\"texttemplate\":\"%{text}%\"}],                        {\"template\":{\"data\":{\"barpolar\":[{\"marker\":{\"line\":{\"color\":\"white\",\"width\":0.5},\"pattern\":{\"fillmode\":\"overlay\",\"size\":10,\"solidity\":0.2}},\"type\":\"barpolar\"}],\"bar\":[{\"error_x\":{\"color\":\"rgb(36,36,36)\"},\"error_y\":{\"color\":\"rgb(36,36,36)\"},\"marker\":{\"line\":{\"color\":\"white\",\"width\":0.5},\"pattern\":{\"fillmode\":\"overlay\",\"size\":10,\"solidity\":0.2}},\"type\":\"bar\"}],\"carpet\":[{\"aaxis\":{\"endlinecolor\":\"rgb(36,36,36)\",\"gridcolor\":\"white\",\"linecolor\":\"white\",\"minorgridcolor\":\"white\",\"startlinecolor\":\"rgb(36,36,36)\"},\"baxis\":{\"endlinecolor\":\"rgb(36,36,36)\",\"gridcolor\":\"white\",\"linecolor\":\"white\",\"minorgridcolor\":\"white\",\"startlinecolor\":\"rgb(36,36,36)\"},\"type\":\"carpet\"}],\"choropleth\":[{\"colorbar\":{\"outlinewidth\":1,\"tickcolor\":\"rgb(36,36,36)\",\"ticks\":\"outside\"},\"type\":\"choropleth\"}],\"contourcarpet\":[{\"colorbar\":{\"outlinewidth\":1,\"tickcolor\":\"rgb(36,36,36)\",\"ticks\":\"outside\"},\"type\":\"contourcarpet\"}],\"contour\":[{\"colorbar\":{\"outlinewidth\":1,\"tickcolor\":\"rgb(36,36,36)\",\"ticks\":\"outside\"},\"colorscale\":[[0.0,\"#440154\"],[0.1111111111111111,\"#482878\"],[0.2222222222222222,\"#3e4989\"],[0.3333333333333333,\"#31688e\"],[0.4444444444444444,\"#26828e\"],[0.5555555555555556,\"#1f9e89\"],[0.6666666666666666,\"#35b779\"],[0.7777777777777778,\"#6ece58\"],[0.8888888888888888,\"#b5de2b\"],[1.0,\"#fde725\"]],\"type\":\"contour\"}],\"heatmap\":[{\"colorbar\":{\"outlinewidth\":1,\"tickcolor\":\"rgb(36,36,36)\",\"ticks\":\"outside\"},\"colorscale\":[[0.0,\"#440154\"],[0.1111111111111111,\"#482878\"],[0.2222222222222222,\"#3e4989\"],[0.3333333333333333,\"#31688e\"],[0.4444444444444444,\"#26828e\"],[0.5555555555555556,\"#1f9e89\"],[0.6666666666666666,\"#35b779\"],[0.7777777777777778,\"#6ece58\"],[0.8888888888888888,\"#b5de2b\"],[1.0,\"#fde725\"]],\"type\":\"heatmap\"}],\"histogram2dcontour\":[{\"colorbar\":{\"outlinewidth\":1,\"tickcolor\":\"rgb(36,36,36)\",\"ticks\":\"outside\"},\"colorscale\":[[0.0,\"#440154\"],[0.1111111111111111,\"#482878\"],[0.2222222222222222,\"#3e4989\"],[0.3333333333333333,\"#31688e\"],[0.4444444444444444,\"#26828e\"],[0.5555555555555556,\"#1f9e89\"],[0.6666666666666666,\"#35b779\"],[0.7777777777777778,\"#6ece58\"],[0.8888888888888888,\"#b5de2b\"],[1.0,\"#fde725\"]],\"type\":\"histogram2dcontour\"}],\"histogram2d\":[{\"colorbar\":{\"outlinewidth\":1,\"tickcolor\":\"rgb(36,36,36)\",\"ticks\":\"outside\"},\"colorscale\":[[0.0,\"#440154\"],[0.1111111111111111,\"#482878\"],[0.2222222222222222,\"#3e4989\"],[0.3333333333333333,\"#31688e\"],[0.4444444444444444,\"#26828e\"],[0.5555555555555556,\"#1f9e89\"],[0.6666666666666666,\"#35b779\"],[0.7777777777777778,\"#6ece58\"],[0.8888888888888888,\"#b5de2b\"],[1.0,\"#fde725\"]],\"type\":\"histogram2d\"}],\"histogram\":[{\"marker\":{\"line\":{\"color\":\"white\",\"width\":0.6}},\"type\":\"histogram\"}],\"mesh3d\":[{\"colorbar\":{\"outlinewidth\":1,\"tickcolor\":\"rgb(36,36,36)\",\"ticks\":\"outside\"},\"type\":\"mesh3d\"}],\"parcoords\":[{\"line\":{\"colorbar\":{\"outlinewidth\":1,\"tickcolor\":\"rgb(36,36,36)\",\"ticks\":\"outside\"}},\"type\":\"parcoords\"}],\"pie\":[{\"automargin\":true,\"type\":\"pie\"}],\"scatter3d\":[{\"line\":{\"colorbar\":{\"outlinewidth\":1,\"tickcolor\":\"rgb(36,36,36)\",\"ticks\":\"outside\"}},\"marker\":{\"colorbar\":{\"outlinewidth\":1,\"tickcolor\":\"rgb(36,36,36)\",\"ticks\":\"outside\"}},\"type\":\"scatter3d\"}],\"scattercarpet\":[{\"marker\":{\"colorbar\":{\"outlinewidth\":1,\"tickcolor\":\"rgb(36,36,36)\",\"ticks\":\"outside\"}},\"type\":\"scattercarpet\"}],\"scattergeo\":[{\"marker\":{\"colorbar\":{\"outlinewidth\":1,\"tickcolor\":\"rgb(36,36,36)\",\"ticks\":\"outside\"}},\"type\":\"scattergeo\"}],\"scattergl\":[{\"marker\":{\"colorbar\":{\"outlinewidth\":1,\"tickcolor\":\"rgb(36,36,36)\",\"ticks\":\"outside\"}},\"type\":\"scattergl\"}],\"scattermapbox\":[{\"marker\":{\"colorbar\":{\"outlinewidth\":1,\"tickcolor\":\"rgb(36,36,36)\",\"ticks\":\"outside\"}},\"type\":\"scattermapbox\"}],\"scattermap\":[{\"marker\":{\"colorbar\":{\"outlinewidth\":1,\"tickcolor\":\"rgb(36,36,36)\",\"ticks\":\"outside\"}},\"type\":\"scattermap\"}],\"scatterpolargl\":[{\"marker\":{\"colorbar\":{\"outlinewidth\":1,\"tickcolor\":\"rgb(36,36,36)\",\"ticks\":\"outside\"}},\"type\":\"scatterpolargl\"}],\"scatterpolar\":[{\"marker\":{\"colorbar\":{\"outlinewidth\":1,\"tickcolor\":\"rgb(36,36,36)\",\"ticks\":\"outside\"}},\"type\":\"scatterpolar\"}],\"scatter\":[{\"fillpattern\":{\"fillmode\":\"overlay\",\"size\":10,\"solidity\":0.2},\"type\":\"scatter\"}],\"scatterternary\":[{\"marker\":{\"colorbar\":{\"outlinewidth\":1,\"tickcolor\":\"rgb(36,36,36)\",\"ticks\":\"outside\"}},\"type\":\"scatterternary\"}],\"surface\":[{\"colorbar\":{\"outlinewidth\":1,\"tickcolor\":\"rgb(36,36,36)\",\"ticks\":\"outside\"},\"colorscale\":[[0.0,\"#440154\"],[0.1111111111111111,\"#482878\"],[0.2222222222222222,\"#3e4989\"],[0.3333333333333333,\"#31688e\"],[0.4444444444444444,\"#26828e\"],[0.5555555555555556,\"#1f9e89\"],[0.6666666666666666,\"#35b779\"],[0.7777777777777778,\"#6ece58\"],[0.8888888888888888,\"#b5de2b\"],[1.0,\"#fde725\"]],\"type\":\"surface\"}],\"table\":[{\"cells\":{\"fill\":{\"color\":\"rgb(237,237,237)\"},\"line\":{\"color\":\"white\"}},\"header\":{\"fill\":{\"color\":\"rgb(217,217,217)\"},\"line\":{\"color\":\"white\"}},\"type\":\"table\"}]},\"layout\":{\"annotationdefaults\":{\"arrowhead\":0,\"arrowwidth\":1},\"autotypenumbers\":\"strict\",\"coloraxis\":{\"colorbar\":{\"outlinewidth\":1,\"tickcolor\":\"rgb(36,36,36)\",\"ticks\":\"outside\"}},\"colorscale\":{\"diverging\":[[0.0,\"rgb(103,0,31)\"],[0.1,\"rgb(178,24,43)\"],[0.2,\"rgb(214,96,77)\"],[0.3,\"rgb(244,165,130)\"],[0.4,\"rgb(253,219,199)\"],[0.5,\"rgb(247,247,247)\"],[0.6,\"rgb(209,229,240)\"],[0.7,\"rgb(146,197,222)\"],[0.8,\"rgb(67,147,195)\"],[0.9,\"rgb(33,102,172)\"],[1.0,\"rgb(5,48,97)\"]],\"sequential\":[[0.0,\"#440154\"],[0.1111111111111111,\"#482878\"],[0.2222222222222222,\"#3e4989\"],[0.3333333333333333,\"#31688e\"],[0.4444444444444444,\"#26828e\"],[0.5555555555555556,\"#1f9e89\"],[0.6666666666666666,\"#35b779\"],[0.7777777777777778,\"#6ece58\"],[0.8888888888888888,\"#b5de2b\"],[1.0,\"#fde725\"]],\"sequentialminus\":[[0.0,\"#440154\"],[0.1111111111111111,\"#482878\"],[0.2222222222222222,\"#3e4989\"],[0.3333333333333333,\"#31688e\"],[0.4444444444444444,\"#26828e\"],[0.5555555555555556,\"#1f9e89\"],[0.6666666666666666,\"#35b779\"],[0.7777777777777778,\"#6ece58\"],[0.8888888888888888,\"#b5de2b\"],[1.0,\"#fde725\"]]},\"colorway\":[\"#1F77B4\",\"#FF7F0E\",\"#2CA02C\",\"#D62728\",\"#9467BD\",\"#8C564B\",\"#E377C2\",\"#7F7F7F\",\"#BCBD22\",\"#17BECF\"],\"font\":{\"color\":\"rgb(36,36,36)\"},\"geo\":{\"bgcolor\":\"white\",\"lakecolor\":\"white\",\"landcolor\":\"white\",\"showlakes\":true,\"showland\":true,\"subunitcolor\":\"white\"},\"hoverlabel\":{\"align\":\"left\"},\"hovermode\":\"closest\",\"mapbox\":{\"style\":\"light\"},\"paper_bgcolor\":\"white\",\"plot_bgcolor\":\"white\",\"polar\":{\"angularaxis\":{\"gridcolor\":\"rgb(232,232,232)\",\"linecolor\":\"rgb(36,36,36)\",\"showgrid\":false,\"showline\":true,\"ticks\":\"outside\"},\"bgcolor\":\"white\",\"radialaxis\":{\"gridcolor\":\"rgb(232,232,232)\",\"linecolor\":\"rgb(36,36,36)\",\"showgrid\":false,\"showline\":true,\"ticks\":\"outside\"}},\"scene\":{\"xaxis\":{\"backgroundcolor\":\"white\",\"gridcolor\":\"rgb(232,232,232)\",\"gridwidth\":2,\"linecolor\":\"rgb(36,36,36)\",\"showbackground\":true,\"showgrid\":false,\"showline\":true,\"ticks\":\"outside\",\"zeroline\":false,\"zerolinecolor\":\"rgb(36,36,36)\"},\"yaxis\":{\"backgroundcolor\":\"white\",\"gridcolor\":\"rgb(232,232,232)\",\"gridwidth\":2,\"linecolor\":\"rgb(36,36,36)\",\"showbackground\":true,\"showgrid\":false,\"showline\":true,\"ticks\":\"outside\",\"zeroline\":false,\"zerolinecolor\":\"rgb(36,36,36)\"},\"zaxis\":{\"backgroundcolor\":\"white\",\"gridcolor\":\"rgb(232,232,232)\",\"gridwidth\":2,\"linecolor\":\"rgb(36,36,36)\",\"showbackground\":true,\"showgrid\":false,\"showline\":true,\"ticks\":\"outside\",\"zeroline\":false,\"zerolinecolor\":\"rgb(36,36,36)\"}},\"shapedefaults\":{\"fillcolor\":\"black\",\"line\":{\"width\":0},\"opacity\":0.3},\"ternary\":{\"aaxis\":{\"gridcolor\":\"rgb(232,232,232)\",\"linecolor\":\"rgb(36,36,36)\",\"showgrid\":false,\"showline\":true,\"ticks\":\"outside\"},\"baxis\":{\"gridcolor\":\"rgb(232,232,232)\",\"linecolor\":\"rgb(36,36,36)\",\"showgrid\":false,\"showline\":true,\"ticks\":\"outside\"},\"bgcolor\":\"white\",\"caxis\":{\"gridcolor\":\"rgb(232,232,232)\",\"linecolor\":\"rgb(36,36,36)\",\"showgrid\":false,\"showline\":true,\"ticks\":\"outside\"}},\"title\":{\"x\":0.05},\"xaxis\":{\"automargin\":true,\"gridcolor\":\"rgb(232,232,232)\",\"linecolor\":\"rgb(36,36,36)\",\"showgrid\":false,\"showline\":true,\"ticks\":\"outside\",\"title\":{\"standoff\":15},\"zeroline\":false,\"zerolinecolor\":\"rgb(36,36,36)\"},\"yaxis\":{\"automargin\":true,\"gridcolor\":\"rgb(232,232,232)\",\"linecolor\":\"rgb(36,36,36)\",\"showgrid\":false,\"showline\":true,\"ticks\":\"outside\",\"title\":{\"standoff\":15},\"zeroline\":false,\"zerolinecolor\":\"rgb(36,36,36)\"}}},\"xaxis\":{\"anchor\":\"y\",\"domain\":[0.0,1.0],\"title\":{}},\"yaxis\":{\"anchor\":\"x\",\"domain\":[0.0,1.0],\"title\":{\"text\":\"Rows\"}},\"legend\":{\"tracegroupgap\":0},\"title\":{\"text\":\"Labelled subset: category mix\"},\"barmode\":\"relative\"},                        {\"responsive\": true}                    ).then(function(){\n",
       "                            \n",
       "var gd = document.getElementById('213f6cc9-cb8e-4c14-87cc-cf6225ee9393');\n",
       "var x = new MutationObserver(function (mutations, observer) {{\n",
       "        var display = window.getComputedStyle(gd).display;\n",
       "        if (!display || display === 'none') {{\n",
       "            console.log([gd, 'removed!']);\n",
       "            Plotly.purge(gd);\n",
       "            observer.disconnect();\n",
       "        }}\n",
       "}});\n",
       "\n",
       "// Listen for the removal of the full notebook cells\n",
       "var notebookContainer = gd.closest('#notebook-container');\n",
       "if (notebookContainer) {{\n",
       "    x.observe(notebookContainer, {childList: true});\n",
       "}}\n",
       "\n",
       "// Listen for the clearing of the current output cell\n",
       "var outputEl = gd.closest('.output');\n",
       "if (outputEl) {{\n",
       "    x.observe(outputEl, {childList: true});\n",
       "}}\n",
       "\n",
       "                        })                };            </script>        </div>"
      ]
     },
     "metadata": {},
     "output_type": "display_data"
    }
   ],
   "source": [
    "fig = px.bar(\n",
    "    cat_counts, x=\"Category\", y=\"rows\", text=\"share_%\",\n",
    "    title=\"Labelled subset: category mix\",\n",
    ")\n",
    "fig.update_traces(texttemplate=\"%{text}%\", textposition=\"outside\")\n",
    "fig.update_layout(template=\"simple_white\", xaxis_title=None, yaxis_title=\"Rows\")\n",
    "fig.show()"
   ]
  },
  {
   "cell_type": "markdown",
   "id": "85f0f946",
   "metadata": {},
   "source": [
    "## Text length (word count) distribution"
   ]
  },
  {
   "cell_type": "code",
   "execution_count": 36,
   "id": "40f07812",
   "metadata": {},
   "outputs": [
    {
     "data": {
      "application/vnd.microsoft.datawrangler.viewer.v0+json": {
       "columns": [
        {
         "name": "index",
         "rawType": "object",
         "type": "string"
        },
        {
         "name": "n_words",
         "rawType": "float64",
         "type": "float"
        }
       ],
       "ref": "a97e3c21-58d6-48b0-9568-bc1c2d600f08",
       "rows": [
        [
         "count",
         "2157.0"
        ],
        [
         "mean",
         "8.121464997681965"
        ],
        [
         "std",
         "5.025545880437824"
        ],
        [
         "min",
         "1.0"
        ],
        [
         "25%",
         "5.0"
        ],
        [
         "50%",
         "7.0"
        ],
        [
         "75%",
         "10.0"
        ],
        [
         "max",
         "54.0"
        ]
       ],
       "shape": {
        "columns": 1,
        "rows": 8
       }
      },
      "text/plain": [
       "count    2157.000000\n",
       "mean        8.121465\n",
       "std         5.025546\n",
       "min         1.000000\n",
       "25%         5.000000\n",
       "50%         7.000000\n",
       "75%        10.000000\n",
       "max        54.000000\n",
       "Name: n_words, dtype: float64"
      ]
     },
     "execution_count": 36,
     "metadata": {},
     "output_type": "execute_result"
    }
   ],
   "source": [
    "df[\"n_words\"] = df[\"Time Narrative\"].fillna(\"\").str.split().str.len()\n",
    "df[\"n_words\"].describe()"
   ]
  },
  {
   "cell_type": "code",
   "execution_count": 37,
   "id": "4f5345e9",
   "metadata": {},
   "outputs": [
    {
     "data": {
      "text/html": [
       "<div>            <script src=\"https://cdnjs.cloudflare.com/ajax/libs/mathjax/2.7.5/MathJax.js?config=TeX-AMS-MML_SVG\"></script><script type=\"text/javascript\">if (window.MathJax && window.MathJax.Hub && window.MathJax.Hub.Config) {window.MathJax.Hub.Config({SVG: {font: \"STIX-Web\"}});}</script>                <script type=\"text/javascript\">window.PlotlyConfig = {MathJaxConfig: 'local'};</script>\n",
       "        <script charset=\"utf-8\" src=\"https://cdn.plot.ly/plotly-3.1.0.min.js\" integrity=\"sha256-Ei4740bWZhaUTQuD6q9yQlgVCMPBz6CZWhevDYPv93A=\" crossorigin=\"anonymous\"></script>                <div id=\"96a643d4-a745-4bb0-8c31-896947d03983\" class=\"plotly-graph-div\" style=\"height:525px; width:100%;\"></div>            <script type=\"text/javascript\">                window.PLOTLYENV=window.PLOTLYENV || {};                                if (document.getElementById(\"96a643d4-a745-4bb0-8c31-896947d03983\")) {                    Plotly.newPlot(                        \"96a643d4-a745-4bb0-8c31-896947d03983\",                        [{\"bingroup\":\"x\",\"hovertemplate\":\"n_words=%{x}\\u003cbr\\u003ecount=%{y}\\u003cextra\\u003e\\u003c\\u002fextra\\u003e\",\"legendgroup\":\"\",\"marker\":{\"color\":\"#636efa\",\"pattern\":{\"shape\":\"\"}},\"name\":\"\",\"nbinsx\":40,\"orientation\":\"v\",\"showlegend\":false,\"x\":{\"dtype\":\"i1\",\"bdata\":\"BAkIEwMTDgMFAwYLBgQDChAIFBAHCAcKCgUEAg4FBwIEBAQLBAoLAwUZBggLBQoFCAcMBgQPAgsNBQwOBAsMBxMKCQUJAwUFHAQLBwwHAwQOBg0VCwMFBAYJCwMBCwUCBQMKCgMNCgYQAgkJCRIBBg0FBwkGDgkGCQkPCgYICgQHCQwQBAgRCwoIGwYFBzYHCAkICQcDBQMOBwYEBw0FDAMHBgUGCBIJBAgDDBELDAIGBggDBAUFCQgHBhAFBw8FBggEDgQJAwcMBAYHBAUOBRIOBAwKBwcCCQMDAwcKDAYEDQsFBwQDBQQEAwIGCAwKCgoGBAwMDA0TEAcMBAMGBRETBAcKCgMJCgMFAgoEBwkCCQUJCQgJAwkKBREFDAcLBw4DCwYECgMKBwYIBQMGCQIJBgMGBAYGDgIJBwYJBgQJDAkOCAgDChMKBgcECg0DBQ4KDBAFCAoDDQcFEwgDAgwaCwIQBwgUBgIEAgkLBAcGCQcSBwoOBQgFHgQVCAQFBAILBQoGDAYKCAYICBkDBgMDBQYHDwcMCA4LCAYDDgcEAggHDAgKBAUDBgMJDQwEBwgEAwoECgkHBgYFBgMHBhEKAgcHCQUKBAkQCwUHAwUODgQMBgkJAwYDBAMIAw8FFQULDAgFCQgLCgwECAgHDQ4OAwoCCQMKBw4LFBMGCQQRBA0ECAcCBgQHDgMDAwkDBgIMBwkJAw8CCAYHDggIBAcKBgQGAwwGBQMJDAMNBgUIBwcEBQkGFQgGDwQBCgIHCAYCAwgIBwkJDgQKBAcJBhAHDQsJEAsIBQ0JBg8KBgYGCAcDCg4IBwkIAgYHCQINAwsHCgYMCgYIBwQICAUKBwUGCAMGCAQFBwYDDRgJBAMQDA4FBA8FFw0IBg0HBQwOCgYICwIGBwwOCwMLBAcGBAQTDAYFBggIAgcLEg4DAwsBCgsHBgsDBQkGBgUICAcRBAcBBgMGCAwIAhQMFAcKBgwHAgcKBw8GCQQFCQcCDQ4GCgsMEBcLBwYHEgIDBAcCAgoKCQQKBwQVEQsDBgsUBhoMBA0FEAsEBQcKBxENBwkJBwUGBQIKCQYFBg0LDgwFBQYRDBAEBAYJCQIKAwYOCwYCBQcMEAoEAgMLEggFEAMKBwgFCRQLCAsEDQsIAgsECwoKAwwSAgYCCQUFEgcPAwUICgUJBAgOBAcKAQcEAwUIAggLBwMTBQEDBQwFCAUFCQoGCQkHEAUEDw8MCgwMEQkGCwIEBgwNBAcHCyoIBwIEAwcOBgsMBwcFAhMHDgMGBAcHAwkHBwMCBgUHBwcLBAMGBw0CDgMMCw0EAwgICQcJEQUEBQoOCAYCAwoHBwUFCwULCwoOBQkLCgsJCwUFBA0DBwgGBxISEwkEBgIEBwMDBgQGDwcTDAMFBgwOBw8MBwIHBgkQCwYFCgwDBAwHCAUECAcHAg4MBQQJCAgGDAgCBAoGBwsCDAsLBQQEFAIMBQMRCQgIAwUFBAcECAQKBQoDBAUGBgINBxADGAcCCggLCAcKAxcEDQcJBAQHBgYJEAUDDxQFBwQGBwUCDwULCwUDBwgDDAgRBwQHCgoHCgsNAwUDBwgJCAYSCAULCAULAg0HAgUKCgcQBwUKCA0GCgQFFA0GAgIJBgUHCg0GEwgEBxUHCgQPAgQMCAkIBBAOAwMNBAoFCAYHBAsKBAQECgUMAg4IDQkTAwsDAwMLEAsECAYJHggEAhIRCwcJBAIEBQgDAwcKBxAMCQ4KBAgOBwkLBAgJAwsCBQIGBAgHBAgMBwgEFA4HBQkLBgMNBwoFDQwDBBMFBwkJDgQJBAUHDQsGAwYBAwcDBgsECQ8DBRkIBA0CCAgDCAgGAgQFBQcGAwsKEQgOBA4FCQgHBAUEBAsCBQUICQsJCg4KCAcJCQcLBQUIDQQHDAkIAg0JBAkMDAQGBwYDBAoIBAsGIwQFBxwMIQIKCgULAgIJAwQVDAwrBQUEAgIHCwIDHAUJBQwFAwoDBwwDCgYCDgIGCQwFDQoRBwQNBgUDCQQMBREGDAgFCRIKDAQJDgkTBRULBwMKBRUHBgkFCAQKBREIAwcFDwsIAwQGAwMHCyAHCwgHBgMHBAQKChoFCQYJBwMHBgQFCQMTDAkFCAYJAw4EEwcYBgkIBgUMAwsPBhIIBgcIAwYMBQ0DDwkLAQUJChMJBQUGDAgIAwMIBAUCCw8FBwYNCAcLCgkVEAMDAgcHBwkHCAgPDAgCAwcNCgUFCgwGBQcGCQgRCAMDBxIICAwGAgUHBQYFCgwKDQ8GAwYDBQoGBQwCCAsLBQYFDwUHAwgIAxMJAwcIBAUIAgoIAw0EAgUDBAoKBQsICQgEBQ8CAwkFAgwMBgUTCg8FBAQIBxQJDAgCDAUCCwoCAg0ECg4HAwoHCQIHAwwFCAYKBAgICQYFCwIGBwMCEhkGAwsFEAQJCgoGCAgJCAgCGQsDCQkECBgHCwUDCw0HCgMHAwcEBgUOBwIDKAUEIgYHCAMJFwYFDwQGBQMHAwkSCwUECAIHCAcCCA0MDxIGDwgXBwUEBAYDBwgHEQoKCgcFBQcFCQUIDQoJDAcGEwIHCQsKBwoDDQoGCgcECAUCBA0EBAsHGgQEBwsCBB4FBQQDCAgLBwQLCQoKAwUICQoRAwIMEAMFBAYDBwUHCQkHBwQKCgQKBwQHCAoDDA0JBA8IEAkJERkDBQgNHwwMBQkOBw0PBw8EBA0JAwYNBgMGEQcKBgIHBAUHCQYIAwkFBAchBggMAw8JBQYLCgkJFwsIDAYRAQ0DCRMBAwoMAwMEBBEEBgMCBgMPAwMDBwQDBAYOAwICBgUBAgYCBQkIAwMCBQQFBAQBCgUGBhAHAwQDBgMDBQQEEQUEBQoCAgMDBQYFBgcQBQkG\"},\"xaxis\":\"x\",\"yaxis\":\"y\",\"type\":\"histogram\"}],                        {\"template\":{\"data\":{\"barpolar\":[{\"marker\":{\"line\":{\"color\":\"white\",\"width\":0.5},\"pattern\":{\"fillmode\":\"overlay\",\"size\":10,\"solidity\":0.2}},\"type\":\"barpolar\"}],\"bar\":[{\"error_x\":{\"color\":\"rgb(36,36,36)\"},\"error_y\":{\"color\":\"rgb(36,36,36)\"},\"marker\":{\"line\":{\"color\":\"white\",\"width\":0.5},\"pattern\":{\"fillmode\":\"overlay\",\"size\":10,\"solidity\":0.2}},\"type\":\"bar\"}],\"carpet\":[{\"aaxis\":{\"endlinecolor\":\"rgb(36,36,36)\",\"gridcolor\":\"white\",\"linecolor\":\"white\",\"minorgridcolor\":\"white\",\"startlinecolor\":\"rgb(36,36,36)\"},\"baxis\":{\"endlinecolor\":\"rgb(36,36,36)\",\"gridcolor\":\"white\",\"linecolor\":\"white\",\"minorgridcolor\":\"white\",\"startlinecolor\":\"rgb(36,36,36)\"},\"type\":\"carpet\"}],\"choropleth\":[{\"colorbar\":{\"outlinewidth\":1,\"tickcolor\":\"rgb(36,36,36)\",\"ticks\":\"outside\"},\"type\":\"choropleth\"}],\"contourcarpet\":[{\"colorbar\":{\"outlinewidth\":1,\"tickcolor\":\"rgb(36,36,36)\",\"ticks\":\"outside\"},\"type\":\"contourcarpet\"}],\"contour\":[{\"colorbar\":{\"outlinewidth\":1,\"tickcolor\":\"rgb(36,36,36)\",\"ticks\":\"outside\"},\"colorscale\":[[0.0,\"#440154\"],[0.1111111111111111,\"#482878\"],[0.2222222222222222,\"#3e4989\"],[0.3333333333333333,\"#31688e\"],[0.4444444444444444,\"#26828e\"],[0.5555555555555556,\"#1f9e89\"],[0.6666666666666666,\"#35b779\"],[0.7777777777777778,\"#6ece58\"],[0.8888888888888888,\"#b5de2b\"],[1.0,\"#fde725\"]],\"type\":\"contour\"}],\"heatmap\":[{\"colorbar\":{\"outlinewidth\":1,\"tickcolor\":\"rgb(36,36,36)\",\"ticks\":\"outside\"},\"colorscale\":[[0.0,\"#440154\"],[0.1111111111111111,\"#482878\"],[0.2222222222222222,\"#3e4989\"],[0.3333333333333333,\"#31688e\"],[0.4444444444444444,\"#26828e\"],[0.5555555555555556,\"#1f9e89\"],[0.6666666666666666,\"#35b779\"],[0.7777777777777778,\"#6ece58\"],[0.8888888888888888,\"#b5de2b\"],[1.0,\"#fde725\"]],\"type\":\"heatmap\"}],\"histogram2dcontour\":[{\"colorbar\":{\"outlinewidth\":1,\"tickcolor\":\"rgb(36,36,36)\",\"ticks\":\"outside\"},\"colorscale\":[[0.0,\"#440154\"],[0.1111111111111111,\"#482878\"],[0.2222222222222222,\"#3e4989\"],[0.3333333333333333,\"#31688e\"],[0.4444444444444444,\"#26828e\"],[0.5555555555555556,\"#1f9e89\"],[0.6666666666666666,\"#35b779\"],[0.7777777777777778,\"#6ece58\"],[0.8888888888888888,\"#b5de2b\"],[1.0,\"#fde725\"]],\"type\":\"histogram2dcontour\"}],\"histogram2d\":[{\"colorbar\":{\"outlinewidth\":1,\"tickcolor\":\"rgb(36,36,36)\",\"ticks\":\"outside\"},\"colorscale\":[[0.0,\"#440154\"],[0.1111111111111111,\"#482878\"],[0.2222222222222222,\"#3e4989\"],[0.3333333333333333,\"#31688e\"],[0.4444444444444444,\"#26828e\"],[0.5555555555555556,\"#1f9e89\"],[0.6666666666666666,\"#35b779\"],[0.7777777777777778,\"#6ece58\"],[0.8888888888888888,\"#b5de2b\"],[1.0,\"#fde725\"]],\"type\":\"histogram2d\"}],\"histogram\":[{\"marker\":{\"line\":{\"color\":\"white\",\"width\":0.6}},\"type\":\"histogram\"}],\"mesh3d\":[{\"colorbar\":{\"outlinewidth\":1,\"tickcolor\":\"rgb(36,36,36)\",\"ticks\":\"outside\"},\"type\":\"mesh3d\"}],\"parcoords\":[{\"line\":{\"colorbar\":{\"outlinewidth\":1,\"tickcolor\":\"rgb(36,36,36)\",\"ticks\":\"outside\"}},\"type\":\"parcoords\"}],\"pie\":[{\"automargin\":true,\"type\":\"pie\"}],\"scatter3d\":[{\"line\":{\"colorbar\":{\"outlinewidth\":1,\"tickcolor\":\"rgb(36,36,36)\",\"ticks\":\"outside\"}},\"marker\":{\"colorbar\":{\"outlinewidth\":1,\"tickcolor\":\"rgb(36,36,36)\",\"ticks\":\"outside\"}},\"type\":\"scatter3d\"}],\"scattercarpet\":[{\"marker\":{\"colorbar\":{\"outlinewidth\":1,\"tickcolor\":\"rgb(36,36,36)\",\"ticks\":\"outside\"}},\"type\":\"scattercarpet\"}],\"scattergeo\":[{\"marker\":{\"colorbar\":{\"outlinewidth\":1,\"tickcolor\":\"rgb(36,36,36)\",\"ticks\":\"outside\"}},\"type\":\"scattergeo\"}],\"scattergl\":[{\"marker\":{\"colorbar\":{\"outlinewidth\":1,\"tickcolor\":\"rgb(36,36,36)\",\"ticks\":\"outside\"}},\"type\":\"scattergl\"}],\"scattermapbox\":[{\"marker\":{\"colorbar\":{\"outlinewidth\":1,\"tickcolor\":\"rgb(36,36,36)\",\"ticks\":\"outside\"}},\"type\":\"scattermapbox\"}],\"scattermap\":[{\"marker\":{\"colorbar\":{\"outlinewidth\":1,\"tickcolor\":\"rgb(36,36,36)\",\"ticks\":\"outside\"}},\"type\":\"scattermap\"}],\"scatterpolargl\":[{\"marker\":{\"colorbar\":{\"outlinewidth\":1,\"tickcolor\":\"rgb(36,36,36)\",\"ticks\":\"outside\"}},\"type\":\"scatterpolargl\"}],\"scatterpolar\":[{\"marker\":{\"colorbar\":{\"outlinewidth\":1,\"tickcolor\":\"rgb(36,36,36)\",\"ticks\":\"outside\"}},\"type\":\"scatterpolar\"}],\"scatter\":[{\"fillpattern\":{\"fillmode\":\"overlay\",\"size\":10,\"solidity\":0.2},\"type\":\"scatter\"}],\"scatterternary\":[{\"marker\":{\"colorbar\":{\"outlinewidth\":1,\"tickcolor\":\"rgb(36,36,36)\",\"ticks\":\"outside\"}},\"type\":\"scatterternary\"}],\"surface\":[{\"colorbar\":{\"outlinewidth\":1,\"tickcolor\":\"rgb(36,36,36)\",\"ticks\":\"outside\"},\"colorscale\":[[0.0,\"#440154\"],[0.1111111111111111,\"#482878\"],[0.2222222222222222,\"#3e4989\"],[0.3333333333333333,\"#31688e\"],[0.4444444444444444,\"#26828e\"],[0.5555555555555556,\"#1f9e89\"],[0.6666666666666666,\"#35b779\"],[0.7777777777777778,\"#6ece58\"],[0.8888888888888888,\"#b5de2b\"],[1.0,\"#fde725\"]],\"type\":\"surface\"}],\"table\":[{\"cells\":{\"fill\":{\"color\":\"rgb(237,237,237)\"},\"line\":{\"color\":\"white\"}},\"header\":{\"fill\":{\"color\":\"rgb(217,217,217)\"},\"line\":{\"color\":\"white\"}},\"type\":\"table\"}]},\"layout\":{\"annotationdefaults\":{\"arrowhead\":0,\"arrowwidth\":1},\"autotypenumbers\":\"strict\",\"coloraxis\":{\"colorbar\":{\"outlinewidth\":1,\"tickcolor\":\"rgb(36,36,36)\",\"ticks\":\"outside\"}},\"colorscale\":{\"diverging\":[[0.0,\"rgb(103,0,31)\"],[0.1,\"rgb(178,24,43)\"],[0.2,\"rgb(214,96,77)\"],[0.3,\"rgb(244,165,130)\"],[0.4,\"rgb(253,219,199)\"],[0.5,\"rgb(247,247,247)\"],[0.6,\"rgb(209,229,240)\"],[0.7,\"rgb(146,197,222)\"],[0.8,\"rgb(67,147,195)\"],[0.9,\"rgb(33,102,172)\"],[1.0,\"rgb(5,48,97)\"]],\"sequential\":[[0.0,\"#440154\"],[0.1111111111111111,\"#482878\"],[0.2222222222222222,\"#3e4989\"],[0.3333333333333333,\"#31688e\"],[0.4444444444444444,\"#26828e\"],[0.5555555555555556,\"#1f9e89\"],[0.6666666666666666,\"#35b779\"],[0.7777777777777778,\"#6ece58\"],[0.8888888888888888,\"#b5de2b\"],[1.0,\"#fde725\"]],\"sequentialminus\":[[0.0,\"#440154\"],[0.1111111111111111,\"#482878\"],[0.2222222222222222,\"#3e4989\"],[0.3333333333333333,\"#31688e\"],[0.4444444444444444,\"#26828e\"],[0.5555555555555556,\"#1f9e89\"],[0.6666666666666666,\"#35b779\"],[0.7777777777777778,\"#6ece58\"],[0.8888888888888888,\"#b5de2b\"],[1.0,\"#fde725\"]]},\"colorway\":[\"#1F77B4\",\"#FF7F0E\",\"#2CA02C\",\"#D62728\",\"#9467BD\",\"#8C564B\",\"#E377C2\",\"#7F7F7F\",\"#BCBD22\",\"#17BECF\"],\"font\":{\"color\":\"rgb(36,36,36)\"},\"geo\":{\"bgcolor\":\"white\",\"lakecolor\":\"white\",\"landcolor\":\"white\",\"showlakes\":true,\"showland\":true,\"subunitcolor\":\"white\"},\"hoverlabel\":{\"align\":\"left\"},\"hovermode\":\"closest\",\"mapbox\":{\"style\":\"light\"},\"paper_bgcolor\":\"white\",\"plot_bgcolor\":\"white\",\"polar\":{\"angularaxis\":{\"gridcolor\":\"rgb(232,232,232)\",\"linecolor\":\"rgb(36,36,36)\",\"showgrid\":false,\"showline\":true,\"ticks\":\"outside\"},\"bgcolor\":\"white\",\"radialaxis\":{\"gridcolor\":\"rgb(232,232,232)\",\"linecolor\":\"rgb(36,36,36)\",\"showgrid\":false,\"showline\":true,\"ticks\":\"outside\"}},\"scene\":{\"xaxis\":{\"backgroundcolor\":\"white\",\"gridcolor\":\"rgb(232,232,232)\",\"gridwidth\":2,\"linecolor\":\"rgb(36,36,36)\",\"showbackground\":true,\"showgrid\":false,\"showline\":true,\"ticks\":\"outside\",\"zeroline\":false,\"zerolinecolor\":\"rgb(36,36,36)\"},\"yaxis\":{\"backgroundcolor\":\"white\",\"gridcolor\":\"rgb(232,232,232)\",\"gridwidth\":2,\"linecolor\":\"rgb(36,36,36)\",\"showbackground\":true,\"showgrid\":false,\"showline\":true,\"ticks\":\"outside\",\"zeroline\":false,\"zerolinecolor\":\"rgb(36,36,36)\"},\"zaxis\":{\"backgroundcolor\":\"white\",\"gridcolor\":\"rgb(232,232,232)\",\"gridwidth\":2,\"linecolor\":\"rgb(36,36,36)\",\"showbackground\":true,\"showgrid\":false,\"showline\":true,\"ticks\":\"outside\",\"zeroline\":false,\"zerolinecolor\":\"rgb(36,36,36)\"}},\"shapedefaults\":{\"fillcolor\":\"black\",\"line\":{\"width\":0},\"opacity\":0.3},\"ternary\":{\"aaxis\":{\"gridcolor\":\"rgb(232,232,232)\",\"linecolor\":\"rgb(36,36,36)\",\"showgrid\":false,\"showline\":true,\"ticks\":\"outside\"},\"baxis\":{\"gridcolor\":\"rgb(232,232,232)\",\"linecolor\":\"rgb(36,36,36)\",\"showgrid\":false,\"showline\":true,\"ticks\":\"outside\"},\"bgcolor\":\"white\",\"caxis\":{\"gridcolor\":\"rgb(232,232,232)\",\"linecolor\":\"rgb(36,36,36)\",\"showgrid\":false,\"showline\":true,\"ticks\":\"outside\"}},\"title\":{\"x\":0.05},\"xaxis\":{\"automargin\":true,\"gridcolor\":\"rgb(232,232,232)\",\"linecolor\":\"rgb(36,36,36)\",\"showgrid\":false,\"showline\":true,\"ticks\":\"outside\",\"title\":{\"standoff\":15},\"zeroline\":false,\"zerolinecolor\":\"rgb(36,36,36)\"},\"yaxis\":{\"automargin\":true,\"gridcolor\":\"rgb(232,232,232)\",\"linecolor\":\"rgb(36,36,36)\",\"showgrid\":false,\"showline\":true,\"ticks\":\"outside\",\"title\":{\"standoff\":15},\"zeroline\":false,\"zerolinecolor\":\"rgb(36,36,36)\"}}},\"xaxis\":{\"anchor\":\"y\",\"domain\":[0.0,1.0],\"title\":{\"text\":\"Words per entry\"}},\"yaxis\":{\"anchor\":\"x\",\"domain\":[0.0,1.0],\"title\":{\"text\":\"Rows\"}},\"legend\":{\"tracegroupgap\":0},\"title\":{\"text\":\"Time Narrative length (word count)\"},\"barmode\":\"relative\",\"margin\":{\"t\":60,\"r\":30,\"l\":60,\"b\":60}},                        {\"responsive\": true}                    ).then(function(){\n",
       "                            \n",
       "var gd = document.getElementById('96a643d4-a745-4bb0-8c31-896947d03983');\n",
       "var x = new MutationObserver(function (mutations, observer) {{\n",
       "        var display = window.getComputedStyle(gd).display;\n",
       "        if (!display || display === 'none') {{\n",
       "            console.log([gd, 'removed!']);\n",
       "            Plotly.purge(gd);\n",
       "            observer.disconnect();\n",
       "        }}\n",
       "}});\n",
       "\n",
       "// Listen for the removal of the full notebook cells\n",
       "var notebookContainer = gd.closest('#notebook-container');\n",
       "if (notebookContainer) {{\n",
       "    x.observe(notebookContainer, {childList: true});\n",
       "}}\n",
       "\n",
       "// Listen for the clearing of the current output cell\n",
       "var outputEl = gd.closest('.output');\n",
       "if (outputEl) {{\n",
       "    x.observe(outputEl, {childList: true});\n",
       "}}\n",
       "\n",
       "                        })                };            </script>        </div>"
      ]
     },
     "metadata": {},
     "output_type": "display_data"
    }
   ],
   "source": [
    "fig = px.histogram(\n",
    "    df, x=\"n_words\", nbins=40,\n",
    "    title=\"Time Narrative length (word count)\",\n",
    ")\n",
    "fig.update_layout(\n",
    "    template=\"simple_white\",\n",
    "    xaxis_title=\"Words per entry\",\n",
    "    yaxis_title=\"Rows\",\n",
    "    margin=dict(t=60, r=30, l=60, b=60),\n",
    ")\n",
    "fig.show()"
   ]
  },
  {
   "cell_type": "markdown",
   "id": "1cf3618e",
   "metadata": {},
   "source": [
    "## mark “low-info” narratives"
   ]
  },
  {
   "cell_type": "code",
   "execution_count": 38,
   "id": "196a8869",
   "metadata": {},
   "outputs": [
    {
     "name": "stdout",
     "output_type": "stream",
     "text": [
      "Low-info narratives (≤3 words): 14.9%\n"
     ]
    }
   ],
   "source": [
    "df[\"low_info\"] = (df[\"n_words\"] <= 3).astype(int)\n",
    "\n",
    "low_info_share = (df[\"low_info\"].mean() * 100).round(1)\n",
    "print(f\"Low-info narratives (≤3 words): {low_info_share}%\")"
   ]
  },
  {
   "cell_type": "code",
   "execution_count": 39,
   "id": "14f3a79c",
   "metadata": {},
   "outputs": [
    {
     "data": {
      "application/vnd.microsoft.datawrangler.viewer.v0+json": {
       "columns": [
        {
         "name": "low_info",
         "rawType": "int64",
         "type": "integer"
        },
        {
         "name": "labelled_%",
         "rawType": "float64",
         "type": "float"
        }
       ],
       "ref": "77fd6369-1393-4bad-b8c9-adf7d1023bb8",
       "rows": [
        [
         "0",
         "26.4"
        ],
        [
         "1",
         "23.9"
        ]
       ],
       "shape": {
        "columns": 1,
        "rows": 2
       }
      },
      "text/plain": [
       "low_info\n",
       "0    26.4\n",
       "1    23.9\n",
       "Name: labelled_%, dtype: float64"
      ]
     },
     "execution_count": 39,
     "metadata": {},
     "output_type": "execute_result"
    }
   ],
   "source": [
    "lab_rate = (\n",
    "    df.assign(labelled=df[\"Category\"].notna())\n",
    "      .groupby(\"low_info\")[\"labelled\"].mean()\n",
    "      .mul(100).round(1)\n",
    "      .rename(\"labelled_%\")\n",
    ")\n",
    "lab_rate"
   ]
  },
  {
   "cell_type": "markdown",
   "id": "449aa6d1",
   "metadata": {},
   "source": [
    "## Worked Time vs Charged?\n"
   ]
  },
  {
   "cell_type": "code",
   "execution_count": 16,
   "id": "e5cccafe",
   "metadata": {},
   "outputs": [
    {
     "data": {
      "text/html": [
       "<div>            <script src=\"https://cdnjs.cloudflare.com/ajax/libs/mathjax/2.7.5/MathJax.js?config=TeX-AMS-MML_SVG\"></script><script type=\"text/javascript\">if (window.MathJax && window.MathJax.Hub && window.MathJax.Hub.Config) {window.MathJax.Hub.Config({SVG: {font: \"STIX-Web\"}});}</script>                <script type=\"text/javascript\">window.PlotlyConfig = {MathJaxConfig: 'local'};</script>\n",
       "        <script charset=\"utf-8\" src=\"https://cdn.plot.ly/plotly-3.1.0.min.js\" integrity=\"sha256-Ei4740bWZhaUTQuD6q9yQlgVCMPBz6CZWhevDYPv93A=\" crossorigin=\"anonymous\"></script>                <div id=\"f0585fb6-8e18-4bf4-9cd2-bfeba84e7798\" class=\"plotly-graph-div\" style=\"height:525px; width:100%;\"></div>            <script type=\"text/javascript\">                window.PLOTLYENV=window.PLOTLYENV || {};                                if (document.getElementById(\"f0585fb6-8e18-4bf4-9cd2-bfeba84e7798\")) {                    Plotly.newPlot(                        \"f0585fb6-8e18-4bf4-9cd2-bfeba84e7798\",                        [{\"alignmentgroup\":\"True\",\"boxpoints\":\"suspectedoutliers\",\"hovertemplate\":\"charged=%{x}\\u003cbr\\u003eWorked Time=%{y}\\u003cextra\\u003e\\u003c\\u002fextra\\u003e\",\"legendgroup\":\"Yes\",\"marker\":{\"color\":\"#636efa\"},\"name\":\"Yes\",\"notched\":false,\"offsetgroup\":\"Yes\",\"orientation\":\"v\",\"showlegend\":true,\"x\":[\"Yes\",\"Yes\",\"Yes\",\"Yes\",\"Yes\",\"Yes\",\"Yes\",\"Yes\",\"Yes\",\"Yes\",\"Yes\",\"Yes\",\"Yes\",\"Yes\",\"Yes\",\"Yes\",\"Yes\",\"Yes\",\"Yes\",\"Yes\",\"Yes\",\"Yes\",\"Yes\",\"Yes\",\"Yes\",\"Yes\",\"Yes\",\"Yes\",\"Yes\",\"Yes\",\"Yes\",\"Yes\",\"Yes\",\"Yes\",\"Yes\",\"Yes\",\"Yes\",\"Yes\",\"Yes\",\"Yes\",\"Yes\",\"Yes\",\"Yes\",\"Yes\",\"Yes\",\"Yes\",\"Yes\",\"Yes\",\"Yes\",\"Yes\",\"Yes\",\"Yes\",\"Yes\",\"Yes\",\"Yes\",\"Yes\",\"Yes\",\"Yes\",\"Yes\",\"Yes\",\"Yes\",\"Yes\",\"Yes\",\"Yes\",\"Yes\",\"Yes\",\"Yes\",\"Yes\",\"Yes\",\"Yes\",\"Yes\",\"Yes\",\"Yes\",\"Yes\",\"Yes\",\"Yes\",\"Yes\",\"Yes\",\"Yes\",\"Yes\",\"Yes\",\"Yes\",\"Yes\",\"Yes\",\"Yes\",\"Yes\",\"Yes\",\"Yes\",\"Yes\",\"Yes\",\"Yes\",\"Yes\",\"Yes\",\"Yes\",\"Yes\",\"Yes\",\"Yes\",\"Yes\",\"Yes\",\"Yes\",\"Yes\",\"Yes\",\"Yes\",\"Yes\",\"Yes\",\"Yes\",\"Yes\",\"Yes\",\"Yes\",\"Yes\",\"Yes\",\"Yes\",\"Yes\",\"Yes\",\"Yes\",\"Yes\",\"Yes\",\"Yes\",\"Yes\",\"Yes\",\"Yes\",\"Yes\",\"Yes\",\"Yes\",\"Yes\",\"Yes\",\"Yes\",\"Yes\",\"Yes\",\"Yes\",\"Yes\",\"Yes\",\"Yes\",\"Yes\",\"Yes\",\"Yes\",\"Yes\",\"Yes\",\"Yes\",\"Yes\",\"Yes\",\"Yes\",\"Yes\",\"Yes\",\"Yes\",\"Yes\",\"Yes\",\"Yes\",\"Yes\",\"Yes\",\"Yes\",\"Yes\",\"Yes\",\"Yes\",\"Yes\",\"Yes\",\"Yes\",\"Yes\",\"Yes\",\"Yes\",\"Yes\",\"Yes\",\"Yes\",\"Yes\",\"Yes\",\"Yes\",\"Yes\",\"Yes\",\"Yes\",\"Yes\",\"Yes\",\"Yes\",\"Yes\",\"Yes\",\"Yes\",\"Yes\",\"Yes\",\"Yes\",\"Yes\",\"Yes\",\"Yes\",\"Yes\",\"Yes\",\"Yes\",\"Yes\",\"Yes\",\"Yes\",\"Yes\",\"Yes\",\"Yes\",\"Yes\",\"Yes\",\"Yes\",\"Yes\",\"Yes\",\"Yes\",\"Yes\",\"Yes\",\"Yes\",\"Yes\",\"Yes\",\"Yes\",\"Yes\",\"Yes\",\"Yes\",\"Yes\",\"Yes\",\"Yes\",\"Yes\",\"Yes\",\"Yes\",\"Yes\",\"Yes\",\"Yes\",\"Yes\",\"Yes\",\"Yes\",\"Yes\",\"Yes\",\"Yes\",\"Yes\",\"Yes\",\"Yes\",\"Yes\",\"Yes\",\"Yes\",\"Yes\",\"Yes\",\"Yes\",\"Yes\",\"Yes\",\"Yes\",\"Yes\",\"Yes\",\"Yes\",\"Yes\",\"Yes\",\"Yes\",\"Yes\",\"Yes\",\"Yes\",\"Yes\",\"Yes\",\"Yes\",\"Yes\",\"Yes\",\"Yes\",\"Yes\",\"Yes\",\"Yes\",\"Yes\",\"Yes\",\"Yes\",\"Yes\",\"Yes\",\"Yes\",\"Yes\",\"Yes\",\"Yes\",\"Yes\",\"Yes\",\"Yes\",\"Yes\",\"Yes\",\"Yes\",\"Yes\",\"Yes\",\"Yes\",\"Yes\",\"Yes\",\"Yes\",\"Yes\",\"Yes\",\"Yes\",\"Yes\",\"Yes\",\"Yes\",\"Yes\",\"Yes\",\"Yes\",\"Yes\",\"Yes\",\"Yes\",\"Yes\",\"Yes\",\"Yes\",\"Yes\",\"Yes\",\"Yes\",\"Yes\",\"Yes\",\"Yes\",\"Yes\",\"Yes\",\"Yes\",\"Yes\",\"Yes\",\"Yes\",\"Yes\",\"Yes\",\"Yes\",\"Yes\",\"Yes\",\"Yes\",\"Yes\",\"Yes\",\"Yes\",\"Yes\",\"Yes\",\"Yes\",\"Yes\",\"Yes\",\"Yes\",\"Yes\",\"Yes\",\"Yes\",\"Yes\",\"Yes\",\"Yes\",\"Yes\",\"Yes\",\"Yes\",\"Yes\",\"Yes\",\"Yes\",\"Yes\",\"Yes\",\"Yes\",\"Yes\",\"Yes\",\"Yes\",\"Yes\",\"Yes\",\"Yes\",\"Yes\",\"Yes\",\"Yes\",\"Yes\",\"Yes\",\"Yes\",\"Yes\",\"Yes\",\"Yes\",\"Yes\",\"Yes\",\"Yes\",\"Yes\",\"Yes\",\"Yes\",\"Yes\",\"Yes\",\"Yes\",\"Yes\",\"Yes\",\"Yes\",\"Yes\",\"Yes\",\"Yes\",\"Yes\",\"Yes\",\"Yes\",\"Yes\",\"Yes\",\"Yes\",\"Yes\",\"Yes\",\"Yes\",\"Yes\",\"Yes\",\"Yes\",\"Yes\",\"Yes\",\"Yes\",\"Yes\",\"Yes\",\"Yes\",\"Yes\",\"Yes\",\"Yes\",\"Yes\",\"Yes\",\"Yes\",\"Yes\",\"Yes\",\"Yes\",\"Yes\",\"Yes\",\"Yes\",\"Yes\",\"Yes\",\"Yes\",\"Yes\",\"Yes\",\"Yes\",\"Yes\",\"Yes\",\"Yes\",\"Yes\",\"Yes\",\"Yes\",\"Yes\",\"Yes\",\"Yes\",\"Yes\",\"Yes\",\"Yes\",\"Yes\",\"Yes\",\"Yes\",\"Yes\",\"Yes\",\"Yes\",\"Yes\",\"Yes\",\"Yes\",\"Yes\",\"Yes\",\"Yes\",\"Yes\",\"Yes\",\"Yes\",\"Yes\",\"Yes\",\"Yes\",\"Yes\",\"Yes\",\"Yes\",\"Yes\",\"Yes\",\"Yes\",\"Yes\",\"Yes\",\"Yes\",\"Yes\",\"Yes\",\"Yes\",\"Yes\",\"Yes\",\"Yes\",\"Yes\",\"Yes\",\"Yes\",\"Yes\",\"Yes\",\"Yes\",\"Yes\",\"Yes\",\"Yes\",\"Yes\",\"Yes\",\"Yes\",\"Yes\",\"Yes\",\"Yes\",\"Yes\",\"Yes\",\"Yes\",\"Yes\",\"Yes\",\"Yes\",\"Yes\",\"Yes\",\"Yes\",\"Yes\",\"Yes\",\"Yes\",\"Yes\",\"Yes\",\"Yes\",\"Yes\",\"Yes\",\"Yes\",\"Yes\",\"Yes\",\"Yes\",\"Yes\",\"Yes\",\"Yes\",\"Yes\",\"Yes\",\"Yes\",\"Yes\",\"Yes\",\"Yes\",\"Yes\",\"Yes\",\"Yes\",\"Yes\",\"Yes\",\"Yes\",\"Yes\",\"Yes\",\"Yes\",\"Yes\",\"Yes\",\"Yes\",\"Yes\",\"Yes\",\"Yes\",\"Yes\",\"Yes\",\"Yes\",\"Yes\",\"Yes\",\"Yes\",\"Yes\",\"Yes\",\"Yes\",\"Yes\",\"Yes\",\"Yes\",\"Yes\",\"Yes\",\"Yes\",\"Yes\",\"Yes\",\"Yes\",\"Yes\",\"Yes\",\"Yes\",\"Yes\",\"Yes\",\"Yes\",\"Yes\",\"Yes\",\"Yes\",\"Yes\",\"Yes\",\"Yes\",\"Yes\",\"Yes\",\"Yes\",\"Yes\",\"Yes\",\"Yes\",\"Yes\",\"Yes\",\"Yes\",\"Yes\",\"Yes\",\"Yes\",\"Yes\",\"Yes\",\"Yes\",\"Yes\",\"Yes\",\"Yes\",\"Yes\",\"Yes\",\"Yes\",\"Yes\",\"Yes\",\"Yes\",\"Yes\",\"Yes\",\"Yes\",\"Yes\",\"Yes\",\"Yes\",\"Yes\",\"Yes\",\"Yes\",\"Yes\",\"Yes\",\"Yes\",\"Yes\",\"Yes\",\"Yes\",\"Yes\",\"Yes\",\"Yes\",\"Yes\",\"Yes\",\"Yes\",\"Yes\",\"Yes\",\"Yes\",\"Yes\",\"Yes\",\"Yes\",\"Yes\",\"Yes\",\"Yes\",\"Yes\",\"Yes\",\"Yes\",\"Yes\",\"Yes\",\"Yes\",\"Yes\",\"Yes\",\"Yes\",\"Yes\",\"Yes\",\"Yes\",\"Yes\",\"Yes\",\"Yes\",\"Yes\",\"Yes\",\"Yes\",\"Yes\",\"Yes\",\"Yes\",\"Yes\",\"Yes\",\"Yes\",\"Yes\",\"Yes\",\"Yes\",\"Yes\",\"Yes\",\"Yes\",\"Yes\",\"Yes\",\"Yes\",\"Yes\",\"Yes\",\"Yes\",\"Yes\",\"Yes\",\"Yes\",\"Yes\",\"Yes\",\"Yes\",\"Yes\",\"Yes\",\"Yes\",\"Yes\",\"Yes\",\"Yes\",\"Yes\",\"Yes\",\"Yes\",\"Yes\",\"Yes\",\"Yes\",\"Yes\",\"Yes\",\"Yes\",\"Yes\",\"Yes\",\"Yes\",\"Yes\",\"Yes\",\"Yes\",\"Yes\",\"Yes\",\"Yes\",\"Yes\",\"Yes\",\"Yes\",\"Yes\",\"Yes\",\"Yes\",\"Yes\",\"Yes\",\"Yes\",\"Yes\",\"Yes\",\"Yes\",\"Yes\",\"Yes\",\"Yes\",\"Yes\",\"Yes\",\"Yes\",\"Yes\",\"Yes\",\"Yes\",\"Yes\",\"Yes\",\"Yes\",\"Yes\",\"Yes\",\"Yes\",\"Yes\",\"Yes\",\"Yes\",\"Yes\",\"Yes\",\"Yes\",\"Yes\",\"Yes\",\"Yes\",\"Yes\",\"Yes\",\"Yes\",\"Yes\",\"Yes\",\"Yes\",\"Yes\",\"Yes\",\"Yes\",\"Yes\",\"Yes\",\"Yes\",\"Yes\",\"Yes\",\"Yes\",\"Yes\",\"Yes\",\"Yes\",\"Yes\",\"Yes\",\"Yes\",\"Yes\",\"Yes\",\"Yes\",\"Yes\",\"Yes\",\"Yes\",\"Yes\",\"Yes\",\"Yes\",\"Yes\",\"Yes\",\"Yes\",\"Yes\",\"Yes\",\"Yes\",\"Yes\",\"Yes\",\"Yes\",\"Yes\",\"Yes\",\"Yes\",\"Yes\",\"Yes\",\"Yes\",\"Yes\",\"Yes\",\"Yes\",\"Yes\",\"Yes\",\"Yes\",\"Yes\",\"Yes\",\"Yes\",\"Yes\",\"Yes\",\"Yes\",\"Yes\",\"Yes\",\"Yes\",\"Yes\",\"Yes\",\"Yes\",\"Yes\",\"Yes\",\"Yes\",\"Yes\",\"Yes\",\"Yes\",\"Yes\",\"Yes\",\"Yes\",\"Yes\",\"Yes\",\"Yes\",\"Yes\",\"Yes\",\"Yes\",\"Yes\",\"Yes\",\"Yes\",\"Yes\",\"Yes\",\"Yes\",\"Yes\",\"Yes\",\"Yes\",\"Yes\",\"Yes\",\"Yes\",\"Yes\",\"Yes\",\"Yes\",\"Yes\",\"Yes\",\"Yes\",\"Yes\",\"Yes\",\"Yes\",\"Yes\",\"Yes\",\"Yes\",\"Yes\",\"Yes\",\"Yes\",\"Yes\",\"Yes\",\"Yes\",\"Yes\",\"Yes\",\"Yes\",\"Yes\",\"Yes\",\"Yes\",\"Yes\",\"Yes\",\"Yes\",\"Yes\",\"Yes\",\"Yes\",\"Yes\",\"Yes\",\"Yes\",\"Yes\",\"Yes\",\"Yes\",\"Yes\",\"Yes\",\"Yes\",\"Yes\",\"Yes\",\"Yes\",\"Yes\",\"Yes\",\"Yes\",\"Yes\",\"Yes\",\"Yes\",\"Yes\",\"Yes\",\"Yes\",\"Yes\",\"Yes\",\"Yes\",\"Yes\",\"Yes\",\"Yes\",\"Yes\",\"Yes\",\"Yes\",\"Yes\",\"Yes\",\"Yes\",\"Yes\",\"Yes\",\"Yes\",\"Yes\",\"Yes\",\"Yes\",\"Yes\",\"Yes\",\"Yes\",\"Yes\",\"Yes\",\"Yes\",\"Yes\",\"Yes\",\"Yes\",\"Yes\",\"Yes\",\"Yes\",\"Yes\",\"Yes\",\"Yes\",\"Yes\",\"Yes\",\"Yes\",\"Yes\",\"Yes\",\"Yes\",\"Yes\",\"Yes\",\"Yes\",\"Yes\",\"Yes\",\"Yes\",\"Yes\",\"Yes\",\"Yes\",\"Yes\",\"Yes\",\"Yes\",\"Yes\",\"Yes\",\"Yes\",\"Yes\",\"Yes\",\"Yes\",\"Yes\",\"Yes\",\"Yes\",\"Yes\",\"Yes\",\"Yes\",\"Yes\",\"Yes\",\"Yes\",\"Yes\",\"Yes\",\"Yes\",\"Yes\",\"Yes\",\"Yes\",\"Yes\",\"Yes\",\"Yes\",\"Yes\",\"Yes\",\"Yes\",\"Yes\",\"Yes\",\"Yes\",\"Yes\",\"Yes\",\"Yes\",\"Yes\",\"Yes\",\"Yes\",\"Yes\",\"Yes\",\"Yes\",\"Yes\",\"Yes\",\"Yes\",\"Yes\",\"Yes\",\"Yes\",\"Yes\",\"Yes\",\"Yes\",\"Yes\",\"Yes\",\"Yes\",\"Yes\",\"Yes\",\"Yes\",\"Yes\",\"Yes\",\"Yes\",\"Yes\",\"Yes\",\"Yes\",\"Yes\",\"Yes\",\"Yes\",\"Yes\",\"Yes\",\"Yes\",\"Yes\",\"Yes\",\"Yes\",\"Yes\",\"Yes\",\"Yes\",\"Yes\",\"Yes\",\"Yes\",\"Yes\",\"Yes\",\"Yes\",\"Yes\",\"Yes\",\"Yes\",\"Yes\",\"Yes\",\"Yes\",\"Yes\",\"Yes\",\"Yes\",\"Yes\",\"Yes\",\"Yes\",\"Yes\",\"Yes\",\"Yes\",\"Yes\",\"Yes\",\"Yes\",\"Yes\",\"Yes\",\"Yes\",\"Yes\",\"Yes\",\"Yes\",\"Yes\",\"Yes\",\"Yes\",\"Yes\",\"Yes\",\"Yes\",\"Yes\",\"Yes\",\"Yes\",\"Yes\",\"Yes\",\"Yes\",\"Yes\",\"Yes\",\"Yes\",\"Yes\",\"Yes\",\"Yes\",\"Yes\",\"Yes\",\"Yes\",\"Yes\",\"Yes\",\"Yes\",\"Yes\",\"Yes\",\"Yes\",\"Yes\",\"Yes\",\"Yes\",\"Yes\",\"Yes\",\"Yes\",\"Yes\",\"Yes\",\"Yes\",\"Yes\",\"Yes\",\"Yes\",\"Yes\",\"Yes\",\"Yes\",\"Yes\",\"Yes\",\"Yes\",\"Yes\",\"Yes\",\"Yes\",\"Yes\",\"Yes\",\"Yes\",\"Yes\",\"Yes\",\"Yes\",\"Yes\",\"Yes\",\"Yes\",\"Yes\",\"Yes\",\"Yes\",\"Yes\",\"Yes\",\"Yes\",\"Yes\",\"Yes\",\"Yes\",\"Yes\",\"Yes\",\"Yes\",\"Yes\",\"Yes\",\"Yes\",\"Yes\",\"Yes\",\"Yes\",\"Yes\",\"Yes\",\"Yes\",\"Yes\",\"Yes\",\"Yes\",\"Yes\",\"Yes\",\"Yes\",\"Yes\",\"Yes\",\"Yes\",\"Yes\",\"Yes\",\"Yes\",\"Yes\",\"Yes\",\"Yes\",\"Yes\",\"Yes\",\"Yes\",\"Yes\",\"Yes\",\"Yes\",\"Yes\",\"Yes\",\"Yes\",\"Yes\",\"Yes\",\"Yes\",\"Yes\",\"Yes\",\"Yes\",\"Yes\",\"Yes\",\"Yes\",\"Yes\",\"Yes\",\"Yes\",\"Yes\",\"Yes\",\"Yes\",\"Yes\",\"Yes\",\"Yes\",\"Yes\",\"Yes\",\"Yes\",\"Yes\",\"Yes\",\"Yes\",\"Yes\",\"Yes\",\"Yes\",\"Yes\",\"Yes\",\"Yes\",\"Yes\",\"Yes\",\"Yes\",\"Yes\",\"Yes\",\"Yes\",\"Yes\",\"Yes\",\"Yes\",\"Yes\",\"Yes\",\"Yes\",\"Yes\",\"Yes\",\"Yes\",\"Yes\",\"Yes\",\"Yes\",\"Yes\",\"Yes\",\"Yes\",\"Yes\",\"Yes\",\"Yes\",\"Yes\",\"Yes\",\"Yes\",\"Yes\",\"Yes\",\"Yes\",\"Yes\",\"Yes\",\"Yes\",\"Yes\",\"Yes\",\"Yes\",\"Yes\",\"Yes\",\"Yes\",\"Yes\",\"Yes\",\"Yes\",\"Yes\",\"Yes\",\"Yes\",\"Yes\",\"Yes\",\"Yes\",\"Yes\",\"Yes\",\"Yes\",\"Yes\",\"Yes\",\"Yes\",\"Yes\",\"Yes\",\"Yes\",\"Yes\",\"Yes\",\"Yes\",\"Yes\",\"Yes\",\"Yes\",\"Yes\",\"Yes\",\"Yes\",\"Yes\",\"Yes\",\"Yes\",\"Yes\",\"Yes\",\"Yes\",\"Yes\",\"Yes\",\"Yes\",\"Yes\",\"Yes\",\"Yes\",\"Yes\",\"Yes\",\"Yes\",\"Yes\",\"Yes\",\"Yes\",\"Yes\",\"Yes\",\"Yes\",\"Yes\",\"Yes\",\"Yes\",\"Yes\",\"Yes\",\"Yes\",\"Yes\",\"Yes\",\"Yes\",\"Yes\",\"Yes\",\"Yes\",\"Yes\",\"Yes\",\"Yes\",\"Yes\",\"Yes\",\"Yes\",\"Yes\",\"Yes\",\"Yes\",\"Yes\",\"Yes\",\"Yes\",\"Yes\",\"Yes\",\"Yes\",\"Yes\",\"Yes\",\"Yes\",\"Yes\",\"Yes\",\"Yes\",\"Yes\",\"Yes\",\"Yes\",\"Yes\",\"Yes\",\"Yes\",\"Yes\",\"Yes\",\"Yes\",\"Yes\",\"Yes\",\"Yes\",\"Yes\",\"Yes\",\"Yes\",\"Yes\",\"Yes\",\"Yes\",\"Yes\",\"Yes\",\"Yes\",\"Yes\",\"Yes\",\"Yes\",\"Yes\",\"Yes\",\"Yes\",\"Yes\",\"Yes\",\"Yes\",\"Yes\",\"Yes\",\"Yes\",\"Yes\",\"Yes\",\"Yes\",\"Yes\",\"Yes\",\"Yes\",\"Yes\",\"Yes\",\"Yes\",\"Yes\",\"Yes\",\"Yes\",\"Yes\",\"Yes\",\"Yes\",\"Yes\",\"Yes\",\"Yes\",\"Yes\",\"Yes\",\"Yes\",\"Yes\",\"Yes\",\"Yes\",\"Yes\",\"Yes\",\"Yes\",\"Yes\",\"Yes\",\"Yes\",\"Yes\",\"Yes\",\"Yes\",\"Yes\",\"Yes\",\"Yes\",\"Yes\",\"Yes\",\"Yes\",\"Yes\",\"Yes\",\"Yes\",\"Yes\",\"Yes\",\"Yes\",\"Yes\",\"Yes\",\"Yes\",\"Yes\",\"Yes\",\"Yes\",\"Yes\",\"Yes\",\"Yes\",\"Yes\",\"Yes\",\"Yes\",\"Yes\",\"Yes\",\"Yes\",\"Yes\",\"Yes\",\"Yes\",\"Yes\",\"Yes\",\"Yes\",\"Yes\",\"Yes\",\"Yes\",\"Yes\",\"Yes\",\"Yes\",\"Yes\",\"Yes\",\"Yes\",\"Yes\",\"Yes\",\"Yes\",\"Yes\",\"Yes\",\"Yes\",\"Yes\",\"Yes\",\"Yes\",\"Yes\",\"Yes\",\"Yes\",\"Yes\",\"Yes\",\"Yes\",\"Yes\",\"Yes\",\"Yes\",\"Yes\",\"Yes\",\"Yes\",\"Yes\",\"Yes\",\"Yes\",\"Yes\",\"Yes\",\"Yes\",\"Yes\",\"Yes\",\"Yes\",\"Yes\",\"Yes\",\"Yes\",\"Yes\",\"Yes\",\"Yes\",\"Yes\",\"Yes\",\"Yes\",\"Yes\",\"Yes\",\"Yes\",\"Yes\",\"Yes\",\"Yes\",\"Yes\",\"Yes\",\"Yes\",\"Yes\",\"Yes\",\"Yes\",\"Yes\",\"Yes\",\"Yes\",\"Yes\",\"Yes\",\"Yes\",\"Yes\",\"Yes\",\"Yes\",\"Yes\",\"Yes\",\"Yes\",\"Yes\",\"Yes\",\"Yes\",\"Yes\",\"Yes\",\"Yes\",\"Yes\",\"Yes\",\"Yes\",\"Yes\",\"Yes\",\"Yes\",\"Yes\",\"Yes\",\"Yes\",\"Yes\",\"Yes\",\"Yes\",\"Yes\",\"Yes\",\"Yes\",\"Yes\",\"Yes\",\"Yes\",\"Yes\",\"Yes\",\"Yes\",\"Yes\",\"Yes\",\"Yes\",\"Yes\",\"Yes\",\"Yes\",\"Yes\",\"Yes\",\"Yes\",\"Yes\",\"Yes\",\"Yes\",\"Yes\",\"Yes\",\"Yes\",\"Yes\",\"Yes\",\"Yes\",\"Yes\",\"Yes\",\"Yes\",\"Yes\",\"Yes\",\"Yes\",\"Yes\",\"Yes\",\"Yes\",\"Yes\",\"Yes\",\"Yes\",\"Yes\",\"Yes\",\"Yes\",\"Yes\",\"Yes\",\"Yes\",\"Yes\",\"Yes\",\"Yes\",\"Yes\",\"Yes\",\"Yes\",\"Yes\",\"Yes\",\"Yes\",\"Yes\",\"Yes\",\"Yes\",\"Yes\",\"Yes\",\"Yes\",\"Yes\",\"Yes\",\"Yes\",\"Yes\",\"Yes\",\"Yes\",\"Yes\",\"Yes\",\"Yes\",\"Yes\",\"Yes\",\"Yes\",\"Yes\",\"Yes\",\"Yes\",\"Yes\",\"Yes\",\"Yes\",\"Yes\",\"Yes\",\"Yes\",\"Yes\",\"Yes\",\"Yes\",\"Yes\",\"Yes\",\"Yes\",\"Yes\",\"Yes\",\"Yes\",\"Yes\",\"Yes\",\"Yes\",\"Yes\",\"Yes\",\"Yes\",\"Yes\",\"Yes\",\"Yes\",\"Yes\",\"Yes\",\"Yes\",\"Yes\",\"Yes\",\"Yes\",\"Yes\",\"Yes\",\"Yes\",\"Yes\",\"Yes\",\"Yes\",\"Yes\",\"Yes\",\"Yes\",\"Yes\",\"Yes\",\"Yes\",\"Yes\",\"Yes\",\"Yes\",\"Yes\",\"Yes\",\"Yes\",\"Yes\",\"Yes\",\"Yes\",\"Yes\",\"Yes\",\"Yes\",\"Yes\",\"Yes\",\"Yes\",\"Yes\",\"Yes\",\"Yes\",\"Yes\",\"Yes\",\"Yes\",\"Yes\",\"Yes\",\"Yes\",\"Yes\",\"Yes\",\"Yes\",\"Yes\",\"Yes\",\"Yes\",\"Yes\",\"Yes\",\"Yes\",\"Yes\",\"Yes\",\"Yes\",\"Yes\",\"Yes\",\"Yes\",\"Yes\",\"Yes\",\"Yes\",\"Yes\",\"Yes\",\"Yes\",\"Yes\",\"Yes\",\"Yes\",\"Yes\",\"Yes\",\"Yes\",\"Yes\",\"Yes\",\"Yes\",\"Yes\",\"Yes\",\"Yes\",\"Yes\",\"Yes\",\"Yes\",\"Yes\",\"Yes\",\"Yes\",\"Yes\",\"Yes\",\"Yes\",\"Yes\",\"Yes\",\"Yes\",\"Yes\",\"Yes\",\"Yes\",\"Yes\",\"Yes\",\"Yes\",\"Yes\",\"Yes\",\"Yes\",\"Yes\",\"Yes\",\"Yes\",\"Yes\",\"Yes\",\"Yes\",\"Yes\",\"Yes\",\"Yes\",\"Yes\",\"Yes\",\"Yes\",\"Yes\",\"Yes\",\"Yes\",\"Yes\",\"Yes\",\"Yes\",\"Yes\",\"Yes\",\"Yes\",\"Yes\",\"Yes\",\"Yes\",\"Yes\",\"Yes\",\"Yes\",\"Yes\",\"Yes\",\"Yes\",\"Yes\",\"Yes\",\"Yes\",\"Yes\",\"Yes\",\"Yes\",\"Yes\",\"Yes\",\"Yes\",\"Yes\",\"Yes\",\"Yes\",\"Yes\",\"Yes\",\"Yes\",\"Yes\",\"Yes\",\"Yes\",\"Yes\",\"Yes\",\"Yes\",\"Yes\",\"Yes\",\"Yes\",\"Yes\",\"Yes\",\"Yes\",\"Yes\",\"Yes\",\"Yes\",\"Yes\",\"Yes\",\"Yes\",\"Yes\",\"Yes\",\"Yes\",\"Yes\",\"Yes\",\"Yes\",\"Yes\",\"Yes\",\"Yes\",\"Yes\",\"Yes\",\"Yes\",\"Yes\",\"Yes\",\"Yes\",\"Yes\",\"Yes\",\"Yes\",\"Yes\",\"Yes\",\"Yes\",\"Yes\",\"Yes\",\"Yes\",\"Yes\",\"Yes\",\"Yes\",\"Yes\",\"Yes\",\"Yes\",\"Yes\",\"Yes\",\"Yes\",\"Yes\",\"Yes\",\"Yes\",\"Yes\",\"Yes\",\"Yes\",\"Yes\",\"Yes\",\"Yes\",\"Yes\",\"Yes\",\"Yes\",\"Yes\",\"Yes\",\"Yes\",\"Yes\",\"Yes\",\"Yes\",\"Yes\",\"Yes\",\"Yes\",\"Yes\",\"Yes\",\"Yes\",\"Yes\",\"Yes\",\"Yes\",\"Yes\",\"Yes\",\"Yes\",\"Yes\",\"Yes\",\"Yes\",\"Yes\",\"Yes\",\"Yes\",\"Yes\",\"Yes\",\"Yes\",\"Yes\",\"Yes\",\"Yes\",\"Yes\",\"Yes\",\"Yes\",\"Yes\",\"Yes\",\"Yes\",\"Yes\",\"Yes\",\"Yes\",\"Yes\",\"Yes\",\"Yes\",\"Yes\",\"Yes\",\"Yes\",\"Yes\",\"Yes\",\"Yes\",\"Yes\",\"Yes\",\"Yes\",\"Yes\",\"Yes\",\"Yes\",\"Yes\"],\"x0\":\" \",\"xaxis\":\"x\",\"y\":{\"dtype\":\"f8\",\"bdata\":\"mpmZmZmZ2T\\u002fNzMzMzMz0PzMzMzMzM9M\\u002fmpmZmZmZuT+amZmZmZm5P5qZmZmZmbk\\u002fMzMzMzMz0z+amZmZmZnJPwAAAAAAAOA\\u002fMzMzMzMz0z+amZmZmZnJP5qZmZmZmck\\u002fmpmZmZmZuT+amZmZmZm5P2ZmZmZmZuY\\u002fmpmZmZmZuT+amZmZmZm5P5qZmZmZmbk\\u002fMzMzMzMz0z8zMzMzMzPTP5qZmZmZmbk\\u002fmpmZmZmZuT+amZmZmZnxP5qZmZmZmdk\\u002fMzMzMzMz0z9mZmZmZmbmPwAAAAAAAOA\\u002fmpmZmZmZuT+amZmZmZn5PzMzMzMzM9M\\u002fAAAAAAAA4D+amZmZmZm5P5qZmZmZmbk\\u002fmpmZmZmZyT+amZmZmZm5P5qZmZmZmbk\\u002fmpmZmZmZyT+amZmZmZnJP5qZmZmZmbk\\u002fmpmZmZmZyT9mZmZmZmYCQJqZmZmZmck\\u002fmpmZmZmZuT8AAAAAAADwPzMzMzMzM9M\\u002fmpmZmZmZuT8AAAAAAAAAQDMzMzMzM9M\\u002fmpmZmZmZuT8AAAAAAAD4P2ZmZmZmZuY\\u002fmpmZmZmZ2T+amZmZmZnJP5qZmZmZmbk\\u002fZmZmZmZm9j+amZmZmZm5P5qZmZmZmbk\\u002fmpmZmZmZuT+amZmZmZnJP5qZmZmZmdk\\u002fZmZmZmZm5j+amZmZmZm5P5qZmZmZmbk\\u002fmpmZmZmZuT+amZmZmZm5P5qZmZmZmdk\\u002fZmZmZmZm5j8zMzMzMzPTP5qZmZmZmdk\\u002fMzMzMzMz0z+amZmZmZnZP5qZmZmZmek\\u002fAAAAAAAA4D8AAAAAAADwP5qZmZmZmck\\u002fAAAAAAAA8D+amZmZmZnxPzMzMzMzM+M\\u002fAAAAAAAA4D\\u002fNzMzMzMz8P5qZmZmZmbk\\u002fmpmZmZmZuT+amZmZmZnJP5qZmZmZmck\\u002fmpmZmZmZyT+amZmZmZm5P2ZmZmZmZuY\\u002fmpmZmZmZyT+amZmZmZn5PzMzMzMzM9M\\u002fAAAAAAAA+D8AAAAAAADwP5qZmZmZmdk\\u002fmpmZmZmZyT+amZmZmZm5P5qZmZmZmdk\\u002fmpmZmZmZuT8zMzMzMzPTP5qZmZmZmck\\u002fmpmZmZmZ2T+amZmZmZm5PzMzMzMzM9M\\u002fmpmZmZmZuT+amZmZmZm5P5qZmZmZmck\\u002fmpmZmZmZuT+amZmZmZnJP5qZmZmZmbk\\u002fMzMzMzMz0z8zMzMzMzPTP83MzMzMzPw\\u002fmpmZmZmZyT8zMzMzMzPTP83MzMzMzARAAAAAAAAAHECamZmZmZm5PwAAAAAAAPA\\u002fmpmZmZmZuT+amZmZmZnJP5qZmZmZmck\\u002fAAAAAAAAIkCamZmZmZnJP5qZmZmZmck\\u002fmpmZmZmZAUCamZmZmZm5PzMzMzMzM9M\\u002fmpmZmZmZyT+amZmZmZnJP5qZmZmZmck\\u002fAAAAAAAA8D8zMzMzMzP7P5qZmZmZmbk\\u002fMzMzMzMz4z+amZmZmZnpPwAAAAAAAOA\\u002fAAAAAAAA8D9mZmZmZmb2PzMzMzMzM+M\\u002fzczMzMzM7D+amZmZmZnJP5qZmZmZmbk\\u002fmpmZmZmZuT+amZmZmZnZP5qZmZmZmck\\u002fAAAAAAAA4D8zMzMzMzPTP5qZmZmZmek\\u002fmpmZmZmZyT+amZmZmZnJP5qZmZmZmck\\u002fZmZmZmZm9j8zMzMzMzPTPzMzMzMzM9M\\u002fAAAAAAAA+D+amZmZmZnZP5qZmZmZmck\\u002fzczMzMzM9D+amZmZmZnZP5qZmZmZmbk\\u002fmpmZmZmZ8T\\u002fNzMzMzMz8P5qZmZmZmck\\u002fMzMzMzMz+z+amZmZmZm5P5qZmZmZmbk\\u002fmpmZmZmZ2T9mZmZmZmbmP5qZmZmZmdk\\u002fmpmZmZmZ2T+amZmZmZnJP2ZmZmZmZgJAmpmZmZmZyT+amZmZmZnJP5qZmZmZmck\\u002fmpmZmZmZyT+amZmZmZm5P5qZmZmZmdk\\u002fzczMzMzM\\u002fD8AAAAAAADwP83MzMzMzOw\\u002fMzMzMzMz8z+amZmZmZm5P5qZmZmZmbk\\u002fmpmZmZmZyT\\u002fNzMzMzMz0P5qZmZmZmdk\\u002fmpmZmZmZuT+amZmZmZm5P5qZmZmZmdk\\u002fmpmZmZmZuT+amZmZmZnZPwAAAAAAAPg\\u002fmpmZmZmZyT+amZmZmZnJP83MzMzMzPw\\u002fmpmZmZmZuT8zMzMzMzPTP5qZmZmZmbk\\u002fmpmZmZmZyT+amZmZmZnpP5qZmZmZmbk\\u002fmpmZmZmZ2T+amZmZmZm5P5qZmZmZmbk\\u002fmpmZmZmZyT+amZmZmZnZPzMzMzMzM9M\\u002fmpmZmZmZuT8AAAAAAAD4P5qZmZmZmdk\\u002fmpmZmZmZ6T8zMzMzMzPTP5qZmZmZmbk\\u002fmpmZmZmZyT+amZmZmZm5P2ZmZmZmZvY\\u002fmpmZmZmZ2T+amZmZmZn5PzMzMzMzM9M\\u002fmpmZmZmZuT8AAAAAAAD4P5qZmZmZmbk\\u002fMzMzMzMz0z\\u002fNzMzMzMzsPzMzMzMzM9M\\u002fMzMzMzMz4z8zMzMzMzPTPwAAAAAAAOA\\u002fmpmZmZmZyT8zMzMzMzPzPwAAAAAAAOA\\u002fmpmZmZmZyT8zMzMzMzPTPzMzMzMzM\\u002fs\\u002fmpmZmZmZyT+amZmZmZnZP5qZmZmZmbk\\u002fAAAAAAAA8D+amZmZmZnJPzMzMzMzM9M\\u002fmpmZmZmZyT+amZmZmZm5P5qZmZmZmbk\\u002fAAAAAAAA8D+amZmZmZnZP83MzMzMzPw\\u002fmpmZmZmZ2T8AAAAAAADgP5qZmZmZmek\\u002fmpmZmZmZuT8AAAAAAADwPzMzMzMzM\\u002fs\\u002fMzMzMzMz8z8AAAAAAADgPwAAAAAAAPA\\u002fmpmZmZmZ2T8zMzMzMzPTPwAAAAAAAOA\\u002fMzMzMzMz0z+amZmZmZnZP5qZmZmZmbk\\u002fAAAAAAAA4D+amZmZmZnJP5qZmZmZmdk\\u002fAAAAAAAA+D+amZmZmZnZP2ZmZmZmZv4\\u002fmpmZmZmZuT8zMzMzMzPTPwAAAAAAAOA\\u002fmpmZmZmZ2T8AAAAAAADwP5qZmZmZmbk\\u002fmpmZmZmZuT+amZmZmZm5P5qZmZmZmbk\\u002fAAAAAAAA4D+amZmZmZnJPzMzMzMzM9M\\u002fMzMzMzMz8z+amZmZmZm5P5qZmZmZmdk\\u002fmpmZmZmZyT+amZmZmZnJPwAAAAAAAOA\\u002fzczMzMzM7D9mZmZmZmbmP5qZmZmZmck\\u002fmpmZmZmZuT+amZmZmZm5P5qZmZmZmbk\\u002fmpmZmZmZuT+amZmZmZnZP5qZmZmZmdk\\u002fAAAAAAAAGEAAAAAAAADgP5qZmZmZmck\\u002fmpmZmZmZ2T+amZmZmZm5P5qZmZmZmck\\u002fmpmZmZmZ2T+amZmZmZnJP5qZmZmZmfE\\u002fMzMzMzMz0z9mZmZmZmb+P83MzMzMzOw\\u002fmpmZmZmZuT8AAAAAAADwP5qZmZmZmdk\\u002fmpmZmZmZuT+amZmZmZnJPwAAAAAAAPA\\u002fmpmZmZmZuT+amZmZmZnJPwAAAAAAAABAmpmZmZmZ6T+amZmZmZnZPzMzMzMzM9M\\u002fZmZmZmZm9j+amZmZmZnJP5qZmZmZmek\\u002fmpmZmZmZyT8zMzMzMzPTPwAAAAAAAPg\\u002fmpmZmZmZuT+amZmZmZnJP5qZmZmZmbk\\u002fmpmZmZmZ2T+amZmZmZnxP5qZmZmZmbk\\u002fzczMzMzMFEAzMzMzMzPTP5qZmZmZmbk\\u002fMzMzMzMz0z8zMzMzMzPTP5qZmZmZmck\\u002fmpmZmZmZyT+amZmZmZm5PwAAAAAAAOA\\u002fAAAAAAAAHEAAAAAAAADgP5qZmZmZmck\\u002fMzMzMzMz0z+amZmZmZm5P5qZmZmZmck\\u002fmpmZmZmZyT+amZmZmZm5P83MzMzMzABAMzMzMzMz0z+amZmZmZm5PzMzMzMzM\\u002fM\\u002fmpmZmZmZ6T8AAAAAAADgP5qZmZmZmck\\u002fmpmZmZmZyT+amZmZmZnJP5qZmZmZmck\\u002fmpmZmZmZ6T+amZmZmZnZP5qZmZmZmfE\\u002fzczMzMzM\\u002fD+amZmZmZm5P83MzMzMzPQ\\u002fmpmZmZmZuT+amZmZmZm5P2ZmZmZmZuY\\u002fmpmZmZmZuT8AAAAAAADwP5qZmZmZmck\\u002fzczMzMzM9D8zMzMzMzPTP5qZmZmZmck\\u002fMzMzMzMz0z8zMzMzMzPjP5qZmZmZmbk\\u002fmpmZmZmZyT+amZmZmZnJP5qZmZmZmck\\u002fzczMzMzM7D8AAAAAAADwP5qZmZmZmck\\u002fmpmZmZmZuT+amZmZmZm5PwAAAAAAAPg\\u002fMzMzMzMz4z+amZmZmZm5P5qZmZmZmck\\u002fmpmZmZmZuT8zMzMzMzPTP5qZmZmZmck\\u002fmpmZmZmZuT+amZmZmZnJPwAAAAAAAAhAMzMzMzMz0z+amZmZmZnJPwAAAAAAAOA\\u002fmpmZmZmZuT8zMzMzMzPTP5qZmZmZmfk\\u002fMzMzMzMz8z+amZmZmZm5P5qZmZmZmbk\\u002fmpmZmZmZyT+amZmZmZnJP5qZmZmZmbk\\u002fAAAAAAAA4D8AAAAAAAAcQJqZmZmZmbk\\u002fmpmZmZmZuT8AAAAAAAAAQM3MzMzMzOw\\u002fmpmZmZmZ6T8AAAAAAADwPzMzMzMzM9M\\u002fmpmZmZmZ2T8zMzMzMzPjPwAAAAAAAPg\\u002fAAAAAAAAAEAAAAAAAADgP5qZmZmZmbk\\u002fMzMzMzMz0z8zMzMzMzPTP5qZmZmZmbk\\u002fmpmZmZmZuT8zMzMzMzPzP5qZmZmZmck\\u002fmpmZmZmZuT\\u002fNzMzMzMzsP5qZmZmZmck\\u002fMzMzMzMz4z8AAAAAAADgP5qZmZmZmdk\\u002fmpmZmZmZuT+amZmZmZnJP5qZmZmZmdk\\u002fMzMzMzMz4z+amZmZmZm5P5qZmZmZmbk\\u002fMzMzMzMz4z+amZmZmZm5PwAAAAAAAOA\\u002fmpmZmZmZuT8zMzMzMzPjPwAAAAAAAPA\\u002fmpmZmZmZuT+amZmZmZm5P5qZmZmZmbk\\u002fmpmZmZmZyT+amZmZmZm5P5qZmZmZmck\\u002fmpmZmZmZuT+amZmZmZnZPzMzMzMzM+M\\u002fmpmZmZmZuT+amZmZmZnJP5qZmZmZmck\\u002fAAAAAAAA4D8zMzMzMzPjPwAAAAAAAOA\\u002fMzMzMzMz0z8AAAAAAADgPzMzMzMzM9M\\u002fZmZmZmZm5j+amZmZmZm5P5qZmZmZmbk\\u002fZmZmZmZm5j+amZmZmZm5PzMzMzMzM+M\\u002fmpmZmZmZ8T+amZmZmZm5P5qZmZmZmbk\\u002fmpmZmZmZuT8AAAAAAAAAQJqZmZmZmdk\\u002fmpmZmZmZuT8zMzMzMzPTPzMzMzMzM+M\\u002fAAAAAAAA8D+amZmZmZnJP5qZmZmZmck\\u002fmpmZmZmZuT8zMzMzMzPTP5qZmZmZmbk\\u002fMzMzMzMz0z+amZmZmZnZP5qZmZmZmbk\\u002fAAAAAAAA4D+amZmZmZm5P5qZmZmZmck\\u002fmpmZmZmZyT9mZmZmZmYQQJqZmZmZmR1AmpmZmZmZyT8AAAAAAADgP5qZmZmZmbk\\u002fmpmZmZmZuT+amZmZmZm5P5qZmZmZmdk\\u002fmpmZmZmZDUAzMzMzMzPTPwAAAAAAAOA\\u002fmpmZmZmZuT8zMzMzMzPjP5qZmZmZmdk\\u002fzczMzMzM7D8AAAAAAAAQQDMzMzMzM\\u002fM\\u002fmpmZmZmZuT+amZmZmZm5PwAAAAAAAOA\\u002fMzMzMzMz0z+amZmZmZnJP5qZmZmZmdk\\u002fmpmZmZmZ2T+amZmZmZnJPzMzMzMzM\\u002fM\\u002fMzMzMzMz0z+amZmZmZnJP5qZmZmZmck\\u002fMzMzMzMz0z8zMzMzMzPzP5qZmZmZmdk\\u002fmpmZmZmZuT+amZmZmZm5PzMzMzMzMwNAmpmZmZmZuT+amZmZmZnpP5qZmZmZmbk\\u002fZmZmZmZm5j+amZmZmZnJP5qZmZmZmck\\u002fmpmZmZmZyT+amZmZmZm5PwAAAAAAAOA\\u002fmpmZmZmZuT8zMzMzMzPjP5qZmZmZmdk\\u002fMzMzMzMz0z+amZmZmZm5P5qZmZmZmbk\\u002fmpmZmZmZyT+amZmZmZm5PwAAAAAAAPA\\u002fmpmZmZmZuT+amZmZmZnJPwAAAAAAAOA\\u002fAAAAAAAA+D+amZmZmZnJP5qZmZmZmbk\\u002fAAAAAAAA4D+amZmZmZnZPwAAAAAAAPA\\u002fmpmZmZmZyT\\u002fNzMzMzMz8PzMzMzMzM9M\\u002fmpmZmZmZuT+amZmZmZnJP5qZmZmZmbk\\u002fmpmZmZmZyT8AAAAAAADgP5qZmZmZmbk\\u002fmpmZmZmZyT\\u002fNzMzMzMzsPzMzMzMzM+M\\u002fmpmZmZmZ2T+amZmZmZm5PwAAAAAAAOA\\u002fmpmZmZmZ2T9mZmZmZmbmP5qZmZmZmbk\\u002fmpmZmZmZ6T8AAAAAAADgP5qZmZmZmck\\u002fmpmZmZmZuT+amZmZmZnJP5qZmZmZmek\\u002fMzMzMzMz8z+amZmZmZm5P5qZmZmZmbk\\u002fAAAAAAAA+D+amZmZmZm5PwAAAAAAAOA\\u002fmpmZmZmZuT+amZmZmZm5P5qZmZmZmfE\\u002fAAAAAAAA8D8zMzMzMzPjP5qZmZmZmdk\\u002fMzMzMzMz0z8AAAAAAADgP2ZmZmZmZuY\\u002fmpmZmZmZuT+amZmZmZm5P5qZmZmZmck\\u002fmpmZmZmZuT+amZmZmZm5PzMzMzMzM\\u002fM\\u002fzczMzMzM7D\\u002fNzMzMzMz8P5qZmZmZmck\\u002fmpmZmZmZuT+amZmZmZm5PzMzMzMzM9M\\u002fmpmZmZmZ2T8AAAAAAADgP5qZmZmZmbk\\u002fmpmZmZmZuT+amZmZmZm5P5qZmZmZmbk\\u002fMzMzMzMz0z8zMzMzMzPTP5qZmZmZmdk\\u002fMzMzMzMz0z+amZmZmZm5P5qZmZmZmdk\\u002fmpmZmZmZ2T+amZmZmZm5P5qZmZmZmbk\\u002fmpmZmZmZuT8AAAAAAADgP5qZmZmZmbk\\u002fMzMzMzMz4z+amZmZmZnJP5qZmZmZmdk\\u002fMzMzMzMz4z+amZmZmZnZP5qZmZmZmdk\\u002fzczMzMzM7D+amZmZmZnJP5qZmZmZmdk\\u002fAAAAAAAACEDNzMzMzMzsP5qZmZmZmbk\\u002fMzMzMzMz0z+amZmZmZm5P5qZmZmZmdk\\u002fmpmZmZmZyT+amZmZmZnJP2ZmZmZmZuY\\u002fmpmZmZmZuT+amZmZmZm5P5qZmZmZmck\\u002fAAAAAAAA4D8zMzMzMzPjPwAAAAAAAAhAmpmZmZmZyT8zMzMzMzPzP5qZmZmZmck\\u002fmpmZmZmZuT8zMzMzMzPjP5qZmZmZmck\\u002fmpmZmZmZuT8zMzMzMzPTPwAAAAAAAOA\\u002fZmZmZmZm5j+amZmZmZm5P5qZmZmZmck\\u002fMzMzMzMz8z+amZmZmZm5P5qZmZmZmbk\\u002fmpmZmZmZuT9mZmZmZmb2P83MzMzMzOw\\u002fmpmZmZmZuT+amZmZmZnJPwAAAAAAAARAmpmZmZmZuT+amZmZmZm5P5qZmZmZmbk\\u002fMzMzMzMz0z+amZmZmZnZPzMzMzMzM9M\\u002fmpmZmZmZuT+amZmZmZnJPzMzMzMzM9M\\u002fmpmZmZmZuT+amZmZmZm5P5qZmZmZmck\\u002fMzMzMzMz4z+amZmZmZnJP5qZmZmZmck\\u002fzczMzMzM7D+amZmZmZm5P5qZmZmZmck\\u002fmpmZmZmZuT+amZmZmZm5PwAAAAAAAOA\\u002fMzMzMzMz0z+amZmZmZm5P5qZmZmZmbk\\u002fMzMzMzMz0z9mZmZmZmbmP5qZmZmZmbk\\u002fMzMzMzMz4z8zMzMzMzPTP5qZmZmZmck\\u002fMzMzMzMz4z+amZmZmZnZPzMzMzMzM\\u002fM\\u002fmpmZmZmZ2T+amZmZmZm5PzMzMzMzM9M\\u002fmpmZmZmZuT+amZmZmZm5PwAAAAAAAABAmpmZmZmZyT+amZmZmZnZP5qZmZmZmbk\\u002fAAAAAAAAEkCamZmZmZm5PzMzMzMzM9M\\u002fmpmZmZmZyT8zMzMzMzPTP5qZmZmZmck\\u002fzczMzMzM9D+amZmZmZm5P5qZmZmZmbk\\u002fMzMzMzMz4z9mZmZmZmb2PzMzMzMzM9M\\u002fmpmZmZmZyT+amZmZmZm5P5qZmZmZmbk\\u002fAAAAAAAA4D8zMzMzMzPTP5qZmZmZmdk\\u002fMzMzMzMz8z8AAAAAAADwPwAAAAAAAOA\\u002fZmZmZmZm5j+amZmZmZnJP5qZmZmZmck\\u002fmpmZmZmZyT+amZmZmZnJPwAAAAAAAPA\\u002fmpmZmZmZyT8zMzMzMzP7P5qZmZmZmbk\\u002fAAAAAAAA4D+amZmZmZnJPwAAAAAAAPA\\u002fAAAAAAAA4D+amZmZmZnJP83MzMzMzPQ\\u002fmpmZmZmZ8T+amZmZmZnJP2ZmZmZmZvY\\u002fmpmZmZmZyT+amZmZmZm5PwAAAAAAAPA\\u002fmpmZmZmZyT+amZmZmZnJP5qZmZmZmck\\u002fzczMzMzM9D+amZmZmZm5PzMzMzMzM9M\\u002fMzMzMzMz0z+amZmZmZm5P5qZmZmZmbk\\u002fmpmZmZmZuT+amZmZmZnJP5qZmZmZmdk\\u002fmpmZmZmZuT8zMzMzMzPjPwAAAAAAAOA\\u002fZmZmZmZmCkCamZmZmZm5PwAAAAAAAOA\\u002fzczMzMzM7D+amZmZmZm5P5qZmZmZmbk\\u002fmpmZmZmZyT+amZmZmZm5PwAAAAAAAOA\\u002fAAAAAAAA+D8zMzMzMzPzPwAAAAAAABBAmpmZmZmZuT+amZmZmZm5P5qZmZmZmfk\\u002fzczMzMzM7D\\u002fNzMzMzMz0P83MzMzMzPQ\\u002fmpmZmZmZuT8zMzMzMzPjPwAAAAAAAPA\\u002fmpmZmZmZuT8AAAAAAADgP5qZmZmZmdk\\u002fmpmZmZmZyT9mZmZmZmbmP5qZmZmZmbk\\u002fAAAAAAAAFkCamZmZmZm5P5qZmZmZmck\\u002fMzMzMzMz+z+amZmZmZnJP5qZmZmZmbk\\u002fmpmZmZmZyT+amZmZmZnJP5qZmZmZmbk\\u002fAAAAAAAA4D+amZmZmZnZP5qZmZmZmck\\u002fmpmZmZmZyT8zMzMzMzPTPzMzMzMzM9M\\u002fmpmZmZmZ6T+amZmZmZm5P5qZmZmZmdk\\u002fzczMzMzM7D+amZmZmZm5P5qZmZmZmbk\\u002fmpmZmZmZ2T+amZmZmZm5P5qZmZmZmck\\u002fmpmZmZmZyT+amZmZmZm5P5qZmZmZmek\\u002fAAAAAAAA4D+amZmZmZnJP5qZmZmZmbk\\u002fmpmZmZmZuT+amZmZmZm5PzMzMzMzM\\u002fM\\u002fmpmZmZmZyT9mZmZmZmbmP5qZmZmZmdk\\u002fMzMzMzMz4z8zMzMzMzPTP5qZmZmZmbk\\u002fmpmZmZmZuT8zMzMzMzP7P5qZmZmZmbk\\u002fMzMzMzMz4z+amZmZmZnJPwAAAAAAAPA\\u002fmpmZmZmZyT+amZmZmZnxPzMzMzMzM9M\\u002fAAAAAAAA8D+amZmZmZm5P5qZmZmZmbk\\u002fMzMzMzMz0z+amZmZmZm5PwAAAAAAAPg\\u002fmpmZmZmZuT+amZmZmZnJPzMzMzMzM9M\\u002fmpmZmZmZ6T+amZmZmZnZP5qZmZmZmck\\u002fmpmZmZmZuT+amZmZmZm5P5qZmZmZmbk\\u002fmpmZmZmZ2T8zMzMzMzPTPwAAAAAAAPA\\u002fmpmZmZmZuT8AAAAAAAD4P5qZmZmZmdk\\u002fMzMzMzMz0z+amZmZmZm5PwAAAAAAAOA\\u002fmpmZmZmZuT+amZmZmZnpP5qZmZmZmdk\\u002fMzMzMzMz0z+amZmZmZnZPzMzMzMzM\\u002fM\\u002fmpmZmZmZuT8zMzMzMzPzP5qZmZmZmbk\\u002fMzMzMzMz0z+amZmZmZnpP83MzMzMzPQ\\u002fmpmZmZmZ2T+amZmZmZnJPzMzMzMzM9M\\u002fmpmZmZmZuT8AAAAAAADgPzMzMzMzM\\u002fM\\u002fmpmZmZmZ2T+amZmZmZnJPzMzMzMzM+M\\u002fZmZmZmZm5j+amZmZmZm5P83MzMzMzOw\\u002fmpmZmZmZuT+amZmZmZnJP5qZmZmZmck\\u002fmpmZmZmZyT+amZmZmZm5PwAAAAAAAABAMzMzMzMz0z8zMzMzMzPjPwAAAAAAAOA\\u002fmpmZmZmZuT+amZmZmZnJPzMzMzMzM9M\\u002fMzMzMzMz0z+amZmZmZnJP5qZmZmZmbk\\u002fmpmZmZmZuT8AAAAAAADgP5qZmZmZmck\\u002fZmZmZmZm5j8AAAAAAAD4P5qZmZmZmek\\u002fMzMzMzMz0z8AAAAAAAAaQJqZmZmZmbk\\u002fzczMzMzM7D8AAAAAAADwPwAAAAAAAPg\\u002fmpmZmZmZuT8zMzMzMzPTP5qZmZmZmbk\\u002fAAAAAAAAHEAzMzMzMzPTP5qZmZmZmck\\u002fmpmZmZmZ2T+amZmZmZnJP5qZmZmZmbk\\u002fmpmZmZmZyT+amZmZmZm5PzMzMzMzM9M\\u002fMzMzMzMz0z8zMzMzMzPTPwAAAAAAAABAmpmZmZmZ6T8zMzMzMzP7P5qZmZmZmck\\u002fMzMzMzMz0z+amZmZmZm5P2ZmZmZmZvY\\u002fMzMzMzMz4z8AAAAAAAAMQJqZmZmZmdk\\u002fmpmZmZmZuT+amZmZmZnJP5qZmZmZmbk\\u002fmpmZmZmZuT9mZmZmZmbmP5qZmZmZmbk\\u002fmpmZmZmZuT+amZmZmZnJP5qZmZmZmfE\\u002fmpmZmZmZuT8zMzMzMzPTP5qZmZmZmbk\\u002fAAAAAAAA4D+amZmZmZnJP5qZmZmZmbk\\u002fmpmZmZmZuT8zMzMzMzPTPzMzMzMzM\\u002fM\\u002fMzMzMzMz0z+amZmZmZnJPwAAAAAAAOA\\u002fmpmZmZmZyT+amZmZmZnJP5qZmZmZmdk\\u002fmpmZmZmZuT+amZmZmZm5P5qZmZmZmbk\\u002fmpmZmZmZuT+amZmZmZn5P5qZmZmZmck\\u002fmpmZmZmZuT8AAAAAAADgP5qZmZmZmck\\u002fMzMzMzMz0z+amZmZmZnpP5qZmZmZmbk\\u002fmpmZmZmZuT+amZmZmZnZP5qZmZmZmck\\u002fMzMzMzMz4z\\u002fNzMzMzMzsP5qZmZmZmdk\\u002fmpmZmZmZ2T+amZmZmZm5P5qZmZmZmRFAmpmZmZmZ2T8zMzMzMzPTP5qZmZmZmfE\\u002fZmZmZmZm5j8zMzMzMzPTP5qZmZmZmbk\\u002fmpmZmZmZuT8zMzMzMzPjP5qZmZmZmck\\u002fMzMzMzMzA0AAAAAAAADgP5qZmZmZmbk\\u002fmpmZmZmZ2T+amZmZmZnZP2ZmZmZmZuY\\u002fmpmZmZmZyT8zMzMzMzP7PzMzMzMzM9M\\u002fmpmZmZmZ2T8zMzMzMzPTPwAAAAAAAOA\\u002fAAAAAAAACEBmZmZmZmb2PzMzMzMzM+M\\u002fmpmZmZmZyT8zMzMzMzPTP5qZmZmZmck\\u002fmpmZmZmZuT8zMzMzMzPTP5qZmZmZmek\\u002fmpmZmZmZyT+amZmZmZm5P5qZmZmZmbk\\u002fmpmZmZmZyT8zMzMzMzPjP5qZmZmZmck\\u002fmpmZmZmZ8T8AAAAAAADwPzMzMzMzM9M\\u002fmpmZmZmZyT+amZmZmZm5P5qZmZmZmdk\\u002fAAAAAAAA8D8zMzMzMzPjP5qZmZmZmbk\\u002fmpmZmZmZuT8AAAAAAADgP5qZmZmZmck\\u002fAAAAAAAAHkCamZmZmZm5PzMzMzMzM9M\\u002fMzMzMzMz8z+amZmZmZm5P5qZmZmZmck\\u002fmpmZmZmZuT+amZmZmZn5PzMzMzMzM9M\\u002fmpmZmZmZuT8zMzMzMzPzP5qZmZmZmdk\\u002fmpmZmZmZuT+amZmZmZm5P5qZmZmZmdk\\u002fmpmZmZmZuT+amZmZmZm5PwAAAAAAAPg\\u002fmpmZmZmZuT+amZmZmZm5P5qZmZmZmbk\\u002fmpmZmZmZuT+amZmZmZnZP83MzMzMzOw\\u002fAAAAAAAA8D8AAAAAAADgP5qZmZmZmck\\u002fmpmZmZmZuT8zMzMzMzPjPzMzMzMzM9M\\u002fMzMzMzMz0z8AAAAAAADgP5qZmZmZmck\\u002fMzMzMzMz0z+amZmZmZm5P5qZmZmZmdk\\u002fzczMzMzM7D8zMzMzMzPTP5qZmZmZmbk\\u002fzczMzMzM7D+amZmZmZnJPwAAAAAAAOA\\u002fAAAAAAAAIECamZmZmZkJQJqZmZmZmbk\\u002fmpmZmZmZ6T8zMzMzMzPTPzMzMzMzM9M\\u002fmpmZmZmZyT8AAAAAAADwP5qZmZmZmbk\\u002fMzMzMzMz0z8zMzMzMzPzPwAAAAAAAOA\\u002fMzMzMzMz0z+amZmZmZnJPzMzMzMzM\\u002fs\\u002fAAAAAAAA8D8zMzMzMzPTP5qZmZmZmbk\\u002fMzMzMzMz8z+amZmZmZm5P5qZmZmZmck\\u002fmpmZmZmZ2T8zMzMzMzPzPzMzMzMzM9M\\u002fmpmZmZmZuT+amZmZmZnJP5qZmZmZmbk\\u002fmpmZmZmZuT+amZmZmZm5P5qZmZmZmck\\u002fmpmZmZmZ2T8AAAAAAADgP5qZmZmZmck\\u002fZmZmZmZm5j+amZmZmZnJP5qZmZmZmbk\\u002fmpmZmZmZuT+amZmZmZnZP5qZmZmZmdk\\u002fmpmZmZmZyT\\u002fNzMzMzMz0P5qZmZmZmek\\u002fmpmZmZmZuT+amZmZmZnZP5qZmZmZmbk\\u002fmpmZmZmZ2T+amZmZmZm5P2ZmZmZmZg5AmpmZmZmZyT8AAAAAAADwP83MzMzMzAhAMzMzMzMz4z+amZmZmZnZP5qZmZmZmdk\\u002fmpmZmZmZuT8zMzMzMzPjPwAAAAAAAOA\\u002fMzMzMzMz0z+amZmZmZm5PzMzMzMzM\\u002fs\\u002fmpmZmZmZuT8zMzMzMzPjP83MzMzMzARAmpmZmZmZ2T+amZmZmZnxPzMzMzMzM+M\\u002fZmZmZmZm\\u002fj+amZmZmZm5PwAAAAAAAOA\\u002fmpmZmZmZyT+amZmZmZnJP5qZmZmZmbk\\u002fmpmZmZmZuT8AAAAAAADgP5qZmZmZmbk\\u002fmpmZmZmZ6T+amZmZmZm5PwAAAAAAAOA\\u002fmpmZmZmZuT+amZmZmZnJP5qZmZmZmck\\u002fmpmZmZmZyT8AAAAAAADgP5qZmZmZmck\\u002fzczMzMzMAECamZmZmZnJP5qZmZmZmck\\u002fmpmZmZmZuT+amZmZmZm5PzMzMzMzM9M\\u002fMzMzMzMz0z+amZmZmZm5P5qZmZmZmbk\\u002fMzMzMzMz0z+amZmZmZnZP5qZmZmZmbk\\u002fAAAAAAAA4D+amZmZmZnJPwAAAAAAAPg\\u002fMzMzMzMz+z+amZmZmZm5P5qZmZmZmbk\\u002fmpmZmZmZuT+amZmZmZnJP5qZmZmZmbk\\u002fZmZmZmZm5j+amZmZmZnZPwAAAAAAAOA\\u002fMzMzMzMz4z+amZmZmZm5P5qZmZmZmbk\\u002fmpmZmZmZyT8AAAAAAAD4P5qZmZmZmbk\\u002fMzMzMzMz0z8zMzMzMzPTP5qZmZmZmbk\\u002fmpmZmZmZ2T+amZmZmZnJPwAAAAAAAPg\\u002fmpmZmZmZuT+amZmZmZnJP5qZmZmZmbk\\u002fmpmZmZmZCUCamZmZmZnZP5qZmZmZmbk\\u002fMzMzMzMz0z+amZmZmZnxPzMzMzMzM9M\\u002fMzMzMzMz0z+amZmZmZkBQAAAAAAAAOA\\u002fMzMzMzMz0z+amZmZmZm5P5qZmZmZmbk\\u002fmpmZmZmZuT8AAAAAAADgP5qZmZmZmbk\\u002fMzMzMzMz4z+amZmZmZm5P5qZmZmZmek\\u002fAAAAAAAA8D+amZmZmZnxP5qZmZmZmdk\\u002fMzMzMzMz0z\\u002fNzMzMzMz0P5qZmZmZmbk\\u002fmpmZmZmZuT+amZmZmZnJP5qZmZmZmbk\\u002fmpmZmZmZuT8AAAAAAADwP5qZmZmZmek\\u002fmpmZmZmZyT8zMzMzMzPTP5qZmZmZmek\\u002fMzMzMzMz4z8AAAAAAAD4PzMzMzMzM9M\\u002fmpmZmZmZuT8zMzMzMzPTP5qZmZmZmck\\u002fmpmZmZmZyT+amZmZmZnJP5qZmZmZmbk\\u002fmpmZmZmZuT8zMzMzMzPjP5qZmZmZmbk\\u002fmpmZmZmZyT8zMzMzMzPTP5qZmZmZmbk\\u002fmpmZmZmZuT8AAAAAAADgP5qZmZmZmbk\\u002fmpmZmZmZ2T+amZmZmZnZP5qZmZmZmbk\\u002fMzMzMzMz0z+amZmZmZnJPzMzMzMzM9M\\u002fmpmZmZmZyT+amZmZmZm5P5qZmZmZmdk\\u002fZmZmZmZm5j+amZmZmZnZPzMzMzMzM9M\\u002fmpmZmZmZuT+amZmZmZm5P5qZmZmZmbk\\u002fmpmZmZmZuT+amZmZmZnxPzMzMzMzM9M\\u002fAAAAAAAA4D+amZmZmZnZPwAAAAAAAOA\\u002fMzMzMzMz0z+amZmZmZm5PzMzMzMzM9M\\u002fmpmZmZmZuT\\u002fNzMzMzMz0P5qZmZmZmbk\\u002fAAAAAAAAGkCamZmZmZm5PwAAAAAAAOA\\u002fMzMzMzMz0z8zMzMzMzPTP83MzMzMzOw\\u002fmpmZmZmZuT8zMzMzMzPTP5qZmZmZmek\\u002fAAAAAAAA4D+amZmZmZm5PwAAAAAAAOA\\u002fmpmZmZmZ2T+amZmZmZm5P5qZmZmZmbk\\u002fAAAAAAAA4D8AAAAAAADgP5qZmZmZmbk\\u002fMzMzMzMz0z+amZmZmZnZP83MzMzMzPQ\\u002fmpmZmZmZyT+amZmZmZm5P5qZmZmZmbk\\u002fMzMzMzMz0z8zMzMzMzPTP5qZmZmZmck\\u002fMzMzMzMz0z+amZmZmZnZP2ZmZmZmZuY\\u002fmpmZmZmZuT+amZmZmZnxP5qZmZmZmQFAmpmZmZmZyT9mZmZmZmbmP5qZmZmZmbk\\u002fmpmZmZmZuT8AAAAAAAD4P5qZmZmZmck\\u002fAAAAAAAA+D+amZmZmZm5P5qZmZmZmbk\\u002fAAAAAAAA+D+amZmZmZnJPzMzMzMzM\\u002fM\\u002fmpmZmZmZ8T+amZmZmZm5PwAAAAAAAOA\\u002fAAAAAAAAAECamZmZmZnJP5qZmZmZmck\\u002fZmZmZmZmBkAAAAAAAAASQJqZmZmZmbk\\u002fmpmZmZmZuT+amZmZmZm5P5qZmZmZmbk\\u002fmpmZmZmZuT+amZmZmZm5PzMzMzMzM\\u002fM\\u002fmpmZmZmZuT8zMzMzMzMHQJqZmZmZmbk\\u002fmpmZmZmZyT+amZmZmZm5PwAAAAAAAPg\\u002fmpmZmZmZ2T9mZmZmZmb2P5qZmZmZmck\\u002fmpmZmZmZuT8zMzMzMzPTP5qZmZmZmck\\u002fAAAAAAAA8D+amZmZmZnZPzMzMzMzM\\u002fM\\u002fmpmZmZmZuT9mZmZmZmb+PzMzMzMzM9M\\u002fmpmZmZmZuT+amZmZmZnJP5qZmZmZmck\\u002fMzMzMzMz0z+amZmZmZnZP5qZmZmZmck\\u002fmpmZmZmZuT+amZmZmZnJPzMzMzMzM+M\\u002fmpmZmZmZ2T\\u002fNzMzMzMzsP5qZmZmZmbk\\u002fmpmZmZmZuT+amZmZmZnJPwAAAAAAAOA\\u002fmpmZmZmZ8T+amZmZmZm5PwAAAAAAAOA\\u002fmpmZmZmZuT+amZmZmZm5P5qZmZmZmck\\u002fmpmZmZmZ2T8zMzMzMzPTPwAAAAAAAOA\\u002fmpmZmZmZyT\\u002fNzMzMzMzsP5qZmZmZmbk\\u002fMzMzMzMz0z+amZmZmZn5P5qZmZmZmbk\\u002fmpmZmZmZuT8AAAAAAADwPwAAAAAAAPA\\u002fmpmZmZmZuT8zMzMzMzPTP5qZmZmZmbk\\u002fmpmZmZmZuT+amZmZmZnJP2ZmZmZmZvY\\u002fmpmZmZmZ6T+amZmZmZm5PwAAAAAAAPA\\u002fAAAAAAAA4D+amZmZmZm5PzMzMzMzM9M\\u002fMzMzMzMz8z8zMzMzMzPzP5qZmZmZmck\\u002fmpmZmZmZ2T9mZmZmZmbmP5qZmZmZmfE\\u002fAAAAAAAAAECamZmZmZnZP5qZmZmZmck\\u002fmpmZmZmZyT9mZmZmZmb2P5qZmZmZmbk\\u002fMzMzMzMz0z8zMzMzMzPTP5qZmZmZmck\\u002fZmZmZmZm9j+amZmZmZnJP5qZmZmZmbk\\u002fmpmZmZmZyT8zMzMzMzPTP5qZmZmZmbk\\u002fmpmZmZmZyT8zMzMzMzPTP5qZmZmZmbk\\u002fmpmZmZmZ2T+amZmZmZnxP5qZmZmZmbk\\u002fzczMzMzMAECamZmZmZnJP5qZmZmZmck\\u002fmpmZmZmZ2T8AAAAAAADgPzMzMzMzM\\u002fM\\u002fmpmZmZmZuT+amZmZmZnZPzMzMzMzM9M\\u002fmpmZmZmZyT+amZmZmZnZPzMzMzMzM+M\\u002fmpmZmZmZuT+amZmZmZm5P5qZmZmZmck\\u002fmpmZmZmZ2T+amZmZmZm5P5qZmZmZmbk\\u002fmpmZmZmZuT+amZmZmZnJPzMzMzMzM9M\\u002fAAAAAAAABEAzMzMzMzPjP5qZmZmZmck\\u002fmpmZmZmZ2T+amZmZmZnJPzMzMzMzM+M\\u002fMzMzMzMz0z+amZmZmZnJP5qZmZmZmbk\\u002fmpmZmZmZ2T+amZmZmZnJPwAAAAAAAOA\\u002fmpmZmZmZ6T+amZmZmZnJP5qZmZmZmck\\u002fmpmZmZmZuT8zMzMzMzP7P5qZmZmZmbk\\u002fmpmZmZmZBUCamZmZmZm5PzMzMzMzM9M\\u002fAAAAAAAA4D8AAAAAAADgP5qZmZmZmbk\\u002fmpmZmZmZuT+amZmZmZm5P5qZmZmZmbk\\u002fmpmZmZmZyT8zMzMzMzPjP5qZmZmZmbk\\u002fAAAAAAAA8D8AAAAAAADwPzMzMzMzM\\u002fM\\u002fAAAAAAAA4D+amZmZmZm5PwAAAAAAAOA\\u002fZmZmZmZm5j+amZmZmZm5PwAAAAAAAOA\\u002fMzMzMzMz0z+amZmZmZm5P5qZmZmZmck\\u002fmpmZmZmZyT+amZmZmZnZPwAAAAAAAOA\\u002fmpmZmZmZ2T+amZmZmZnpPzMzMzMzM9M\\u002fmpmZmZmZuT+amZmZmZnJP2ZmZmZmZuY\\u002fAAAAAAAA8D+amZmZmZm5P5qZmZmZmck\\u002fmpmZmZmZuT+amZmZmZnJP2ZmZmZmZv4\\u002fmpmZmZmZ2T8zMzMzMzPTPzMzMzMzM9M\\u002fmpmZmZmZuT+amZmZmZnJP83MzMzMzABAmpmZmZmZuT9mZmZmZmb2PzMzMzMzM9M\\u002fmpmZmZmZyT\\u002fNzMzMzMz8PwAAAAAAAPg\\u002fmpmZmZmZuT8zMzMzMzPTPwAAAAAAAOA\\u002fAAAAAAAAEECamZmZmZnJPzMzMzMzM9M\\u002fMzMzMzMz+z8AAAAAAAAWQDMzMzMzM9M\\u002fZmZmZmZmAkCamZmZmZnJP83MzMzMzPQ\\u002fzczMzMzM7D8zMzMzMzPjP5qZmZmZmfE\\u002fmpmZmZmZyT+amZmZmZnZPwAAAAAAAOA\\u002fmpmZmZmZ6T8AAAAAAADgP5qZmZmZmdk\\u002fmpmZmZmZ2T8zMzMzMzPTPwAAAAAAABhAmpmZmZmZ2T\\u002fNzMzMzMzsPwAAAAAAAPg\\u002fMzMzMzMz0z+amZmZmZkBQJqZmZmZmek\\u002fmpmZmZmZuT8zMzMzMzPzPwAAAAAAAOA\\u002fmpmZmZmZuT+amZmZmZnJPzMzMzMzM9M\\u002fmpmZmZmZyT8AAAAAAAD4PzMzMzMzM9M\\u002fMzMzMzMz0z+amZmZmZnZP83MzMzMzPQ\\u002fMzMzMzMz8z+amZmZmZm5P5qZmZmZmbk\\u002fMzMzMzMz0z8zMzMzMzPTP5qZmZmZmck\\u002fmpmZmZmZuT8zMzMzMzPTPzMzMzMzM\\u002fM\\u002fMzMzMzMz0z\\u002fNzMzMzMz8PwAAAAAAAOA\\u002fmpmZmZmZuT8AAAAAAADwPzMzMzMzM9M\\u002fmpmZmZmZuT+amZmZmZkBQJqZmZmZmbk\\u002fMzMzMzMz0z8AAAAAAAD4PzMzMzMzM9M\\u002fMzMzMzMz0z8AAAAAAADgP5qZmZmZmdk\\u002fMzMzMzMz0z8zMzMzMzP7PzMzMzMzM+M\\u002fmpmZmZmZuT8AAAAAAADwPwAAAAAAAABAmpmZmZmZ2T+amZmZmZnJP5qZmZmZmbk\\u002fmpmZmZmZuT8zMzMzMzPTPzMzMzMzM+M\\u002fMzMzMzMz0z8AAAAAAADgP5qZmZmZmck\\u002fmpmZmZmZyT+amZmZmZnJP5qZmZmZmbk\\u002fmpmZmZmZ2T8AAAAAAADgP83MzMzMzPw\\u002fmpmZmZmZyT+amZmZmZnJPwAAAAAAAOA\\u002fmpmZmZmZuT+amZmZmZm5P5qZmZmZmbk\\u002fmpmZmZmZuT+amZmZmZm5P5qZmZmZmbk\\u002fmpmZmZmZuT8zMzMzMzPTPzMzMzMzM9M\\u002fAAAAAAAA4D+amZmZmZm5P5qZmZmZmbk\\u002fmpmZmZmZuT+amZmZmZn5P5qZmZmZmbk\\u002fmpmZmZmZyT8AAAAAAADgP5qZmZmZmck\\u002fmpmZmZmZ2T+amZmZmZm5P5qZmZmZmbk\\u002fAAAAAAAA4D+amZmZmZnpP5qZmZmZmck\\u002fAAAAAAAAGkCamZmZmZm5PwAAAAAAAPA\\u002fmpmZmZmZuT8AAAAAAADgPzMzMzMzM+M\\u002fMzMzMzMz0z+amZmZmZnJP83MzMzMzARAmpmZmZmZ6T+amZmZmZnJP5qZmZmZmck\\u002fmpmZmZmZ2T+amZmZmZnJPwAAAAAAAPA\\u002fzczMzMzM7D+amZmZmZm5P83MzMzMzPQ\\u002fZmZmZmZm\\u002fj+amZmZmZnJP5qZmZmZmdk\\u002fmpmZmZmZyT8zMzMzMzPTP5qZmZmZmdk\\u002fmpmZmZmZyT+amZmZmZm5P5qZmZmZmbk\\u002fMzMzMzMzA0AAAAAAAADwPzMzMzMzM9M\\u002fmpmZmZmZyT8AAAAAAADwPzMzMzMzM\\u002fM\\u002fmpmZmZmZyT8zMzMzMzPjPzMzMzMzM+M\\u002fmpmZmZmZ8T+amZmZmZnZPzMzMzMzM9M\\u002fMzMzMzMz4z+amZmZmZm5PzMzMzMzM\\u002fM\\u002fZmZmZmZm5j8AAAAAAADgPwAAAAAAAOA\\u002fmpmZmZmZuT+amZmZmZm5P5qZmZmZmbk\\u002fmpmZmZmZyT+amZmZmZm5P5qZmZmZmfk\\u002fmpmZmZmZuT8zMzMzMzPTP5qZmZmZmbk\\u002fAAAAAAAABECamZmZmZm5PzMzMzMzM\\u002fM\\u002fmpmZmZmZuT+amZmZmZm5P83MzMzMzOw\\u002fmpmZmZmZuT+amZmZmZm5PwAAAAAAAB5AmpmZmZmZuT8AAAAAAADwPwAAAAAAAOA\\u002fAAAAAAAAAEAzMzMzMzPTP5qZmZmZmbk\\u002fAAAAAAAA8D+amZmZmZm5PwAAAAAAACJAmpmZmZmZ8T8AAAAAAAAIQJqZmZmZmbk\\u002fMzMzMzMz8z8zMzMzMzPjP5qZmZmZmfE\\u002fmpmZmZmZuT+amZmZmZm5P5qZmZmZmbk\\u002fMzMzMzMz0z+amZmZmZm5PwAAAAAAAOA\\u002fmpmZmZmZyT+amZmZmZnJP5qZmZmZmdk\\u002fMzMzMzMz4z+amZmZmZnJPwAAAAAAAPA\\u002fmpmZmZmZyT+amZmZmZnJPwAAAAAAAPA\\u002fmpmZmZmZAUBmZmZmZmYCQJqZmZmZmck\\u002fAAAAAAAA4D+amZmZmZm5P5qZmZmZmbk\\u002fmpmZmZmZyT+amZmZmZm5PwAAAAAAAARAmpmZmZmZ+T8AAAAAAADwP83MzMzMzABAmpmZmZmZ6T+amZmZmZnpPzMzMzMzM+M\\u002fMzMzMzMz0z+amZmZmZm5P2ZmZmZmZuY\\u002fZmZmZmZm\\u002fj+amZmZmZnJP5qZmZmZmbk\\u002fmpmZmZmZ6T+amZmZmZnJP5qZmZmZmbk\\u002fmpmZmZmZuT8zMzMzMzPjP2ZmZmZmZuY\\u002fAAAAAAAA4D+amZmZmZnZPwAAAAAAAChAAAAAAAAAIkDNzMzMzMz8P83MzMzMzPw\\u002fzczMzMzM\\u002fD\\u002fNzMzMzMz8PzMzMzMzM\\u002fs\\u002fZmZmZmZm9j\\u002fNzMzMzMz0PzMzMzMzM\\u002fM\\u002fmpmZmZmZ8T+amZmZmZm5P5qZmZmZmbk\\u002fmpmZmZmZuT+amZmZmZm5P5qZmZmZmbk\\u002fmpmZmZmZuT+amZmZmZm5P5qZmZmZmbk\\u002fmpmZmZmZuT+amZmZmZm5P5qZmZmZmbk\\u002fmpmZmZmZuT+amZmZmZm5P5qZmZmZmbk\\u002fmpmZmZmZuT+amZmZmZm5Pw==\"},\"y0\":\" \",\"yaxis\":\"y\",\"type\":\"box\"},{\"alignmentgroup\":\"True\",\"boxpoints\":\"suspectedoutliers\",\"hovertemplate\":\"charged=%{x}\\u003cbr\\u003eWorked Time=%{y}\\u003cextra\\u003e\\u003c\\u002fextra\\u003e\",\"legendgroup\":\"No\",\"marker\":{\"color\":\"#EF553B\"},\"name\":\"No\",\"notched\":false,\"offsetgroup\":\"No\",\"orientation\":\"v\",\"showlegend\":true,\"x\":[\"No\",\"No\",\"No\",\"No\",\"No\",\"No\",\"No\",\"No\",\"No\",\"No\",\"No\",\"No\",\"No\",\"No\",\"No\",\"No\",\"No\",\"No\",\"No\",\"No\",\"No\",\"No\",\"No\",\"No\",\"No\",\"No\",\"No\",\"No\",\"No\",\"No\",\"No\",\"No\",\"No\",\"No\",\"No\",\"No\",\"No\",\"No\",\"No\",\"No\",\"No\",\"No\",\"No\",\"No\",\"No\",\"No\",\"No\",\"No\",\"No\",\"No\",\"No\",\"No\",\"No\",\"No\",\"No\",\"No\",\"No\",\"No\",\"No\",\"No\",\"No\",\"No\",\"No\",\"No\",\"No\",\"No\",\"No\",\"No\",\"No\",\"No\",\"No\",\"No\",\"No\",\"No\",\"No\",\"No\",\"No\",\"No\",\"No\",\"No\",\"No\",\"No\",\"No\",\"No\",\"No\",\"No\",\"No\",\"No\",\"No\",\"No\",\"No\",\"No\",\"No\",\"No\",\"No\",\"No\",\"No\",\"No\",\"No\",\"No\",\"No\",\"No\",\"No\",\"No\",\"No\",\"No\",\"No\",\"No\",\"No\",\"No\",\"No\",\"No\",\"No\",\"No\",\"No\",\"No\",\"No\",\"No\",\"No\",\"No\",\"No\",\"No\",\"No\",\"No\",\"No\",\"No\",\"No\",\"No\",\"No\",\"No\",\"No\",\"No\",\"No\",\"No\",\"No\",\"No\",\"No\",\"No\",\"No\",\"No\",\"No\",\"No\",\"No\",\"No\",\"No\",\"No\",\"No\",\"No\",\"No\",\"No\",\"No\",\"No\",\"No\",\"No\",\"No\",\"No\",\"No\",\"No\",\"No\",\"No\",\"No\",\"No\",\"No\",\"No\",\"No\",\"No\",\"No\",\"No\",\"No\",\"No\",\"No\",\"No\",\"No\",\"No\",\"No\",\"No\",\"No\",\"No\",\"No\",\"No\",\"No\",\"No\",\"No\",\"No\",\"No\",\"No\",\"No\",\"No\",\"No\",\"No\",\"No\",\"No\",\"No\",\"No\",\"No\",\"No\",\"No\",\"No\",\"No\",\"No\",\"No\",\"No\",\"No\",\"No\",\"No\",\"No\",\"No\",\"No\",\"No\",\"No\",\"No\",\"No\",\"No\",\"No\",\"No\",\"No\",\"No\",\"No\",\"No\",\"No\",\"No\",\"No\",\"No\",\"No\",\"No\",\"No\",\"No\",\"No\",\"No\",\"No\",\"No\",\"No\",\"No\",\"No\",\"No\",\"No\",\"No\",\"No\",\"No\",\"No\",\"No\",\"No\",\"No\",\"No\",\"No\",\"No\",\"No\",\"No\",\"No\",\"No\",\"No\",\"No\",\"No\",\"No\",\"No\",\"No\",\"No\",\"No\",\"No\",\"No\",\"No\",\"No\",\"No\",\"No\",\"No\",\"No\",\"No\",\"No\",\"No\",\"No\",\"No\",\"No\",\"No\",\"No\",\"No\",\"No\",\"No\",\"No\",\"No\",\"No\",\"No\",\"No\",\"No\",\"No\",\"No\",\"No\",\"No\",\"No\",\"No\",\"No\",\"No\",\"No\",\"No\",\"No\",\"No\",\"No\",\"No\",\"No\",\"No\",\"No\",\"No\",\"No\",\"No\",\"No\",\"No\",\"No\",\"No\",\"No\",\"No\",\"No\",\"No\",\"No\",\"No\",\"No\",\"No\",\"No\",\"No\",\"No\",\"No\",\"No\",\"No\",\"No\",\"No\",\"No\",\"No\",\"No\",\"No\",\"No\",\"No\",\"No\",\"No\",\"No\",\"No\",\"No\",\"No\",\"No\",\"No\",\"No\",\"No\",\"No\",\"No\",\"No\",\"No\",\"No\",\"No\",\"No\",\"No\",\"No\",\"No\",\"No\",\"No\",\"No\",\"No\",\"No\",\"No\",\"No\",\"No\",\"No\",\"No\",\"No\",\"No\",\"No\",\"No\",\"No\",\"No\",\"No\",\"No\",\"No\",\"No\",\"No\",\"No\",\"No\",\"No\",\"No\",\"No\",\"No\",\"No\",\"No\",\"No\"],\"x0\":\" \",\"xaxis\":\"x\",\"y\":{\"dtype\":\"f8\",\"bdata\":\"mpmZmZmZuT9mZmZmZmbmP5qZmZmZmdk\\u002fmpmZmZmZ6T8AAAAAAADgPwAAAAAAAOA\\u002fzczMzMzM7D9mZmZmZmbmPzMzMzMzM9M\\u002fMzMzMzMz0z+amZmZmZnpPwAAAAAAAOA\\u002fMzMzMzMz8z+amZmZmZm5P5qZmZmZmdk\\u002fmpmZmZmZ2T+amZmZmZnJP5qZmZmZmbk\\u002fZmZmZmZm5j\\u002fNzMzMzMzsPzMzMzMzM+M\\u002fMzMzMzMz4z8AAAAAAADgP2ZmZmZmZuY\\u002fAAAAAAAA8D8AAAAAAADwPzMzMzMzM+M\\u002fmpmZmZmZyT8zMzMzMzPjP5qZmZmZmck\\u002fzczMzMzM7D8AAAAAAADgP5qZmZmZmck\\u002fmpmZmZmZyT8zMzMzMzPjP2ZmZmZmZuY\\u002fAAAAAAAA8D+amZmZmZm5PzMzMzMzM9M\\u002fAAAAAAAA8D8zMzMzMzPzP5qZmZmZmdk\\u002fAAAAAAAA8D+amZmZmZnZPwAAAAAAAPA\\u002fMzMzMzMz4z+amZmZmZnJPzMzMzMzM9M\\u002fmpmZmZmZyT8zMzMzMzPTPwAAAAAAAPA\\u002fmpmZmZmZ2T+amZmZmZm5PzMzMzMzM+M\\u002fMzMzMzMz0z9mZmZmZmbmPwAAAAAAAOA\\u002fzczMzMzM9D8AAAAAAADwP83MzMzMzOw\\u002fAAAAAAAA8D8AAAAAAADgP5qZmZmZmck\\u002fMzMzMzMz8z+amZmZmZnZP5qZmZmZmbk\\u002fmpmZmZmZ6T+amZmZmZnZP5qZmZmZmek\\u002fmpmZmZmZ2T8zMzMzMzPzP5qZmZmZmdk\\u002fAAAAAAAA8D8AAAAAAADgPwAAAAAAAPA\\u002fAAAAAAAA4D+amZmZmZm5P5qZmZmZmdk\\u002fAAAAAAAA4D8AAAAAAADgP5qZmZmZmck\\u002fAAAAAAAAHEAzMzMzMzPjP5qZmZmZmck\\u002fZmZmZmZm5j8AAAAAAADwPwAAAAAAAARAmpmZmZmZyT+amZmZmZnxPzMzMzMzM+M\\u002fMzMzMzMz0z+amZmZmZnZPwAAAAAAAOA\\u002fmpmZmZmZ6T+amZmZmZm5PwAAAAAAAOA\\u002fZmZmZmZm9j9mZmZmZmbmP5qZmZmZmck\\u002fMzMzMzMz4z8zMzMzMzPTPzMzMzMzM9M\\u002fmpmZmZmZuT8AAAAAAADgPzMzMzMzM9M\\u002fmpmZmZmZyT\\u002fNzMzMzMzsP5qZmZmZmek\\u002fmpmZmZmZuT+amZmZmZnZP5qZmZmZmbk\\u002fAAAAAAAA4D9mZmZmZmbmPwAAAAAAAPA\\u002fmpmZmZmZyT8AAAAAAAAIQJqZmZmZmek\\u002fAAAAAAAA+D8zMzMzMzPzP5qZmZmZmbk\\u002fAAAAAAAABECamZmZmZnZP5qZmZmZmdk\\u002fAAAAAAAA8D8AAAAAAADwP5qZmZmZmbk\\u002fzczMzMzM9D+amZmZmZnJP5qZmZmZmbk\\u002fmpmZmZmZ6T\\u002fNzMzMzMzsPzMzMzMzM9M\\u002fAAAAAAAA8D+amZmZmZm5PzMzMzMzM9M\\u002fZmZmZmZm5j8AAAAAAAD4P5qZmZmZmck\\u002fAAAAAAAA8D+amZmZmZnZP2ZmZmZmZuY\\u002fMzMzMzMz0z8AAAAAAADgP5qZmZmZmbk\\u002fmpmZmZmZ6T+amZmZmZnJPzMzMzMzM9M\\u002fmpmZmZmZuT+amZmZmZm5P5qZmZmZmbk\\u002fmpmZmZmZ6T+amZmZmZm5PzMzMzMzM+M\\u002fMzMzMzMz4z+amZmZmZnJP5qZmZmZmbk\\u002fAAAAAAAA8D8AAAAAAADwP2ZmZmZmZuY\\u002fmpmZmZmZuT8zMzMzMzPTPwAAAAAAAAxAAAAAAAAA8D8AAAAAAADgPwAAAAAAAOA\\u002fAAAAAAAA8D+amZmZmZm5P5qZmZmZmdk\\u002fAAAAAAAA8D+amZmZmZm5PzMzMzMzM+M\\u002fMzMzMzMz8z+amZmZmZnJP5qZmZmZmdk\\u002fmpmZmZmZyT+amZmZmZnJP83MzMzMzOw\\u002fZmZmZmZm5j+amZmZmZnZP5qZmZmZmbk\\u002fmpmZmZmZuT+amZmZmZnJP5qZmZmZmck\\u002fmpmZmZmZuT+amZmZmZnxP2ZmZmZmZgpAmpmZmZmZyT8AAAAAAADwP5qZmZmZmek\\u002fAAAAAAAA4D8AAAAAAAAAQAAAAAAAAOA\\u002fmpmZmZmZuT+amZmZmZnJPwAAAAAAAPA\\u002fAAAAAAAA4D\\u002fNzMzMzMzsP5qZmZmZmck\\u002fmpmZmZmZ2T+amZmZmZnZP5qZmZmZmfE\\u002fmpmZmZmZ6T\\u002fNzMzMzMzsP5qZmZmZmdk\\u002fmpmZmZmZ2T+amZmZmZnpP2ZmZmZmZvY\\u002fMzMzMzMz0z+amZmZmZnJPwAAAAAAAPA\\u002fMzMzMzMz0z+amZmZmZm5PwAAAAAAAOA\\u002fmpmZmZmZ6T+amZmZmZm5PwAAAAAAAAhAmpmZmZmZuT\\u002fNzMzMzMzsPwAAAAAAAB5AmpmZmZmZuT+amZmZmZnJP83MzMzMzOw\\u002fMzMzMzMz8z8zMzMzMzPzPwAAAAAAAOA\\u002fmpmZmZmZ+T+amZmZmZnpPwAAAAAAAOA\\u002fAAAAAAAA4D+amZmZmZm5PzMzMzMzM9M\\u002fAAAAAAAA4D+amZmZmZnJP5qZmZmZmck\\u002fmpmZmZmZ2T+amZmZmZn5PzMzMzMzM9M\\u002fmpmZmZmZ8T8AAAAAAADwPzMzMzMzM9M\\u002fMzMzMzMz0z\\u002fNzMzMzMzsPzMzMzMzM+M\\u002fmpmZmZmZ2T8AAAAAAADgPwAAAAAAAARAAAAAAAAA4D+amZmZmZnZPzMzMzMzM+M\\u002fmpmZmZmZuT8zMzMzMzPjP5qZmZmZmck\\u002fAAAAAAAA4D+amZmZmZm5P2ZmZmZmZuY\\u002fAAAAAAAA+D8AAAAAAADwPwAAAAAAAPA\\u002fAAAAAAAA4D8zMzMzMzPTPzMzMzMzM+M\\u002fmpmZmZmZ2T8AAAAAAADgPwAAAAAAAOA\\u002fMzMzMzMz0z8AAAAAAADgPzMzMzMzM9M\\u002fmpmZmZmZ2T+amZmZmZm5P5qZmZmZmbk\\u002fmpmZmZmZyT9mZmZmZmbmPzMzMzMzM+M\\u002fzczMzMzM7D+amZmZmZm5P5qZmZmZmbk\\u002fMzMzMzMz0z9mZmZmZmb+P2ZmZmZmZuY\\u002fMzMzMzMz4z8zMzMzMzPzPwAAAAAAAOA\\u002fmpmZmZmZyT8AAAAAAADgPzMzMzMzM9M\\u002fmpmZmZmZyT+amZmZmZnJP5qZmZmZmck\\u002fAAAAAAAA4D8AAAAAAADgP5qZmZmZmck\\u002fMzMzMzMz0z+amZmZmZnxPwAAAAAAAOA\\u002fmpmZmZmZuT+amZmZmZnpP83MzMzMzOw\\u002fAAAAAAAA8D+amZmZmZm5P2ZmZmZmZuY\\u002fAAAAAAAA8D8AAAAAAADgPzMzMzMzM9M\\u002fZmZmZmZm5j8AAAAAAADgPzMzMzMzM9M\\u002fZmZmZmZm5j8AAAAAAADgP5qZmZmZmbk\\u002fAAAAAAAA4D+amZmZmZm5P2ZmZmZmZuY\\u002fAAAAAAAA8D\\u002fNzMzMzMzsP5qZmZmZmck\\u002fAAAAAAAAEEAzMzMzMzPTP5qZmZmZmck\\u002fmpmZmZmZuT8AAAAAAAAeQDMzMzMzM9M\\u002fmpmZmZmZuT9mZmZmZmbmP5qZmZmZmbk\\u002fmpmZmZmZ2T8AAAAAAADwPwAAAAAAAOA\\u002fMzMzMzMz4z+amZmZmZnxP5qZmZmZmek\\u002fMzMzMzMz0z+amZmZmZm5PzMzMzMzM9M\\u002fmpmZmZmZ8T8zMzMzMzPTP5qZmZmZmbk\\u002fMzMzMzMz0z8AAAAAAADgP5qZmZmZmdk\\u002fmpmZmZmZyT+amZmZmZnxP5qZmZmZmck\\u002fmpmZmZmZ6T8AAAAAAADwPwAAAAAAAOA\\u002fMzMzMzMz0z+amZmZmZm5P5qZmZmZmQFAZmZmZmZm5j+amZmZmZm5P2ZmZmZmZuY\\u002fAAAAAAAA8D9mZmZmZmbmP83MzMzMzOw\\u002fmpmZmZmZyT8zMzMzMzPTP5qZmZmZmbk\\u002fmpmZmZmZyT8zMzMzMzPTP5qZmZmZmck\\u002fmpmZmZmZyT8zMzMzMzPjP5qZmZmZmck\\u002fMzMzMzMz0z8zMzMzMzPTPzMzMzMzM+M\\u002fmpmZmZmZ6T8AAAAAAAAIQDMzMzMzM+M\\u002fmpmZmZmZ2T8AAAAAAADgPwAAAAAAAPA\\u002fMzMzMzMzB0CamZmZmZnJP5qZmZmZmbk\\u002fmpmZmZmZuT+amZmZmZnJPwAAAAAAAPg\\u002fmpmZmZmZuT8=\"},\"y0\":\" \",\"yaxis\":\"y\",\"type\":\"box\"}],                        {\"template\":{\"data\":{\"barpolar\":[{\"marker\":{\"line\":{\"color\":\"white\",\"width\":0.5},\"pattern\":{\"fillmode\":\"overlay\",\"size\":10,\"solidity\":0.2}},\"type\":\"barpolar\"}],\"bar\":[{\"error_x\":{\"color\":\"rgb(36,36,36)\"},\"error_y\":{\"color\":\"rgb(36,36,36)\"},\"marker\":{\"line\":{\"color\":\"white\",\"width\":0.5},\"pattern\":{\"fillmode\":\"overlay\",\"size\":10,\"solidity\":0.2}},\"type\":\"bar\"}],\"carpet\":[{\"aaxis\":{\"endlinecolor\":\"rgb(36,36,36)\",\"gridcolor\":\"white\",\"linecolor\":\"white\",\"minorgridcolor\":\"white\",\"startlinecolor\":\"rgb(36,36,36)\"},\"baxis\":{\"endlinecolor\":\"rgb(36,36,36)\",\"gridcolor\":\"white\",\"linecolor\":\"white\",\"minorgridcolor\":\"white\",\"startlinecolor\":\"rgb(36,36,36)\"},\"type\":\"carpet\"}],\"choropleth\":[{\"colorbar\":{\"outlinewidth\":1,\"tickcolor\":\"rgb(36,36,36)\",\"ticks\":\"outside\"},\"type\":\"choropleth\"}],\"contourcarpet\":[{\"colorbar\":{\"outlinewidth\":1,\"tickcolor\":\"rgb(36,36,36)\",\"ticks\":\"outside\"},\"type\":\"contourcarpet\"}],\"contour\":[{\"colorbar\":{\"outlinewidth\":1,\"tickcolor\":\"rgb(36,36,36)\",\"ticks\":\"outside\"},\"colorscale\":[[0.0,\"#440154\"],[0.1111111111111111,\"#482878\"],[0.2222222222222222,\"#3e4989\"],[0.3333333333333333,\"#31688e\"],[0.4444444444444444,\"#26828e\"],[0.5555555555555556,\"#1f9e89\"],[0.6666666666666666,\"#35b779\"],[0.7777777777777778,\"#6ece58\"],[0.8888888888888888,\"#b5de2b\"],[1.0,\"#fde725\"]],\"type\":\"contour\"}],\"heatmap\":[{\"colorbar\":{\"outlinewidth\":1,\"tickcolor\":\"rgb(36,36,36)\",\"ticks\":\"outside\"},\"colorscale\":[[0.0,\"#440154\"],[0.1111111111111111,\"#482878\"],[0.2222222222222222,\"#3e4989\"],[0.3333333333333333,\"#31688e\"],[0.4444444444444444,\"#26828e\"],[0.5555555555555556,\"#1f9e89\"],[0.6666666666666666,\"#35b779\"],[0.7777777777777778,\"#6ece58\"],[0.8888888888888888,\"#b5de2b\"],[1.0,\"#fde725\"]],\"type\":\"heatmap\"}],\"histogram2dcontour\":[{\"colorbar\":{\"outlinewidth\":1,\"tickcolor\":\"rgb(36,36,36)\",\"ticks\":\"outside\"},\"colorscale\":[[0.0,\"#440154\"],[0.1111111111111111,\"#482878\"],[0.2222222222222222,\"#3e4989\"],[0.3333333333333333,\"#31688e\"],[0.4444444444444444,\"#26828e\"],[0.5555555555555556,\"#1f9e89\"],[0.6666666666666666,\"#35b779\"],[0.7777777777777778,\"#6ece58\"],[0.8888888888888888,\"#b5de2b\"],[1.0,\"#fde725\"]],\"type\":\"histogram2dcontour\"}],\"histogram2d\":[{\"colorbar\":{\"outlinewidth\":1,\"tickcolor\":\"rgb(36,36,36)\",\"ticks\":\"outside\"},\"colorscale\":[[0.0,\"#440154\"],[0.1111111111111111,\"#482878\"],[0.2222222222222222,\"#3e4989\"],[0.3333333333333333,\"#31688e\"],[0.4444444444444444,\"#26828e\"],[0.5555555555555556,\"#1f9e89\"],[0.6666666666666666,\"#35b779\"],[0.7777777777777778,\"#6ece58\"],[0.8888888888888888,\"#b5de2b\"],[1.0,\"#fde725\"]],\"type\":\"histogram2d\"}],\"histogram\":[{\"marker\":{\"line\":{\"color\":\"white\",\"width\":0.6}},\"type\":\"histogram\"}],\"mesh3d\":[{\"colorbar\":{\"outlinewidth\":1,\"tickcolor\":\"rgb(36,36,36)\",\"ticks\":\"outside\"},\"type\":\"mesh3d\"}],\"parcoords\":[{\"line\":{\"colorbar\":{\"outlinewidth\":1,\"tickcolor\":\"rgb(36,36,36)\",\"ticks\":\"outside\"}},\"type\":\"parcoords\"}],\"pie\":[{\"automargin\":true,\"type\":\"pie\"}],\"scatter3d\":[{\"line\":{\"colorbar\":{\"outlinewidth\":1,\"tickcolor\":\"rgb(36,36,36)\",\"ticks\":\"outside\"}},\"marker\":{\"colorbar\":{\"outlinewidth\":1,\"tickcolor\":\"rgb(36,36,36)\",\"ticks\":\"outside\"}},\"type\":\"scatter3d\"}],\"scattercarpet\":[{\"marker\":{\"colorbar\":{\"outlinewidth\":1,\"tickcolor\":\"rgb(36,36,36)\",\"ticks\":\"outside\"}},\"type\":\"scattercarpet\"}],\"scattergeo\":[{\"marker\":{\"colorbar\":{\"outlinewidth\":1,\"tickcolor\":\"rgb(36,36,36)\",\"ticks\":\"outside\"}},\"type\":\"scattergeo\"}],\"scattergl\":[{\"marker\":{\"colorbar\":{\"outlinewidth\":1,\"tickcolor\":\"rgb(36,36,36)\",\"ticks\":\"outside\"}},\"type\":\"scattergl\"}],\"scattermapbox\":[{\"marker\":{\"colorbar\":{\"outlinewidth\":1,\"tickcolor\":\"rgb(36,36,36)\",\"ticks\":\"outside\"}},\"type\":\"scattermapbox\"}],\"scattermap\":[{\"marker\":{\"colorbar\":{\"outlinewidth\":1,\"tickcolor\":\"rgb(36,36,36)\",\"ticks\":\"outside\"}},\"type\":\"scattermap\"}],\"scatterpolargl\":[{\"marker\":{\"colorbar\":{\"outlinewidth\":1,\"tickcolor\":\"rgb(36,36,36)\",\"ticks\":\"outside\"}},\"type\":\"scatterpolargl\"}],\"scatterpolar\":[{\"marker\":{\"colorbar\":{\"outlinewidth\":1,\"tickcolor\":\"rgb(36,36,36)\",\"ticks\":\"outside\"}},\"type\":\"scatterpolar\"}],\"scatter\":[{\"fillpattern\":{\"fillmode\":\"overlay\",\"size\":10,\"solidity\":0.2},\"type\":\"scatter\"}],\"scatterternary\":[{\"marker\":{\"colorbar\":{\"outlinewidth\":1,\"tickcolor\":\"rgb(36,36,36)\",\"ticks\":\"outside\"}},\"type\":\"scatterternary\"}],\"surface\":[{\"colorbar\":{\"outlinewidth\":1,\"tickcolor\":\"rgb(36,36,36)\",\"ticks\":\"outside\"},\"colorscale\":[[0.0,\"#440154\"],[0.1111111111111111,\"#482878\"],[0.2222222222222222,\"#3e4989\"],[0.3333333333333333,\"#31688e\"],[0.4444444444444444,\"#26828e\"],[0.5555555555555556,\"#1f9e89\"],[0.6666666666666666,\"#35b779\"],[0.7777777777777778,\"#6ece58\"],[0.8888888888888888,\"#b5de2b\"],[1.0,\"#fde725\"]],\"type\":\"surface\"}],\"table\":[{\"cells\":{\"fill\":{\"color\":\"rgb(237,237,237)\"},\"line\":{\"color\":\"white\"}},\"header\":{\"fill\":{\"color\":\"rgb(217,217,217)\"},\"line\":{\"color\":\"white\"}},\"type\":\"table\"}]},\"layout\":{\"annotationdefaults\":{\"arrowhead\":0,\"arrowwidth\":1},\"autotypenumbers\":\"strict\",\"coloraxis\":{\"colorbar\":{\"outlinewidth\":1,\"tickcolor\":\"rgb(36,36,36)\",\"ticks\":\"outside\"}},\"colorscale\":{\"diverging\":[[0.0,\"rgb(103,0,31)\"],[0.1,\"rgb(178,24,43)\"],[0.2,\"rgb(214,96,77)\"],[0.3,\"rgb(244,165,130)\"],[0.4,\"rgb(253,219,199)\"],[0.5,\"rgb(247,247,247)\"],[0.6,\"rgb(209,229,240)\"],[0.7,\"rgb(146,197,222)\"],[0.8,\"rgb(67,147,195)\"],[0.9,\"rgb(33,102,172)\"],[1.0,\"rgb(5,48,97)\"]],\"sequential\":[[0.0,\"#440154\"],[0.1111111111111111,\"#482878\"],[0.2222222222222222,\"#3e4989\"],[0.3333333333333333,\"#31688e\"],[0.4444444444444444,\"#26828e\"],[0.5555555555555556,\"#1f9e89\"],[0.6666666666666666,\"#35b779\"],[0.7777777777777778,\"#6ece58\"],[0.8888888888888888,\"#b5de2b\"],[1.0,\"#fde725\"]],\"sequentialminus\":[[0.0,\"#440154\"],[0.1111111111111111,\"#482878\"],[0.2222222222222222,\"#3e4989\"],[0.3333333333333333,\"#31688e\"],[0.4444444444444444,\"#26828e\"],[0.5555555555555556,\"#1f9e89\"],[0.6666666666666666,\"#35b779\"],[0.7777777777777778,\"#6ece58\"],[0.8888888888888888,\"#b5de2b\"],[1.0,\"#fde725\"]]},\"colorway\":[\"#1F77B4\",\"#FF7F0E\",\"#2CA02C\",\"#D62728\",\"#9467BD\",\"#8C564B\",\"#E377C2\",\"#7F7F7F\",\"#BCBD22\",\"#17BECF\"],\"font\":{\"color\":\"rgb(36,36,36)\"},\"geo\":{\"bgcolor\":\"white\",\"lakecolor\":\"white\",\"landcolor\":\"white\",\"showlakes\":true,\"showland\":true,\"subunitcolor\":\"white\"},\"hoverlabel\":{\"align\":\"left\"},\"hovermode\":\"closest\",\"mapbox\":{\"style\":\"light\"},\"paper_bgcolor\":\"white\",\"plot_bgcolor\":\"white\",\"polar\":{\"angularaxis\":{\"gridcolor\":\"rgb(232,232,232)\",\"linecolor\":\"rgb(36,36,36)\",\"showgrid\":false,\"showline\":true,\"ticks\":\"outside\"},\"bgcolor\":\"white\",\"radialaxis\":{\"gridcolor\":\"rgb(232,232,232)\",\"linecolor\":\"rgb(36,36,36)\",\"showgrid\":false,\"showline\":true,\"ticks\":\"outside\"}},\"scene\":{\"xaxis\":{\"backgroundcolor\":\"white\",\"gridcolor\":\"rgb(232,232,232)\",\"gridwidth\":2,\"linecolor\":\"rgb(36,36,36)\",\"showbackground\":true,\"showgrid\":false,\"showline\":true,\"ticks\":\"outside\",\"zeroline\":false,\"zerolinecolor\":\"rgb(36,36,36)\"},\"yaxis\":{\"backgroundcolor\":\"white\",\"gridcolor\":\"rgb(232,232,232)\",\"gridwidth\":2,\"linecolor\":\"rgb(36,36,36)\",\"showbackground\":true,\"showgrid\":false,\"showline\":true,\"ticks\":\"outside\",\"zeroline\":false,\"zerolinecolor\":\"rgb(36,36,36)\"},\"zaxis\":{\"backgroundcolor\":\"white\",\"gridcolor\":\"rgb(232,232,232)\",\"gridwidth\":2,\"linecolor\":\"rgb(36,36,36)\",\"showbackground\":true,\"showgrid\":false,\"showline\":true,\"ticks\":\"outside\",\"zeroline\":false,\"zerolinecolor\":\"rgb(36,36,36)\"}},\"shapedefaults\":{\"fillcolor\":\"black\",\"line\":{\"width\":0},\"opacity\":0.3},\"ternary\":{\"aaxis\":{\"gridcolor\":\"rgb(232,232,232)\",\"linecolor\":\"rgb(36,36,36)\",\"showgrid\":false,\"showline\":true,\"ticks\":\"outside\"},\"baxis\":{\"gridcolor\":\"rgb(232,232,232)\",\"linecolor\":\"rgb(36,36,36)\",\"showgrid\":false,\"showline\":true,\"ticks\":\"outside\"},\"bgcolor\":\"white\",\"caxis\":{\"gridcolor\":\"rgb(232,232,232)\",\"linecolor\":\"rgb(36,36,36)\",\"showgrid\":false,\"showline\":true,\"ticks\":\"outside\"}},\"title\":{\"x\":0.05},\"xaxis\":{\"automargin\":true,\"gridcolor\":\"rgb(232,232,232)\",\"linecolor\":\"rgb(36,36,36)\",\"showgrid\":false,\"showline\":true,\"ticks\":\"outside\",\"title\":{\"standoff\":15},\"zeroline\":false,\"zerolinecolor\":\"rgb(36,36,36)\"},\"yaxis\":{\"automargin\":true,\"gridcolor\":\"rgb(232,232,232)\",\"linecolor\":\"rgb(36,36,36)\",\"showgrid\":false,\"showline\":true,\"ticks\":\"outside\",\"title\":{\"standoff\":15},\"zeroline\":false,\"zerolinecolor\":\"rgb(36,36,36)\"}}},\"xaxis\":{\"anchor\":\"y\",\"domain\":[0.0,1.0],\"title\":{},\"categoryorder\":\"array\",\"categoryarray\":[\"Yes\",\"No\"]},\"yaxis\":{\"anchor\":\"x\",\"domain\":[0.0,1.0],\"title\":{\"text\":\"Hours\"}},\"legend\":{\"title\":{\"text\":\"charged\"},\"tracegroupgap\":0},\"title\":{\"text\":\"Worked Time vs Charged?\"},\"boxmode\":\"overlay\"},                        {\"responsive\": true}                    ).then(function(){\n",
       "                            \n",
       "var gd = document.getElementById('f0585fb6-8e18-4bf4-9cd2-bfeba84e7798');\n",
       "var x = new MutationObserver(function (mutations, observer) {{\n",
       "        var display = window.getComputedStyle(gd).display;\n",
       "        if (!display || display === 'none') {{\n",
       "            console.log([gd, 'removed!']);\n",
       "            Plotly.purge(gd);\n",
       "            observer.disconnect();\n",
       "        }}\n",
       "}});\n",
       "\n",
       "// Listen for the removal of the full notebook cells\n",
       "var notebookContainer = gd.closest('#notebook-container');\n",
       "if (notebookContainer) {{\n",
       "    x.observe(notebookContainer, {childList: true});\n",
       "}}\n",
       "\n",
       "// Listen for the clearing of the current output cell\n",
       "var outputEl = gd.closest('.output');\n",
       "if (outputEl) {{\n",
       "    x.observe(outputEl, {childList: true});\n",
       "}}\n",
       "\n",
       "                        })                };            </script>        </div>"
      ]
     },
     "metadata": {},
     "output_type": "display_data"
    }
   ],
   "source": [
    "dfv = df.assign(charged=df[\"Charged to Client?\"].str.upper().map({\"YES\": \"Yes\", \"NO\": \"No\"}))\n",
    "\n",
    "fig = px.box(\n",
    "    dfv, x=\"charged\", y=\"Worked Time\", color=\"charged\",\n",
    "    title=\"Worked Time vs Charged?\",\n",
    "    points=\"suspectedoutliers\",\n",
    ")\n",
    "fig.update_layout(template=\"simple_white\", xaxis_title=None, yaxis_title=\"Hours\")\n",
    "fig.show()"
   ]
  },
  {
   "cell_type": "code",
   "execution_count": 17,
   "id": "0f68e115",
   "metadata": {},
   "outputs": [
    {
     "data": {
      "application/vnd.microsoft.datawrangler.viewer.v0+json": {
       "columns": [
        {
         "name": "charged",
         "rawType": "object",
         "type": "string"
        },
        {
         "name": "count",
         "rawType": "int64",
         "type": "integer"
        },
        {
         "name": "median",
         "rawType": "float64",
         "type": "float"
        },
        {
         "name": "mean",
         "rawType": "float64",
         "type": "float"
        }
       ],
       "ref": "040fe41e-4cbe-479c-b789-9a037494a51a",
       "rows": [
        [
         "No",
         "379",
         "0.5",
         "0.66"
        ],
        [
         "Yes",
         "1778",
         "0.3",
         "0.58"
        ]
       ],
       "shape": {
        "columns": 3,
        "rows": 2
       }
      },
      "text/html": [
       "<div>\n",
       "<style scoped>\n",
       "    .dataframe tbody tr th:only-of-type {\n",
       "        vertical-align: middle;\n",
       "    }\n",
       "\n",
       "    .dataframe tbody tr th {\n",
       "        vertical-align: top;\n",
       "    }\n",
       "\n",
       "    .dataframe thead th {\n",
       "        text-align: right;\n",
       "    }\n",
       "</style>\n",
       "<table border=\"1\" class=\"dataframe\">\n",
       "  <thead>\n",
       "    <tr style=\"text-align: right;\">\n",
       "      <th></th>\n",
       "      <th>count</th>\n",
       "      <th>median</th>\n",
       "      <th>mean</th>\n",
       "    </tr>\n",
       "    <tr>\n",
       "      <th>charged</th>\n",
       "      <th></th>\n",
       "      <th></th>\n",
       "      <th></th>\n",
       "    </tr>\n",
       "  </thead>\n",
       "  <tbody>\n",
       "    <tr>\n",
       "      <th>No</th>\n",
       "      <td>379</td>\n",
       "      <td>0.5</td>\n",
       "      <td>0.66</td>\n",
       "    </tr>\n",
       "    <tr>\n",
       "      <th>Yes</th>\n",
       "      <td>1778</td>\n",
       "      <td>0.3</td>\n",
       "      <td>0.58</td>\n",
       "    </tr>\n",
       "  </tbody>\n",
       "</table>\n",
       "</div>"
      ],
      "text/plain": [
       "         count  median  mean\n",
       "charged                     \n",
       "No         379     0.5  0.66\n",
       "Yes       1778     0.3  0.58"
      ]
     },
     "execution_count": 17,
     "metadata": {},
     "output_type": "execute_result"
    }
   ],
   "source": [
    "dfv.groupby(\"charged\")[\"Worked Time\"].agg(count=\"size\", median=\"median\", mean=\"mean\").round(2)"
   ]
  },
  {
   "cell_type": "code",
   "execution_count": 41,
   "id": "4d050793",
   "metadata": {},
   "outputs": [
    {
     "data": {
      "text/html": [
       "<div>            <script src=\"https://cdnjs.cloudflare.com/ajax/libs/mathjax/2.7.5/MathJax.js?config=TeX-AMS-MML_SVG\"></script><script type=\"text/javascript\">if (window.MathJax && window.MathJax.Hub && window.MathJax.Hub.Config) {window.MathJax.Hub.Config({SVG: {font: \"STIX-Web\"}});}</script>                <script type=\"text/javascript\">window.PlotlyConfig = {MathJaxConfig: 'local'};</script>\n",
       "        <script charset=\"utf-8\" src=\"https://cdn.plot.ly/plotly-3.1.0.min.js\" integrity=\"sha256-Ei4740bWZhaUTQuD6q9yQlgVCMPBz6CZWhevDYPv93A=\" crossorigin=\"anonymous\"></script>                <div id=\"e5078023-aecd-47d0-8df6-c0d31fcd0417\" class=\"plotly-graph-div\" style=\"height:525px; width:100%;\"></div>            <script type=\"text/javascript\">                window.PLOTLYENV=window.PLOTLYENV || {};                                if (document.getElementById(\"e5078023-aecd-47d0-8df6-c0d31fcd0417\")) {                    Plotly.newPlot(                        \"e5078023-aecd-47d0-8df6-c0d31fcd0417\",                        [{\"alignmentgroup\":\"True\",\"hovertemplate\":\"charged=%{x}\\u003cbr\\u003eworked_minutes=%{y}\\u003cextra\\u003e\\u003c\\u002fextra\\u003e\",\"legendgroup\":\"Yes\",\"marker\":{\"color\":\"#636efa\"},\"name\":\"Yes\",\"notched\":false,\"offsetgroup\":\"Yes\",\"orientation\":\"v\",\"showlegend\":true,\"x\":[\"Yes\",\"Yes\",\"Yes\",\"Yes\",\"Yes\",\"Yes\",\"Yes\",\"Yes\",\"Yes\",\"Yes\",\"Yes\",\"Yes\",\"Yes\",\"Yes\",\"Yes\",\"Yes\",\"Yes\",\"Yes\",\"Yes\",\"Yes\",\"Yes\",\"Yes\",\"Yes\",\"Yes\",\"Yes\",\"Yes\",\"Yes\",\"Yes\",\"Yes\",\"Yes\",\"Yes\",\"Yes\",\"Yes\",\"Yes\",\"Yes\",\"Yes\",\"Yes\",\"Yes\",\"Yes\",\"Yes\",\"Yes\",\"Yes\",\"Yes\",\"Yes\",\"Yes\",\"Yes\",\"Yes\",\"Yes\",\"Yes\",\"Yes\",\"Yes\",\"Yes\",\"Yes\",\"Yes\",\"Yes\",\"Yes\",\"Yes\",\"Yes\",\"Yes\",\"Yes\",\"Yes\",\"Yes\",\"Yes\",\"Yes\",\"Yes\",\"Yes\",\"Yes\",\"Yes\",\"Yes\",\"Yes\",\"Yes\",\"Yes\",\"Yes\",\"Yes\",\"Yes\",\"Yes\",\"Yes\",\"Yes\",\"Yes\",\"Yes\",\"Yes\",\"Yes\",\"Yes\",\"Yes\",\"Yes\",\"Yes\",\"Yes\",\"Yes\",\"Yes\",\"Yes\",\"Yes\",\"Yes\",\"Yes\",\"Yes\",\"Yes\",\"Yes\",\"Yes\",\"Yes\",\"Yes\",\"Yes\",\"Yes\",\"Yes\",\"Yes\",\"Yes\",\"Yes\",\"Yes\",\"Yes\",\"Yes\",\"Yes\",\"Yes\",\"Yes\",\"Yes\",\"Yes\",\"Yes\",\"Yes\",\"Yes\",\"Yes\",\"Yes\",\"Yes\",\"Yes\",\"Yes\",\"Yes\",\"Yes\",\"Yes\",\"Yes\",\"Yes\",\"Yes\",\"Yes\",\"Yes\",\"Yes\",\"Yes\",\"Yes\",\"Yes\",\"Yes\",\"Yes\",\"Yes\",\"Yes\",\"Yes\",\"Yes\",\"Yes\",\"Yes\",\"Yes\",\"Yes\",\"Yes\",\"Yes\",\"Yes\",\"Yes\",\"Yes\",\"Yes\",\"Yes\",\"Yes\",\"Yes\",\"Yes\",\"Yes\",\"Yes\",\"Yes\",\"Yes\",\"Yes\",\"Yes\",\"Yes\",\"Yes\",\"Yes\",\"Yes\",\"Yes\",\"Yes\",\"Yes\",\"Yes\",\"Yes\",\"Yes\",\"Yes\",\"Yes\",\"Yes\",\"Yes\",\"Yes\",\"Yes\",\"Yes\",\"Yes\",\"Yes\",\"Yes\",\"Yes\",\"Yes\",\"Yes\",\"Yes\",\"Yes\",\"Yes\",\"Yes\",\"Yes\",\"Yes\",\"Yes\",\"Yes\",\"Yes\",\"Yes\",\"Yes\",\"Yes\",\"Yes\",\"Yes\",\"Yes\",\"Yes\",\"Yes\",\"Yes\",\"Yes\",\"Yes\",\"Yes\",\"Yes\",\"Yes\",\"Yes\",\"Yes\",\"Yes\",\"Yes\",\"Yes\",\"Yes\",\"Yes\",\"Yes\",\"Yes\",\"Yes\",\"Yes\",\"Yes\",\"Yes\",\"Yes\",\"Yes\",\"Yes\",\"Yes\",\"Yes\",\"Yes\",\"Yes\",\"Yes\",\"Yes\",\"Yes\",\"Yes\",\"Yes\",\"Yes\",\"Yes\",\"Yes\",\"Yes\",\"Yes\",\"Yes\",\"Yes\",\"Yes\",\"Yes\",\"Yes\",\"Yes\",\"Yes\",\"Yes\",\"Yes\",\"Yes\",\"Yes\",\"Yes\",\"Yes\",\"Yes\",\"Yes\",\"Yes\",\"Yes\",\"Yes\",\"Yes\",\"Yes\",\"Yes\",\"Yes\",\"Yes\",\"Yes\",\"Yes\",\"Yes\",\"Yes\",\"Yes\",\"Yes\",\"Yes\",\"Yes\",\"Yes\",\"Yes\",\"Yes\",\"Yes\",\"Yes\",\"Yes\",\"Yes\",\"Yes\",\"Yes\",\"Yes\",\"Yes\",\"Yes\",\"Yes\",\"Yes\",\"Yes\",\"Yes\",\"Yes\",\"Yes\",\"Yes\",\"Yes\",\"Yes\",\"Yes\",\"Yes\",\"Yes\",\"Yes\",\"Yes\",\"Yes\",\"Yes\",\"Yes\",\"Yes\",\"Yes\",\"Yes\",\"Yes\",\"Yes\",\"Yes\",\"Yes\",\"Yes\",\"Yes\",\"Yes\",\"Yes\",\"Yes\",\"Yes\",\"Yes\",\"Yes\",\"Yes\",\"Yes\",\"Yes\",\"Yes\",\"Yes\",\"Yes\",\"Yes\",\"Yes\",\"Yes\",\"Yes\",\"Yes\",\"Yes\",\"Yes\",\"Yes\",\"Yes\",\"Yes\",\"Yes\",\"Yes\",\"Yes\",\"Yes\",\"Yes\",\"Yes\",\"Yes\",\"Yes\",\"Yes\",\"Yes\",\"Yes\",\"Yes\",\"Yes\",\"Yes\",\"Yes\",\"Yes\",\"Yes\",\"Yes\",\"Yes\",\"Yes\",\"Yes\",\"Yes\",\"Yes\",\"Yes\",\"Yes\",\"Yes\",\"Yes\",\"Yes\",\"Yes\",\"Yes\",\"Yes\",\"Yes\",\"Yes\",\"Yes\",\"Yes\",\"Yes\",\"Yes\",\"Yes\",\"Yes\",\"Yes\",\"Yes\",\"Yes\",\"Yes\",\"Yes\",\"Yes\",\"Yes\",\"Yes\",\"Yes\",\"Yes\",\"Yes\",\"Yes\",\"Yes\",\"Yes\",\"Yes\",\"Yes\",\"Yes\",\"Yes\",\"Yes\",\"Yes\",\"Yes\",\"Yes\",\"Yes\",\"Yes\",\"Yes\",\"Yes\",\"Yes\",\"Yes\",\"Yes\",\"Yes\",\"Yes\",\"Yes\",\"Yes\",\"Yes\",\"Yes\",\"Yes\",\"Yes\",\"Yes\",\"Yes\",\"Yes\",\"Yes\",\"Yes\",\"Yes\",\"Yes\",\"Yes\",\"Yes\",\"Yes\",\"Yes\",\"Yes\",\"Yes\",\"Yes\",\"Yes\",\"Yes\",\"Yes\",\"Yes\",\"Yes\",\"Yes\",\"Yes\",\"Yes\",\"Yes\",\"Yes\",\"Yes\",\"Yes\",\"Yes\",\"Yes\",\"Yes\",\"Yes\",\"Yes\",\"Yes\",\"Yes\",\"Yes\",\"Yes\",\"Yes\",\"Yes\",\"Yes\",\"Yes\",\"Yes\",\"Yes\",\"Yes\",\"Yes\",\"Yes\",\"Yes\",\"Yes\",\"Yes\",\"Yes\",\"Yes\",\"Yes\",\"Yes\",\"Yes\",\"Yes\",\"Yes\",\"Yes\",\"Yes\",\"Yes\",\"Yes\",\"Yes\",\"Yes\",\"Yes\",\"Yes\",\"Yes\",\"Yes\",\"Yes\",\"Yes\",\"Yes\",\"Yes\",\"Yes\",\"Yes\",\"Yes\",\"Yes\",\"Yes\",\"Yes\",\"Yes\",\"Yes\",\"Yes\",\"Yes\",\"Yes\",\"Yes\",\"Yes\",\"Yes\",\"Yes\",\"Yes\",\"Yes\",\"Yes\",\"Yes\",\"Yes\",\"Yes\",\"Yes\",\"Yes\",\"Yes\",\"Yes\",\"Yes\",\"Yes\",\"Yes\",\"Yes\",\"Yes\",\"Yes\",\"Yes\",\"Yes\",\"Yes\",\"Yes\",\"Yes\",\"Yes\",\"Yes\",\"Yes\",\"Yes\",\"Yes\",\"Yes\",\"Yes\",\"Yes\",\"Yes\",\"Yes\",\"Yes\",\"Yes\",\"Yes\",\"Yes\",\"Yes\",\"Yes\",\"Yes\",\"Yes\",\"Yes\",\"Yes\",\"Yes\",\"Yes\",\"Yes\",\"Yes\",\"Yes\",\"Yes\",\"Yes\",\"Yes\",\"Yes\",\"Yes\",\"Yes\",\"Yes\",\"Yes\",\"Yes\",\"Yes\",\"Yes\",\"Yes\",\"Yes\",\"Yes\",\"Yes\",\"Yes\",\"Yes\",\"Yes\",\"Yes\",\"Yes\",\"Yes\",\"Yes\",\"Yes\",\"Yes\",\"Yes\",\"Yes\",\"Yes\",\"Yes\",\"Yes\",\"Yes\",\"Yes\",\"Yes\",\"Yes\",\"Yes\",\"Yes\",\"Yes\",\"Yes\",\"Yes\",\"Yes\",\"Yes\",\"Yes\",\"Yes\",\"Yes\",\"Yes\",\"Yes\",\"Yes\",\"Yes\",\"Yes\",\"Yes\",\"Yes\",\"Yes\",\"Yes\",\"Yes\",\"Yes\",\"Yes\",\"Yes\",\"Yes\",\"Yes\",\"Yes\",\"Yes\",\"Yes\",\"Yes\",\"Yes\",\"Yes\",\"Yes\",\"Yes\",\"Yes\",\"Yes\",\"Yes\",\"Yes\",\"Yes\",\"Yes\",\"Yes\",\"Yes\",\"Yes\",\"Yes\",\"Yes\",\"Yes\",\"Yes\",\"Yes\",\"Yes\",\"Yes\",\"Yes\",\"Yes\",\"Yes\",\"Yes\",\"Yes\",\"Yes\",\"Yes\",\"Yes\",\"Yes\",\"Yes\",\"Yes\",\"Yes\",\"Yes\",\"Yes\",\"Yes\",\"Yes\",\"Yes\",\"Yes\",\"Yes\",\"Yes\",\"Yes\",\"Yes\",\"Yes\",\"Yes\",\"Yes\",\"Yes\",\"Yes\",\"Yes\",\"Yes\",\"Yes\",\"Yes\",\"Yes\",\"Yes\",\"Yes\",\"Yes\",\"Yes\",\"Yes\",\"Yes\",\"Yes\",\"Yes\",\"Yes\",\"Yes\",\"Yes\",\"Yes\",\"Yes\",\"Yes\",\"Yes\",\"Yes\",\"Yes\",\"Yes\",\"Yes\",\"Yes\",\"Yes\",\"Yes\",\"Yes\",\"Yes\",\"Yes\",\"Yes\",\"Yes\",\"Yes\",\"Yes\",\"Yes\",\"Yes\",\"Yes\",\"Yes\",\"Yes\",\"Yes\",\"Yes\",\"Yes\",\"Yes\",\"Yes\",\"Yes\",\"Yes\",\"Yes\",\"Yes\",\"Yes\",\"Yes\",\"Yes\",\"Yes\",\"Yes\",\"Yes\",\"Yes\",\"Yes\",\"Yes\",\"Yes\",\"Yes\",\"Yes\",\"Yes\",\"Yes\",\"Yes\",\"Yes\",\"Yes\",\"Yes\",\"Yes\",\"Yes\",\"Yes\",\"Yes\",\"Yes\",\"Yes\",\"Yes\",\"Yes\",\"Yes\",\"Yes\",\"Yes\",\"Yes\",\"Yes\",\"Yes\",\"Yes\",\"Yes\",\"Yes\",\"Yes\",\"Yes\",\"Yes\",\"Yes\",\"Yes\",\"Yes\",\"Yes\",\"Yes\",\"Yes\",\"Yes\",\"Yes\",\"Yes\",\"Yes\",\"Yes\",\"Yes\",\"Yes\",\"Yes\",\"Yes\",\"Yes\",\"Yes\",\"Yes\",\"Yes\",\"Yes\",\"Yes\",\"Yes\",\"Yes\",\"Yes\",\"Yes\",\"Yes\",\"Yes\",\"Yes\",\"Yes\",\"Yes\",\"Yes\",\"Yes\",\"Yes\",\"Yes\",\"Yes\",\"Yes\",\"Yes\",\"Yes\",\"Yes\",\"Yes\",\"Yes\",\"Yes\",\"Yes\",\"Yes\",\"Yes\",\"Yes\",\"Yes\",\"Yes\",\"Yes\",\"Yes\",\"Yes\",\"Yes\",\"Yes\",\"Yes\",\"Yes\",\"Yes\",\"Yes\",\"Yes\",\"Yes\",\"Yes\",\"Yes\",\"Yes\",\"Yes\",\"Yes\",\"Yes\",\"Yes\",\"Yes\",\"Yes\",\"Yes\",\"Yes\",\"Yes\",\"Yes\",\"Yes\",\"Yes\",\"Yes\",\"Yes\",\"Yes\",\"Yes\",\"Yes\",\"Yes\",\"Yes\",\"Yes\",\"Yes\",\"Yes\",\"Yes\",\"Yes\",\"Yes\",\"Yes\",\"Yes\",\"Yes\",\"Yes\",\"Yes\",\"Yes\",\"Yes\",\"Yes\",\"Yes\",\"Yes\",\"Yes\",\"Yes\",\"Yes\",\"Yes\",\"Yes\",\"Yes\",\"Yes\",\"Yes\",\"Yes\",\"Yes\",\"Yes\",\"Yes\",\"Yes\",\"Yes\",\"Yes\",\"Yes\",\"Yes\",\"Yes\",\"Yes\",\"Yes\",\"Yes\",\"Yes\",\"Yes\",\"Yes\",\"Yes\",\"Yes\",\"Yes\",\"Yes\",\"Yes\",\"Yes\",\"Yes\",\"Yes\",\"Yes\",\"Yes\",\"Yes\",\"Yes\",\"Yes\",\"Yes\",\"Yes\",\"Yes\",\"Yes\",\"Yes\",\"Yes\",\"Yes\",\"Yes\",\"Yes\",\"Yes\",\"Yes\",\"Yes\",\"Yes\",\"Yes\",\"Yes\",\"Yes\",\"Yes\",\"Yes\",\"Yes\",\"Yes\",\"Yes\",\"Yes\",\"Yes\",\"Yes\",\"Yes\",\"Yes\",\"Yes\",\"Yes\",\"Yes\",\"Yes\",\"Yes\",\"Yes\",\"Yes\",\"Yes\",\"Yes\",\"Yes\",\"Yes\",\"Yes\",\"Yes\",\"Yes\",\"Yes\",\"Yes\",\"Yes\",\"Yes\",\"Yes\",\"Yes\",\"Yes\",\"Yes\",\"Yes\",\"Yes\",\"Yes\",\"Yes\",\"Yes\",\"Yes\",\"Yes\",\"Yes\",\"Yes\",\"Yes\",\"Yes\",\"Yes\",\"Yes\",\"Yes\",\"Yes\",\"Yes\",\"Yes\",\"Yes\",\"Yes\",\"Yes\",\"Yes\",\"Yes\",\"Yes\",\"Yes\",\"Yes\",\"Yes\",\"Yes\",\"Yes\",\"Yes\",\"Yes\",\"Yes\",\"Yes\",\"Yes\",\"Yes\",\"Yes\",\"Yes\",\"Yes\",\"Yes\",\"Yes\",\"Yes\",\"Yes\",\"Yes\",\"Yes\",\"Yes\",\"Yes\",\"Yes\",\"Yes\",\"Yes\",\"Yes\",\"Yes\",\"Yes\",\"Yes\",\"Yes\",\"Yes\",\"Yes\",\"Yes\",\"Yes\",\"Yes\",\"Yes\",\"Yes\",\"Yes\",\"Yes\",\"Yes\",\"Yes\",\"Yes\",\"Yes\",\"Yes\",\"Yes\",\"Yes\",\"Yes\",\"Yes\",\"Yes\",\"Yes\",\"Yes\",\"Yes\",\"Yes\",\"Yes\",\"Yes\",\"Yes\",\"Yes\",\"Yes\",\"Yes\",\"Yes\",\"Yes\",\"Yes\",\"Yes\",\"Yes\",\"Yes\",\"Yes\",\"Yes\",\"Yes\",\"Yes\",\"Yes\",\"Yes\",\"Yes\",\"Yes\",\"Yes\",\"Yes\",\"Yes\",\"Yes\",\"Yes\",\"Yes\",\"Yes\",\"Yes\",\"Yes\",\"Yes\",\"Yes\",\"Yes\",\"Yes\",\"Yes\",\"Yes\",\"Yes\",\"Yes\",\"Yes\",\"Yes\",\"Yes\",\"Yes\",\"Yes\",\"Yes\",\"Yes\",\"Yes\",\"Yes\",\"Yes\",\"Yes\",\"Yes\",\"Yes\",\"Yes\",\"Yes\",\"Yes\",\"Yes\",\"Yes\",\"Yes\",\"Yes\",\"Yes\",\"Yes\",\"Yes\",\"Yes\",\"Yes\",\"Yes\",\"Yes\",\"Yes\",\"Yes\",\"Yes\",\"Yes\",\"Yes\",\"Yes\",\"Yes\",\"Yes\",\"Yes\",\"Yes\",\"Yes\",\"Yes\",\"Yes\",\"Yes\",\"Yes\",\"Yes\",\"Yes\",\"Yes\",\"Yes\",\"Yes\",\"Yes\",\"Yes\",\"Yes\",\"Yes\",\"Yes\",\"Yes\",\"Yes\",\"Yes\",\"Yes\",\"Yes\",\"Yes\",\"Yes\",\"Yes\",\"Yes\",\"Yes\",\"Yes\",\"Yes\",\"Yes\",\"Yes\",\"Yes\",\"Yes\",\"Yes\",\"Yes\",\"Yes\",\"Yes\",\"Yes\",\"Yes\",\"Yes\",\"Yes\",\"Yes\",\"Yes\",\"Yes\",\"Yes\",\"Yes\",\"Yes\",\"Yes\",\"Yes\",\"Yes\",\"Yes\",\"Yes\",\"Yes\",\"Yes\",\"Yes\",\"Yes\",\"Yes\",\"Yes\",\"Yes\",\"Yes\",\"Yes\",\"Yes\",\"Yes\",\"Yes\",\"Yes\",\"Yes\",\"Yes\",\"Yes\",\"Yes\",\"Yes\",\"Yes\",\"Yes\",\"Yes\",\"Yes\",\"Yes\",\"Yes\",\"Yes\",\"Yes\",\"Yes\",\"Yes\",\"Yes\",\"Yes\",\"Yes\",\"Yes\",\"Yes\",\"Yes\",\"Yes\",\"Yes\",\"Yes\",\"Yes\",\"Yes\",\"Yes\",\"Yes\",\"Yes\",\"Yes\",\"Yes\",\"Yes\",\"Yes\",\"Yes\",\"Yes\",\"Yes\",\"Yes\",\"Yes\",\"Yes\",\"Yes\",\"Yes\",\"Yes\",\"Yes\",\"Yes\",\"Yes\",\"Yes\",\"Yes\",\"Yes\",\"Yes\",\"Yes\",\"Yes\",\"Yes\",\"Yes\",\"Yes\",\"Yes\",\"Yes\",\"Yes\",\"Yes\",\"Yes\",\"Yes\",\"Yes\",\"Yes\",\"Yes\",\"Yes\",\"Yes\",\"Yes\",\"Yes\",\"Yes\",\"Yes\",\"Yes\",\"Yes\",\"Yes\",\"Yes\",\"Yes\",\"Yes\",\"Yes\",\"Yes\",\"Yes\",\"Yes\",\"Yes\",\"Yes\",\"Yes\",\"Yes\",\"Yes\",\"Yes\",\"Yes\",\"Yes\",\"Yes\",\"Yes\",\"Yes\",\"Yes\",\"Yes\",\"Yes\",\"Yes\",\"Yes\",\"Yes\",\"Yes\",\"Yes\",\"Yes\",\"Yes\",\"Yes\",\"Yes\",\"Yes\",\"Yes\",\"Yes\",\"Yes\",\"Yes\",\"Yes\",\"Yes\",\"Yes\",\"Yes\",\"Yes\",\"Yes\",\"Yes\",\"Yes\",\"Yes\",\"Yes\",\"Yes\",\"Yes\",\"Yes\",\"Yes\",\"Yes\",\"Yes\",\"Yes\",\"Yes\",\"Yes\",\"Yes\",\"Yes\",\"Yes\",\"Yes\",\"Yes\",\"Yes\",\"Yes\",\"Yes\",\"Yes\",\"Yes\",\"Yes\",\"Yes\",\"Yes\",\"Yes\",\"Yes\",\"Yes\",\"Yes\",\"Yes\",\"Yes\",\"Yes\",\"Yes\",\"Yes\",\"Yes\",\"Yes\",\"Yes\",\"Yes\",\"Yes\",\"Yes\",\"Yes\",\"Yes\",\"Yes\",\"Yes\",\"Yes\",\"Yes\",\"Yes\",\"Yes\",\"Yes\",\"Yes\",\"Yes\",\"Yes\",\"Yes\",\"Yes\",\"Yes\",\"Yes\",\"Yes\",\"Yes\",\"Yes\",\"Yes\",\"Yes\",\"Yes\",\"Yes\",\"Yes\",\"Yes\",\"Yes\",\"Yes\",\"Yes\",\"Yes\",\"Yes\",\"Yes\",\"Yes\",\"Yes\",\"Yes\",\"Yes\",\"Yes\",\"Yes\",\"Yes\",\"Yes\",\"Yes\",\"Yes\",\"Yes\",\"Yes\",\"Yes\",\"Yes\",\"Yes\",\"Yes\",\"Yes\",\"Yes\",\"Yes\",\"Yes\",\"Yes\",\"Yes\",\"Yes\",\"Yes\",\"Yes\",\"Yes\",\"Yes\",\"Yes\",\"Yes\",\"Yes\",\"Yes\",\"Yes\",\"Yes\",\"Yes\",\"Yes\",\"Yes\",\"Yes\",\"Yes\",\"Yes\",\"Yes\",\"Yes\",\"Yes\",\"Yes\",\"Yes\",\"Yes\",\"Yes\",\"Yes\",\"Yes\",\"Yes\",\"Yes\",\"Yes\",\"Yes\",\"Yes\",\"Yes\",\"Yes\",\"Yes\",\"Yes\",\"Yes\",\"Yes\",\"Yes\",\"Yes\",\"Yes\",\"Yes\",\"Yes\",\"Yes\",\"Yes\",\"Yes\",\"Yes\",\"Yes\",\"Yes\",\"Yes\",\"Yes\",\"Yes\",\"Yes\",\"Yes\",\"Yes\",\"Yes\",\"Yes\",\"Yes\",\"Yes\",\"Yes\",\"Yes\",\"Yes\",\"Yes\",\"Yes\",\"Yes\",\"Yes\",\"Yes\",\"Yes\",\"Yes\",\"Yes\",\"Yes\",\"Yes\",\"Yes\",\"Yes\",\"Yes\",\"Yes\",\"Yes\",\"Yes\",\"Yes\",\"Yes\",\"Yes\",\"Yes\",\"Yes\",\"Yes\",\"Yes\",\"Yes\",\"Yes\",\"Yes\",\"Yes\",\"Yes\",\"Yes\",\"Yes\",\"Yes\",\"Yes\",\"Yes\",\"Yes\",\"Yes\",\"Yes\",\"Yes\",\"Yes\",\"Yes\",\"Yes\",\"Yes\",\"Yes\",\"Yes\",\"Yes\",\"Yes\",\"Yes\",\"Yes\",\"Yes\",\"Yes\",\"Yes\",\"Yes\",\"Yes\",\"Yes\",\"Yes\",\"Yes\",\"Yes\",\"Yes\",\"Yes\",\"Yes\",\"Yes\",\"Yes\",\"Yes\",\"Yes\",\"Yes\",\"Yes\",\"Yes\",\"Yes\",\"Yes\",\"Yes\",\"Yes\",\"Yes\",\"Yes\",\"Yes\",\"Yes\",\"Yes\",\"Yes\",\"Yes\",\"Yes\",\"Yes\",\"Yes\",\"Yes\",\"Yes\",\"Yes\",\"Yes\",\"Yes\",\"Yes\",\"Yes\",\"Yes\",\"Yes\",\"Yes\",\"Yes\",\"Yes\",\"Yes\",\"Yes\",\"Yes\",\"Yes\",\"Yes\",\"Yes\",\"Yes\",\"Yes\",\"Yes\",\"Yes\",\"Yes\",\"Yes\",\"Yes\",\"Yes\",\"Yes\",\"Yes\",\"Yes\",\"Yes\",\"Yes\",\"Yes\",\"Yes\",\"Yes\",\"Yes\",\"Yes\",\"Yes\",\"Yes\",\"Yes\",\"Yes\",\"Yes\",\"Yes\",\"Yes\",\"Yes\",\"Yes\",\"Yes\",\"Yes\",\"Yes\",\"Yes\",\"Yes\",\"Yes\",\"Yes\",\"Yes\",\"Yes\",\"Yes\",\"Yes\",\"Yes\",\"Yes\",\"Yes\",\"Yes\",\"Yes\",\"Yes\",\"Yes\",\"Yes\",\"Yes\",\"Yes\",\"Yes\",\"Yes\",\"Yes\",\"Yes\",\"Yes\",\"Yes\",\"Yes\",\"Yes\",\"Yes\",\"Yes\",\"Yes\",\"Yes\",\"Yes\",\"Yes\",\"Yes\",\"Yes\",\"Yes\",\"Yes\",\"Yes\",\"Yes\",\"Yes\",\"Yes\",\"Yes\",\"Yes\",\"Yes\",\"Yes\",\"Yes\",\"Yes\",\"Yes\",\"Yes\",\"Yes\",\"Yes\",\"Yes\",\"Yes\",\"Yes\",\"Yes\",\"Yes\",\"Yes\",\"Yes\",\"Yes\",\"Yes\",\"Yes\",\"Yes\",\"Yes\",\"Yes\",\"Yes\",\"Yes\",\"Yes\",\"Yes\",\"Yes\",\"Yes\",\"Yes\",\"Yes\",\"Yes\",\"Yes\",\"Yes\",\"Yes\",\"Yes\",\"Yes\",\"Yes\",\"Yes\",\"Yes\",\"Yes\",\"Yes\",\"Yes\",\"Yes\",\"Yes\",\"Yes\",\"Yes\",\"Yes\",\"Yes\",\"Yes\",\"Yes\",\"Yes\",\"Yes\",\"Yes\",\"Yes\",\"Yes\",\"Yes\",\"Yes\",\"Yes\",\"Yes\",\"Yes\",\"Yes\",\"Yes\",\"Yes\",\"Yes\",\"Yes\",\"Yes\",\"Yes\",\"Yes\",\"Yes\",\"Yes\",\"Yes\",\"Yes\",\"Yes\",\"Yes\",\"Yes\",\"Yes\",\"Yes\",\"Yes\",\"Yes\",\"Yes\",\"Yes\",\"Yes\",\"Yes\",\"Yes\",\"Yes\",\"Yes\",\"Yes\",\"Yes\",\"Yes\",\"Yes\",\"Yes\",\"Yes\",\"Yes\",\"Yes\",\"Yes\",\"Yes\",\"Yes\",\"Yes\",\"Yes\",\"Yes\",\"Yes\",\"Yes\",\"Yes\",\"Yes\",\"Yes\",\"Yes\",\"Yes\",\"Yes\",\"Yes\",\"Yes\",\"Yes\",\"Yes\",\"Yes\",\"Yes\",\"Yes\",\"Yes\",\"Yes\",\"Yes\",\"Yes\",\"Yes\",\"Yes\",\"Yes\",\"Yes\",\"Yes\",\"Yes\",\"Yes\",\"Yes\",\"Yes\",\"Yes\",\"Yes\",\"Yes\",\"Yes\",\"Yes\",\"Yes\",\"Yes\",\"Yes\",\"Yes\",\"Yes\",\"Yes\",\"Yes\",\"Yes\",\"Yes\",\"Yes\",\"Yes\",\"Yes\",\"Yes\",\"Yes\",\"Yes\",\"Yes\",\"Yes\",\"Yes\",\"Yes\",\"Yes\",\"Yes\",\"Yes\",\"Yes\",\"Yes\",\"Yes\",\"Yes\",\"Yes\",\"Yes\",\"Yes\",\"Yes\",\"Yes\",\"Yes\",\"Yes\",\"Yes\",\"Yes\",\"Yes\",\"Yes\",\"Yes\",\"Yes\",\"Yes\",\"Yes\",\"Yes\",\"Yes\",\"Yes\",\"Yes\",\"Yes\",\"Yes\",\"Yes\",\"Yes\",\"Yes\",\"Yes\",\"Yes\",\"Yes\",\"Yes\",\"Yes\",\"Yes\",\"Yes\",\"Yes\",\"Yes\",\"Yes\",\"Yes\",\"Yes\",\"Yes\",\"Yes\",\"Yes\",\"Yes\",\"Yes\",\"Yes\",\"Yes\",\"Yes\",\"Yes\",\"Yes\",\"Yes\",\"Yes\",\"Yes\",\"Yes\",\"Yes\",\"Yes\",\"Yes\",\"Yes\",\"Yes\",\"Yes\",\"Yes\",\"Yes\",\"Yes\",\"Yes\",\"Yes\"],\"x0\":\" \",\"xaxis\":\"x\",\"y\":{\"dtype\":\"i2\",\"bdata\":\"GABOABIABgAGAAYAEgAMAB4AEgAMAAwABgAGACoABgAGAAYAEgASAAYABgBCABgAEgAqAB4ABgBgABIAHgAGAAYADAAGAAYADAAMAAYADACKAAwABgA8ABIABgB4ABIABgBaACoAGAAMAAYAVAAGAAYABgAMABgAKgAGAAYABgAGABgAKgASABgAEgAYADAAHgA8AAwAPABCACQAHgBsAAYABgAMAAwADAAGACoADABgABIAWgA8ABgADAAGABgABgASAAwAGAAGABIABgAGAAwABgAMAAYAEgASAGwADAASAJwApAEGADwABgAMAAwAHAIMAAwAhAAGABIADAAMAAwAPABmAAYAJAAwAB4APABUACQANgAMAAYABgAYAAwAHgASADAADAAMAAwAVAASABIAWgAYAAwATgAYAAYAQgBsAAwAZgAGAAYAGAAqABgAGAAMAIoADAAMAAwADAAGABgAbAA8ADYASAAGAAYADABOABgABgAGABgABgAYAFoADAAMAGwABgASAAYADAAwAAYAGAAGAAYADAAYABIABgBaABgAMAASAAYADAAGAFQAGABgABIABgBaAAYAEgA2ABIAJAASAB4ADABIAB4ADAASAGYADAAYAAYAPAAMABIADAAGAAYAPAAYAGwAGAAeADAABgA8AGYASAAeADwAGAASAB4AEgAYAAYAHgAMABgAWgAYAHIABgASAB4AGAA8AAYABgAGAAYAHgAMABIASAAGABgADAAMAB4ANgAqAAwABgAGAAYABgAYABgAaAEeAAwAGAAGAAwAGAAMAEIAEgByADYABgA8ABgABgAMADwABgAMAHgAMAAYABIAVAAMADAADAASAFoABgAMAAYAGABCAAYAOAESAAYAEgASAAwADAAGAB4ApAEeAAwAEgAGAAwADAAGAH4AEgAGAEgAMAAeAAwADAAMAAwAMAAYAEIAbAAGAE4ABgAGACoABgA8AAwATgASAAwAEgAkAAYADAAMAAwANgA8AAwABgAGAFoAJAAGAAwABgASAAwABgAMALQAEgAMAB4ABgASAGAASAAGAAYADAAMAAYAHgCkAQYABgB4ADYAMAA8ABIAGAAkAFoAeAAeAAYAEgASAAYABgBIAAwABgA2AAwAJAAeABgABgAMABgAJAAGAAYAJAAGAB4ABgAkADwABgAGAAYADAAGAAwABgAYACQABgAMAAwAHgAkAB4AEgAeABIAKgAGAAYAKgAGACQAQgAGAAYABgB4ABgABgASACQAPAAMAAwABgASAAYAEgAYAAYAHgAGAAwADAD2ALwBDAAeAAYABgAGABgA3gASAB4ABgAkABgANgDwAEgABgAGAB4AEgAMABgAGAAMAEgAEgAMAAwAEgBIABgABgAGAJAABgAwAAYAKgAMAAwADAAGAB4ABgAkABgAEgAGAAYADAAGADwABgAMAB4AWgAMAAYAHgAYADwADABsABIABgAMAAYADAAeAAYADAA2ACQAGAAGAB4AGAAqAAYAMAAeAAwABgAMADAASAAGAAYAWgAGAB4ABgAGAEIAPAAkABgAEgAeACoABgAGAAwABgAGAEgANgBsAAwABgAGABIAGAAeAAYABgAGAAYAEgASABgAEgAGABgAGAAGAAYABgAeAAYAJAAMABgAJAAYABgANgAMABgAtAA2AAYAEgAGABgADAAMACoABgAGAAwAHgAkALQADABIAAwABgAkAAwABgASAB4AKgAGAAwASAAGAAYABgBUADYABgAMAJYABgAGAAYAEgAYABIABgAMABIABgAGAAwAJAAMAAwANgAGAAwABgAGAB4AEgAGAAYAEgAqAAYAJAASAAwAJAAYAEgAGAAGABIABgAGAHgADAAYAAYADgEGABIADAASAAwATgAGAAYAJABUABIADAAGAAYAHgASABgASAA8AB4AKgAMAAwADAAMADwADABmAAYAHgAMADwAHgAMAE4AQgAMAFQADAAGADwADAAMAAwATgAGABIAEgAGAAYABgAMABgABgAkAB4AxgAGAB4ANgAGAAYADAAGAB4AWgBIAPAABgAGAGAANgBOAE4ABgAkADwABgAeABgADAAqAAYASgEGAAwAZgAMAAYADAAMAAYAHgAYAAwADAASABIAMAAGABgANgAGAAYAGAAGAAwADAAGADAAHgAMAAYABgAGAEgADAAqABgAJAASAAYABgBmAAYAJAAMADwADABCABIAPAAGAAYAEgAGAFoABgAMABIAMAAYAAwABgAGAAYAGAASADwABgBaABgAEgAGAB4ABgAwABgAEgAYAEgABgBIAAYAEgAwAE4AGAAMABIABgAeAEgAGAAMACQAKgAGADYABgAMAAwADAAGAHgAEgAkAB4ABgAMABIAEgAMAAYABgAeAAwAKgBaADAAEgCGAQYANgA8AFoABgASAAYApAESAAwAGAAMAAYADAAGABIAEgASAHgAMABmAAwAEgAGAFQAJADSABgABgAMAAYABgAqAAYABgAMAEIABgASAAYAHgAMAAYABgASAEgAEgAMAB4ADAAMABgABgAGAAYABgBgAAwABgAeAAwAEgAwAAYABgAYAAwAJAA2ABgAGAAGAAgBGAASAEIAKgASAAYABgAkAAwAkAAeAAYAGAAYACoADABmABIAGAASAB4AtABUACQADAASAAwABgASADAADAAGAAYADAAkAAwAQgA8ABIADAAGABgAPAAkAAYABgAeAAwAwgEGABIASAAGAAwABgBgABIABgBIABgABgAGABgABgAGAFoABgAGAAYABgAYADYAPAAeAAwABgAkABIAEgAeAAwAEgAGABgANgASAAYANgAMAB4A4AHAAAYAMAASABIADAA8AAYAEgBIAB4AEgAMAGYAPAASAAYASAAGAAwAGABIABIABgAMAAYABgAGAAwAGAAeAAwAKgAMAAYABgAYABgADABOADAABgAYAAYAGAAGAOQADAA8ALoAJAAYABgABgAkAB4AEgAGAGYABgAkAJwAGABCACQAcgAGAB4ADAAMAAYABgAeAAYAMAAGAB4ABgAMAAwADAAeAAwAfgAMAAwABgAGABIAEgAGAAYAEgAYAAYAHgAMAFoAZgAGAAYABgAMAAYAKgAYAB4AJAAGAAYADABaAAYAEgASAAYAGAAMAFoABgAMAAYAwAAYAAYAEgBCABIAEgCEAB4AEgAGAAYABgAeAAYAJAAGADAAPABCABgAEgBOAAYABgAMAAYABgA8ADAADAASADAAJABaABIABgASAAwADAAMAAYABgAkAAYADAASAAYABgAeAAYAGAAYAAYAEgAMABIADAAGABgAKgAYABIABgAGAAYABgBCABIAHgAYAB4AEgAGABIABgBOAAYAhgEGAB4AEgASADYABgASADAAHgAGAB4AGAAGAAYAHgAeAAYAEgAYAE4ADAAGAAYAEgASAAwAEgAYACoABgBCAIQADAAqAAYABgBaAAwAWgAGAAYAWgAMAEgAQgAGAB4AeAAMAAwAqAAOAQYABgAGAAYABgAGAEgABgCuAAYADAAGAFoAGABUAAwABgASAAwAPAAYAEgABgByABIABgAMAAwAEgAYAAwABgAMACQAGAA2AAYABgAMAB4AQgAGAB4ABgAGAAwAGAASAB4ADAA2AAYAEgBgAAYABgA8ADwABgASAAYABgAMAFQAMAAGADwAHgAGABIASABIAAwAGAAqAEIAeAAYAAwADABUAAYAEgASAAwAVAAMAAYADAASAAYADAASAAYAGABCAAYAfgAMAAwAGAAeAEgABgAYABIADAAYACQABgAGAAwAGAAGAAYABgAMABIAlgAkAAwAGAAMACQAEgAMAAYAGAAMAB4AMAAMAAwABgBmAAYAogAGABIAHgAeAAYABgAGAAYADAAkAAYAPAA8AEgAHgAGAB4AKgAGAB4AEgAGAAwADAAYAB4AGAAwABIABgAMACoAPAAGAAwABgAMAHIAGAASABIABgAMAH4ABgBUABIADABsAFoABgASAB4A8AAMABIAZgBKARIAigAMAE4ANgAkAEIADAAYAB4AMAAeABgAGAASAGgBGAA2AFoAEgCEADAABgBIAB4ABgAMABIADABaABIAEgAYAE4ASAAGAAYAEgASAAwABgASAEgAEgBsAB4ABgA8ABIABgCEAAYAEgBaABIAEgAeABgAEgBmACQABgA8AHgAGAAMAAYABgASACQAEgAeAAwADAAMAAYAGAAeAGwADAAMAB4ABgAGAAYABgAGAAYABgASABIAHgAGAAYABgBgAAYADAAeAAwAGAAGAAYAHgAwAAwAhgEGADwABgAeACQAEgAMAJwAMAAMAAwAGAAMADwANgAGAE4AcgAMABgADAASABgADAAGAAYAkAA8ABIADAA8AEgADAAkACQAQgAYABIAJAAGAEgAKgAeAB4ABgAGAAYADAAGAGAABgASAAYAlgAGAEgABgAGADYABgAGAMIBBgA8AB4AeAASAAYAPAAGABwCQgC0AAYASAAkAEIABgAGAAYAEgAGAB4ADAAMABgAJAAMADwADAAMADwAhACKAAwAHgAGAAYADAAGAJYAYAA8AH4AMAAwACQAEgAGACoAcgAMAAYAMAAMAAYABgAkACoAHgAYANACHAJsAGwAbABsAGYAVABOAEgAQgAGAAYABgAGAAYABgAGAAYABgAGAAYABgAGAAYABgAGAA==\"},\"y0\":\" \",\"yaxis\":\"y\",\"type\":\"box\"},{\"alignmentgroup\":\"True\",\"hovertemplate\":\"charged=%{x}\\u003cbr\\u003eworked_minutes=%{y}\\u003cextra\\u003e\\u003c\\u002fextra\\u003e\",\"legendgroup\":\"No\",\"marker\":{\"color\":\"#EF553B\"},\"name\":\"No\",\"notched\":false,\"offsetgroup\":\"No\",\"orientation\":\"v\",\"showlegend\":true,\"x\":[\"No\",\"No\",\"No\",\"No\",\"No\",\"No\",\"No\",\"No\",\"No\",\"No\",\"No\",\"No\",\"No\",\"No\",\"No\",\"No\",\"No\",\"No\",\"No\",\"No\",\"No\",\"No\",\"No\",\"No\",\"No\",\"No\",\"No\",\"No\",\"No\",\"No\",\"No\",\"No\",\"No\",\"No\",\"No\",\"No\",\"No\",\"No\",\"No\",\"No\",\"No\",\"No\",\"No\",\"No\",\"No\",\"No\",\"No\",\"No\",\"No\",\"No\",\"No\",\"No\",\"No\",\"No\",\"No\",\"No\",\"No\",\"No\",\"No\",\"No\",\"No\",\"No\",\"No\",\"No\",\"No\",\"No\",\"No\",\"No\",\"No\",\"No\",\"No\",\"No\",\"No\",\"No\",\"No\",\"No\",\"No\",\"No\",\"No\",\"No\",\"No\",\"No\",\"No\",\"No\",\"No\",\"No\",\"No\",\"No\",\"No\",\"No\",\"No\",\"No\",\"No\",\"No\",\"No\",\"No\",\"No\",\"No\",\"No\",\"No\",\"No\",\"No\",\"No\",\"No\",\"No\",\"No\",\"No\",\"No\",\"No\",\"No\",\"No\",\"No\",\"No\",\"No\",\"No\",\"No\",\"No\",\"No\",\"No\",\"No\",\"No\",\"No\",\"No\",\"No\",\"No\",\"No\",\"No\",\"No\",\"No\",\"No\",\"No\",\"No\",\"No\",\"No\",\"No\",\"No\",\"No\",\"No\",\"No\",\"No\",\"No\",\"No\",\"No\",\"No\",\"No\",\"No\",\"No\",\"No\",\"No\",\"No\",\"No\",\"No\",\"No\",\"No\",\"No\",\"No\",\"No\",\"No\",\"No\",\"No\",\"No\",\"No\",\"No\",\"No\",\"No\",\"No\",\"No\",\"No\",\"No\",\"No\",\"No\",\"No\",\"No\",\"No\",\"No\",\"No\",\"No\",\"No\",\"No\",\"No\",\"No\",\"No\",\"No\",\"No\",\"No\",\"No\",\"No\",\"No\",\"No\",\"No\",\"No\",\"No\",\"No\",\"No\",\"No\",\"No\",\"No\",\"No\",\"No\",\"No\",\"No\",\"No\",\"No\",\"No\",\"No\",\"No\",\"No\",\"No\",\"No\",\"No\",\"No\",\"No\",\"No\",\"No\",\"No\",\"No\",\"No\",\"No\",\"No\",\"No\",\"No\",\"No\",\"No\",\"No\",\"No\",\"No\",\"No\",\"No\",\"No\",\"No\",\"No\",\"No\",\"No\",\"No\",\"No\",\"No\",\"No\",\"No\",\"No\",\"No\",\"No\",\"No\",\"No\",\"No\",\"No\",\"No\",\"No\",\"No\",\"No\",\"No\",\"No\",\"No\",\"No\",\"No\",\"No\",\"No\",\"No\",\"No\",\"No\",\"No\",\"No\",\"No\",\"No\",\"No\",\"No\",\"No\",\"No\",\"No\",\"No\",\"No\",\"No\",\"No\",\"No\",\"No\",\"No\",\"No\",\"No\",\"No\",\"No\",\"No\",\"No\",\"No\",\"No\",\"No\",\"No\",\"No\",\"No\",\"No\",\"No\",\"No\",\"No\",\"No\",\"No\",\"No\",\"No\",\"No\",\"No\",\"No\",\"No\",\"No\",\"No\",\"No\",\"No\",\"No\",\"No\",\"No\",\"No\",\"No\",\"No\",\"No\",\"No\",\"No\",\"No\",\"No\",\"No\",\"No\",\"No\",\"No\",\"No\",\"No\",\"No\",\"No\",\"No\",\"No\",\"No\",\"No\",\"No\",\"No\",\"No\",\"No\",\"No\",\"No\",\"No\",\"No\",\"No\",\"No\",\"No\",\"No\",\"No\",\"No\",\"No\",\"No\",\"No\",\"No\",\"No\",\"No\",\"No\",\"No\",\"No\",\"No\",\"No\",\"No\",\"No\",\"No\",\"No\",\"No\",\"No\",\"No\",\"No\",\"No\",\"No\",\"No\",\"No\",\"No\",\"No\",\"No\",\"No\",\"No\",\"No\",\"No\",\"No\",\"No\",\"No\",\"No\",\"No\",\"No\",\"No\",\"No\",\"No\"],\"x0\":\" \",\"xaxis\":\"x\",\"y\":{\"dtype\":\"i2\",\"bdata\":\"BgAqABgAMAAeAB4ANgAqABIAEgAwAB4ASAAGABgAGAAMAAYAKgA2ACQAJAAeACoAPAA8ACQADAAkAAwANgAeAAwADAAkACoAPAAGABIAPABIABgAPAAYADwAJAAMABIADAASADwAGAAGACQAEgAqAB4ATgA8ADYAPAAeAAwASAAYAAYAMAAYADAAGABIABgAPAAeADwAHgAGABgAHgAeAAwApAEkAAwAKgA8AJYADABCACQAEgAYAB4AMAAGAB4AVAAqAAwAJAASABIABgAeABIADAA2ADAABgAYAAYAHgAqADwADAC0ADAAWgBIAAYAlgAYABgAPAA8AAYATgAMAAYAMAA2ABIAPAAGABIAKgBaAAwAPAAYACoAEgAeAAYAMAAMABIABgAGAAYAMAAGACQAJAAMAAYAPAA8ACoABgASANIAPAAeAB4APAAGABgAPAAGACQASAAMABgADAAMADYAKgAYAAYABgAMAAwABgBCAMYADAA8ADAAHgB4AB4ABgAMADwAHgA2AAwAGAAYAEIAMAA2ABgAGAAwAFQAEgAMADwAEgAGAB4AMAAGALQABgA2AMIBBgAMADYASABIAB4AYAAwAB4AHgAGABIAHgAMAAwAGABgABIAQgA8ABIAEgA2ACQAGAAeAJYAHgAYACQABgAkAAwAHgAGACoAWgA8ADwAHgASACQAGAAeAB4AEgAeABIAGAAGAAYADAAqACQANgAGAAYAEgByACoAJABIAB4ADAAeABIADAAMAAwAHgAeAAwAEgBCAB4ABgAwADYAPAAGACoAPAAeABIAKgAeABIAKgAeAAYAHgAGACoAPAA2AAwA8AASAAwABgDCARIABgAqAAYAGAA8AB4AJABCADAAEgAGABIAQgASAAYAEgAeABgADABCAAwAMAA8AB4AEgAGAIQAKgAGACoAPAAqADYADAASAAYADAASAAwADAAkAAwAEgASACQAMAC0ACQAGAAeADwArgAMAAYABgAMAFoABgA=\"},\"y0\":\" \",\"yaxis\":\"y\",\"type\":\"box\"}],                        {\"template\":{\"data\":{\"barpolar\":[{\"marker\":{\"line\":{\"color\":\"white\",\"width\":0.5},\"pattern\":{\"fillmode\":\"overlay\",\"size\":10,\"solidity\":0.2}},\"type\":\"barpolar\"}],\"bar\":[{\"error_x\":{\"color\":\"rgb(36,36,36)\"},\"error_y\":{\"color\":\"rgb(36,36,36)\"},\"marker\":{\"line\":{\"color\":\"white\",\"width\":0.5},\"pattern\":{\"fillmode\":\"overlay\",\"size\":10,\"solidity\":0.2}},\"type\":\"bar\"}],\"carpet\":[{\"aaxis\":{\"endlinecolor\":\"rgb(36,36,36)\",\"gridcolor\":\"white\",\"linecolor\":\"white\",\"minorgridcolor\":\"white\",\"startlinecolor\":\"rgb(36,36,36)\"},\"baxis\":{\"endlinecolor\":\"rgb(36,36,36)\",\"gridcolor\":\"white\",\"linecolor\":\"white\",\"minorgridcolor\":\"white\",\"startlinecolor\":\"rgb(36,36,36)\"},\"type\":\"carpet\"}],\"choropleth\":[{\"colorbar\":{\"outlinewidth\":1,\"tickcolor\":\"rgb(36,36,36)\",\"ticks\":\"outside\"},\"type\":\"choropleth\"}],\"contourcarpet\":[{\"colorbar\":{\"outlinewidth\":1,\"tickcolor\":\"rgb(36,36,36)\",\"ticks\":\"outside\"},\"type\":\"contourcarpet\"}],\"contour\":[{\"colorbar\":{\"outlinewidth\":1,\"tickcolor\":\"rgb(36,36,36)\",\"ticks\":\"outside\"},\"colorscale\":[[0.0,\"#440154\"],[0.1111111111111111,\"#482878\"],[0.2222222222222222,\"#3e4989\"],[0.3333333333333333,\"#31688e\"],[0.4444444444444444,\"#26828e\"],[0.5555555555555556,\"#1f9e89\"],[0.6666666666666666,\"#35b779\"],[0.7777777777777778,\"#6ece58\"],[0.8888888888888888,\"#b5de2b\"],[1.0,\"#fde725\"]],\"type\":\"contour\"}],\"heatmap\":[{\"colorbar\":{\"outlinewidth\":1,\"tickcolor\":\"rgb(36,36,36)\",\"ticks\":\"outside\"},\"colorscale\":[[0.0,\"#440154\"],[0.1111111111111111,\"#482878\"],[0.2222222222222222,\"#3e4989\"],[0.3333333333333333,\"#31688e\"],[0.4444444444444444,\"#26828e\"],[0.5555555555555556,\"#1f9e89\"],[0.6666666666666666,\"#35b779\"],[0.7777777777777778,\"#6ece58\"],[0.8888888888888888,\"#b5de2b\"],[1.0,\"#fde725\"]],\"type\":\"heatmap\"}],\"histogram2dcontour\":[{\"colorbar\":{\"outlinewidth\":1,\"tickcolor\":\"rgb(36,36,36)\",\"ticks\":\"outside\"},\"colorscale\":[[0.0,\"#440154\"],[0.1111111111111111,\"#482878\"],[0.2222222222222222,\"#3e4989\"],[0.3333333333333333,\"#31688e\"],[0.4444444444444444,\"#26828e\"],[0.5555555555555556,\"#1f9e89\"],[0.6666666666666666,\"#35b779\"],[0.7777777777777778,\"#6ece58\"],[0.8888888888888888,\"#b5de2b\"],[1.0,\"#fde725\"]],\"type\":\"histogram2dcontour\"}],\"histogram2d\":[{\"colorbar\":{\"outlinewidth\":1,\"tickcolor\":\"rgb(36,36,36)\",\"ticks\":\"outside\"},\"colorscale\":[[0.0,\"#440154\"],[0.1111111111111111,\"#482878\"],[0.2222222222222222,\"#3e4989\"],[0.3333333333333333,\"#31688e\"],[0.4444444444444444,\"#26828e\"],[0.5555555555555556,\"#1f9e89\"],[0.6666666666666666,\"#35b779\"],[0.7777777777777778,\"#6ece58\"],[0.8888888888888888,\"#b5de2b\"],[1.0,\"#fde725\"]],\"type\":\"histogram2d\"}],\"histogram\":[{\"marker\":{\"line\":{\"color\":\"white\",\"width\":0.6}},\"type\":\"histogram\"}],\"mesh3d\":[{\"colorbar\":{\"outlinewidth\":1,\"tickcolor\":\"rgb(36,36,36)\",\"ticks\":\"outside\"},\"type\":\"mesh3d\"}],\"parcoords\":[{\"line\":{\"colorbar\":{\"outlinewidth\":1,\"tickcolor\":\"rgb(36,36,36)\",\"ticks\":\"outside\"}},\"type\":\"parcoords\"}],\"pie\":[{\"automargin\":true,\"type\":\"pie\"}],\"scatter3d\":[{\"line\":{\"colorbar\":{\"outlinewidth\":1,\"tickcolor\":\"rgb(36,36,36)\",\"ticks\":\"outside\"}},\"marker\":{\"colorbar\":{\"outlinewidth\":1,\"tickcolor\":\"rgb(36,36,36)\",\"ticks\":\"outside\"}},\"type\":\"scatter3d\"}],\"scattercarpet\":[{\"marker\":{\"colorbar\":{\"outlinewidth\":1,\"tickcolor\":\"rgb(36,36,36)\",\"ticks\":\"outside\"}},\"type\":\"scattercarpet\"}],\"scattergeo\":[{\"marker\":{\"colorbar\":{\"outlinewidth\":1,\"tickcolor\":\"rgb(36,36,36)\",\"ticks\":\"outside\"}},\"type\":\"scattergeo\"}],\"scattergl\":[{\"marker\":{\"colorbar\":{\"outlinewidth\":1,\"tickcolor\":\"rgb(36,36,36)\",\"ticks\":\"outside\"}},\"type\":\"scattergl\"}],\"scattermapbox\":[{\"marker\":{\"colorbar\":{\"outlinewidth\":1,\"tickcolor\":\"rgb(36,36,36)\",\"ticks\":\"outside\"}},\"type\":\"scattermapbox\"}],\"scattermap\":[{\"marker\":{\"colorbar\":{\"outlinewidth\":1,\"tickcolor\":\"rgb(36,36,36)\",\"ticks\":\"outside\"}},\"type\":\"scattermap\"}],\"scatterpolargl\":[{\"marker\":{\"colorbar\":{\"outlinewidth\":1,\"tickcolor\":\"rgb(36,36,36)\",\"ticks\":\"outside\"}},\"type\":\"scatterpolargl\"}],\"scatterpolar\":[{\"marker\":{\"colorbar\":{\"outlinewidth\":1,\"tickcolor\":\"rgb(36,36,36)\",\"ticks\":\"outside\"}},\"type\":\"scatterpolar\"}],\"scatter\":[{\"fillpattern\":{\"fillmode\":\"overlay\",\"size\":10,\"solidity\":0.2},\"type\":\"scatter\"}],\"scatterternary\":[{\"marker\":{\"colorbar\":{\"outlinewidth\":1,\"tickcolor\":\"rgb(36,36,36)\",\"ticks\":\"outside\"}},\"type\":\"scatterternary\"}],\"surface\":[{\"colorbar\":{\"outlinewidth\":1,\"tickcolor\":\"rgb(36,36,36)\",\"ticks\":\"outside\"},\"colorscale\":[[0.0,\"#440154\"],[0.1111111111111111,\"#482878\"],[0.2222222222222222,\"#3e4989\"],[0.3333333333333333,\"#31688e\"],[0.4444444444444444,\"#26828e\"],[0.5555555555555556,\"#1f9e89\"],[0.6666666666666666,\"#35b779\"],[0.7777777777777778,\"#6ece58\"],[0.8888888888888888,\"#b5de2b\"],[1.0,\"#fde725\"]],\"type\":\"surface\"}],\"table\":[{\"cells\":{\"fill\":{\"color\":\"rgb(237,237,237)\"},\"line\":{\"color\":\"white\"}},\"header\":{\"fill\":{\"color\":\"rgb(217,217,217)\"},\"line\":{\"color\":\"white\"}},\"type\":\"table\"}]},\"layout\":{\"annotationdefaults\":{\"arrowhead\":0,\"arrowwidth\":1},\"autotypenumbers\":\"strict\",\"coloraxis\":{\"colorbar\":{\"outlinewidth\":1,\"tickcolor\":\"rgb(36,36,36)\",\"ticks\":\"outside\"}},\"colorscale\":{\"diverging\":[[0.0,\"rgb(103,0,31)\"],[0.1,\"rgb(178,24,43)\"],[0.2,\"rgb(214,96,77)\"],[0.3,\"rgb(244,165,130)\"],[0.4,\"rgb(253,219,199)\"],[0.5,\"rgb(247,247,247)\"],[0.6,\"rgb(209,229,240)\"],[0.7,\"rgb(146,197,222)\"],[0.8,\"rgb(67,147,195)\"],[0.9,\"rgb(33,102,172)\"],[1.0,\"rgb(5,48,97)\"]],\"sequential\":[[0.0,\"#440154\"],[0.1111111111111111,\"#482878\"],[0.2222222222222222,\"#3e4989\"],[0.3333333333333333,\"#31688e\"],[0.4444444444444444,\"#26828e\"],[0.5555555555555556,\"#1f9e89\"],[0.6666666666666666,\"#35b779\"],[0.7777777777777778,\"#6ece58\"],[0.8888888888888888,\"#b5de2b\"],[1.0,\"#fde725\"]],\"sequentialminus\":[[0.0,\"#440154\"],[0.1111111111111111,\"#482878\"],[0.2222222222222222,\"#3e4989\"],[0.3333333333333333,\"#31688e\"],[0.4444444444444444,\"#26828e\"],[0.5555555555555556,\"#1f9e89\"],[0.6666666666666666,\"#35b779\"],[0.7777777777777778,\"#6ece58\"],[0.8888888888888888,\"#b5de2b\"],[1.0,\"#fde725\"]]},\"colorway\":[\"#1F77B4\",\"#FF7F0E\",\"#2CA02C\",\"#D62728\",\"#9467BD\",\"#8C564B\",\"#E377C2\",\"#7F7F7F\",\"#BCBD22\",\"#17BECF\"],\"font\":{\"color\":\"rgb(36,36,36)\"},\"geo\":{\"bgcolor\":\"white\",\"lakecolor\":\"white\",\"landcolor\":\"white\",\"showlakes\":true,\"showland\":true,\"subunitcolor\":\"white\"},\"hoverlabel\":{\"align\":\"left\"},\"hovermode\":\"closest\",\"mapbox\":{\"style\":\"light\"},\"paper_bgcolor\":\"white\",\"plot_bgcolor\":\"white\",\"polar\":{\"angularaxis\":{\"gridcolor\":\"rgb(232,232,232)\",\"linecolor\":\"rgb(36,36,36)\",\"showgrid\":false,\"showline\":true,\"ticks\":\"outside\"},\"bgcolor\":\"white\",\"radialaxis\":{\"gridcolor\":\"rgb(232,232,232)\",\"linecolor\":\"rgb(36,36,36)\",\"showgrid\":false,\"showline\":true,\"ticks\":\"outside\"}},\"scene\":{\"xaxis\":{\"backgroundcolor\":\"white\",\"gridcolor\":\"rgb(232,232,232)\",\"gridwidth\":2,\"linecolor\":\"rgb(36,36,36)\",\"showbackground\":true,\"showgrid\":false,\"showline\":true,\"ticks\":\"outside\",\"zeroline\":false,\"zerolinecolor\":\"rgb(36,36,36)\"},\"yaxis\":{\"backgroundcolor\":\"white\",\"gridcolor\":\"rgb(232,232,232)\",\"gridwidth\":2,\"linecolor\":\"rgb(36,36,36)\",\"showbackground\":true,\"showgrid\":false,\"showline\":true,\"ticks\":\"outside\",\"zeroline\":false,\"zerolinecolor\":\"rgb(36,36,36)\"},\"zaxis\":{\"backgroundcolor\":\"white\",\"gridcolor\":\"rgb(232,232,232)\",\"gridwidth\":2,\"linecolor\":\"rgb(36,36,36)\",\"showbackground\":true,\"showgrid\":false,\"showline\":true,\"ticks\":\"outside\",\"zeroline\":false,\"zerolinecolor\":\"rgb(36,36,36)\"}},\"shapedefaults\":{\"fillcolor\":\"black\",\"line\":{\"width\":0},\"opacity\":0.3},\"ternary\":{\"aaxis\":{\"gridcolor\":\"rgb(232,232,232)\",\"linecolor\":\"rgb(36,36,36)\",\"showgrid\":false,\"showline\":true,\"ticks\":\"outside\"},\"baxis\":{\"gridcolor\":\"rgb(232,232,232)\",\"linecolor\":\"rgb(36,36,36)\",\"showgrid\":false,\"showline\":true,\"ticks\":\"outside\"},\"bgcolor\":\"white\",\"caxis\":{\"gridcolor\":\"rgb(232,232,232)\",\"linecolor\":\"rgb(36,36,36)\",\"showgrid\":false,\"showline\":true,\"ticks\":\"outside\"}},\"title\":{\"x\":0.05},\"xaxis\":{\"automargin\":true,\"gridcolor\":\"rgb(232,232,232)\",\"linecolor\":\"rgb(36,36,36)\",\"showgrid\":false,\"showline\":true,\"ticks\":\"outside\",\"title\":{\"standoff\":15},\"zeroline\":false,\"zerolinecolor\":\"rgb(36,36,36)\"},\"yaxis\":{\"automargin\":true,\"gridcolor\":\"rgb(232,232,232)\",\"linecolor\":\"rgb(36,36,36)\",\"showgrid\":false,\"showline\":true,\"ticks\":\"outside\",\"title\":{\"standoff\":15},\"zeroline\":false,\"zerolinecolor\":\"rgb(36,36,36)\"}}},\"xaxis\":{\"anchor\":\"y\",\"domain\":[0.0,1.0],\"title\":{},\"categoryorder\":\"array\",\"categoryarray\":[\"Yes\",\"No\"]},\"yaxis\":{\"anchor\":\"x\",\"domain\":[0.0,1.0],\"title\":{\"text\":\"Minutes\"}},\"legend\":{\"title\":{\"text\":\"charged\"},\"tracegroupgap\":0},\"title\":{\"text\":\"Worked minutes vs Charged?\"},\"boxmode\":\"overlay\"},                        {\"responsive\": true}                    ).then(function(){\n",
       "                            \n",
       "var gd = document.getElementById('e5078023-aecd-47d0-8df6-c0d31fcd0417');\n",
       "var x = new MutationObserver(function (mutations, observer) {{\n",
       "        var display = window.getComputedStyle(gd).display;\n",
       "        if (!display || display === 'none') {{\n",
       "            console.log([gd, 'removed!']);\n",
       "            Plotly.purge(gd);\n",
       "            observer.disconnect();\n",
       "        }}\n",
       "}});\n",
       "\n",
       "// Listen for the removal of the full notebook cells\n",
       "var notebookContainer = gd.closest('#notebook-container');\n",
       "if (notebookContainer) {{\n",
       "    x.observe(notebookContainer, {childList: true});\n",
       "}}\n",
       "\n",
       "// Listen for the clearing of the current output cell\n",
       "var outputEl = gd.closest('.output');\n",
       "if (outputEl) {{\n",
       "    x.observe(outputEl, {childList: true});\n",
       "}}\n",
       "\n",
       "                        })                };            </script>        </div>"
      ]
     },
     "metadata": {},
     "output_type": "display_data"
    }
   ],
   "source": [
    "df[\"worked_minutes\"] = (df[\"Worked Time\"] * 60).round(0).astype(int)\n",
    "\n",
    "df[\"worked_min_bucket6\"] = ((df[\"worked_minutes\"] / 6).round().astype(int) * 6).astype(int)\n",
    "\n",
    "dfv = df.assign(charged=df[\"Charged to Client?\"].str.upper().map({\"YES\": \"Yes\", \"NO\": \"No\"}))\n",
    "fig = px.box(\n",
    "    dfv, x=\"charged\", y=\"worked_minutes\", color=\"charged\",\n",
    "    title=\"Worked minutes vs Charged?\"\n",
    ")\n",
    "fig.update_layout(template=\"simple_white\", xaxis_title=None, yaxis_title=\"Minutes\")\n",
    "fig.show()"
   ]
  },
  {
   "cell_type": "code",
   "execution_count": 42,
   "id": "a18a05db",
   "metadata": {},
   "outputs": [
    {
     "data": {
      "application/vnd.microsoft.datawrangler.viewer.v0+json": {
       "columns": [
        {
         "name": "charged",
         "rawType": "object",
         "type": "string"
        },
        {
         "name": "count",
         "rawType": "int64",
         "type": "integer"
        },
        {
         "name": "median",
         "rawType": "float64",
         "type": "float"
        },
        {
         "name": "mean",
         "rawType": "float64",
         "type": "float"
        }
       ],
       "ref": "98380425-b014-4bb9-9c17-e4360ae1ee04",
       "rows": [
        [
         "No",
         "379",
         "30.0",
         "39.593667546174146"
        ],
        [
         "Yes",
         "1778",
         "18.0",
         "35.0044994375703"
        ]
       ],
       "shape": {
        "columns": 3,
        "rows": 2
       }
      },
      "text/html": [
       "<div>\n",
       "<style scoped>\n",
       "    .dataframe tbody tr th:only-of-type {\n",
       "        vertical-align: middle;\n",
       "    }\n",
       "\n",
       "    .dataframe tbody tr th {\n",
       "        vertical-align: top;\n",
       "    }\n",
       "\n",
       "    .dataframe thead th {\n",
       "        text-align: right;\n",
       "    }\n",
       "</style>\n",
       "<table border=\"1\" class=\"dataframe\">\n",
       "  <thead>\n",
       "    <tr style=\"text-align: right;\">\n",
       "      <th></th>\n",
       "      <th>count</th>\n",
       "      <th>median</th>\n",
       "      <th>mean</th>\n",
       "    </tr>\n",
       "    <tr>\n",
       "      <th>charged</th>\n",
       "      <th></th>\n",
       "      <th></th>\n",
       "      <th></th>\n",
       "    </tr>\n",
       "  </thead>\n",
       "  <tbody>\n",
       "    <tr>\n",
       "      <th>No</th>\n",
       "      <td>379</td>\n",
       "      <td>30.0</td>\n",
       "      <td>39.593668</td>\n",
       "    </tr>\n",
       "    <tr>\n",
       "      <th>Yes</th>\n",
       "      <td>1778</td>\n",
       "      <td>18.0</td>\n",
       "      <td>35.004499</td>\n",
       "    </tr>\n",
       "  </tbody>\n",
       "</table>\n",
       "</div>"
      ],
      "text/plain": [
       "         count  median       mean\n",
       "charged                          \n",
       "No         379    30.0  39.593668\n",
       "Yes       1778    18.0  35.004499"
      ]
     },
     "execution_count": 42,
     "metadata": {},
     "output_type": "execute_result"
    }
   ],
   "source": [
    "dfv.groupby(\"charged\")[\"worked_minutes\"].agg(count=\"size\", median=\"median\", mean=\"mean\")"
   ]
  },
  {
   "cell_type": "markdown",
   "id": "5a7f0c91",
   "metadata": {},
   "source": [
    "## “Leak rate”: non-billable share among long sessions (≥ 60 min)"
   ]
  },
  {
   "cell_type": "code",
   "execution_count": 43,
   "id": "ae4dab67",
   "metadata": {},
   "outputs": [
    {
     "data": {
      "application/vnd.microsoft.datawrangler.viewer.v0+json": {
       "columns": [
        {
         "name": "index",
         "rawType": "int64",
         "type": "integer"
        },
        {
         "name": "charged",
         "rawType": "object",
         "type": "string"
        },
        {
         "name": "rows",
         "rawType": "int64",
         "type": "integer"
        },
        {
         "name": "share_%",
         "rawType": "float64",
         "type": "float"
        }
       ],
       "ref": "26b945ee-1b79-416c-8d69-aae2d11c68de",
       "rows": [
        [
         "0",
         "No",
         "78",
         "19.5"
        ],
        [
         "1",
         "Yes",
         "321",
         "80.5"
        ]
       ],
       "shape": {
        "columns": 3,
        "rows": 2
       }
      },
      "text/html": [
       "<div>\n",
       "<style scoped>\n",
       "    .dataframe tbody tr th:only-of-type {\n",
       "        vertical-align: middle;\n",
       "    }\n",
       "\n",
       "    .dataframe tbody tr th {\n",
       "        vertical-align: top;\n",
       "    }\n",
       "\n",
       "    .dataframe thead th {\n",
       "        text-align: right;\n",
       "    }\n",
       "</style>\n",
       "<table border=\"1\" class=\"dataframe\">\n",
       "  <thead>\n",
       "    <tr style=\"text-align: right;\">\n",
       "      <th></th>\n",
       "      <th>charged</th>\n",
       "      <th>rows</th>\n",
       "      <th>share_%</th>\n",
       "    </tr>\n",
       "  </thead>\n",
       "  <tbody>\n",
       "    <tr>\n",
       "      <th>0</th>\n",
       "      <td>No</td>\n",
       "      <td>78</td>\n",
       "      <td>19.5</td>\n",
       "    </tr>\n",
       "    <tr>\n",
       "      <th>1</th>\n",
       "      <td>Yes</td>\n",
       "      <td>321</td>\n",
       "      <td>80.5</td>\n",
       "    </tr>\n",
       "  </tbody>\n",
       "</table>\n",
       "</div>"
      ],
      "text/plain": [
       "  charged  rows  share_%\n",
       "0      No    78     19.5\n",
       "1     Yes   321     80.5"
      ]
     },
     "metadata": {},
     "output_type": "display_data"
    }
   ],
   "source": [
    "THRESH = 60  # minutes\n",
    "df[\"worked_minutes\"] = (df[\"Worked Time\"] * 60).round(0).astype(int)\n",
    "df[\"charged\"] = df[\"Charged to Client?\"].str.upper().map({\"YES\": \"Yes\", \"NO\": \"No\"})\n",
    "df[\"long\"] = df[\"worked_minutes\"] >= THRESH\n",
    "\n",
    "overall = (\n",
    "    df.loc[df[\"long\"]]\n",
    "      .groupby(\"charged\")\n",
    "      .size()\n",
    "      .rename(\"rows\")\n",
    "      .reset_index()\n",
    ")\n",
    "overall[\"share_%\"] = (overall[\"rows\"] / overall[\"rows\"].sum() * 100).round(1)\n",
    "display(overall)\n"
   ]
  },
  {
   "cell_type": "code",
   "execution_count": null,
   "id": "157b4630",
   "metadata": {},
   "outputs": [
    {
     "data": {
      "application/vnd.microsoft.datawrangler.viewer.v0+json": {
       "columns": [
        {
         "name": "index",
         "rawType": "int64",
         "type": "integer"
        },
        {
         "name": "Grade",
         "rawType": "object",
         "type": "string"
        },
        {
         "name": "No",
         "rawType": "int64",
         "type": "integer"
        },
        {
         "name": "Yes",
         "rawType": "int64",
         "type": "integer"
        },
        {
         "name": "non_billable_share_%",
         "rawType": "float64",
         "type": "float"
        }
       ],
       "ref": "1dcd9818-f2af-4c5b-8933-42aa73ba9335",
       "rows": [
        [
         "1",
         "Partner",
         "16",
         "44",
         "26.7"
        ],
        [
         "0",
         "Junior",
         "36",
         "120",
         "23.1"
        ],
        [
         "2",
         "Senior",
         "26",
         "157",
         "14.2"
        ]
       ],
       "shape": {
        "columns": 4,
        "rows": 3
       }
      },
      "text/html": [
       "<div>\n",
       "<style scoped>\n",
       "    .dataframe tbody tr th:only-of-type {\n",
       "        vertical-align: middle;\n",
       "    }\n",
       "\n",
       "    .dataframe tbody tr th {\n",
       "        vertical-align: top;\n",
       "    }\n",
       "\n",
       "    .dataframe thead th {\n",
       "        text-align: right;\n",
       "    }\n",
       "</style>\n",
       "<table border=\"1\" class=\"dataframe\">\n",
       "  <thead>\n",
       "    <tr style=\"text-align: right;\">\n",
       "      <th></th>\n",
       "      <th>Grade</th>\n",
       "      <th>No</th>\n",
       "      <th>Yes</th>\n",
       "      <th>non_billable_share_%</th>\n",
       "    </tr>\n",
       "  </thead>\n",
       "  <tbody>\n",
       "    <tr>\n",
       "      <th>1</th>\n",
       "      <td>Partner</td>\n",
       "      <td>16</td>\n",
       "      <td>44</td>\n",
       "      <td>26.7</td>\n",
       "    </tr>\n",
       "    <tr>\n",
       "      <th>0</th>\n",
       "      <td>Junior</td>\n",
       "      <td>36</td>\n",
       "      <td>120</td>\n",
       "      <td>23.1</td>\n",
       "    </tr>\n",
       "    <tr>\n",
       "      <th>2</th>\n",
       "      <td>Senior</td>\n",
       "      <td>26</td>\n",
       "      <td>157</td>\n",
       "      <td>14.2</td>\n",
       "    </tr>\n",
       "  </tbody>\n",
       "</table>\n",
       "</div>"
      ],
      "text/plain": [
       "     Grade  No  Yes  non_billable_share_%\n",
       "1  Partner  16   44                  26.7\n",
       "0   Junior  36  120                  23.1\n",
       "2   Senior  26  157                  14.2"
      ]
     },
     "execution_count": 23,
     "metadata": {},
     "output_type": "execute_result"
    }
   ],
   "source": [
    "by_grade = (\n",
    "    df.loc[df[\"long\"]]\n",
    "      .pivot_table(index=\"Grade\", columns=\"charged\", values=\"worked_minutes\", aggfunc=\"size\", fill_value=0)\n",
    "      .reset_index()\n",
    "      .rename_axis(None, axis=1)\n",
    ")\n",
    "if \"No\" not in by_grade.columns: by_grade[\"No\"] = 0\n",
    "if \"Yes\" not in by_grade.columns: by_grade[\"Yes\"] = 0\n",
    "by_grade[\"non_billable_share_%\"] = (by_grade[\"No\"] / (by_grade[\"No\"] + by_grade[\"Yes\"]).replace(0, pd.NA) * 100).round(1)\n",
    "by_grade = by_grade.sort_values(\"non_billable_share_%\", ascending=False)\n",
    "\n",
    "by_grade"
   ]
  },
  {
   "cell_type": "code",
   "execution_count": 24,
   "id": "515b0c1e",
   "metadata": {},
   "outputs": [
    {
     "data": {
      "text/html": [
       "<div>            <script src=\"https://cdnjs.cloudflare.com/ajax/libs/mathjax/2.7.5/MathJax.js?config=TeX-AMS-MML_SVG\"></script><script type=\"text/javascript\">if (window.MathJax && window.MathJax.Hub && window.MathJax.Hub.Config) {window.MathJax.Hub.Config({SVG: {font: \"STIX-Web\"}});}</script>                <script type=\"text/javascript\">window.PlotlyConfig = {MathJaxConfig: 'local'};</script>\n",
       "        <script charset=\"utf-8\" src=\"https://cdn.plot.ly/plotly-3.1.0.min.js\" integrity=\"sha256-Ei4740bWZhaUTQuD6q9yQlgVCMPBz6CZWhevDYPv93A=\" crossorigin=\"anonymous\"></script>                <div id=\"8947ce51-e744-492c-9a9a-a978c9c16afc\" class=\"plotly-graph-div\" style=\"height:525px; width:100%;\"></div>            <script type=\"text/javascript\">                window.PLOTLYENV=window.PLOTLYENV || {};                                if (document.getElementById(\"8947ce51-e744-492c-9a9a-a978c9c16afc\")) {                    Plotly.newPlot(                        \"8947ce51-e744-492c-9a9a-a978c9c16afc\",                        [{\"hovertemplate\":\"Grade=%{x}\\u003cbr\\u003enon_billable_share_%=%{text}\\u003cextra\\u003e\\u003c\\u002fextra\\u003e\",\"legendgroup\":\"\",\"marker\":{\"color\":\"#636efa\",\"pattern\":{\"shape\":\"\"}},\"name\":\"\",\"orientation\":\"v\",\"showlegend\":false,\"text\":{\"dtype\":\"f8\",\"bdata\":\"MzMzMzOzOkCamZmZmRk3QGZmZmZmZixA\"},\"textposition\":\"outside\",\"x\":[\"Partner\",\"Junior\",\"Senior\"],\"xaxis\":\"x\",\"y\":{\"dtype\":\"f8\",\"bdata\":\"MzMzMzOzOkCamZmZmRk3QGZmZmZmZixA\"},\"yaxis\":\"y\",\"type\":\"bar\",\"texttemplate\":\"%{text}%\"}],                        {\"template\":{\"data\":{\"barpolar\":[{\"marker\":{\"line\":{\"color\":\"white\",\"width\":0.5},\"pattern\":{\"fillmode\":\"overlay\",\"size\":10,\"solidity\":0.2}},\"type\":\"barpolar\"}],\"bar\":[{\"error_x\":{\"color\":\"rgb(36,36,36)\"},\"error_y\":{\"color\":\"rgb(36,36,36)\"},\"marker\":{\"line\":{\"color\":\"white\",\"width\":0.5},\"pattern\":{\"fillmode\":\"overlay\",\"size\":10,\"solidity\":0.2}},\"type\":\"bar\"}],\"carpet\":[{\"aaxis\":{\"endlinecolor\":\"rgb(36,36,36)\",\"gridcolor\":\"white\",\"linecolor\":\"white\",\"minorgridcolor\":\"white\",\"startlinecolor\":\"rgb(36,36,36)\"},\"baxis\":{\"endlinecolor\":\"rgb(36,36,36)\",\"gridcolor\":\"white\",\"linecolor\":\"white\",\"minorgridcolor\":\"white\",\"startlinecolor\":\"rgb(36,36,36)\"},\"type\":\"carpet\"}],\"choropleth\":[{\"colorbar\":{\"outlinewidth\":1,\"tickcolor\":\"rgb(36,36,36)\",\"ticks\":\"outside\"},\"type\":\"choropleth\"}],\"contourcarpet\":[{\"colorbar\":{\"outlinewidth\":1,\"tickcolor\":\"rgb(36,36,36)\",\"ticks\":\"outside\"},\"type\":\"contourcarpet\"}],\"contour\":[{\"colorbar\":{\"outlinewidth\":1,\"tickcolor\":\"rgb(36,36,36)\",\"ticks\":\"outside\"},\"colorscale\":[[0.0,\"#440154\"],[0.1111111111111111,\"#482878\"],[0.2222222222222222,\"#3e4989\"],[0.3333333333333333,\"#31688e\"],[0.4444444444444444,\"#26828e\"],[0.5555555555555556,\"#1f9e89\"],[0.6666666666666666,\"#35b779\"],[0.7777777777777778,\"#6ece58\"],[0.8888888888888888,\"#b5de2b\"],[1.0,\"#fde725\"]],\"type\":\"contour\"}],\"heatmap\":[{\"colorbar\":{\"outlinewidth\":1,\"tickcolor\":\"rgb(36,36,36)\",\"ticks\":\"outside\"},\"colorscale\":[[0.0,\"#440154\"],[0.1111111111111111,\"#482878\"],[0.2222222222222222,\"#3e4989\"],[0.3333333333333333,\"#31688e\"],[0.4444444444444444,\"#26828e\"],[0.5555555555555556,\"#1f9e89\"],[0.6666666666666666,\"#35b779\"],[0.7777777777777778,\"#6ece58\"],[0.8888888888888888,\"#b5de2b\"],[1.0,\"#fde725\"]],\"type\":\"heatmap\"}],\"histogram2dcontour\":[{\"colorbar\":{\"outlinewidth\":1,\"tickcolor\":\"rgb(36,36,36)\",\"ticks\":\"outside\"},\"colorscale\":[[0.0,\"#440154\"],[0.1111111111111111,\"#482878\"],[0.2222222222222222,\"#3e4989\"],[0.3333333333333333,\"#31688e\"],[0.4444444444444444,\"#26828e\"],[0.5555555555555556,\"#1f9e89\"],[0.6666666666666666,\"#35b779\"],[0.7777777777777778,\"#6ece58\"],[0.8888888888888888,\"#b5de2b\"],[1.0,\"#fde725\"]],\"type\":\"histogram2dcontour\"}],\"histogram2d\":[{\"colorbar\":{\"outlinewidth\":1,\"tickcolor\":\"rgb(36,36,36)\",\"ticks\":\"outside\"},\"colorscale\":[[0.0,\"#440154\"],[0.1111111111111111,\"#482878\"],[0.2222222222222222,\"#3e4989\"],[0.3333333333333333,\"#31688e\"],[0.4444444444444444,\"#26828e\"],[0.5555555555555556,\"#1f9e89\"],[0.6666666666666666,\"#35b779\"],[0.7777777777777778,\"#6ece58\"],[0.8888888888888888,\"#b5de2b\"],[1.0,\"#fde725\"]],\"type\":\"histogram2d\"}],\"histogram\":[{\"marker\":{\"line\":{\"color\":\"white\",\"width\":0.6}},\"type\":\"histogram\"}],\"mesh3d\":[{\"colorbar\":{\"outlinewidth\":1,\"tickcolor\":\"rgb(36,36,36)\",\"ticks\":\"outside\"},\"type\":\"mesh3d\"}],\"parcoords\":[{\"line\":{\"colorbar\":{\"outlinewidth\":1,\"tickcolor\":\"rgb(36,36,36)\",\"ticks\":\"outside\"}},\"type\":\"parcoords\"}],\"pie\":[{\"automargin\":true,\"type\":\"pie\"}],\"scatter3d\":[{\"line\":{\"colorbar\":{\"outlinewidth\":1,\"tickcolor\":\"rgb(36,36,36)\",\"ticks\":\"outside\"}},\"marker\":{\"colorbar\":{\"outlinewidth\":1,\"tickcolor\":\"rgb(36,36,36)\",\"ticks\":\"outside\"}},\"type\":\"scatter3d\"}],\"scattercarpet\":[{\"marker\":{\"colorbar\":{\"outlinewidth\":1,\"tickcolor\":\"rgb(36,36,36)\",\"ticks\":\"outside\"}},\"type\":\"scattercarpet\"}],\"scattergeo\":[{\"marker\":{\"colorbar\":{\"outlinewidth\":1,\"tickcolor\":\"rgb(36,36,36)\",\"ticks\":\"outside\"}},\"type\":\"scattergeo\"}],\"scattergl\":[{\"marker\":{\"colorbar\":{\"outlinewidth\":1,\"tickcolor\":\"rgb(36,36,36)\",\"ticks\":\"outside\"}},\"type\":\"scattergl\"}],\"scattermapbox\":[{\"marker\":{\"colorbar\":{\"outlinewidth\":1,\"tickcolor\":\"rgb(36,36,36)\",\"ticks\":\"outside\"}},\"type\":\"scattermapbox\"}],\"scattermap\":[{\"marker\":{\"colorbar\":{\"outlinewidth\":1,\"tickcolor\":\"rgb(36,36,36)\",\"ticks\":\"outside\"}},\"type\":\"scattermap\"}],\"scatterpolargl\":[{\"marker\":{\"colorbar\":{\"outlinewidth\":1,\"tickcolor\":\"rgb(36,36,36)\",\"ticks\":\"outside\"}},\"type\":\"scatterpolargl\"}],\"scatterpolar\":[{\"marker\":{\"colorbar\":{\"outlinewidth\":1,\"tickcolor\":\"rgb(36,36,36)\",\"ticks\":\"outside\"}},\"type\":\"scatterpolar\"}],\"scatter\":[{\"fillpattern\":{\"fillmode\":\"overlay\",\"size\":10,\"solidity\":0.2},\"type\":\"scatter\"}],\"scatterternary\":[{\"marker\":{\"colorbar\":{\"outlinewidth\":1,\"tickcolor\":\"rgb(36,36,36)\",\"ticks\":\"outside\"}},\"type\":\"scatterternary\"}],\"surface\":[{\"colorbar\":{\"outlinewidth\":1,\"tickcolor\":\"rgb(36,36,36)\",\"ticks\":\"outside\"},\"colorscale\":[[0.0,\"#440154\"],[0.1111111111111111,\"#482878\"],[0.2222222222222222,\"#3e4989\"],[0.3333333333333333,\"#31688e\"],[0.4444444444444444,\"#26828e\"],[0.5555555555555556,\"#1f9e89\"],[0.6666666666666666,\"#35b779\"],[0.7777777777777778,\"#6ece58\"],[0.8888888888888888,\"#b5de2b\"],[1.0,\"#fde725\"]],\"type\":\"surface\"}],\"table\":[{\"cells\":{\"fill\":{\"color\":\"rgb(237,237,237)\"},\"line\":{\"color\":\"white\"}},\"header\":{\"fill\":{\"color\":\"rgb(217,217,217)\"},\"line\":{\"color\":\"white\"}},\"type\":\"table\"}]},\"layout\":{\"annotationdefaults\":{\"arrowhead\":0,\"arrowwidth\":1},\"autotypenumbers\":\"strict\",\"coloraxis\":{\"colorbar\":{\"outlinewidth\":1,\"tickcolor\":\"rgb(36,36,36)\",\"ticks\":\"outside\"}},\"colorscale\":{\"diverging\":[[0.0,\"rgb(103,0,31)\"],[0.1,\"rgb(178,24,43)\"],[0.2,\"rgb(214,96,77)\"],[0.3,\"rgb(244,165,130)\"],[0.4,\"rgb(253,219,199)\"],[0.5,\"rgb(247,247,247)\"],[0.6,\"rgb(209,229,240)\"],[0.7,\"rgb(146,197,222)\"],[0.8,\"rgb(67,147,195)\"],[0.9,\"rgb(33,102,172)\"],[1.0,\"rgb(5,48,97)\"]],\"sequential\":[[0.0,\"#440154\"],[0.1111111111111111,\"#482878\"],[0.2222222222222222,\"#3e4989\"],[0.3333333333333333,\"#31688e\"],[0.4444444444444444,\"#26828e\"],[0.5555555555555556,\"#1f9e89\"],[0.6666666666666666,\"#35b779\"],[0.7777777777777778,\"#6ece58\"],[0.8888888888888888,\"#b5de2b\"],[1.0,\"#fde725\"]],\"sequentialminus\":[[0.0,\"#440154\"],[0.1111111111111111,\"#482878\"],[0.2222222222222222,\"#3e4989\"],[0.3333333333333333,\"#31688e\"],[0.4444444444444444,\"#26828e\"],[0.5555555555555556,\"#1f9e89\"],[0.6666666666666666,\"#35b779\"],[0.7777777777777778,\"#6ece58\"],[0.8888888888888888,\"#b5de2b\"],[1.0,\"#fde725\"]]},\"colorway\":[\"#1F77B4\",\"#FF7F0E\",\"#2CA02C\",\"#D62728\",\"#9467BD\",\"#8C564B\",\"#E377C2\",\"#7F7F7F\",\"#BCBD22\",\"#17BECF\"],\"font\":{\"color\":\"rgb(36,36,36)\"},\"geo\":{\"bgcolor\":\"white\",\"lakecolor\":\"white\",\"landcolor\":\"white\",\"showlakes\":true,\"showland\":true,\"subunitcolor\":\"white\"},\"hoverlabel\":{\"align\":\"left\"},\"hovermode\":\"closest\",\"mapbox\":{\"style\":\"light\"},\"paper_bgcolor\":\"white\",\"plot_bgcolor\":\"white\",\"polar\":{\"angularaxis\":{\"gridcolor\":\"rgb(232,232,232)\",\"linecolor\":\"rgb(36,36,36)\",\"showgrid\":false,\"showline\":true,\"ticks\":\"outside\"},\"bgcolor\":\"white\",\"radialaxis\":{\"gridcolor\":\"rgb(232,232,232)\",\"linecolor\":\"rgb(36,36,36)\",\"showgrid\":false,\"showline\":true,\"ticks\":\"outside\"}},\"scene\":{\"xaxis\":{\"backgroundcolor\":\"white\",\"gridcolor\":\"rgb(232,232,232)\",\"gridwidth\":2,\"linecolor\":\"rgb(36,36,36)\",\"showbackground\":true,\"showgrid\":false,\"showline\":true,\"ticks\":\"outside\",\"zeroline\":false,\"zerolinecolor\":\"rgb(36,36,36)\"},\"yaxis\":{\"backgroundcolor\":\"white\",\"gridcolor\":\"rgb(232,232,232)\",\"gridwidth\":2,\"linecolor\":\"rgb(36,36,36)\",\"showbackground\":true,\"showgrid\":false,\"showline\":true,\"ticks\":\"outside\",\"zeroline\":false,\"zerolinecolor\":\"rgb(36,36,36)\"},\"zaxis\":{\"backgroundcolor\":\"white\",\"gridcolor\":\"rgb(232,232,232)\",\"gridwidth\":2,\"linecolor\":\"rgb(36,36,36)\",\"showbackground\":true,\"showgrid\":false,\"showline\":true,\"ticks\":\"outside\",\"zeroline\":false,\"zerolinecolor\":\"rgb(36,36,36)\"}},\"shapedefaults\":{\"fillcolor\":\"black\",\"line\":{\"width\":0},\"opacity\":0.3},\"ternary\":{\"aaxis\":{\"gridcolor\":\"rgb(232,232,232)\",\"linecolor\":\"rgb(36,36,36)\",\"showgrid\":false,\"showline\":true,\"ticks\":\"outside\"},\"baxis\":{\"gridcolor\":\"rgb(232,232,232)\",\"linecolor\":\"rgb(36,36,36)\",\"showgrid\":false,\"showline\":true,\"ticks\":\"outside\"},\"bgcolor\":\"white\",\"caxis\":{\"gridcolor\":\"rgb(232,232,232)\",\"linecolor\":\"rgb(36,36,36)\",\"showgrid\":false,\"showline\":true,\"ticks\":\"outside\"}},\"title\":{\"x\":0.05},\"xaxis\":{\"automargin\":true,\"gridcolor\":\"rgb(232,232,232)\",\"linecolor\":\"rgb(36,36,36)\",\"showgrid\":false,\"showline\":true,\"ticks\":\"outside\",\"title\":{\"standoff\":15},\"zeroline\":false,\"zerolinecolor\":\"rgb(36,36,36)\"},\"yaxis\":{\"automargin\":true,\"gridcolor\":\"rgb(232,232,232)\",\"linecolor\":\"rgb(36,36,36)\",\"showgrid\":false,\"showline\":true,\"ticks\":\"outside\",\"title\":{\"standoff\":15},\"zeroline\":false,\"zerolinecolor\":\"rgb(36,36,36)\"}}},\"xaxis\":{\"anchor\":\"y\",\"domain\":[0.0,1.0],\"title\":{}},\"yaxis\":{\"anchor\":\"x\",\"domain\":[0.0,1.0],\"title\":{\"text\":\"Non-billable (%)\"}},\"legend\":{\"tracegroupgap\":0},\"title\":{\"text\":\"Non-billable share for long sessions (\\u226560 min)\"},\"barmode\":\"relative\"},                        {\"responsive\": true}                    ).then(function(){\n",
       "                            \n",
       "var gd = document.getElementById('8947ce51-e744-492c-9a9a-a978c9c16afc');\n",
       "var x = new MutationObserver(function (mutations, observer) {{\n",
       "        var display = window.getComputedStyle(gd).display;\n",
       "        if (!display || display === 'none') {{\n",
       "            console.log([gd, 'removed!']);\n",
       "            Plotly.purge(gd);\n",
       "            observer.disconnect();\n",
       "        }}\n",
       "}});\n",
       "\n",
       "// Listen for the removal of the full notebook cells\n",
       "var notebookContainer = gd.closest('#notebook-container');\n",
       "if (notebookContainer) {{\n",
       "    x.observe(notebookContainer, {childList: true});\n",
       "}}\n",
       "\n",
       "// Listen for the clearing of the current output cell\n",
       "var outputEl = gd.closest('.output');\n",
       "if (outputEl) {{\n",
       "    x.observe(outputEl, {childList: true});\n",
       "}}\n",
       "\n",
       "                        })                };            </script>        </div>"
      ]
     },
     "metadata": {},
     "output_type": "display_data"
    }
   ],
   "source": [
    "fig = px.bar(\n",
    "    by_grade, x=\"Grade\", y=\"non_billable_share_%\", text=\"non_billable_share_%\",\n",
    "    title=f\"Non-billable share for long sessions (≥{THRESH} min)\",\n",
    ")\n",
    "fig.update_traces(texttemplate=\"%{text}%\", textposition=\"outside\")\n",
    "fig.update_layout(template=\"simple_white\", yaxis_title=\"Non-billable (%)\", xaxis_title=None)\n",
    "fig.show()"
   ]
  },
  {
   "cell_type": "code",
   "execution_count": 44,
   "id": "5f4d68c1",
   "metadata": {},
   "outputs": [
    {
     "data": {
      "text/html": [
       "<div>            <script src=\"https://cdnjs.cloudflare.com/ajax/libs/mathjax/2.7.5/MathJax.js?config=TeX-AMS-MML_SVG\"></script><script type=\"text/javascript\">if (window.MathJax && window.MathJax.Hub && window.MathJax.Hub.Config) {window.MathJax.Hub.Config({SVG: {font: \"STIX-Web\"}});}</script>                <script type=\"text/javascript\">window.PlotlyConfig = {MathJaxConfig: 'local'};</script>\n",
       "        <script charset=\"utf-8\" src=\"https://cdn.plot.ly/plotly-3.1.0.min.js\" integrity=\"sha256-Ei4740bWZhaUTQuD6q9yQlgVCMPBz6CZWhevDYPv93A=\" crossorigin=\"anonymous\"></script>                <div id=\"61d7259a-bbd7-4223-b688-9b9c1a34586f\" class=\"plotly-graph-div\" style=\"height:525px; width:100%;\"></div>            <script type=\"text/javascript\">                window.PLOTLYENV=window.PLOTLYENV || {};                                if (document.getElementById(\"61d7259a-bbd7-4223-b688-9b9c1a34586f\")) {                    Plotly.newPlot(                        \"61d7259a-bbd7-4223-b688-9b9c1a34586f\",                        [{\"bingroup\":\"x\",\"hovertemplate\":\"worked_min_bucket6=%{x}\\u003cbr\\u003ecount=%{y}\\u003cextra\\u003e\\u003c\\u002fextra\\u003e\",\"legendgroup\":\"\",\"marker\":{\"color\":\"#636efa\",\"pattern\":{\"shape\":\"\"}},\"name\":\"\",\"orientation\":\"v\",\"showlegend\":false,\"x\":{\"dtype\":\"i2\",\"bdata\":\"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\"},\"xaxis\":\"x\",\"yaxis\":\"y\",\"type\":\"histogram\"}],                        {\"template\":{\"data\":{\"barpolar\":[{\"marker\":{\"line\":{\"color\":\"white\",\"width\":0.5},\"pattern\":{\"fillmode\":\"overlay\",\"size\":10,\"solidity\":0.2}},\"type\":\"barpolar\"}],\"bar\":[{\"error_x\":{\"color\":\"rgb(36,36,36)\"},\"error_y\":{\"color\":\"rgb(36,36,36)\"},\"marker\":{\"line\":{\"color\":\"white\",\"width\":0.5},\"pattern\":{\"fillmode\":\"overlay\",\"size\":10,\"solidity\":0.2}},\"type\":\"bar\"}],\"carpet\":[{\"aaxis\":{\"endlinecolor\":\"rgb(36,36,36)\",\"gridcolor\":\"white\",\"linecolor\":\"white\",\"minorgridcolor\":\"white\",\"startlinecolor\":\"rgb(36,36,36)\"},\"baxis\":{\"endlinecolor\":\"rgb(36,36,36)\",\"gridcolor\":\"white\",\"linecolor\":\"white\",\"minorgridcolor\":\"white\",\"startlinecolor\":\"rgb(36,36,36)\"},\"type\":\"carpet\"}],\"choropleth\":[{\"colorbar\":{\"outlinewidth\":1,\"tickcolor\":\"rgb(36,36,36)\",\"ticks\":\"outside\"},\"type\":\"choropleth\"}],\"contourcarpet\":[{\"colorbar\":{\"outlinewidth\":1,\"tickcolor\":\"rgb(36,36,36)\",\"ticks\":\"outside\"},\"type\":\"contourcarpet\"}],\"contour\":[{\"colorbar\":{\"outlinewidth\":1,\"tickcolor\":\"rgb(36,36,36)\",\"ticks\":\"outside\"},\"colorscale\":[[0.0,\"#440154\"],[0.1111111111111111,\"#482878\"],[0.2222222222222222,\"#3e4989\"],[0.3333333333333333,\"#31688e\"],[0.4444444444444444,\"#26828e\"],[0.5555555555555556,\"#1f9e89\"],[0.6666666666666666,\"#35b779\"],[0.7777777777777778,\"#6ece58\"],[0.8888888888888888,\"#b5de2b\"],[1.0,\"#fde725\"]],\"type\":\"contour\"}],\"heatmap\":[{\"colorbar\":{\"outlinewidth\":1,\"tickcolor\":\"rgb(36,36,36)\",\"ticks\":\"outside\"},\"colorscale\":[[0.0,\"#440154\"],[0.1111111111111111,\"#482878\"],[0.2222222222222222,\"#3e4989\"],[0.3333333333333333,\"#31688e\"],[0.4444444444444444,\"#26828e\"],[0.5555555555555556,\"#1f9e89\"],[0.6666666666666666,\"#35b779\"],[0.7777777777777778,\"#6ece58\"],[0.8888888888888888,\"#b5de2b\"],[1.0,\"#fde725\"]],\"type\":\"heatmap\"}],\"histogram2dcontour\":[{\"colorbar\":{\"outlinewidth\":1,\"tickcolor\":\"rgb(36,36,36)\",\"ticks\":\"outside\"},\"colorscale\":[[0.0,\"#440154\"],[0.1111111111111111,\"#482878\"],[0.2222222222222222,\"#3e4989\"],[0.3333333333333333,\"#31688e\"],[0.4444444444444444,\"#26828e\"],[0.5555555555555556,\"#1f9e89\"],[0.6666666666666666,\"#35b779\"],[0.7777777777777778,\"#6ece58\"],[0.8888888888888888,\"#b5de2b\"],[1.0,\"#fde725\"]],\"type\":\"histogram2dcontour\"}],\"histogram2d\":[{\"colorbar\":{\"outlinewidth\":1,\"tickcolor\":\"rgb(36,36,36)\",\"ticks\":\"outside\"},\"colorscale\":[[0.0,\"#440154\"],[0.1111111111111111,\"#482878\"],[0.2222222222222222,\"#3e4989\"],[0.3333333333333333,\"#31688e\"],[0.4444444444444444,\"#26828e\"],[0.5555555555555556,\"#1f9e89\"],[0.6666666666666666,\"#35b779\"],[0.7777777777777778,\"#6ece58\"],[0.8888888888888888,\"#b5de2b\"],[1.0,\"#fde725\"]],\"type\":\"histogram2d\"}],\"histogram\":[{\"marker\":{\"line\":{\"color\":\"white\",\"width\":0.6}},\"type\":\"histogram\"}],\"mesh3d\":[{\"colorbar\":{\"outlinewidth\":1,\"tickcolor\":\"rgb(36,36,36)\",\"ticks\":\"outside\"},\"type\":\"mesh3d\"}],\"parcoords\":[{\"line\":{\"colorbar\":{\"outlinewidth\":1,\"tickcolor\":\"rgb(36,36,36)\",\"ticks\":\"outside\"}},\"type\":\"parcoords\"}],\"pie\":[{\"automargin\":true,\"type\":\"pie\"}],\"scatter3d\":[{\"line\":{\"colorbar\":{\"outlinewidth\":1,\"tickcolor\":\"rgb(36,36,36)\",\"ticks\":\"outside\"}},\"marker\":{\"colorbar\":{\"outlinewidth\":1,\"tickcolor\":\"rgb(36,36,36)\",\"ticks\":\"outside\"}},\"type\":\"scatter3d\"}],\"scattercarpet\":[{\"marker\":{\"colorbar\":{\"outlinewidth\":1,\"tickcolor\":\"rgb(36,36,36)\",\"ticks\":\"outside\"}},\"type\":\"scattercarpet\"}],\"scattergeo\":[{\"marker\":{\"colorbar\":{\"outlinewidth\":1,\"tickcolor\":\"rgb(36,36,36)\",\"ticks\":\"outside\"}},\"type\":\"scattergeo\"}],\"scattergl\":[{\"marker\":{\"colorbar\":{\"outlinewidth\":1,\"tickcolor\":\"rgb(36,36,36)\",\"ticks\":\"outside\"}},\"type\":\"scattergl\"}],\"scattermapbox\":[{\"marker\":{\"colorbar\":{\"outlinewidth\":1,\"tickcolor\":\"rgb(36,36,36)\",\"ticks\":\"outside\"}},\"type\":\"scattermapbox\"}],\"scattermap\":[{\"marker\":{\"colorbar\":{\"outlinewidth\":1,\"tickcolor\":\"rgb(36,36,36)\",\"ticks\":\"outside\"}},\"type\":\"scattermap\"}],\"scatterpolargl\":[{\"marker\":{\"colorbar\":{\"outlinewidth\":1,\"tickcolor\":\"rgb(36,36,36)\",\"ticks\":\"outside\"}},\"type\":\"scatterpolargl\"}],\"scatterpolar\":[{\"marker\":{\"colorbar\":{\"outlinewidth\":1,\"tickcolor\":\"rgb(36,36,36)\",\"ticks\":\"outside\"}},\"type\":\"scatterpolar\"}],\"scatter\":[{\"fillpattern\":{\"fillmode\":\"overlay\",\"size\":10,\"solidity\":0.2},\"type\":\"scatter\"}],\"scatterternary\":[{\"marker\":{\"colorbar\":{\"outlinewidth\":1,\"tickcolor\":\"rgb(36,36,36)\",\"ticks\":\"outside\"}},\"type\":\"scatterternary\"}],\"surface\":[{\"colorbar\":{\"outlinewidth\":1,\"tickcolor\":\"rgb(36,36,36)\",\"ticks\":\"outside\"},\"colorscale\":[[0.0,\"#440154\"],[0.1111111111111111,\"#482878\"],[0.2222222222222222,\"#3e4989\"],[0.3333333333333333,\"#31688e\"],[0.4444444444444444,\"#26828e\"],[0.5555555555555556,\"#1f9e89\"],[0.6666666666666666,\"#35b779\"],[0.7777777777777778,\"#6ece58\"],[0.8888888888888888,\"#b5de2b\"],[1.0,\"#fde725\"]],\"type\":\"surface\"}],\"table\":[{\"cells\":{\"fill\":{\"color\":\"rgb(237,237,237)\"},\"line\":{\"color\":\"white\"}},\"header\":{\"fill\":{\"color\":\"rgb(217,217,217)\"},\"line\":{\"color\":\"white\"}},\"type\":\"table\"}]},\"layout\":{\"annotationdefaults\":{\"arrowhead\":0,\"arrowwidth\":1},\"autotypenumbers\":\"strict\",\"coloraxis\":{\"colorbar\":{\"outlinewidth\":1,\"tickcolor\":\"rgb(36,36,36)\",\"ticks\":\"outside\"}},\"colorscale\":{\"diverging\":[[0.0,\"rgb(103,0,31)\"],[0.1,\"rgb(178,24,43)\"],[0.2,\"rgb(214,96,77)\"],[0.3,\"rgb(244,165,130)\"],[0.4,\"rgb(253,219,199)\"],[0.5,\"rgb(247,247,247)\"],[0.6,\"rgb(209,229,240)\"],[0.7,\"rgb(146,197,222)\"],[0.8,\"rgb(67,147,195)\"],[0.9,\"rgb(33,102,172)\"],[1.0,\"rgb(5,48,97)\"]],\"sequential\":[[0.0,\"#440154\"],[0.1111111111111111,\"#482878\"],[0.2222222222222222,\"#3e4989\"],[0.3333333333333333,\"#31688e\"],[0.4444444444444444,\"#26828e\"],[0.5555555555555556,\"#1f9e89\"],[0.6666666666666666,\"#35b779\"],[0.7777777777777778,\"#6ece58\"],[0.8888888888888888,\"#b5de2b\"],[1.0,\"#fde725\"]],\"sequentialminus\":[[0.0,\"#440154\"],[0.1111111111111111,\"#482878\"],[0.2222222222222222,\"#3e4989\"],[0.3333333333333333,\"#31688e\"],[0.4444444444444444,\"#26828e\"],[0.5555555555555556,\"#1f9e89\"],[0.6666666666666666,\"#35b779\"],[0.7777777777777778,\"#6ece58\"],[0.8888888888888888,\"#b5de2b\"],[1.0,\"#fde725\"]]},\"colorway\":[\"#1F77B4\",\"#FF7F0E\",\"#2CA02C\",\"#D62728\",\"#9467BD\",\"#8C564B\",\"#E377C2\",\"#7F7F7F\",\"#BCBD22\",\"#17BECF\"],\"font\":{\"color\":\"rgb(36,36,36)\"},\"geo\":{\"bgcolor\":\"white\",\"lakecolor\":\"white\",\"landcolor\":\"white\",\"showlakes\":true,\"showland\":true,\"subunitcolor\":\"white\"},\"hoverlabel\":{\"align\":\"left\"},\"hovermode\":\"closest\",\"mapbox\":{\"style\":\"light\"},\"paper_bgcolor\":\"white\",\"plot_bgcolor\":\"white\",\"polar\":{\"angularaxis\":{\"gridcolor\":\"rgb(232,232,232)\",\"linecolor\":\"rgb(36,36,36)\",\"showgrid\":false,\"showline\":true,\"ticks\":\"outside\"},\"bgcolor\":\"white\",\"radialaxis\":{\"gridcolor\":\"rgb(232,232,232)\",\"linecolor\":\"rgb(36,36,36)\",\"showgrid\":false,\"showline\":true,\"ticks\":\"outside\"}},\"scene\":{\"xaxis\":{\"backgroundcolor\":\"white\",\"gridcolor\":\"rgb(232,232,232)\",\"gridwidth\":2,\"linecolor\":\"rgb(36,36,36)\",\"showbackground\":true,\"showgrid\":false,\"showline\":true,\"ticks\":\"outside\",\"zeroline\":false,\"zerolinecolor\":\"rgb(36,36,36)\"},\"yaxis\":{\"backgroundcolor\":\"white\",\"gridcolor\":\"rgb(232,232,232)\",\"gridwidth\":2,\"linecolor\":\"rgb(36,36,36)\",\"showbackground\":true,\"showgrid\":false,\"showline\":true,\"ticks\":\"outside\",\"zeroline\":false,\"zerolinecolor\":\"rgb(36,36,36)\"},\"zaxis\":{\"backgroundcolor\":\"white\",\"gridcolor\":\"rgb(232,232,232)\",\"gridwidth\":2,\"linecolor\":\"rgb(36,36,36)\",\"showbackground\":true,\"showgrid\":false,\"showline\":true,\"ticks\":\"outside\",\"zeroline\":false,\"zerolinecolor\":\"rgb(36,36,36)\"}},\"shapedefaults\":{\"fillcolor\":\"black\",\"line\":{\"width\":0},\"opacity\":0.3},\"ternary\":{\"aaxis\":{\"gridcolor\":\"rgb(232,232,232)\",\"linecolor\":\"rgb(36,36,36)\",\"showgrid\":false,\"showline\":true,\"ticks\":\"outside\"},\"baxis\":{\"gridcolor\":\"rgb(232,232,232)\",\"linecolor\":\"rgb(36,36,36)\",\"showgrid\":false,\"showline\":true,\"ticks\":\"outside\"},\"bgcolor\":\"white\",\"caxis\":{\"gridcolor\":\"rgb(232,232,232)\",\"linecolor\":\"rgb(36,36,36)\",\"showgrid\":false,\"showline\":true,\"ticks\":\"outside\"}},\"title\":{\"x\":0.05},\"xaxis\":{\"automargin\":true,\"gridcolor\":\"rgb(232,232,232)\",\"linecolor\":\"rgb(36,36,36)\",\"showgrid\":false,\"showline\":true,\"ticks\":\"outside\",\"title\":{\"standoff\":15},\"zeroline\":false,\"zerolinecolor\":\"rgb(36,36,36)\"},\"yaxis\":{\"automargin\":true,\"gridcolor\":\"rgb(232,232,232)\",\"linecolor\":\"rgb(36,36,36)\",\"showgrid\":false,\"showline\":true,\"ticks\":\"outside\",\"title\":{\"standoff\":15},\"zeroline\":false,\"zerolinecolor\":\"rgb(36,36,36)\"}}},\"xaxis\":{\"anchor\":\"y\",\"domain\":[0.0,1.0],\"title\":{\"text\":\"Minutes (6-min buckets)\"},\"tickmode\":\"linear\",\"dtick\":30},\"yaxis\":{\"anchor\":\"x\",\"domain\":[0.0,1.0],\"title\":{\"text\":\"Rows\"}},\"legend\":{\"tracegroupgap\":0},\"title\":{\"text\":\"Worked minutes \\u2014 6-minute billing buckets\"},\"barmode\":\"relative\"},                        {\"responsive\": true}                    ).then(function(){\n",
       "                            \n",
       "var gd = document.getElementById('61d7259a-bbd7-4223-b688-9b9c1a34586f');\n",
       "var x = new MutationObserver(function (mutations, observer) {{\n",
       "        var display = window.getComputedStyle(gd).display;\n",
       "        if (!display || display === 'none') {{\n",
       "            console.log([gd, 'removed!']);\n",
       "            Plotly.purge(gd);\n",
       "            observer.disconnect();\n",
       "        }}\n",
       "}});\n",
       "\n",
       "// Listen for the removal of the full notebook cells\n",
       "var notebookContainer = gd.closest('#notebook-container');\n",
       "if (notebookContainer) {{\n",
       "    x.observe(notebookContainer, {childList: true});\n",
       "}}\n",
       "\n",
       "// Listen for the clearing of the current output cell\n",
       "var outputEl = gd.closest('.output');\n",
       "if (outputEl) {{\n",
       "    x.observe(outputEl, {childList: true});\n",
       "}}\n",
       "\n",
       "                        })                };            </script>        </div>"
      ]
     },
     "metadata": {},
     "output_type": "display_data"
    }
   ],
   "source": [
    "df[\"worked_minutes\"] = (df[\"Worked Time\"] * 60).round(0).astype(int)\n",
    "df[\"worked_min_bucket6\"] = ((df[\"worked_minutes\"] / 6).round().astype(int) * 6).astype(int)\n",
    "\n",
    "fig = px.histogram(\n",
    "    df, x=\"worked_min_bucket6\",\n",
    "    title=\"Worked minutes — 6-minute billing buckets\",\n",
    ")\n",
    "fig.update_layout(\n",
    "    template=\"simple_white\",\n",
    "    xaxis_title=\"Minutes (6-min buckets)\",\n",
    "    yaxis_title=\"Rows\",\n",
    ")\n",
    "fig.update_xaxes(tickmode=\"linear\", dtick=30)  # ticks every 30 min for readability\n",
    "fig.show()\n"
   ]
  },
  {
   "cell_type": "markdown",
   "id": "09a12d09",
   "metadata": {},
   "source": [
    "## Grade × Category heatmap (labelled subset)"
   ]
  },
  {
   "cell_type": "code",
   "execution_count": 45,
   "id": "77abe4bd",
   "metadata": {},
   "outputs": [
    {
     "data": {
      "application/vnd.microsoft.datawrangler.viewer.v0+json": {
       "columns": [
        {
         "name": "Grade",
         "rawType": "object",
         "type": "string"
        },
        {
         "name": "Other comms",
         "rawType": "int64",
         "type": "integer"
        },
        {
         "name": "admin",
         "rawType": "int64",
         "type": "integer"
        },
        {
         "name": "analyse, review, research",
         "rawType": "int64",
         "type": "integer"
        },
        {
         "name": "billing",
         "rawType": "int64",
         "type": "integer"
        },
        {
         "name": "client time",
         "rawType": "int64",
         "type": "integer"
        },
        {
         "name": "onboarding",
         "rawType": "int64",
         "type": "integer"
        },
        {
         "name": "preparing documents",
         "rawType": "int64",
         "type": "integer"
        }
       ],
       "ref": "47c91269-37e6-4c73-86d1-9dcdad140055",
       "rows": [
        [
         "Junior",
         "32",
         "18",
         "21",
         "6",
         "73",
         "32",
         "47"
        ],
        [
         "Partner",
         "6",
         "3",
         "16",
         "3",
         "29",
         "4",
         "6"
        ],
        [
         "Senior",
         "37",
         "11",
         "48",
         "3",
         "97",
         "13",
         "56"
        ]
       ],
       "shape": {
        "columns": 7,
        "rows": 3
       }
      },
      "text/html": [
       "<div>\n",
       "<style scoped>\n",
       "    .dataframe tbody tr th:only-of-type {\n",
       "        vertical-align: middle;\n",
       "    }\n",
       "\n",
       "    .dataframe tbody tr th {\n",
       "        vertical-align: top;\n",
       "    }\n",
       "\n",
       "    .dataframe thead th {\n",
       "        text-align: right;\n",
       "    }\n",
       "</style>\n",
       "<table border=\"1\" class=\"dataframe\">\n",
       "  <thead>\n",
       "    <tr style=\"text-align: right;\">\n",
       "      <th>Category</th>\n",
       "      <th>Other comms</th>\n",
       "      <th>admin</th>\n",
       "      <th>analyse, review, research</th>\n",
       "      <th>billing</th>\n",
       "      <th>client time</th>\n",
       "      <th>onboarding</th>\n",
       "      <th>preparing documents</th>\n",
       "    </tr>\n",
       "    <tr>\n",
       "      <th>Grade</th>\n",
       "      <th></th>\n",
       "      <th></th>\n",
       "      <th></th>\n",
       "      <th></th>\n",
       "      <th></th>\n",
       "      <th></th>\n",
       "      <th></th>\n",
       "    </tr>\n",
       "  </thead>\n",
       "  <tbody>\n",
       "    <tr>\n",
       "      <th>Junior</th>\n",
       "      <td>32</td>\n",
       "      <td>18</td>\n",
       "      <td>21</td>\n",
       "      <td>6</td>\n",
       "      <td>73</td>\n",
       "      <td>32</td>\n",
       "      <td>47</td>\n",
       "    </tr>\n",
       "    <tr>\n",
       "      <th>Partner</th>\n",
       "      <td>6</td>\n",
       "      <td>3</td>\n",
       "      <td>16</td>\n",
       "      <td>3</td>\n",
       "      <td>29</td>\n",
       "      <td>4</td>\n",
       "      <td>6</td>\n",
       "    </tr>\n",
       "    <tr>\n",
       "      <th>Senior</th>\n",
       "      <td>37</td>\n",
       "      <td>11</td>\n",
       "      <td>48</td>\n",
       "      <td>3</td>\n",
       "      <td>97</td>\n",
       "      <td>13</td>\n",
       "      <td>56</td>\n",
       "    </tr>\n",
       "  </tbody>\n",
       "</table>\n",
       "</div>"
      ],
      "text/plain": [
       "Category  Other comms  admin  analyse, review, research  billing  client time  \\\n",
       "Grade                                                                           \n",
       "Junior             32     18                         21        6           73   \n",
       "Partner             6      3                         16        3           29   \n",
       "Senior             37     11                         48        3           97   \n",
       "\n",
       "Category  onboarding  preparing documents  \n",
       "Grade                                      \n",
       "Junior            32                   47  \n",
       "Partner            4                    6  \n",
       "Senior            13                   56  "
      ]
     },
     "execution_count": 45,
     "metadata": {},
     "output_type": "execute_result"
    }
   ],
   "source": [
    "df_l = df[df[\"Category\"].notna()].copy()\n",
    "\n",
    "pvt = (\n",
    "    df_l.pivot_table(index=\"Grade\", columns=\"Category\", values=\"Worked Time\",\n",
    "                     aggfunc=\"size\", fill_value=0)\n",
    ")\n",
    "pvt\n",
    "\n"
   ]
  },
  {
   "cell_type": "code",
   "execution_count": 28,
   "id": "12dbfbfd",
   "metadata": {},
   "outputs": [
    {
     "data": {
      "text/html": [
       "<div>            <script src=\"https://cdnjs.cloudflare.com/ajax/libs/mathjax/2.7.5/MathJax.js?config=TeX-AMS-MML_SVG\"></script><script type=\"text/javascript\">if (window.MathJax && window.MathJax.Hub && window.MathJax.Hub.Config) {window.MathJax.Hub.Config({SVG: {font: \"STIX-Web\"}});}</script>                <script type=\"text/javascript\">window.PlotlyConfig = {MathJaxConfig: 'local'};</script>\n",
       "        <script charset=\"utf-8\" src=\"https://cdn.plot.ly/plotly-3.1.0.min.js\" integrity=\"sha256-Ei4740bWZhaUTQuD6q9yQlgVCMPBz6CZWhevDYPv93A=\" crossorigin=\"anonymous\"></script>                <div id=\"9b2a014a-b9d7-40f4-811a-940759a340e7\" class=\"plotly-graph-div\" style=\"height:525px; width:100%;\"></div>            <script type=\"text/javascript\">                window.PLOTLYENV=window.PLOTLYENV || {};                                if (document.getElementById(\"9b2a014a-b9d7-40f4-811a-940759a340e7\")) {                    Plotly.newPlot(                        \"9b2a014a-b9d7-40f4-811a-940759a340e7\",                        [{\"coloraxis\":\"coloraxis\",\"name\":\"0\",\"texttemplate\":\"%{z}\",\"x\":[\"Other comms\",\"admin\",\"analyse, review, research\",\"billing\",\"client time\",\"onboarding\",\"preparing documents\"],\"y\":[\"Junior\",\"Partner\",\"Senior\"],\"z\":{\"dtype\":\"i1\",\"bdata\":\"IBIVBkkgLwYDEAMdBAYlCzADYQ04\",\"shape\":\"3, 7\"},\"type\":\"heatmap\",\"xaxis\":\"x\",\"yaxis\":\"y\",\"hovertemplate\":\"Category: %{x}\\u003cbr\\u003eGrade: %{y}\\u003cbr\\u003ecolor: %{z}\\u003cextra\\u003e\\u003c\\u002fextra\\u003e\"}],                        {\"template\":{\"data\":{\"barpolar\":[{\"marker\":{\"line\":{\"color\":\"white\",\"width\":0.5},\"pattern\":{\"fillmode\":\"overlay\",\"size\":10,\"solidity\":0.2}},\"type\":\"barpolar\"}],\"bar\":[{\"error_x\":{\"color\":\"rgb(36,36,36)\"},\"error_y\":{\"color\":\"rgb(36,36,36)\"},\"marker\":{\"line\":{\"color\":\"white\",\"width\":0.5},\"pattern\":{\"fillmode\":\"overlay\",\"size\":10,\"solidity\":0.2}},\"type\":\"bar\"}],\"carpet\":[{\"aaxis\":{\"endlinecolor\":\"rgb(36,36,36)\",\"gridcolor\":\"white\",\"linecolor\":\"white\",\"minorgridcolor\":\"white\",\"startlinecolor\":\"rgb(36,36,36)\"},\"baxis\":{\"endlinecolor\":\"rgb(36,36,36)\",\"gridcolor\":\"white\",\"linecolor\":\"white\",\"minorgridcolor\":\"white\",\"startlinecolor\":\"rgb(36,36,36)\"},\"type\":\"carpet\"}],\"choropleth\":[{\"colorbar\":{\"outlinewidth\":1,\"tickcolor\":\"rgb(36,36,36)\",\"ticks\":\"outside\"},\"type\":\"choropleth\"}],\"contourcarpet\":[{\"colorbar\":{\"outlinewidth\":1,\"tickcolor\":\"rgb(36,36,36)\",\"ticks\":\"outside\"},\"type\":\"contourcarpet\"}],\"contour\":[{\"colorbar\":{\"outlinewidth\":1,\"tickcolor\":\"rgb(36,36,36)\",\"ticks\":\"outside\"},\"colorscale\":[[0.0,\"#440154\"],[0.1111111111111111,\"#482878\"],[0.2222222222222222,\"#3e4989\"],[0.3333333333333333,\"#31688e\"],[0.4444444444444444,\"#26828e\"],[0.5555555555555556,\"#1f9e89\"],[0.6666666666666666,\"#35b779\"],[0.7777777777777778,\"#6ece58\"],[0.8888888888888888,\"#b5de2b\"],[1.0,\"#fde725\"]],\"type\":\"contour\"}],\"heatmap\":[{\"colorbar\":{\"outlinewidth\":1,\"tickcolor\":\"rgb(36,36,36)\",\"ticks\":\"outside\"},\"colorscale\":[[0.0,\"#440154\"],[0.1111111111111111,\"#482878\"],[0.2222222222222222,\"#3e4989\"],[0.3333333333333333,\"#31688e\"],[0.4444444444444444,\"#26828e\"],[0.5555555555555556,\"#1f9e89\"],[0.6666666666666666,\"#35b779\"],[0.7777777777777778,\"#6ece58\"],[0.8888888888888888,\"#b5de2b\"],[1.0,\"#fde725\"]],\"type\":\"heatmap\"}],\"histogram2dcontour\":[{\"colorbar\":{\"outlinewidth\":1,\"tickcolor\":\"rgb(36,36,36)\",\"ticks\":\"outside\"},\"colorscale\":[[0.0,\"#440154\"],[0.1111111111111111,\"#482878\"],[0.2222222222222222,\"#3e4989\"],[0.3333333333333333,\"#31688e\"],[0.4444444444444444,\"#26828e\"],[0.5555555555555556,\"#1f9e89\"],[0.6666666666666666,\"#35b779\"],[0.7777777777777778,\"#6ece58\"],[0.8888888888888888,\"#b5de2b\"],[1.0,\"#fde725\"]],\"type\":\"histogram2dcontour\"}],\"histogram2d\":[{\"colorbar\":{\"outlinewidth\":1,\"tickcolor\":\"rgb(36,36,36)\",\"ticks\":\"outside\"},\"colorscale\":[[0.0,\"#440154\"],[0.1111111111111111,\"#482878\"],[0.2222222222222222,\"#3e4989\"],[0.3333333333333333,\"#31688e\"],[0.4444444444444444,\"#26828e\"],[0.5555555555555556,\"#1f9e89\"],[0.6666666666666666,\"#35b779\"],[0.7777777777777778,\"#6ece58\"],[0.8888888888888888,\"#b5de2b\"],[1.0,\"#fde725\"]],\"type\":\"histogram2d\"}],\"histogram\":[{\"marker\":{\"line\":{\"color\":\"white\",\"width\":0.6}},\"type\":\"histogram\"}],\"mesh3d\":[{\"colorbar\":{\"outlinewidth\":1,\"tickcolor\":\"rgb(36,36,36)\",\"ticks\":\"outside\"},\"type\":\"mesh3d\"}],\"parcoords\":[{\"line\":{\"colorbar\":{\"outlinewidth\":1,\"tickcolor\":\"rgb(36,36,36)\",\"ticks\":\"outside\"}},\"type\":\"parcoords\"}],\"pie\":[{\"automargin\":true,\"type\":\"pie\"}],\"scatter3d\":[{\"line\":{\"colorbar\":{\"outlinewidth\":1,\"tickcolor\":\"rgb(36,36,36)\",\"ticks\":\"outside\"}},\"marker\":{\"colorbar\":{\"outlinewidth\":1,\"tickcolor\":\"rgb(36,36,36)\",\"ticks\":\"outside\"}},\"type\":\"scatter3d\"}],\"scattercarpet\":[{\"marker\":{\"colorbar\":{\"outlinewidth\":1,\"tickcolor\":\"rgb(36,36,36)\",\"ticks\":\"outside\"}},\"type\":\"scattercarpet\"}],\"scattergeo\":[{\"marker\":{\"colorbar\":{\"outlinewidth\":1,\"tickcolor\":\"rgb(36,36,36)\",\"ticks\":\"outside\"}},\"type\":\"scattergeo\"}],\"scattergl\":[{\"marker\":{\"colorbar\":{\"outlinewidth\":1,\"tickcolor\":\"rgb(36,36,36)\",\"ticks\":\"outside\"}},\"type\":\"scattergl\"}],\"scattermapbox\":[{\"marker\":{\"colorbar\":{\"outlinewidth\":1,\"tickcolor\":\"rgb(36,36,36)\",\"ticks\":\"outside\"}},\"type\":\"scattermapbox\"}],\"scattermap\":[{\"marker\":{\"colorbar\":{\"outlinewidth\":1,\"tickcolor\":\"rgb(36,36,36)\",\"ticks\":\"outside\"}},\"type\":\"scattermap\"}],\"scatterpolargl\":[{\"marker\":{\"colorbar\":{\"outlinewidth\":1,\"tickcolor\":\"rgb(36,36,36)\",\"ticks\":\"outside\"}},\"type\":\"scatterpolargl\"}],\"scatterpolar\":[{\"marker\":{\"colorbar\":{\"outlinewidth\":1,\"tickcolor\":\"rgb(36,36,36)\",\"ticks\":\"outside\"}},\"type\":\"scatterpolar\"}],\"scatter\":[{\"fillpattern\":{\"fillmode\":\"overlay\",\"size\":10,\"solidity\":0.2},\"type\":\"scatter\"}],\"scatterternary\":[{\"marker\":{\"colorbar\":{\"outlinewidth\":1,\"tickcolor\":\"rgb(36,36,36)\",\"ticks\":\"outside\"}},\"type\":\"scatterternary\"}],\"surface\":[{\"colorbar\":{\"outlinewidth\":1,\"tickcolor\":\"rgb(36,36,36)\",\"ticks\":\"outside\"},\"colorscale\":[[0.0,\"#440154\"],[0.1111111111111111,\"#482878\"],[0.2222222222222222,\"#3e4989\"],[0.3333333333333333,\"#31688e\"],[0.4444444444444444,\"#26828e\"],[0.5555555555555556,\"#1f9e89\"],[0.6666666666666666,\"#35b779\"],[0.7777777777777778,\"#6ece58\"],[0.8888888888888888,\"#b5de2b\"],[1.0,\"#fde725\"]],\"type\":\"surface\"}],\"table\":[{\"cells\":{\"fill\":{\"color\":\"rgb(237,237,237)\"},\"line\":{\"color\":\"white\"}},\"header\":{\"fill\":{\"color\":\"rgb(217,217,217)\"},\"line\":{\"color\":\"white\"}},\"type\":\"table\"}]},\"layout\":{\"annotationdefaults\":{\"arrowhead\":0,\"arrowwidth\":1},\"autotypenumbers\":\"strict\",\"coloraxis\":{\"colorbar\":{\"outlinewidth\":1,\"tickcolor\":\"rgb(36,36,36)\",\"ticks\":\"outside\"}},\"colorscale\":{\"diverging\":[[0.0,\"rgb(103,0,31)\"],[0.1,\"rgb(178,24,43)\"],[0.2,\"rgb(214,96,77)\"],[0.3,\"rgb(244,165,130)\"],[0.4,\"rgb(253,219,199)\"],[0.5,\"rgb(247,247,247)\"],[0.6,\"rgb(209,229,240)\"],[0.7,\"rgb(146,197,222)\"],[0.8,\"rgb(67,147,195)\"],[0.9,\"rgb(33,102,172)\"],[1.0,\"rgb(5,48,97)\"]],\"sequential\":[[0.0,\"#440154\"],[0.1111111111111111,\"#482878\"],[0.2222222222222222,\"#3e4989\"],[0.3333333333333333,\"#31688e\"],[0.4444444444444444,\"#26828e\"],[0.5555555555555556,\"#1f9e89\"],[0.6666666666666666,\"#35b779\"],[0.7777777777777778,\"#6ece58\"],[0.8888888888888888,\"#b5de2b\"],[1.0,\"#fde725\"]],\"sequentialminus\":[[0.0,\"#440154\"],[0.1111111111111111,\"#482878\"],[0.2222222222222222,\"#3e4989\"],[0.3333333333333333,\"#31688e\"],[0.4444444444444444,\"#26828e\"],[0.5555555555555556,\"#1f9e89\"],[0.6666666666666666,\"#35b779\"],[0.7777777777777778,\"#6ece58\"],[0.8888888888888888,\"#b5de2b\"],[1.0,\"#fde725\"]]},\"colorway\":[\"#1F77B4\",\"#FF7F0E\",\"#2CA02C\",\"#D62728\",\"#9467BD\",\"#8C564B\",\"#E377C2\",\"#7F7F7F\",\"#BCBD22\",\"#17BECF\"],\"font\":{\"color\":\"rgb(36,36,36)\"},\"geo\":{\"bgcolor\":\"white\",\"lakecolor\":\"white\",\"landcolor\":\"white\",\"showlakes\":true,\"showland\":true,\"subunitcolor\":\"white\"},\"hoverlabel\":{\"align\":\"left\"},\"hovermode\":\"closest\",\"mapbox\":{\"style\":\"light\"},\"paper_bgcolor\":\"white\",\"plot_bgcolor\":\"white\",\"polar\":{\"angularaxis\":{\"gridcolor\":\"rgb(232,232,232)\",\"linecolor\":\"rgb(36,36,36)\",\"showgrid\":false,\"showline\":true,\"ticks\":\"outside\"},\"bgcolor\":\"white\",\"radialaxis\":{\"gridcolor\":\"rgb(232,232,232)\",\"linecolor\":\"rgb(36,36,36)\",\"showgrid\":false,\"showline\":true,\"ticks\":\"outside\"}},\"scene\":{\"xaxis\":{\"backgroundcolor\":\"white\",\"gridcolor\":\"rgb(232,232,232)\",\"gridwidth\":2,\"linecolor\":\"rgb(36,36,36)\",\"showbackground\":true,\"showgrid\":false,\"showline\":true,\"ticks\":\"outside\",\"zeroline\":false,\"zerolinecolor\":\"rgb(36,36,36)\"},\"yaxis\":{\"backgroundcolor\":\"white\",\"gridcolor\":\"rgb(232,232,232)\",\"gridwidth\":2,\"linecolor\":\"rgb(36,36,36)\",\"showbackground\":true,\"showgrid\":false,\"showline\":true,\"ticks\":\"outside\",\"zeroline\":false,\"zerolinecolor\":\"rgb(36,36,36)\"},\"zaxis\":{\"backgroundcolor\":\"white\",\"gridcolor\":\"rgb(232,232,232)\",\"gridwidth\":2,\"linecolor\":\"rgb(36,36,36)\",\"showbackground\":true,\"showgrid\":false,\"showline\":true,\"ticks\":\"outside\",\"zeroline\":false,\"zerolinecolor\":\"rgb(36,36,36)\"}},\"shapedefaults\":{\"fillcolor\":\"black\",\"line\":{\"width\":0},\"opacity\":0.3},\"ternary\":{\"aaxis\":{\"gridcolor\":\"rgb(232,232,232)\",\"linecolor\":\"rgb(36,36,36)\",\"showgrid\":false,\"showline\":true,\"ticks\":\"outside\"},\"baxis\":{\"gridcolor\":\"rgb(232,232,232)\",\"linecolor\":\"rgb(36,36,36)\",\"showgrid\":false,\"showline\":true,\"ticks\":\"outside\"},\"bgcolor\":\"white\",\"caxis\":{\"gridcolor\":\"rgb(232,232,232)\",\"linecolor\":\"rgb(36,36,36)\",\"showgrid\":false,\"showline\":true,\"ticks\":\"outside\"}},\"title\":{\"x\":0.05},\"xaxis\":{\"automargin\":true,\"gridcolor\":\"rgb(232,232,232)\",\"linecolor\":\"rgb(36,36,36)\",\"showgrid\":false,\"showline\":true,\"ticks\":\"outside\",\"title\":{\"standoff\":15},\"zeroline\":false,\"zerolinecolor\":\"rgb(36,36,36)\"},\"yaxis\":{\"automargin\":true,\"gridcolor\":\"rgb(232,232,232)\",\"linecolor\":\"rgb(36,36,36)\",\"showgrid\":false,\"showline\":true,\"ticks\":\"outside\",\"title\":{\"standoff\":15},\"zeroline\":false,\"zerolinecolor\":\"rgb(36,36,36)\"}}},\"xaxis\":{\"anchor\":\"y\",\"domain\":[0.0,1.0],\"title\":{\"text\":\"Category\"}},\"yaxis\":{\"anchor\":\"x\",\"domain\":[0.0,1.0],\"autorange\":\"reversed\",\"title\":{\"text\":\"Grade\"}},\"coloraxis\":{\"colorscale\":[[0.0,\"rgb(247,251,255)\"],[0.125,\"rgb(222,235,247)\"],[0.25,\"rgb(198,219,239)\"],[0.375,\"rgb(158,202,225)\"],[0.5,\"rgb(107,174,214)\"],[0.625,\"rgb(66,146,198)\"],[0.75,\"rgb(33,113,181)\"],[0.875,\"rgb(8,81,156)\"],[1.0,\"rgb(8,48,107)\"]]},\"title\":{\"text\":\"Labelled subset: Grade \\u00d7 Category (counts)\"}},                        {\"responsive\": true}                    ).then(function(){\n",
       "                            \n",
       "var gd = document.getElementById('9b2a014a-b9d7-40f4-811a-940759a340e7');\n",
       "var x = new MutationObserver(function (mutations, observer) {{\n",
       "        var display = window.getComputedStyle(gd).display;\n",
       "        if (!display || display === 'none') {{\n",
       "            console.log([gd, 'removed!']);\n",
       "            Plotly.purge(gd);\n",
       "            observer.disconnect();\n",
       "        }}\n",
       "}});\n",
       "\n",
       "// Listen for the removal of the full notebook cells\n",
       "var notebookContainer = gd.closest('#notebook-container');\n",
       "if (notebookContainer) {{\n",
       "    x.observe(notebookContainer, {childList: true});\n",
       "}}\n",
       "\n",
       "// Listen for the clearing of the current output cell\n",
       "var outputEl = gd.closest('.output');\n",
       "if (outputEl) {{\n",
       "    x.observe(outputEl, {childList: true});\n",
       "}}\n",
       "\n",
       "                        })                };            </script>        </div>"
      ]
     },
     "metadata": {},
     "output_type": "display_data"
    }
   ],
   "source": [
    "fig = px.imshow(\n",
    "    pvt,\n",
    "    text_auto=True,\n",
    "    color_continuous_scale=\"Blues\",\n",
    "    aspect=\"auto\",\n",
    "    title=\"Labelled subset: Grade × Category (counts)\"\n",
    ")\n",
    "fig.update_layout(template=\"simple_white\", xaxis_title=\"Category\", yaxis_title=\"Grade\")\n",
    "fig.show()"
   ]
  },
  {
   "cell_type": "markdown",
   "id": "d864725c",
   "metadata": {},
   "source": [
    "## convert counts → within-grade percentages"
   ]
  },
  {
   "cell_type": "code",
   "execution_count": 46,
   "id": "eeb7e296",
   "metadata": {},
   "outputs": [
    {
     "data": {
      "application/vnd.microsoft.datawrangler.viewer.v0+json": {
       "columns": [
        {
         "name": "Grade",
         "rawType": "object",
         "type": "string"
        },
        {
         "name": "Other comms",
         "rawType": "float64",
         "type": "float"
        },
        {
         "name": "admin",
         "rawType": "float64",
         "type": "float"
        },
        {
         "name": "analyse, review, research",
         "rawType": "float64",
         "type": "float"
        },
        {
         "name": "billing",
         "rawType": "float64",
         "type": "float"
        },
        {
         "name": "client time",
         "rawType": "float64",
         "type": "float"
        },
        {
         "name": "onboarding",
         "rawType": "float64",
         "type": "float"
        },
        {
         "name": "preparing documents",
         "rawType": "float64",
         "type": "float"
        }
       ],
       "ref": "aa1d6cc9-cebd-4fec-9679-f066ac8bfeaf",
       "rows": [
        [
         "Junior",
         "14.0",
         "7.9",
         "9.2",
         "2.6",
         "31.9",
         "14.0",
         "20.5"
        ],
        [
         "Partner",
         "9.0",
         "4.5",
         "23.9",
         "4.5",
         "43.3",
         "6.0",
         "9.0"
        ],
        [
         "Senior",
         "14.0",
         "4.2",
         "18.1",
         "1.1",
         "36.6",
         "4.9",
         "21.1"
        ]
       ],
       "shape": {
        "columns": 7,
        "rows": 3
       }
      },
      "text/html": [
       "<div>\n",
       "<style scoped>\n",
       "    .dataframe tbody tr th:only-of-type {\n",
       "        vertical-align: middle;\n",
       "    }\n",
       "\n",
       "    .dataframe tbody tr th {\n",
       "        vertical-align: top;\n",
       "    }\n",
       "\n",
       "    .dataframe thead th {\n",
       "        text-align: right;\n",
       "    }\n",
       "</style>\n",
       "<table border=\"1\" class=\"dataframe\">\n",
       "  <thead>\n",
       "    <tr style=\"text-align: right;\">\n",
       "      <th>Category</th>\n",
       "      <th>Other comms</th>\n",
       "      <th>admin</th>\n",
       "      <th>analyse, review, research</th>\n",
       "      <th>billing</th>\n",
       "      <th>client time</th>\n",
       "      <th>onboarding</th>\n",
       "      <th>preparing documents</th>\n",
       "    </tr>\n",
       "    <tr>\n",
       "      <th>Grade</th>\n",
       "      <th></th>\n",
       "      <th></th>\n",
       "      <th></th>\n",
       "      <th></th>\n",
       "      <th></th>\n",
       "      <th></th>\n",
       "      <th></th>\n",
       "    </tr>\n",
       "  </thead>\n",
       "  <tbody>\n",
       "    <tr>\n",
       "      <th>Junior</th>\n",
       "      <td>14.0</td>\n",
       "      <td>7.9</td>\n",
       "      <td>9.2</td>\n",
       "      <td>2.6</td>\n",
       "      <td>31.9</td>\n",
       "      <td>14.0</td>\n",
       "      <td>20.5</td>\n",
       "    </tr>\n",
       "    <tr>\n",
       "      <th>Partner</th>\n",
       "      <td>9.0</td>\n",
       "      <td>4.5</td>\n",
       "      <td>23.9</td>\n",
       "      <td>4.5</td>\n",
       "      <td>43.3</td>\n",
       "      <td>6.0</td>\n",
       "      <td>9.0</td>\n",
       "    </tr>\n",
       "    <tr>\n",
       "      <th>Senior</th>\n",
       "      <td>14.0</td>\n",
       "      <td>4.2</td>\n",
       "      <td>18.1</td>\n",
       "      <td>1.1</td>\n",
       "      <td>36.6</td>\n",
       "      <td>4.9</td>\n",
       "      <td>21.1</td>\n",
       "    </tr>\n",
       "  </tbody>\n",
       "</table>\n",
       "</div>"
      ],
      "text/plain": [
       "Category  Other comms  admin  analyse, review, research  billing  client time  \\\n",
       "Grade                                                                           \n",
       "Junior           14.0    7.9                        9.2      2.6         31.9   \n",
       "Partner           9.0    4.5                       23.9      4.5         43.3   \n",
       "Senior           14.0    4.2                       18.1      1.1         36.6   \n",
       "\n",
       "Category  onboarding  preparing documents  \n",
       "Grade                                      \n",
       "Junior          14.0                 20.5  \n",
       "Partner          6.0                  9.0  \n",
       "Senior           4.9                 21.1  "
      ]
     },
     "execution_count": 46,
     "metadata": {},
     "output_type": "execute_result"
    }
   ],
   "source": [
    "df_l = df[df[\"Category\"].notna()].copy()\n",
    "\n",
    "pvt_counts = df_l.pivot_table(\n",
    "    index=\"Grade\", columns=\"Category\", values=\"Worked Time\",\n",
    "    aggfunc=\"size\", fill_value=0\n",
    ")\n",
    "\n",
    "pvt_pct = pvt_counts.div(pvt_counts.sum(axis=1), axis=0).mul(100).round(1)\n",
    "pvt_pct"
   ]
  },
  {
   "cell_type": "code",
   "execution_count": 47,
   "id": "ec8ab571",
   "metadata": {},
   "outputs": [
    {
     "data": {
      "text/html": [
       "<div>            <script src=\"https://cdnjs.cloudflare.com/ajax/libs/mathjax/2.7.5/MathJax.js?config=TeX-AMS-MML_SVG\"></script><script type=\"text/javascript\">if (window.MathJax && window.MathJax.Hub && window.MathJax.Hub.Config) {window.MathJax.Hub.Config({SVG: {font: \"STIX-Web\"}});}</script>                <script type=\"text/javascript\">window.PlotlyConfig = {MathJaxConfig: 'local'};</script>\n",
       "        <script charset=\"utf-8\" src=\"https://cdn.plot.ly/plotly-3.1.0.min.js\" integrity=\"sha256-Ei4740bWZhaUTQuD6q9yQlgVCMPBz6CZWhevDYPv93A=\" crossorigin=\"anonymous\"></script>                <div id=\"ea55de3b-235e-48bc-8453-44de14e99281\" class=\"plotly-graph-div\" style=\"height:525px; width:100%;\"></div>            <script type=\"text/javascript\">                window.PLOTLYENV=window.PLOTLYENV || {};                                if (document.getElementById(\"ea55de3b-235e-48bc-8453-44de14e99281\")) {                    Plotly.newPlot(                        \"ea55de3b-235e-48bc-8453-44de14e99281\",                        [{\"coloraxis\":\"coloraxis\",\"name\":\"0\",\"texttemplate\":\"%{z}\",\"x\":[\"Other comms\",\"admin\",\"analyse, review, research\",\"billing\",\"client time\",\"onboarding\",\"preparing documents\"],\"y\":[\"Junior\",\"Partner\",\"Senior\"],\"z\":{\"dtype\":\"f8\",\"bdata\":\"AAAAAAAALECamZmZmZkfQGZmZmZmZiJAzczMzMzMBEBmZmZmZuY\\u002fQAAAAAAAACxAAAAAAACANEAAAAAAAAAiQAAAAAAAABJAZmZmZmbmN0AAAAAAAAASQGZmZmZmpkVAAAAAAAAAGEAAAAAAAAAiQAAAAAAAACxAzczMzMzMEECamZmZmRkyQJqZmZmZmfE\\u002fzczMzMxMQkCamZmZmZkTQJqZmZmZGTVA\",\"shape\":\"3, 7\"},\"type\":\"heatmap\",\"xaxis\":\"x\",\"yaxis\":\"y\",\"hovertemplate\":\"Category: %{x}\\u003cbr\\u003eGrade: %{y}\\u003cbr\\u003ecolor: %{z}\\u003cextra\\u003e\\u003c\\u002fextra\\u003e\"}],                        {\"template\":{\"data\":{\"barpolar\":[{\"marker\":{\"line\":{\"color\":\"white\",\"width\":0.5},\"pattern\":{\"fillmode\":\"overlay\",\"size\":10,\"solidity\":0.2}},\"type\":\"barpolar\"}],\"bar\":[{\"error_x\":{\"color\":\"rgb(36,36,36)\"},\"error_y\":{\"color\":\"rgb(36,36,36)\"},\"marker\":{\"line\":{\"color\":\"white\",\"width\":0.5},\"pattern\":{\"fillmode\":\"overlay\",\"size\":10,\"solidity\":0.2}},\"type\":\"bar\"}],\"carpet\":[{\"aaxis\":{\"endlinecolor\":\"rgb(36,36,36)\",\"gridcolor\":\"white\",\"linecolor\":\"white\",\"minorgridcolor\":\"white\",\"startlinecolor\":\"rgb(36,36,36)\"},\"baxis\":{\"endlinecolor\":\"rgb(36,36,36)\",\"gridcolor\":\"white\",\"linecolor\":\"white\",\"minorgridcolor\":\"white\",\"startlinecolor\":\"rgb(36,36,36)\"},\"type\":\"carpet\"}],\"choropleth\":[{\"colorbar\":{\"outlinewidth\":1,\"tickcolor\":\"rgb(36,36,36)\",\"ticks\":\"outside\"},\"type\":\"choropleth\"}],\"contourcarpet\":[{\"colorbar\":{\"outlinewidth\":1,\"tickcolor\":\"rgb(36,36,36)\",\"ticks\":\"outside\"},\"type\":\"contourcarpet\"}],\"contour\":[{\"colorbar\":{\"outlinewidth\":1,\"tickcolor\":\"rgb(36,36,36)\",\"ticks\":\"outside\"},\"colorscale\":[[0.0,\"#440154\"],[0.1111111111111111,\"#482878\"],[0.2222222222222222,\"#3e4989\"],[0.3333333333333333,\"#31688e\"],[0.4444444444444444,\"#26828e\"],[0.5555555555555556,\"#1f9e89\"],[0.6666666666666666,\"#35b779\"],[0.7777777777777778,\"#6ece58\"],[0.8888888888888888,\"#b5de2b\"],[1.0,\"#fde725\"]],\"type\":\"contour\"}],\"heatmap\":[{\"colorbar\":{\"outlinewidth\":1,\"tickcolor\":\"rgb(36,36,36)\",\"ticks\":\"outside\"},\"colorscale\":[[0.0,\"#440154\"],[0.1111111111111111,\"#482878\"],[0.2222222222222222,\"#3e4989\"],[0.3333333333333333,\"#31688e\"],[0.4444444444444444,\"#26828e\"],[0.5555555555555556,\"#1f9e89\"],[0.6666666666666666,\"#35b779\"],[0.7777777777777778,\"#6ece58\"],[0.8888888888888888,\"#b5de2b\"],[1.0,\"#fde725\"]],\"type\":\"heatmap\"}],\"histogram2dcontour\":[{\"colorbar\":{\"outlinewidth\":1,\"tickcolor\":\"rgb(36,36,36)\",\"ticks\":\"outside\"},\"colorscale\":[[0.0,\"#440154\"],[0.1111111111111111,\"#482878\"],[0.2222222222222222,\"#3e4989\"],[0.3333333333333333,\"#31688e\"],[0.4444444444444444,\"#26828e\"],[0.5555555555555556,\"#1f9e89\"],[0.6666666666666666,\"#35b779\"],[0.7777777777777778,\"#6ece58\"],[0.8888888888888888,\"#b5de2b\"],[1.0,\"#fde725\"]],\"type\":\"histogram2dcontour\"}],\"histogram2d\":[{\"colorbar\":{\"outlinewidth\":1,\"tickcolor\":\"rgb(36,36,36)\",\"ticks\":\"outside\"},\"colorscale\":[[0.0,\"#440154\"],[0.1111111111111111,\"#482878\"],[0.2222222222222222,\"#3e4989\"],[0.3333333333333333,\"#31688e\"],[0.4444444444444444,\"#26828e\"],[0.5555555555555556,\"#1f9e89\"],[0.6666666666666666,\"#35b779\"],[0.7777777777777778,\"#6ece58\"],[0.8888888888888888,\"#b5de2b\"],[1.0,\"#fde725\"]],\"type\":\"histogram2d\"}],\"histogram\":[{\"marker\":{\"line\":{\"color\":\"white\",\"width\":0.6}},\"type\":\"histogram\"}],\"mesh3d\":[{\"colorbar\":{\"outlinewidth\":1,\"tickcolor\":\"rgb(36,36,36)\",\"ticks\":\"outside\"},\"type\":\"mesh3d\"}],\"parcoords\":[{\"line\":{\"colorbar\":{\"outlinewidth\":1,\"tickcolor\":\"rgb(36,36,36)\",\"ticks\":\"outside\"}},\"type\":\"parcoords\"}],\"pie\":[{\"automargin\":true,\"type\":\"pie\"}],\"scatter3d\":[{\"line\":{\"colorbar\":{\"outlinewidth\":1,\"tickcolor\":\"rgb(36,36,36)\",\"ticks\":\"outside\"}},\"marker\":{\"colorbar\":{\"outlinewidth\":1,\"tickcolor\":\"rgb(36,36,36)\",\"ticks\":\"outside\"}},\"type\":\"scatter3d\"}],\"scattercarpet\":[{\"marker\":{\"colorbar\":{\"outlinewidth\":1,\"tickcolor\":\"rgb(36,36,36)\",\"ticks\":\"outside\"}},\"type\":\"scattercarpet\"}],\"scattergeo\":[{\"marker\":{\"colorbar\":{\"outlinewidth\":1,\"tickcolor\":\"rgb(36,36,36)\",\"ticks\":\"outside\"}},\"type\":\"scattergeo\"}],\"scattergl\":[{\"marker\":{\"colorbar\":{\"outlinewidth\":1,\"tickcolor\":\"rgb(36,36,36)\",\"ticks\":\"outside\"}},\"type\":\"scattergl\"}],\"scattermapbox\":[{\"marker\":{\"colorbar\":{\"outlinewidth\":1,\"tickcolor\":\"rgb(36,36,36)\",\"ticks\":\"outside\"}},\"type\":\"scattermapbox\"}],\"scattermap\":[{\"marker\":{\"colorbar\":{\"outlinewidth\":1,\"tickcolor\":\"rgb(36,36,36)\",\"ticks\":\"outside\"}},\"type\":\"scattermap\"}],\"scatterpolargl\":[{\"marker\":{\"colorbar\":{\"outlinewidth\":1,\"tickcolor\":\"rgb(36,36,36)\",\"ticks\":\"outside\"}},\"type\":\"scatterpolargl\"}],\"scatterpolar\":[{\"marker\":{\"colorbar\":{\"outlinewidth\":1,\"tickcolor\":\"rgb(36,36,36)\",\"ticks\":\"outside\"}},\"type\":\"scatterpolar\"}],\"scatter\":[{\"fillpattern\":{\"fillmode\":\"overlay\",\"size\":10,\"solidity\":0.2},\"type\":\"scatter\"}],\"scatterternary\":[{\"marker\":{\"colorbar\":{\"outlinewidth\":1,\"tickcolor\":\"rgb(36,36,36)\",\"ticks\":\"outside\"}},\"type\":\"scatterternary\"}],\"surface\":[{\"colorbar\":{\"outlinewidth\":1,\"tickcolor\":\"rgb(36,36,36)\",\"ticks\":\"outside\"},\"colorscale\":[[0.0,\"#440154\"],[0.1111111111111111,\"#482878\"],[0.2222222222222222,\"#3e4989\"],[0.3333333333333333,\"#31688e\"],[0.4444444444444444,\"#26828e\"],[0.5555555555555556,\"#1f9e89\"],[0.6666666666666666,\"#35b779\"],[0.7777777777777778,\"#6ece58\"],[0.8888888888888888,\"#b5de2b\"],[1.0,\"#fde725\"]],\"type\":\"surface\"}],\"table\":[{\"cells\":{\"fill\":{\"color\":\"rgb(237,237,237)\"},\"line\":{\"color\":\"white\"}},\"header\":{\"fill\":{\"color\":\"rgb(217,217,217)\"},\"line\":{\"color\":\"white\"}},\"type\":\"table\"}]},\"layout\":{\"annotationdefaults\":{\"arrowhead\":0,\"arrowwidth\":1},\"autotypenumbers\":\"strict\",\"coloraxis\":{\"colorbar\":{\"outlinewidth\":1,\"tickcolor\":\"rgb(36,36,36)\",\"ticks\":\"outside\"}},\"colorscale\":{\"diverging\":[[0.0,\"rgb(103,0,31)\"],[0.1,\"rgb(178,24,43)\"],[0.2,\"rgb(214,96,77)\"],[0.3,\"rgb(244,165,130)\"],[0.4,\"rgb(253,219,199)\"],[0.5,\"rgb(247,247,247)\"],[0.6,\"rgb(209,229,240)\"],[0.7,\"rgb(146,197,222)\"],[0.8,\"rgb(67,147,195)\"],[0.9,\"rgb(33,102,172)\"],[1.0,\"rgb(5,48,97)\"]],\"sequential\":[[0.0,\"#440154\"],[0.1111111111111111,\"#482878\"],[0.2222222222222222,\"#3e4989\"],[0.3333333333333333,\"#31688e\"],[0.4444444444444444,\"#26828e\"],[0.5555555555555556,\"#1f9e89\"],[0.6666666666666666,\"#35b779\"],[0.7777777777777778,\"#6ece58\"],[0.8888888888888888,\"#b5de2b\"],[1.0,\"#fde725\"]],\"sequentialminus\":[[0.0,\"#440154\"],[0.1111111111111111,\"#482878\"],[0.2222222222222222,\"#3e4989\"],[0.3333333333333333,\"#31688e\"],[0.4444444444444444,\"#26828e\"],[0.5555555555555556,\"#1f9e89\"],[0.6666666666666666,\"#35b779\"],[0.7777777777777778,\"#6ece58\"],[0.8888888888888888,\"#b5de2b\"],[1.0,\"#fde725\"]]},\"colorway\":[\"#1F77B4\",\"#FF7F0E\",\"#2CA02C\",\"#D62728\",\"#9467BD\",\"#8C564B\",\"#E377C2\",\"#7F7F7F\",\"#BCBD22\",\"#17BECF\"],\"font\":{\"color\":\"rgb(36,36,36)\"},\"geo\":{\"bgcolor\":\"white\",\"lakecolor\":\"white\",\"landcolor\":\"white\",\"showlakes\":true,\"showland\":true,\"subunitcolor\":\"white\"},\"hoverlabel\":{\"align\":\"left\"},\"hovermode\":\"closest\",\"mapbox\":{\"style\":\"light\"},\"paper_bgcolor\":\"white\",\"plot_bgcolor\":\"white\",\"polar\":{\"angularaxis\":{\"gridcolor\":\"rgb(232,232,232)\",\"linecolor\":\"rgb(36,36,36)\",\"showgrid\":false,\"showline\":true,\"ticks\":\"outside\"},\"bgcolor\":\"white\",\"radialaxis\":{\"gridcolor\":\"rgb(232,232,232)\",\"linecolor\":\"rgb(36,36,36)\",\"showgrid\":false,\"showline\":true,\"ticks\":\"outside\"}},\"scene\":{\"xaxis\":{\"backgroundcolor\":\"white\",\"gridcolor\":\"rgb(232,232,232)\",\"gridwidth\":2,\"linecolor\":\"rgb(36,36,36)\",\"showbackground\":true,\"showgrid\":false,\"showline\":true,\"ticks\":\"outside\",\"zeroline\":false,\"zerolinecolor\":\"rgb(36,36,36)\"},\"yaxis\":{\"backgroundcolor\":\"white\",\"gridcolor\":\"rgb(232,232,232)\",\"gridwidth\":2,\"linecolor\":\"rgb(36,36,36)\",\"showbackground\":true,\"showgrid\":false,\"showline\":true,\"ticks\":\"outside\",\"zeroline\":false,\"zerolinecolor\":\"rgb(36,36,36)\"},\"zaxis\":{\"backgroundcolor\":\"white\",\"gridcolor\":\"rgb(232,232,232)\",\"gridwidth\":2,\"linecolor\":\"rgb(36,36,36)\",\"showbackground\":true,\"showgrid\":false,\"showline\":true,\"ticks\":\"outside\",\"zeroline\":false,\"zerolinecolor\":\"rgb(36,36,36)\"}},\"shapedefaults\":{\"fillcolor\":\"black\",\"line\":{\"width\":0},\"opacity\":0.3},\"ternary\":{\"aaxis\":{\"gridcolor\":\"rgb(232,232,232)\",\"linecolor\":\"rgb(36,36,36)\",\"showgrid\":false,\"showline\":true,\"ticks\":\"outside\"},\"baxis\":{\"gridcolor\":\"rgb(232,232,232)\",\"linecolor\":\"rgb(36,36,36)\",\"showgrid\":false,\"showline\":true,\"ticks\":\"outside\"},\"bgcolor\":\"white\",\"caxis\":{\"gridcolor\":\"rgb(232,232,232)\",\"linecolor\":\"rgb(36,36,36)\",\"showgrid\":false,\"showline\":true,\"ticks\":\"outside\"}},\"title\":{\"x\":0.05},\"xaxis\":{\"automargin\":true,\"gridcolor\":\"rgb(232,232,232)\",\"linecolor\":\"rgb(36,36,36)\",\"showgrid\":false,\"showline\":true,\"ticks\":\"outside\",\"title\":{\"standoff\":15},\"zeroline\":false,\"zerolinecolor\":\"rgb(36,36,36)\"},\"yaxis\":{\"automargin\":true,\"gridcolor\":\"rgb(232,232,232)\",\"linecolor\":\"rgb(36,36,36)\",\"showgrid\":false,\"showline\":true,\"ticks\":\"outside\",\"title\":{\"standoff\":15},\"zeroline\":false,\"zerolinecolor\":\"rgb(36,36,36)\"}}},\"xaxis\":{\"anchor\":\"y\",\"domain\":[0.0,1.0],\"title\":{\"text\":\"Category\"}},\"yaxis\":{\"anchor\":\"x\",\"domain\":[0.0,1.0],\"autorange\":\"reversed\",\"title\":{\"text\":\"Grade\"}},\"coloraxis\":{\"colorscale\":[[0.0,\"rgb(247,251,255)\"],[0.125,\"rgb(222,235,247)\"],[0.25,\"rgb(198,219,239)\"],[0.375,\"rgb(158,202,225)\"],[0.5,\"rgb(107,174,214)\"],[0.625,\"rgb(66,146,198)\"],[0.75,\"rgb(33,113,181)\"],[0.875,\"rgb(8,81,156)\"],[1.0,\"rgb(8,48,107)\"]]},\"title\":{\"text\":\"Grade \\u00d7 Category \\u2014 within-grade %\"}},                        {\"responsive\": true}                    ).then(function(){\n",
       "                            \n",
       "var gd = document.getElementById('ea55de3b-235e-48bc-8453-44de14e99281');\n",
       "var x = new MutationObserver(function (mutations, observer) {{\n",
       "        var display = window.getComputedStyle(gd).display;\n",
       "        if (!display || display === 'none') {{\n",
       "            console.log([gd, 'removed!']);\n",
       "            Plotly.purge(gd);\n",
       "            observer.disconnect();\n",
       "        }}\n",
       "}});\n",
       "\n",
       "// Listen for the removal of the full notebook cells\n",
       "var notebookContainer = gd.closest('#notebook-container');\n",
       "if (notebookContainer) {{\n",
       "    x.observe(notebookContainer, {childList: true});\n",
       "}}\n",
       "\n",
       "// Listen for the clearing of the current output cell\n",
       "var outputEl = gd.closest('.output');\n",
       "if (outputEl) {{\n",
       "    x.observe(outputEl, {childList: true});\n",
       "}}\n",
       "\n",
       "                        })                };            </script>        </div>"
      ]
     },
     "metadata": {},
     "output_type": "display_data"
    }
   ],
   "source": [
    "fig = px.imshow(\n",
    "    pvt_pct,\n",
    "    text_auto=True,\n",
    "    color_continuous_scale=\"Blues\",\n",
    "    aspect=\"auto\",\n",
    "    title=\"Grade × Category — within-grade %\"\n",
    ")\n",
    "fig.update_layout(template=\"simple_white\", xaxis_title=\"Category\", yaxis_title=\"Grade\")\n",
    "fig.show()"
   ]
  },
  {
   "cell_type": "markdown",
   "id": "7d83951c",
   "metadata": {},
   "source": [
    "## Top keywords per category (labelled subset)"
   ]
  },
  {
   "cell_type": "code",
   "execution_count": 48,
   "id": "c03e8944",
   "metadata": {},
   "outputs": [
    {
     "data": {
      "application/vnd.microsoft.datawrangler.viewer.v0+json": {
       "columns": [
        {
         "name": "index",
         "rawType": "int64",
         "type": "integer"
        },
        {
         "name": "term",
         "rawType": "object",
         "type": "string"
        },
        {
         "name": "count",
         "rawType": "int64",
         "type": "integer"
        }
       ],
       "ref": "a34c4126-1f28-4983-9e50-02a1869fccbd",
       "rows": [
        [
         "0",
         "email",
         "96"
        ],
        [
         "1",
         "call",
         "38"
        ],
        [
         "2",
         "out",
         "24"
        ],
        [
         "3",
         "letter",
         "23"
        ],
        [
         "4",
         "communicate",
         "20"
        ],
        [
         "5",
         "draft",
         "17"
        ],
        [
         "6",
         "hearing",
         "16"
        ],
        [
         "7",
         "meeting",
         "15"
        ],
        [
         "8",
         "advice",
         "14"
        ],
        [
         "9",
         "update",
         "13"
        ]
       ],
       "shape": {
        "columns": 2,
        "rows": 10
       }
      },
      "text/html": [
       "<div>\n",
       "<style scoped>\n",
       "    .dataframe tbody tr th:only-of-type {\n",
       "        vertical-align: middle;\n",
       "    }\n",
       "\n",
       "    .dataframe tbody tr th {\n",
       "        vertical-align: top;\n",
       "    }\n",
       "\n",
       "    .dataframe thead th {\n",
       "        text-align: right;\n",
       "    }\n",
       "</style>\n",
       "<table border=\"1\" class=\"dataframe\">\n",
       "  <thead>\n",
       "    <tr style=\"text-align: right;\">\n",
       "      <th></th>\n",
       "      <th>term</th>\n",
       "      <th>count</th>\n",
       "    </tr>\n",
       "  </thead>\n",
       "  <tbody>\n",
       "    <tr>\n",
       "      <th>0</th>\n",
       "      <td>email</td>\n",
       "      <td>96</td>\n",
       "    </tr>\n",
       "    <tr>\n",
       "      <th>1</th>\n",
       "      <td>call</td>\n",
       "      <td>38</td>\n",
       "    </tr>\n",
       "    <tr>\n",
       "      <th>2</th>\n",
       "      <td>out</td>\n",
       "      <td>24</td>\n",
       "    </tr>\n",
       "    <tr>\n",
       "      <th>3</th>\n",
       "      <td>letter</td>\n",
       "      <td>23</td>\n",
       "    </tr>\n",
       "    <tr>\n",
       "      <th>4</th>\n",
       "      <td>communicate</td>\n",
       "      <td>20</td>\n",
       "    </tr>\n",
       "    <tr>\n",
       "      <th>5</th>\n",
       "      <td>draft</td>\n",
       "      <td>17</td>\n",
       "    </tr>\n",
       "    <tr>\n",
       "      <th>6</th>\n",
       "      <td>hearing</td>\n",
       "      <td>16</td>\n",
       "    </tr>\n",
       "    <tr>\n",
       "      <th>7</th>\n",
       "      <td>meeting</td>\n",
       "      <td>15</td>\n",
       "    </tr>\n",
       "    <tr>\n",
       "      <th>8</th>\n",
       "      <td>advice</td>\n",
       "      <td>14</td>\n",
       "    </tr>\n",
       "    <tr>\n",
       "      <th>9</th>\n",
       "      <td>update</td>\n",
       "      <td>13</td>\n",
       "    </tr>\n",
       "  </tbody>\n",
       "</table>\n",
       "</div>"
      ],
      "text/plain": [
       "          term  count\n",
       "0        email     96\n",
       "1         call     38\n",
       "2          out     24\n",
       "3       letter     23\n",
       "4  communicate     20\n",
       "5        draft     17\n",
       "6      hearing     16\n",
       "7      meeting     15\n",
       "8       advice     14\n",
       "9       update     13"
      ]
     },
     "execution_count": 48,
     "metadata": {},
     "output_type": "execute_result"
    }
   ],
   "source": [
    "df_l = df[df[\"Category\"].notna()].copy()\n",
    "\n",
    "stop = set(\"\"\"\n",
    "the a an and or of to for on in at by with from is are was were be been being\n",
    "this that these those it its as into about over under between after before during\n",
    "not no yes\n",
    "client time other comms admin billing onboarding preparing documents analyse review research\n",
    "\"\"\".split())\n",
    "\n",
    "def tokenize(s: str):\n",
    "    s = str(s).lower()\n",
    "    s = re.sub(r\"[^a-z0-9\\s]\", \" \", s)\n",
    "    toks = [t for t in s.split() if len(t) > 2 and t not in stop and not t.isdigit()]\n",
    "    return toks\n",
    "\n",
    "df_l[\"tokens\"] = df_l[\"Time Narrative\"].map(tokenize)\n",
    "\n",
    "def top_terms(n=10):\n",
    "    out = {}\n",
    "    for cat, g in df_l.groupby(\"Category\"):\n",
    "        c = Counter()\n",
    "        for toks in g[\"tokens\"]:\n",
    "            c.update(toks)\n",
    "        out[cat] = pd.DataFrame(c.most_common(n), columns=[\"term\", \"count\"])\n",
    "    return out\n",
    "\n",
    "tops = top_terms(10)\n",
    "\n",
    "tops[\"client time\"]"
   ]
  },
  {
   "cell_type": "markdown",
   "id": "6535b886",
   "metadata": {},
   "source": [
    "## Top bigrams per category"
   ]
  },
  {
   "cell_type": "code",
   "execution_count": 49,
   "id": "caf767ae",
   "metadata": {},
   "outputs": [
    {
     "name": "stdout",
     "output_type": "stream",
     "text": [
      "client time\n"
     ]
    },
    {
     "data": {
      "application/vnd.microsoft.datawrangler.viewer.v0+json": {
       "columns": [
        {
         "name": "index",
         "rawType": "int64",
         "type": "integer"
        },
        {
         "name": "bigram",
         "rawType": "object",
         "type": "string"
        },
        {
         "name": "count",
         "rawType": "int64",
         "type": "integer"
        }
       ],
       "ref": "6e1c07af-aaa3-4308-898f-ba86c4a5c762",
       "rows": [
        [
         "0",
         "email out",
         "14"
        ],
        [
         "1",
         "next steps",
         "12"
        ],
        [
         "2",
         "call out",
         "6"
        ],
        [
         "3",
         "out update",
         "6"
        ],
        [
         "4",
         "email exchange",
         "5"
        ],
        [
         "5",
         "considering file",
         "5"
        ],
        [
         "6",
         "file further",
         "5"
        ],
        [
         "7",
         "initial meeting",
         "5"
        ],
        [
         "8",
         "email response",
         "4"
        ],
        [
         "9",
         "draft letter",
         "4"
        ],
        [
         "10",
         "final order",
         "4"
        ],
        [
         "11",
         "side email",
         "4"
        ]
       ],
       "shape": {
        "columns": 2,
        "rows": 12
       }
      },
      "text/html": [
       "<div>\n",
       "<style scoped>\n",
       "    .dataframe tbody tr th:only-of-type {\n",
       "        vertical-align: middle;\n",
       "    }\n",
       "\n",
       "    .dataframe tbody tr th {\n",
       "        vertical-align: top;\n",
       "    }\n",
       "\n",
       "    .dataframe thead th {\n",
       "        text-align: right;\n",
       "    }\n",
       "</style>\n",
       "<table border=\"1\" class=\"dataframe\">\n",
       "  <thead>\n",
       "    <tr style=\"text-align: right;\">\n",
       "      <th></th>\n",
       "      <th>bigram</th>\n",
       "      <th>count</th>\n",
       "    </tr>\n",
       "  </thead>\n",
       "  <tbody>\n",
       "    <tr>\n",
       "      <th>0</th>\n",
       "      <td>email out</td>\n",
       "      <td>14</td>\n",
       "    </tr>\n",
       "    <tr>\n",
       "      <th>1</th>\n",
       "      <td>next steps</td>\n",
       "      <td>12</td>\n",
       "    </tr>\n",
       "    <tr>\n",
       "      <th>2</th>\n",
       "      <td>call out</td>\n",
       "      <td>6</td>\n",
       "    </tr>\n",
       "    <tr>\n",
       "      <th>3</th>\n",
       "      <td>out update</td>\n",
       "      <td>6</td>\n",
       "    </tr>\n",
       "    <tr>\n",
       "      <th>4</th>\n",
       "      <td>email exchange</td>\n",
       "      <td>5</td>\n",
       "    </tr>\n",
       "    <tr>\n",
       "      <th>5</th>\n",
       "      <td>considering file</td>\n",
       "      <td>5</td>\n",
       "    </tr>\n",
       "    <tr>\n",
       "      <th>6</th>\n",
       "      <td>file further</td>\n",
       "      <td>5</td>\n",
       "    </tr>\n",
       "    <tr>\n",
       "      <th>7</th>\n",
       "      <td>initial meeting</td>\n",
       "      <td>5</td>\n",
       "    </tr>\n",
       "    <tr>\n",
       "      <th>8</th>\n",
       "      <td>email response</td>\n",
       "      <td>4</td>\n",
       "    </tr>\n",
       "    <tr>\n",
       "      <th>9</th>\n",
       "      <td>draft letter</td>\n",
       "      <td>4</td>\n",
       "    </tr>\n",
       "    <tr>\n",
       "      <th>10</th>\n",
       "      <td>final order</td>\n",
       "      <td>4</td>\n",
       "    </tr>\n",
       "    <tr>\n",
       "      <th>11</th>\n",
       "      <td>side email</td>\n",
       "      <td>4</td>\n",
       "    </tr>\n",
       "  </tbody>\n",
       "</table>\n",
       "</div>"
      ],
      "text/plain": [
       "              bigram  count\n",
       "0          email out     14\n",
       "1         next steps     12\n",
       "2           call out      6\n",
       "3         out update      6\n",
       "4     email exchange      5\n",
       "5   considering file      5\n",
       "6       file further      5\n",
       "7    initial meeting      5\n",
       "8     email response      4\n",
       "9       draft letter      4\n",
       "10       final order      4\n",
       "11        side email      4"
      ]
     },
     "metadata": {},
     "output_type": "display_data"
    },
    {
     "name": "stdout",
     "output_type": "stream",
     "text": [
      "preparing documents\n"
     ]
    },
    {
     "data": {
      "application/vnd.microsoft.datawrangler.viewer.v0+json": {
       "columns": [
        {
         "name": "index",
         "rawType": "int64",
         "type": "integer"
        },
        {
         "name": "bigram",
         "rawType": "object",
         "type": "string"
        },
        {
         "name": "count",
         "rawType": "int64",
         "type": "integer"
        }
       ],
       "ref": "f5bb6650-e35c-43a2-a025-dd93ed75be2c",
       "rows": [
        [
         "0",
         "draft revise",
         "9"
        ],
        [
         "1",
         "consent order",
         "7"
        ],
        [
         "2",
         "brief counsel",
         "4"
        ],
        [
         "3",
         "finalise letter",
         "3"
        ],
        [
         "4",
         "first draft",
         "3"
        ],
        [
         "5",
         "attendance note",
         "3"
        ],
        [
         "6",
         "revise form",
         "3"
        ],
        [
         "7",
         "professional litigation",
         "2"
        ],
        [
         "8",
         "enclosures brief",
         "2"
        ],
        [
         "9",
         "revise d81",
         "2"
        ],
        [
         "10",
         "letter advice",
         "2"
        ],
        [
         "11",
         "application form",
         "2"
        ]
       ],
       "shape": {
        "columns": 2,
        "rows": 12
       }
      },
      "text/html": [
       "<div>\n",
       "<style scoped>\n",
       "    .dataframe tbody tr th:only-of-type {\n",
       "        vertical-align: middle;\n",
       "    }\n",
       "\n",
       "    .dataframe tbody tr th {\n",
       "        vertical-align: top;\n",
       "    }\n",
       "\n",
       "    .dataframe thead th {\n",
       "        text-align: right;\n",
       "    }\n",
       "</style>\n",
       "<table border=\"1\" class=\"dataframe\">\n",
       "  <thead>\n",
       "    <tr style=\"text-align: right;\">\n",
       "      <th></th>\n",
       "      <th>bigram</th>\n",
       "      <th>count</th>\n",
       "    </tr>\n",
       "  </thead>\n",
       "  <tbody>\n",
       "    <tr>\n",
       "      <th>0</th>\n",
       "      <td>draft revise</td>\n",
       "      <td>9</td>\n",
       "    </tr>\n",
       "    <tr>\n",
       "      <th>1</th>\n",
       "      <td>consent order</td>\n",
       "      <td>7</td>\n",
       "    </tr>\n",
       "    <tr>\n",
       "      <th>2</th>\n",
       "      <td>brief counsel</td>\n",
       "      <td>4</td>\n",
       "    </tr>\n",
       "    <tr>\n",
       "      <th>3</th>\n",
       "      <td>finalise letter</td>\n",
       "      <td>3</td>\n",
       "    </tr>\n",
       "    <tr>\n",
       "      <th>4</th>\n",
       "      <td>first draft</td>\n",
       "      <td>3</td>\n",
       "    </tr>\n",
       "    <tr>\n",
       "      <th>5</th>\n",
       "      <td>attendance note</td>\n",
       "      <td>3</td>\n",
       "    </tr>\n",
       "    <tr>\n",
       "      <th>6</th>\n",
       "      <td>revise form</td>\n",
       "      <td>3</td>\n",
       "    </tr>\n",
       "    <tr>\n",
       "      <th>7</th>\n",
       "      <td>professional litigation</td>\n",
       "      <td>2</td>\n",
       "    </tr>\n",
       "    <tr>\n",
       "      <th>8</th>\n",
       "      <td>enclosures brief</td>\n",
       "      <td>2</td>\n",
       "    </tr>\n",
       "    <tr>\n",
       "      <th>9</th>\n",
       "      <td>revise d81</td>\n",
       "      <td>2</td>\n",
       "    </tr>\n",
       "    <tr>\n",
       "      <th>10</th>\n",
       "      <td>letter advice</td>\n",
       "      <td>2</td>\n",
       "    </tr>\n",
       "    <tr>\n",
       "      <th>11</th>\n",
       "      <td>application form</td>\n",
       "      <td>2</td>\n",
       "    </tr>\n",
       "  </tbody>\n",
       "</table>\n",
       "</div>"
      ],
      "text/plain": [
       "                     bigram  count\n",
       "0              draft revise      9\n",
       "1             consent order      7\n",
       "2             brief counsel      4\n",
       "3           finalise letter      3\n",
       "4               first draft      3\n",
       "5           attendance note      3\n",
       "6               revise form      3\n",
       "7   professional litigation      2\n",
       "8          enclosures brief      2\n",
       "9                revise d81      2\n",
       "10            letter advice      2\n",
       "11         application form      2"
      ]
     },
     "metadata": {},
     "output_type": "display_data"
    }
   ],
   "source": [
    "df_l = df[df[\"Category\"].notna()].copy()\n",
    "\n",
    "# minimal stopword list (same idea as before)\n",
    "stop = set(\"\"\"\n",
    "the a an and or of to for on in at by with from is are was were be been being\n",
    "this that these those it its as into about over under between after before during\n",
    "not no yes\n",
    "client time other comms admin billing onboarding preparing documents analyse review research\n",
    "\"\"\".split())\n",
    "\n",
    "def tokenize(s: str):\n",
    "    s = str(s).lower()\n",
    "    s = re.sub(r\"[^a-z0-9\\s]\", \" \", s)\n",
    "    return [t for t in s.split() if len(t) > 2 and t not in stop and not t.isdigit()]\n",
    "\n",
    "# (re)create tokens column\n",
    "df_l[\"tokens\"] = df_l[\"Time Narrative\"].map(tokenize)\n",
    "\n",
    "def bigram_terms(tokens):\n",
    "    for a, b in zip(tokens, tokens[1:]):\n",
    "        if len(a) < 3 or len(b) < 3: \n",
    "            continue\n",
    "        if a in stop or b in stop:\n",
    "            continue\n",
    "        yield f\"{a} {b}\"\n",
    "\n",
    "def top_bigrams(cat, n=12):\n",
    "    c = Counter()\n",
    "    for toks in df_l.loc[df_l[\"Category\"] == cat, \"tokens\"]:\n",
    "        c.update(bigram_terms(toks))\n",
    "    return pd.DataFrame(c.most_common(n), columns=[\"bigram\", \"count\"])\n",
    "\n",
    "print(\"client time\")\n",
    "display(top_bigrams(\"client time\", 12))\n",
    "\n",
    "print(\"preparing documents\")\n",
    "display(top_bigrams(\"preparing documents\", 12))\n"
   ]
  }
 ],
 "metadata": {
  "kernelspec": {
   "display_name": ".venv (3.13.1)",
   "language": "python",
   "name": "python3"
  },
  "language_info": {
   "codemirror_mode": {
    "name": "ipython",
    "version": 3
   },
   "file_extension": ".py",
   "mimetype": "text/x-python",
   "name": "python",
   "nbconvert_exporter": "python",
   "pygments_lexer": "ipython3",
   "version": "3.13.1"
  }
 },
 "nbformat": 4,
 "nbformat_minor": 5
}
